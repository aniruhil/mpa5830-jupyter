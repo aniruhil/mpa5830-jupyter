{
 "cells": [
  {
   "cell_type": "markdown",
   "id": "dd4aa920",
   "metadata": {},
   "source": [
    "# MPA 5830 - Module 06 (Fall 2021)"
   ]
  },
  {
   "cell_type": "markdown",
   "id": "1ab410d1",
   "metadata": {},
   "source": [
    "# Interactive Graphics with Plotly and Highcharter\n",
    "\n",
    "Interactive graphics are useful in situations where you would like the user/viewer to see the data values or other details by hovering over or clicking on the graphic. Say, for example, I have a scatterplot and want to make it interactive. How can I do that? \n",
    "\n",
    "One crude and fast way to do that is by saving my `ggplot2` object and then using `{plotly}` to add a `ggplotly()` wrapper around the plot. \n",
    "\n",
    "In the example below I am saving the plot as `pl01`, then wrapping it in `ggplotly` with `ggplotly(pl01) -> lst`. "
   ]
  },
  {
   "cell_type": "code",
   "execution_count": null,
   "id": "93e6fcb9-081e-4de4-bda6-86504d777f66",
   "metadata": {},
   "outputs": [],
   "source": [
    "install.packages(c(\"plotly\", \"highcharter\"))"
   ]
  },
  {
   "cell_type": "code",
   "execution_count": null,
   "id": "660596a0",
   "metadata": {
    "name": "plotly01"
   },
   "outputs": [],
   "source": [
    "library(plotly)\n",
    "\n",
    "ggplot() +\n",
    "  geom_point(\n",
    "    data = mpg,\n",
    "    mapping = aes(\n",
    "        x = cty, \n",
    "        y = hwy, \n",
    "        color = trans)\n",
    "    ) +\n",
    "  labs(\n",
    "      x = \"City Mileage\",\n",
    "      y = \"Highway Mileage\",\n",
    "      color = \"Transmission\"\n",
    "  ) -> pl01\n",
    "\n",
    "lst <- list()\n",
    "\n",
    "ggplotly(pl01) -> lst\n",
    "\n",
    "htmltools::tagList(lst)"
   ]
  },
  {
   "cell_type": "markdown",
   "id": "5d9f6ba8",
   "metadata": {},
   "source": [
    "These plots are useful when presenting data to a live audience (in a talk, or on the web). \n",
    "\n",
    "Rather than use `plotly`, I prefer `{highcharter}` since it does a lot of things well with minimal fuss, and yet the resulting plots are aesthetically pleasing. \n",
    "\n",
    "Let us stay with the COVID-19 example. Say I want a bar-chart of the total number of cases by state and want to do this via `highcharter`. "
   ]
  },
  {
   "cell_type": "code",
   "execution_count": null,
   "id": "c8d3e703-7cd6-45c3-96b3-bf796ca6e23a",
   "metadata": {
    "name": "high01"
   },
   "outputs": [],
   "source": [
    "library(highcharter)\n",
    "\n",
    "readr::read_csv(\n",
    "    \"https://raw.githubusercontent.com/nytimes/covid-19-data/master/us-counties.csv\"\n",
    "    ) -> covid \n",
    "\n",
    "covid %>%\n",
    "  filter(\n",
    "      date == \"2020-04-17\"\n",
    "  ) %>%\n",
    "  rename(\n",
    "      State = state, \n",
    "      `Total Cases` = cases\n",
    "  ) -> tab1"
   ]
  },
  {
   "cell_type": "code",
   "execution_count": null,
   "id": "a38b714c-c5f4-43f2-8d88-f80935959ac1",
   "metadata": {
    "name": "high01"
   },
   "outputs": [],
   "source": [
    "hchart(\n",
    "    tab1, \n",
    "    \"bar\", \n",
    "    hcaes(\n",
    "        x = State, \n",
    "        y = `Total Cases`\n",
    "        )\n",
    "    )"
   ]
  },
  {
   "cell_type": "markdown",
   "id": "89138bd5",
   "metadata": {},
   "source": [
    "Notice the key elements here: The basic function call is `hchart()` and we are specifying that we want a bar-chart, and we are also providing the quantities that should go on the x and y axis, respectively. Note that x actually ends up as the y when you specify a \"bar\" chart. \n",
    "\n",
    "What if I wanted a line-chart, maybe of the number of cases over time? And I wanted this just for a few states? We could do that too, as shown below. Note that I am creating `tab2`, a frequency table of the number of cases by state and date, and then converting total_cases into a logarithmic form (saved as `log_cases`) so that we can compare the rate of change from one date to the next on a common scale.  "
   ]
  },
  {
   "cell_type": "code",
   "execution_count": null,
   "id": "f148e439-8c85-4271-a65d-abe3967166e9",
   "metadata": {
    "name": "high02"
   },
   "outputs": [],
   "source": [
    "covid %>%\n",
    "  filter(\n",
    "      state %in% c(\"Ohio\", \"Florida\", \"California\", \"New Jersey\", \"Ohio\", \"New York\"),\n",
    "      date >= \"2020-03-01\"\n",
    "  ) %>%\n",
    "  group_by(state, date) %>%\n",
    "  mutate(\n",
    "      log_cases = log(sum(cases))\n",
    "  ) %>%\n",
    "    ungroup() -> tab2"
   ]
  },
  {
   "cell_type": "code",
   "execution_count": null,
   "id": "3fa3ac8c-51bd-4276-a8ed-65e466a836f4",
   "metadata": {},
   "outputs": [],
   "source": [
    "head(tab2)"
   ]
  },
  {
   "cell_type": "markdown",
   "id": "50db66a8-20a9-460a-be84-7c4848d8e0f2",
   "metadata": {},
   "source": [
    "There are duplicate rows per state per date because the counties remain. I will run `distinct()` to get rid of them."
   ]
  },
  {
   "cell_type": "code",
   "execution_count": null,
   "id": "b1ed2cdd-beee-44b7-889e-64657852081a",
   "metadata": {},
   "outputs": [],
   "source": [
    "tab2 %>%\n",
    "    select(state, date, log_cases) %>%\n",
    "    distinct() -> tab2_nodups"
   ]
  },
  {
   "cell_type": "code",
   "execution_count": null,
   "id": "e1a6368b-8a34-4d5c-a033-6863539aaa7f",
   "metadata": {},
   "outputs": [],
   "source": [
    "head(tab2_nodups)"
   ]
  },
  {
   "cell_type": "code",
   "execution_count": null,
   "id": "f9d211f3-36de-4894-9f94-52ebcfc54e62",
   "metadata": {
    "name": "high02"
   },
   "outputs": [],
   "source": [
    "hchart(\n",
    "    tab2_nodups, \n",
    "    \"line\", \n",
    "    hcaes(\n",
    "        x = date, \n",
    "        y = log_cases, \n",
    "        group = state\n",
    "        )\n",
    "    ) "
   ]
  },
  {
   "cell_type": "markdown",
   "id": "73c601ff",
   "metadata": {},
   "source": [
    "Now here is a county-level chart that shows the total number of cases as of November 15, 2021. \n",
    "\n",
    "The data are stored in `tab3` created as shown below. Pay attention to this creation because we are not just creating a frequency table but also adding in a specific key we are calling `code` because we will need to join these data to the map data."
   ]
  },
  {
   "cell_type": "code",
   "execution_count": null,
   "id": "8c7bb372-9f94-477e-9545-d55007b0bf5d",
   "metadata": {
    "name": "high03"
   },
   "outputs": [],
   "source": [
    "covid %>%\n",
    "  group_by(county, state, fips) %>%\n",
    "  filter(date == \"2021-11-15\") %>% \n",
    "  unite(\n",
    "      Location, \n",
    "      c(county, state), \n",
    "      sep = \", \", \n",
    "      remove = TRUE\n",
    "  ) -> tab3"
   ]
  },
  {
   "cell_type": "code",
   "execution_count": null,
   "id": "4ce656a5-e678-4d5f-97b6-7b3e8904db1e",
   "metadata": {},
   "outputs": [],
   "source": [
    "head(tab3)"
   ]
  },
  {
   "cell_type": "markdown",
   "id": "6f130ee1",
   "metadata": {},
   "source": [
    "Here comes the map! \n",
    "\n",
    "Note that we are asking forthe `cases` column to be used for the values that will color each county, and we are asking the highcharter map file to be joined with `fips` in the highcharter file and `fips` in `tab3`. \n",
    "\n",
    "The county borders will be in steelblue, and there will be 10 values used to create the fill color palette. \n",
    "\n",
    "The legend will be aligned right, and set to be horizontal. \n",
    "\n",
    "The color palette used will be from the `{viridis}` package."
   ]
  },
  {
   "cell_type": "code",
   "execution_count": null,
   "id": "cdc169b2",
   "metadata": {
    "name": "high04"
   },
   "outputs": [],
   "source": [
    "library(viridis)\n",
    "\n",
    "hcmap(\"countries/us/us-all-all\", \n",
    "      data = tab3,\n",
    "      name = \"COVID-19 Cases\", value = \"cases\",\n",
    "      joinBy = c(\"fips\", \"fips\"),\n",
    "      borderColor = \"steelblue\"\n",
    "     ) %>%\n",
    "  hc_colorAxis(\n",
    "      stops = color_stops(\n",
    "          10, \n",
    "          rev(magma(10))\n",
    "          )\n",
    "      ) %>% \n",
    "  hc_legend(\n",
    "      layout = \"horizontal\", \n",
    "      align = \"right\",\n",
    "      floating = TRUE, \n",
    "      valueDecimals = 0, \n",
    "      valueSuffix = \"\"\n",
    "  ) "
   ]
  },
  {
   "cell_type": "markdown",
   "id": "0218b346",
   "metadata": {},
   "source": [
    "Note that `countries/us/us-all-all` indicates that we want counties. If we wanted the states instead it would have been `countries/us/us-all`.  "
   ]
  },
  {
   "cell_type": "markdown",
   "id": "eb3307ef",
   "metadata": {},
   "source": [
    "What if we wanted only Ohio? \n",
    "\n",
    "Well, in that case we could subset as shown below. "
   ]
  },
  {
   "cell_type": "code",
   "execution_count": null,
   "id": "6f26be23-a31b-4a25-b789-4ff15d77fb40",
   "metadata": {
    "name": "high05"
   },
   "outputs": [],
   "source": [
    "tab3 %>%\n",
    "  filter(\n",
    "      grepl(\", Ohio\", Location)\n",
    "  ) -> tab4"
   ]
  },
  {
   "cell_type": "code",
   "execution_count": null,
   "id": "e3cd8562-d277-4d7a-8122-3c735806a338",
   "metadata": {},
   "outputs": [],
   "source": [
    "head(tab4)"
   ]
  },
  {
   "cell_type": "code",
   "execution_count": null,
   "id": "a903c36c-3bdd-4a6e-aaea-6e2805fdf0dd",
   "metadata": {
    "name": "high05"
   },
   "outputs": [],
   "source": [
    "hcmap(\"countries/us/us-oh-all\", \n",
    "      data = tab4,\n",
    "      name = \"COVID-19 Cases\", value = \"cases\",\n",
    "      joinBy = c(\"fips\", \"fips\"),\n",
    "      borderColor = \"steelblue\"\n",
    "     ) %>%\n",
    "  hc_colorAxis(\n",
    "      stops = color_stops(\n",
    "          10, \n",
    "          rev(magma(10))\n",
    "      )\n",
    "  ) %>% \n",
    "  hc_legend(\n",
    "      layout = \"horizontal\", \n",
    "      align = \"right\",\n",
    "      floating = TRUE, \n",
    "      valueDecimals = 0, \n",
    "      valueSuffix = \"\"\n",
    "  ) "
   ]
  },
  {
   "cell_type": "markdown",
   "id": "a08d852c-20cb-4395-ae69-2e4003df0b97",
   "metadata": {},
   "source": [
    "There you have it! \n",
    "\n",
    "The one downside to these interactive charts is that they are best displayed in html files but in PDF and Word document they lose that interactivity. Hence you see them a lot on blogs and other web-based documents. \n",
    "\n",
    "All of these packages have been growing so it is quite likely that as software development continues even that barrier might be eliminated."
   ]
  },
  {
   "cell_type": "markdown",
   "id": "a537ef42-18dd-442a-8151-a446df5fa948",
   "metadata": {},
   "source": [
    "------------\n",
    "\n",
    "# Exercises for Practice \n",
    "\n",
    "## Exercise 01\n",
    "Create a map of all the counties in New York. Be sure to title the map and to fill in each county with the total number of COVID19 cases they have seen to date. In addition, draw county borders in white. Use `theme_map()` and make sure the legend is at the bottom. [**Hint:** You will need to calculate the total number of cases per county and then join the resulting file with the counties data file to get the latitude/longitudes for the counties.]\n",
    "\n",
    "## Exercise 02 \n",
    "Run the following code chunk to load data on the murder, assault and rape rates per 100,000 persons. `Urbanpop` is the percent of the state population that lives in an urban area. "
   ]
  },
  {
   "cell_type": "code",
   "execution_count": null,
   "id": "32bda966-e381-4e06-b4b7-bf1abdcdacf4",
   "metadata": {},
   "outputs": [],
   "source": [
    "library(tidyverse)\n",
    "\n",
    "data(USArrests)\n",
    "names(USArrests)\n",
    "USArrests$statename <- rownames(USArrests)\n",
    "\n",
    "head(USArrests)"
   ]
  },
  {
   "cell_type": "markdown",
   "id": "d3a0f053-3c81-455e-977f-cd6a4ed1b1af",
   "metadata": {},
   "source": [
    "Now create a state-level map of the 50 states making sure to use `UrbanPop` to fill each state. Title the map and place the legend at the bottom. "
   ]
  },
  {
   "cell_type": "markdown",
   "id": "f035e858-3d68-4080-986e-d5aa347e4712",
   "metadata": {},
   "source": [
    "## Exercise 03\n",
    "\n",
    "Use the `USArrests` data to draw scatterplots of (a) `Murder` versus `UrbanPop`, (b) `Assault` versus `UrbanPop`, and (c) `Rape` versus `UrbanPop`. Save each of these scatterplots by name and then use `patchwork` to create a single canvas that includes all three plots. Make sure you label the x-axis, y-axis, and title each plot. "
   ]
  },
  {
   "cell_type": "markdown",
   "id": "df8e04bb-422f-427b-967b-deeeeb21e17e",
   "metadata": {},
   "source": [
    "## Exercise 04 \n",
    "\n",
    "Now create `highcharter` versions of each of the three scatterplots you created in Exercise (3) above. You should end up with three scatterplots, each on its own canvas. "
   ]
  }
 ],
 "metadata": {
  "jupytext": {
   "cell_metadata_filter": "include,name,tags,-all",
   "main_language": "R",
   "notebook_metadata_filter": "-all"
  },
  "kernelspec": {
   "display_name": "R",
   "language": "R",
   "name": "ir"
  },
  "language_info": {
   "codemirror_mode": "r",
   "file_extension": ".r",
   "mimetype": "text/x-r-source",
   "name": "R",
   "pygments_lexer": "r",
   "version": "4.1.1"
  }
 },
 "nbformat": 4,
 "nbformat_minor": 5
}
