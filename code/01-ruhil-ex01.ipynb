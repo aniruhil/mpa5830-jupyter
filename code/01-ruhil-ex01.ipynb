{
 "cells": [
  {
   "cell_type": "markdown",
   "id": "50f3d7ff-44ef-484c-96bb-9b97669c4f88",
   "metadata": {},
   "source": [
    "## Exercises for practice \n",
    "These are some exercises you can use to practice and build your R skills. They are not for grade. "
   ]
  },
  {
   "cell_type": "markdown",
   "id": "407f2163-03b2-45e9-bfbd-06d667813041",
   "metadata": {},
   "source": [
    "#### Exercise 01: Reading in some data files \n",
    "\n",
    "1. Create a new Notebook by going to File -> New -> Notebook.\n",
    "\n",
    "2. When prompted to select a kernel, use the dropdown menu to select the _R_ kernel. \n",
    "\n",
    "3. The notebook will be untitled, so go ahead and save it with a name, something like `yourlastname_ex01` and you will see `yourlastname_ex01.ipynb` as the name. \n",
    "\n",
    "4. Now read in the `Stata` data file found [here](http://www.stata.com/data/jwooldridge/eacsap/mroz.dta) \n",
    "\n",
    "5. Create a new cell and run the `summary` command to check the contents of this data file and look at the first 6 rows of data with the appropriate `head` command and look at the first 6 rows of data with the appropriate `head` command.\n",
    "\n",
    "6. In a new cell, read in the `SPSS` file found [here](http://calcnet.mth.cmich.edu/org/spss/V16_materials/DataSets_v16/airline_passengers.sav) \n",
    "\n",
    "7. In a new cell, run the `summary` command and look at the first 6 rows of data with the appropriate `head` command."
   ]
  },
  {
   "cell_type": "code",
   "execution_count": null,
   "id": "352200f1-fd7c-41ba-a7b8-853b3e649daf",
   "metadata": {},
   "outputs": [],
   "source": [
    "library(tidyverse)\n",
    "\n",
    "library(haven)\n",
    "\n",
    "read_dta(\n",
    "    \"http://www.stata.com/data/jwooldridge/eacsap/mroz.dta\"\n",
    "    ) -> mroz"
   ]
  },
  {
   "cell_type": "code",
   "execution_count": null,
   "id": "2f12f0e6-927d-442c-adb5-15b6cb507210",
   "metadata": {},
   "outputs": [],
   "source": [
    "summary(mroz)"
   ]
  },
  {
   "cell_type": "code",
   "execution_count": null,
   "id": "5556a6b3-dec8-4b51-ad6b-2ac22341267d",
   "metadata": {},
   "outputs": [],
   "source": [
    "head(mroz)"
   ]
  },
  {
   "cell_type": "code",
   "execution_count": null,
   "id": "1637a6f7-2b9f-42bc-9d73-759b4aa10b56",
   "metadata": {},
   "outputs": [],
   "source": [
    "read_sav(\n",
    "    \"http://calcnet.mth.cmich.edu/org/spss/V16_materials/DataSets_v16/airline_passengers.sav\"\n",
    "    ) -> airline_passengers"
   ]
  },
  {
   "cell_type": "code",
   "execution_count": null,
   "id": "ebd5d8df-ef43-42b7-84ae-969539ed4c1c",
   "metadata": {},
   "outputs": [],
   "source": [
    "summary(airline_passengers)"
   ]
  },
  {
   "cell_type": "code",
   "execution_count": null,
   "id": "666fc30e-9262-47a6-9499-66060416ca8f",
   "metadata": {},
   "outputs": [],
   "source": [
    "head(airline_passengers)"
   ]
  },
  {
   "cell_type": "markdown",
   "id": "80c0c5d0-1c27-4b4b-860e-94d0bb9fbe34",
   "metadata": {},
   "source": [
    "#### Exercise 02: Reading in local data and labeling some values\n",
    "\n",
    "1. Download [this dataset](https://s3.amazonaws.com/tripdata/201502-citibike-tripdata.zip), extract the file inside the zip archive and upload it to the `data` folder. \n",
    "\n",
    "2. In a new cell, read in this uploaded data file with the appropriate commands. \n",
    "\n",
    "3. The variable `gender` has the following codes: `Zero = unknown; 1 = male; 2 = female`.  Use this coding scheme to create a new column that shows `gender` as a `factor` with these value labels \n",
    "\n",
    "4. Check the first 6 rows of the dataset and also run `summary` to check the new column was created as desired. \n",
    "\n",
    "5. In a new cell, write the commands necessary to save each of the three data-sets as separate `RData` files. "
   ]
  },
  {
   "cell_type": "code",
   "execution_count": null,
   "id": "65a43a07-c67d-438a-a154-86d95a490833",
   "metadata": {},
   "outputs": [],
   "source": [
    "read.csv(\n",
    "    \"data/201502-citibike-tripdata.csv\"\n",
    "    ) -> citibike"
   ]
  },
  {
   "cell_type": "code",
   "execution_count": null,
   "id": "c4ad2bad-0dd4-497d-a674-70fcee600ddc",
   "metadata": {},
   "outputs": [],
   "source": [
    "factor(citibike$gender,\n",
    "      levels = c(0, 1, 2),\n",
    "      labels = c(\"Unknown\", \"Male\", \"Female\")\n",
    "      ) -> citibike$gender.f"
   ]
  },
  {
   "cell_type": "code",
   "execution_count": null,
   "id": "682c7a99-2f06-4daa-b876-3d20658d2d4a",
   "metadata": {},
   "outputs": [],
   "source": [
    "head(citibike)"
   ]
  },
  {
   "cell_type": "code",
   "execution_count": null,
   "id": "c49d1590-d63d-4c83-ae27-46734446ce79",
   "metadata": {},
   "outputs": [],
   "source": [
    "summary(citibike)"
   ]
  },
  {
   "cell_type": "markdown",
   "id": "3b2b3b96-3fb2-44bb-9192-532fc82e9e80",
   "metadata": {},
   "source": [
    "#### Exercise 03: Welcome to Kaggle & Mass Shootings \n",
    "\n",
    "Go to [this page on Kaggle](https://www.kaggle.com/zusmani/us-mass-shootings-last-50-years) and read the description of the data-set on mass shootings in the United States that occurred during the 1966-2017 period. once you have read the overview of the data, click the \"Data\" tab and download the file called `Mass Shootings Dataset.csv`. Be careful; there are several versions so the one you want is the very last one and not any that have a version number attached, such as \"Mass Shootings Dataset Ver 2.csv\" for example. \n",
    "\n",
    "Now read this file, perhaps naming it `shootings` and run the `summary()` command on it. Note the number of observations and the number of variables in the data-set. \n",
    "\n",
    "Make sure you save the file in RData format as well. "
   ]
  },
  {
   "cell_type": "code",
   "execution_count": null,
   "id": "f5aa219d-e522-4404-aa27-93fdb4dd29fd",
   "metadata": {},
   "outputs": [],
   "source": [
    "read_csv(\n",
    "    \"data/Mass shooting data.csv\"\n",
    "    ) -> shootings"
   ]
  },
  {
   "cell_type": "code",
   "execution_count": null,
   "id": "aa44b5c7-47a2-4fe2-bd1b-a9fa43ac9b78",
   "metadata": {},
   "outputs": [],
   "source": [
    "summary(shootings)"
   ]
  },
  {
   "cell_type": "code",
   "execution_count": null,
   "id": "d10e7d63-9af1-4c4a-9fff-4c8fed7f38e6",
   "metadata": {},
   "outputs": [],
   "source": [
    "save(shootings, file = \"data/shootings.RData\")"
   ]
  },
  {
   "cell_type": "markdown",
   "id": "2c0a907b-93af-410a-83bb-e0942d60b06b",
   "metadata": {},
   "source": [
    "#### Exercise 04: Animal Shelters \n",
    "\n",
    "Go to [this page on Kaggle](https://www.kaggle.com/aaronschlegel/austin-animal-center-shelter-outcomes-and) and download the file called `aac_shelter_outcomes.zip`, unzip it, and AFTER reading the data overview, read in the file and generate the usual `summary` and also save it as an RData file."
   ]
  },
  {
   "cell_type": "code",
   "execution_count": null,
   "id": "86b2a040-859d-4dfc-a5e6-a399bb057f4a",
   "metadata": {},
   "outputs": [],
   "source": [
    "read_csv(\n",
    "    \"data/aac_shelter_outcomes.csv\"\n",
    "    ) -> shelter\n",
    "\n",
    "summary(shelter)\n",
    "\n",
    "save(shelter, file = \"data/shelter.RData\")"
   ]
  },
  {
   "cell_type": "code",
   "execution_count": null,
   "id": "1ef8e24f-18cd-470c-9328-165918017551",
   "metadata": {},
   "outputs": [],
   "source": []
  }
 ],
 "metadata": {
  "kernelspec": {
   "display_name": "R",
   "language": "R",
   "name": "ir"
  },
  "language_info": {
   "codemirror_mode": "r",
   "file_extension": ".r",
   "mimetype": "text/x-r-source",
   "name": "R",
   "pygments_lexer": "r",
   "version": "4.1.1"
  }
 },
 "nbformat": 4,
 "nbformat_minor": 5
}
