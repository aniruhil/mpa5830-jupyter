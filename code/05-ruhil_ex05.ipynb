{
 "cells": [
  {
   "cell_type": "markdown",
   "id": "59e36d4d",
   "metadata": {},
   "source": [
    "# Exercises for Practice\n",
    "\n",
    "## Exercise 01 -- Nobel Prize Winners \n",
    "Georgios Karamanis gathered and shared data on Nobel prize winners over the years, with a fair amount of detail, and used in the `tidytuesday` series a while back. These data are to be used for the questions that follow. "
   ]
  },
  {
   "cell_type": "code",
   "execution_count": null,
   "id": "f86afb90",
   "metadata": {},
   "outputs": [],
   "source": [
    "readr::read_csv(\n",
    "    \"https://raw.githubusercontent.com/rfordatascience/tidytuesday/master/data/2019/2019-05-14/nobel_winners.csv\"\n",
    "    ) -> nobel_winners "
   ]
  },
  {
   "cell_type": "markdown",
   "id": "fbf8634a",
   "metadata": {},
   "source": [
    "|variable             |class     |description |\n",
    "|:---|:---|:-----------|\n",
    "|prize_year           |double    | Year that Nobel Prize was awarded|\n",
    "|category             |character | Field of study/category|\n",
    "|prize                |character | Prize Name |\n",
    "|motivation           |character | Motivation of the award |\n",
    "|prize_share          |character | Share eg 1 of 1, 1 of 2, 1 of 4, etc |\n",
    "|laureate_id          |double    | ID assigned to each winner |\n",
    "|laureate_type        |character | Individual or organization  |\n",
    "|full_name            |character | name of the winner|\n",
    "|birth_date           |double    | birth date of winner |\n",
    "|birth_city           |character | birth city/state of winner |\n",
    "|birth_country        |character | birth country of winner |\n",
    "|gender               |character | binary gender of the winner |\n",
    "|organization_name    |character | organization name |\n",
    "|organization_city    |character | organization city |\n",
    "|organization_country |character | organization country |\n",
    "|death_date           |double    | death date of the winner (if dead) |\n",
    "|death_city           |character | death city (if dead) |\n",
    "|death_country        |character | death country (if dead) |"
   ]
  },
  {
   "cell_type": "markdown",
   "id": "6da1e697-7b98-495d-b751-43c07307629a",
   "metadata": {},
   "source": [
    "(a) First create `nobel.df` that keeps only records starting in the year 1960, and only for the \"Physics\" category. Now generate an appropriate chart that shows the distribution of winners by `birth_country` "
   ]
  },
  {
   "cell_type": "code",
   "execution_count": null,
   "id": "0fdd4b88-e9d2-4159-b64e-0ce4ef5d1443",
   "metadata": {},
   "outputs": [],
   "source": [
    "library(tidyverse)\n",
    "\n",
    "nobel_winners %>%\n",
    "    filter(\n",
    "        prize_year >= 1960, category == \"Physics\"\n",
    "    ) -> nobel.df"
   ]
  },
  {
   "cell_type": "code",
   "execution_count": null,
   "id": "d4db0406-f578-4d4d-b192-30e202a246ee",
   "metadata": {},
   "outputs": [],
   "source": [
    "options(repr.plot.width = 16, repr.plot.height = 16) \n",
    "\n",
    "ggplot(\n",
    "    data = nobel.df, \n",
    "    aes(x = birth_country)\n",
    "    ) +\n",
    "    geom_bar() +\n",
    "    labs(\n",
    "        title = \"Winners of the Nobel Prize in Physics, by Country of Birth\",\n",
    "        x = \"Number of Winners\",\n",
    "        y = \"Country of Birth\"\n",
    "    ) +\n",
    "    coord_flip() \n"
   ]
  },
  {
   "cell_type": "markdown",
   "id": "91b98028-d46c-4450-9c0b-3a3b4738b563",
   "metadata": {},
   "source": [
    "(b) Now break this distribution out by `gender` to see how winners by country differs across gender "
   ]
  },
  {
   "cell_type": "code",
   "execution_count": null,
   "id": "ba9c80d6-de3c-4492-b28f-eb18a9ac2ee3",
   "metadata": {},
   "outputs": [],
   "source": [
    "ggplot(\n",
    "    data = nobel.df, \n",
    "    aes(x = birth_country, fill = gender)\n",
    "    ) +\n",
    "    geom_bar() +\n",
    "    labs(\n",
    "        title = \"Winners of the Nobel Prize in Physics, by Country of Birth and Gender\",\n",
    "        x = \"Number of Winners\",\n",
    "        y = \"Country of Birth\"\n",
    "    ) +\n",
    "    facet_wrap(~ gender) +\n",
    "    coord_flip() +\n",
    "    theme(legend.position = \"none\") "
   ]
  },
  {
   "cell_type": "markdown",
   "id": "ba05e773-91e0-4188-90fb-85ab00270102",
   "metadata": {},
   "source": [
    "(c) Now go back to `noble_winners`, the full data-set, and create a simple plot that shows the distribution of prize winners by `death_country`, `gender`, and `category`  "
   ]
  },
  {
   "cell_type": "code",
   "execution_count": null,
   "id": "fff3b3bf-a829-4b4e-aaf3-cd875923a943",
   "metadata": {},
   "outputs": [],
   "source": [
    "options(repr.plot.width = 20, repr.plot.height = 20) \n",
    "\n",
    "ggplot(\n",
    "    data = nobel_winners, \n",
    "    aes(x = death_country, fill = gender)\n",
    "    ) +\n",
    "    geom_bar(position = \"dodge\") +\n",
    "    labs(\n",
    "        title = \"Winners of the Nobel Prize, by Country of Death, Category, and Gender\",\n",
    "        x = \"Number of Winners\",\n",
    "        y = \"Country of Birth\",\n",
    "        fill = \"Gender\"\n",
    "    ) +\n",
    "    facet_wrap(~ category) +\n",
    "    coord_flip() +\n",
    "    theme(legend.position = \"top\") "
   ]
  },
  {
   "cell_type": "markdown",
   "id": "c79f5ef8",
   "metadata": {},
   "source": [
    "## Exercise 02 -- Water levels in the Great Lakes\n",
    "\n",
    "Download the monthly Great Lakes water level data-set [SPSS format from here](https://aniruhil.github.io/avsr/teaching/dataviz/greatlakes.sav) and [Excel format from here](https://aniruhil.github.io/avsr/teaching/dataviz/greatlakes.xlsx). *Note that water level is in meters.* \n",
    "\n",
    "You may use the following command to read in the excel file: "
   ]
  },
  {
   "cell_type": "code",
   "execution_count": null,
   "id": "37142d36",
   "metadata": {
    "eval": false
   },
   "outputs": [],
   "source": [
    "library(readxl)\n",
    "url <- \"https://aniruhil.github.io/avsr/teaching/dataviz/greatlakes.xlsx\"\n",
    "destfile <- \"greatlakes.xlsx\"\n",
    "curl::curl_download(url, destfile)\n",
    "read_excel(destfile, col_types = c(\"date\", \n",
    "     \"numeric\", \"numeric\", \"numeric\", \"numeric\", \n",
    "     \"numeric\")) -> greatlakes \n",
    "\n",
    "greatlakes %>%\n",
    "    head()"
   ]
  },
  {
   "cell_type": "markdown",
   "id": "995cac11-984c-41ef-ae82-82d677423ebf",
   "metadata": {},
   "source": [
    "Now use an appropriate chart to show the water level for Lake Superior. "
   ]
  },
  {
   "cell_type": "code",
   "execution_count": null,
   "id": "cce15e5e-a311-405d-a42a-a5d04b1abb49",
   "metadata": {},
   "outputs": [],
   "source": [
    "options(repr.plot.width = 16, repr.plot.height = 10) \n",
    "\n",
    "ggplot(\n",
    "    data = greatlakes,\n",
    "    aes(x = monthyear, y = Superior)\n",
    "    ) +\n",
    "    geom_line() +\n",
    "    labs(\n",
    "        title = \"Lake Superior's Water Level (in meters)\",\n",
    "        x = \"Date\",\n",
    "        y = \"Water Level (in Meters)\"\n",
    "        )\n",
    "    "
   ]
  },
  {
   "cell_type": "markdown",
   "id": "9f00ae3b-462e-4544-b3a9-8c7d40048a22",
   "metadata": {},
   "source": [
    "## Exercise 03 -- County Health Rankings\n",
    "\n",
    "Download the 2017 County Health Rankings data [SPSS format from here](https://aniruhil.github.io/avsr/teaching/dataviz/CountyHealthRankings2017.sav), [Excel format from here](https://aniruhil.github.io/avsr/teaching/dataviz/CountyHealthRankings2017.xlsx) and the [accompanying codebook](http://www.countyhealthrankings.org/sites/default/files/2017TrendsDocumentation.pdf). \n",
    "\n",
    "These data can also be downloaded with the code provided below: "
   ]
  },
  {
   "cell_type": "code",
   "execution_count": null,
   "id": "9dd39a85",
   "metadata": {
    "name": "great-lakes"
   },
   "outputs": [],
   "source": [
    "library(readxl)\n",
    "\n",
    "url <- \"https://aniruhil.github.io/avsr/teaching/dataviz/CountyHealthRankings2017.xlsx\"\n",
    "destfile <- \"CountyHealthRankings2017.xlsx\"\n",
    "curl::curl_download(url, destfile)\n",
    "read_excel(destfile) -> chr.df \n",
    "\n",
    "chr.df %>%\n",
    "    head()"
   ]
  },
  {
   "cell_type": "markdown",
   "id": "0517e38e-9570-43c4-9982-0e8510e13f95",
   "metadata": {},
   "source": [
    "Construct appropriate plots that shows the relationship between the following pairs of variables "
   ]
  },
  {
   "cell_type": "markdown",
   "id": "99d8ed93-5482-430a-9a8a-cc44e0aa2254",
   "metadata": {},
   "source": [
    "(a) Adult obesity and High school graduation "
   ]
  },
  {
   "cell_type": "code",
   "execution_count": null,
   "id": "d4bfc2e4-7229-4a53-8d99-cdcd7339caf3",
   "metadata": {},
   "outputs": [],
   "source": [
    "options(repr.plot.width = 10, repr.plot.height = 7) \n",
    "\n",
    "ggplot(\n",
    "    data = chr.df,\n",
    "    aes(x = Adult_obesity, y = High_school_graduation)\n",
    "    ) +\n",
    "    geom_point() +\n",
    "    labs(\n",
    "        title = \"Scatterplot of Adult Obesity and High School Graduation\",\n",
    "        x = \"Proportion of Adults Obese\",\n",
    "        y = \"Proportion of High School Graduates\"\n",
    "    )"
   ]
  },
  {
   "cell_type": "markdown",
   "id": "e6933acd-9bae-4883-a7df-5b9e4551c98b",
   "metadata": {},
   "source": [
    "(b) Children in poverty and High school graduation "
   ]
  },
  {
   "cell_type": "code",
   "execution_count": null,
   "id": "0bc41cde-b6aa-4542-afd1-3bcfc167b23f",
   "metadata": {},
   "outputs": [],
   "source": [
    "ggplot(\n",
    "    data = chr.df,\n",
    "    aes(x = Children_in_poverty, y = High_school_graduation)\n",
    "    ) +\n",
    "    geom_point() +\n",
    "    labs(\n",
    "        title = \"Scatterplot of Children in Poverty and High School Graduation\",\n",
    "        x = \"Proportion of Children Living in Poverty\",\n",
    "        y = \"Proportion of High School Graduates\"\n",
    "    )"
   ]
  },
  {
   "cell_type": "markdown",
   "id": "21191845-e2f0-4797-9c6c-021bdb6f5ac6",
   "metadata": {},
   "source": [
    "(c) Preventable hospital stays and Unemployment rate "
   ]
  },
  {
   "cell_type": "code",
   "execution_count": null,
   "id": "bc78360c-9e7f-4618-b088-9f0d7b2ec020",
   "metadata": {},
   "outputs": [],
   "source": [
    "ggplot(\n",
    "    data = chr.df,\n",
    "    aes(x = Preventable_hospital_stays, y = Unemployment_rate)\n",
    "    ) +\n",
    "    geom_point() +\n",
    "    labs(\n",
    "        title = \"Scatterplot of Children in Poverty and High School Graduation\",\n",
    "        x = \"Preventable Hospital Stays\",\n",
    "        y = \"Unemployment Rate\"\n",
    "    )"
   ]
  },
  {
   "cell_type": "markdown",
   "id": "2fa4d128",
   "metadata": {},
   "source": [
    "## Exercise 04 -- Unemployment Rates\n",
    "\n",
    "Use the unemployment data given to you `(unemprate.RData)` and construct appropriate plots that show the distribution of unemployment rates across years for each of the four educational attainment groups. "
   ]
  },
  {
   "cell_type": "code",
   "execution_count": null,
   "id": "5d7c2ab2",
   "metadata": {},
   "outputs": [],
   "source": [
    "load(\"data/unemprate.RData\")\n",
    "\n",
    "urate %>%\n",
    "    head()"
   ]
  },
  {
   "cell_type": "markdown",
   "id": "eceacd3b",
   "metadata": {},
   "source": [
    "Be sure to use a unique color for each educational attainment group"
   ]
  },
  {
   "cell_type": "code",
   "execution_count": null,
   "id": "0db59a19-dab1-4fb3-9020-4ca5dcdbffd8",
   "metadata": {
    "tags": []
   },
   "outputs": [],
   "source": [
    "options(repr.plot.width = 20, repr.plot.height = 15) \n",
    "\n",
    "ggplot(\n",
    "    data = urate,\n",
    "    aes(x = yearmonth, y = rate, color = educ_group)) +\n",
    "    geom_point() +\n",
    "    geom_line() +\n",
    "    theme(legend.position = \"top\") +\n",
    "    labs(\n",
    "        title = \"Unemployment Rate by Year and Education Group\",\n",
    "        x = \"Date\",\n",
    "        y = \"Unemployment Rate\",\n",
    "        color = \"\"\n",
    "        )"
   ]
  }
 ],
 "metadata": {
  "jupytext": {
   "cell_metadata_filter": "name,tags,eval,include,-all",
   "main_language": "R",
   "notebook_metadata_filter": "-all"
  },
  "kernelspec": {
   "display_name": "R",
   "language": "R",
   "name": "ir"
  },
  "language_info": {
   "codemirror_mode": "r",
   "file_extension": ".r",
   "mimetype": "text/x-r-source",
   "name": "R",
   "pygments_lexer": "r",
   "version": "4.3.1"
  },
  "widgets": {
   "application/vnd.jupyter.widget-state+json": {
    "state": {},
    "version_major": 2,
    "version_minor": 0
   }
  }
 },
 "nbformat": 4,
 "nbformat_minor": 5
}
