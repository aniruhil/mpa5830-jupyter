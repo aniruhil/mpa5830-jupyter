{
 "cells": [
  {
   "cell_type": "markdown",
   "id": "ddb720c6-db9c-4239-a82c-d4f87ed7b31b",
   "metadata": {},
   "source": [
    "# Exercises for Practice\n",
    "\n",
    "## Exercise 01 \n",
    "\n",
    "The data below come from [tidytuesday](https://github.com/rfordatascience/tidytuesday/tree/master/data/2019/2019-09-10) and provide information on accidents at theme parks. You can see more of these [data available here](https://ridesdatabase.org/saferparks/data/). The data give you some details of where and when the accident occurred, and something about the injured party as well. "
   ]
  },
  {
   "cell_type": "code",
   "execution_count": null,
   "id": "f9f06d27",
   "metadata": {
    "name": "ex01"
   },
   "outputs": [],
   "source": [
    "library(readr)\n",
    "\n",
    "read_csv(\n",
    "    \"https://raw.githubusercontent.com/rfordatascience/tidytuesday/master/data/2019/2019-09-10/saferparks.csv\"\n",
    "    ) -> safer_parks"
   ]
  },
  {
   "cell_type": "markdown",
   "id": "7b9fa488-a3bd-4ac4-8863-e46bc19d3799",
   "metadata": {},
   "source": [
    "|variable             |class     |description |\n",
    "|:--------------------|:---------|:-----------|\n",
    "|acc_id               |double    | Unique ID |\n",
    "|acc_date             |character | Accident Date |\n",
    "|acc_state            |character | Accident State |\n",
    "|acc_city             |character | Accident City |\n",
    "|fix_port             |character |.           |\n",
    "|source               |character | Source of injury report |\n",
    "|bus_type             |character | Business type |\n",
    "|industry_sector      |character | Industry sector |\n",
    "|device_category      |character | Device category |\n",
    "|device_type          |character | Device type |\n",
    "|tradename_or_generic |character | Common name of the device |\n",
    "|manufacturer         |character | Manufacturer of device |\n",
    "|num_injured          |double    | Num injured |\n",
    "|age_youngest         |double    | Youngest individual injured |\n",
    "|gender               |character | Gender of individual injured |\n",
    "|acc_desc             |character | Description of accident |\n",
    "|injury_desc          |character | Injury description |\n",
    "|report               |character | Report URL |\n",
    "|category             |character | Category of accident |\n",
    "|mechanical           |double    | Mechanical failure (binary NA/1) |\n",
    "|op_error             |double    | Operator error (binary NA/1)|\n",
    "|employee             |double    | Employee error (binary NA/1)|\n",
    "|notes                |character | Additional notes| \n",
    "\n",
    "Working with the `safer_parks` data, complete the following tasks. "
   ]
  },
  {
   "cell_type": "markdown",
   "id": "8bdfd58c-e6ac-47ab-9dcc-937c49814005",
   "metadata": {},
   "source": [
    "### Problem (a)\n",
    "Using `acc_date`, create a new date variable called `idate` that is a proper date column generated via ``{lubridate}``. "
   ]
  },
  {
   "cell_type": "code",
   "execution_count": null,
   "id": "8d3803d5-e4a7-460b-8c3f-9dff649ff7a7",
   "metadata": {},
   "outputs": [],
   "source": [
    "library(tidyverse)"
   ]
  },
  {
   "cell_type": "code",
   "execution_count": null,
   "id": "c06994d6-69b4-42af-b3cc-4ba32595c918",
   "metadata": {},
   "outputs": [],
   "source": [
    "head(safer_parks)"
   ]
  },
  {
   "cell_type": "code",
   "execution_count": null,
   "id": "656c076c-4f4a-4525-a20d-ea2f38ec1f36",
   "metadata": {},
   "outputs": [],
   "source": [
    "safer_parks %>%\n",
    "    mutate(\n",
    "        idate = mdy(acc_date)\n",
    "    ) -> safer_parks\n",
    "\n",
    "head(safer_parks$idate)"
   ]
  },
  {
   "cell_type": "markdown",
   "id": "f2c63df0",
   "metadata": {},
   "source": [
    "### Problem (b)\n",
    "Now create new columns for (i) the month of the accident, and (ii) the day of the week. These should not be abbreviated (i.e., we should see the values as 'Monday' instead of 'Mon', \"July\" instead of \"Jul\"). \n",
    "\n",
    "What month had the highest number of accidents? \n",
    "\n",
    "What day of the week had the highest number of accidents? "
   ]
  },
  {
   "cell_type": "code",
   "execution_count": null,
   "id": "00d84a60-52f0-4f9c-afde-2e4a79a58872",
   "metadata": {},
   "outputs": [],
   "source": [
    "safer_parks %>%\n",
    "    mutate(\n",
    "        month = month(idate, label = TRUE, abbr = FALSE),\n",
    "        day = wday(idate, label = TRUE, abbr = FALSE) \n",
    "    ) -> safer_parks"
   ]
  },
  {
   "cell_type": "code",
   "execution_count": null,
   "id": "f84f6255-c3fb-4d61-8e30-d3fdac3186f5",
   "metadata": {},
   "outputs": [],
   "source": [
    "head(safer_parks)"
   ]
  },
  {
   "cell_type": "code",
   "execution_count": null,
   "id": "7ca0bf60-1d67-470e-967e-7d38c53463c1",
   "metadata": {},
   "outputs": [],
   "source": [
    "safer_parks %>%\n",
    "    group_by(month) %>%\n",
    "    tally() %>%\n",
    "    arrange(-n)"
   ]
  },
  {
   "cell_type": "markdown",
   "id": "46b7602c-a809-4692-ad43-6abd49812f6e",
   "metadata": {},
   "source": [
    "July had the most accidents (1702)"
   ]
  },
  {
   "cell_type": "code",
   "execution_count": null,
   "id": "966f4d75-3967-4e2f-8872-f3149dbb05fa",
   "metadata": {},
   "outputs": [],
   "source": [
    "safer_parks %>%\n",
    "    group_by(day) %>%\n",
    "    tally() %>%\n",
    "    arrange(-n)"
   ]
  },
  {
   "cell_type": "markdown",
   "id": "a884f322-9239-4add-b0c8-9462bfe1c247",
   "metadata": {},
   "source": [
    "In terms of days of the week, Saturdays had the most accidents (2070)"
   ]
  },
  {
   "cell_type": "markdown",
   "id": "d1cbff08",
   "metadata": {},
   "source": [
    "### Problem (c)\n",
    "What if you look at days of the week by month? Does the same day of the week show up with the most accidents regardless of month or do we see some variation? "
   ]
  },
  {
   "cell_type": "code",
   "execution_count": null,
   "id": "cde10ed5-2812-42ba-921d-ee843f445fd9",
   "metadata": {},
   "outputs": [],
   "source": [
    "safer_parks %>%\n",
    "    group_by(month, day) %>%\n",
    "    tally() %>%\n",
    "    group_by(month) %>%\n",
    "    pivot_wider(\n",
    "        names_from = day,\n",
    "        values_from = n\n",
    "    )"
   ]
  },
  {
   "cell_type": "markdown",
   "id": "636ea491-c066-4b9a-b834-e76688bd926f",
   "metadata": {},
   "source": [
    "Saturdays are the most common days for all months\n"
   ]
  },
  {
   "cell_type": "markdown",
   "id": "c9de36ad",
   "metadata": {},
   "source": [
    "### Problem (d)\n",
    "What were the `five` dates with the most number of accidents? "
   ]
  },
  {
   "cell_type": "code",
   "execution_count": null,
   "id": "3b69c60e-1c3c-4537-bf35-7dae49f62469",
   "metadata": {},
   "outputs": [],
   "source": [
    "safer_parks %>%\n",
    "    group_by(idate) %>%\n",
    "    tally() %>%\n",
    "    arrange(-n) %>%\n",
    "    top_n(., 10)"
   ]
  },
  {
   "cell_type": "markdown",
   "id": "fe2c1eb5",
   "metadata": {},
   "source": [
    "### Problem (e)\n",
    "Using the Texas injury data, answer the following question: What ride was the safest? [Hint: For each ride (`ride_name`) you will need to calculate the number of days between accidents. The ride with the highest number of days is the safest.] "
   ]
  },
  {
   "cell_type": "code",
   "execution_count": null,
   "id": "7547c716",
   "metadata": {
    "name": "txinjury"
   },
   "outputs": [],
   "source": [
    "read_csv(\n",
    "  \"https://raw.githubusercontent.com/rfordatascience/tidytuesday/master/data/2019/2019-09-10/tx_injuries.csv\"\n",
    "  ) -> tx_injuries"
   ]
  },
  {
   "cell_type": "markdown",
   "id": "f30cd5a8",
   "metadata": {},
   "source": [
    "\n",
    "|variable          |class     |description |\n",
    "|:-----------------|:---------|:-----------|\n",
    "|injury_report_rec |double    | Unique Record ID |\n",
    "|name_of_operation |character | Company name |\n",
    "|city              |character | City |\n",
    "|st                |character | State (all TX) |\n",
    "|injury_date       |character | Injury date - note there are some different formats |\n",
    "|ride_name         |character | Ride Name |\n",
    "|serial_no         |character | Serial number of ride |\n",
    "|gender            |character | Gender of the injured individual |\n",
    "|age               |character | Age of the injured individual |\n",
    "|body_part         |character | Body part injured |\n",
    "|alleged_injury    |character | Alleged injury - type of injury |\n",
    "|cause_of_injury   |character | Approximate cause of the injury (free text) |\n",
    "|other             |character | Anecdotal information in addition to cause of injury |"
   ]
  },
  {
   "cell_type": "markdown",
   "id": "e9da1d2a-4ca4-4e42-b219-0aa97246b00e",
   "metadata": {},
   "source": [
    "You should note that this assumes each ride was in operation for the same amount of time. If this is not true then our estimates will be unreliable. "
   ]
  },
  {
   "cell_type": "code",
   "execution_count": null,
   "id": "4346cc91-00bc-4850-ab97-93c22abf9426",
   "metadata": {},
   "outputs": [],
   "source": [
    "tx_injuries %>%\n",
    "  mutate(date = mdy(injury_date)) %>%\n",
    "  group_by(ride_name) %>%\n",
    "  arrange(date) %>%\n",
    "  mutate(\n",
    "    tspan = interval(lag(date, order_by = ride_name), date),\n",
    "    tspan.days = as.duration(tspan)/ddays(1)\n",
    "  ) %>%\n",
    "  select(date, ride_name, tspan, tspan.days) %>%\n",
    "  arrange(-tspan.days)\n"
   ]
  },
  {
   "cell_type": "markdown",
   "id": "df9bb2cc-cee1-4043-9df3-02a13973c38b",
   "metadata": {},
   "source": [
    "## Exercise 02\n",
    "These data (see below) come from this story: [The next generation: The space race is dominated by new contenders](https://www.economist.com/graphic-detail/2018/10/18/the-space-race-is-dominated-by-new-contenders). You have data on space missions over time, with dates of the launch, the launching agency/country, type of launch vehicle, and so on. \n",
    "\n",
    "\n",
    "| variable    | definition                               |\n",
    "| ----------- | ---------------------------------------- |\n",
    "| tag         | Harvard or [COSPAR][cospar] id of launch |\n",
    "| JD          | [Julian Date][jd] of launch              |\n",
    "| launch_date | date of launch                           |\n",
    "| launch_year | year of launch                           |\n",
    "| type        | type of launch vehicle                   |\n",
    "| variant     | variant of launch vehicle                |\n",
    "| mission     | space mission                            |\n",
    "| agency      | launching agency                         |\n",
    "| state_code  | launching agency's state                 |\n",
    "| category    | success (O) or failure (F)               |\n",
    "| agency_type | type of agency                           |"
   ]
  },
  {
   "cell_type": "code",
   "execution_count": null,
   "id": "12ad1409",
   "metadata": {},
   "outputs": [],
   "source": [
    "read_csv(\n",
    "  \"https://raw.githubusercontent.com/rfordatascience/tidytuesday/master/data/2019/2019-01-15/launches.csv\"\n",
    "  ) -> launches"
   ]
  },
  {
   "cell_type": "markdown",
   "id": "a394a673",
   "metadata": {},
   "source": [
    "### Problem (a) \n",
    "Create a new column called `date` that stores `launch_date` as a proper data field in ymd format from {lubridate}. "
   ]
  },
  {
   "cell_type": "code",
   "execution_count": null,
   "id": "8cff1226-f600-4d3c-97bb-1e90497dba62",
   "metadata": {},
   "outputs": [],
   "source": [
    "launches %>%\n",
    "  mutate(\n",
    "      date = ymd(launch_date)\n",
    "  ) -> lau.df"
   ]
  },
  {
   "cell_type": "code",
   "execution_count": null,
   "id": "33f146c9-38c0-42c6-8569-c7037b439f4e",
   "metadata": {},
   "outputs": [],
   "source": [
    "lau.df %>%\n",
    "    select(date) %>%\n",
    "    head()"
   ]
  },
  {
   "cell_type": "markdown",
   "id": "9d21a977",
   "metadata": {},
   "source": [
    "### Problem (b) \n",
    "Creating columns as needed, calculate and show the number of launches first by year, then by month, and then by day of the week. The result should be arranged in descending order of the number of launches. "
   ]
  },
  {
   "cell_type": "code",
   "execution_count": null,
   "id": "8187d5d7-dc52-40c5-9f69-a412b12aa543",
   "metadata": {},
   "outputs": [],
   "source": [
    "lau.df %>%\n",
    "  mutate(\n",
    "    year = year(date),\n",
    "    month = month(date, abbr = FALSE, label = TRUE),\n",
    "    day = day(date),\n",
    "    dow = wday(date, abbr = FALSE, label = TRUE)\n",
    "  ) -> lau.df"
   ]
  },
  {
   "cell_type": "code",
   "execution_count": null,
   "id": "511b5b28-6732-47fa-96a3-392ad4811331",
   "metadata": {},
   "outputs": [],
   "source": [
    "lau.df %>%\n",
    "  filter(!is.na(year)) %>%\n",
    "  count(year, sort = TRUE) "
   ]
  },
  {
   "cell_type": "code",
   "execution_count": null,
   "id": "60ec3a15-7772-4ebc-a8eb-6bcc636ebcbf",
   "metadata": {},
   "outputs": [],
   "source": [
    "lau.df %>%\n",
    "  filter(!is.na(month)) %>%\n",
    "  count(month, sort = TRUE) "
   ]
  },
  {
   "cell_type": "code",
   "execution_count": null,
   "id": "39939638-a5d1-4664-9b00-6464011b871b",
   "metadata": {},
   "outputs": [],
   "source": [
    "lau.df %>%\n",
    "  filter(!is.na(day)) %>%\n",
    "  count(day, sort = TRUE) "
   ]
  },
  {
   "cell_type": "code",
   "execution_count": null,
   "id": "04a44982-8e45-4174-8408-6c7aa7e91dca",
   "metadata": {},
   "outputs": [],
   "source": [
    "lau.df %>%\n",
    "  filter(!is.na(dow)) %>%\n",
    "  count(dow, sort = TRUE) "
   ]
  },
  {
   "cell_type": "markdown",
   "id": "9f0e9ff7",
   "metadata": {},
   "source": [
    "### Problem (c) \n",
    "How many launches were successful `(O)` versus failed `(F)` by country and year? The countries of interest will be state_code values of \"CN\", \"F\", \"J\", \"RU\", \"SU\", \"US\". You do not need to arrange your results in any order. "
   ]
  },
  {
   "cell_type": "code",
   "execution_count": null,
   "id": "d725a75c-5521-448c-a6a6-777c744536bf",
   "metadata": {},
   "outputs": [],
   "source": [
    "lau.df %>%\n",
    "  filter(\n",
    "    !is.na(date),\n",
    "    state_code %in% c(\"CN\", \"F\", \"J\", \"RU\", \"SU\", \"US\")\n",
    "    ) %>%\n",
    "  count(state_code, year, category)"
   ]
  },
  {
   "cell_type": "code",
   "execution_count": null,
   "id": "142ffdba-42a2-406f-83e4-d7e80be1152f",
   "metadata": {},
   "outputs": [],
   "source": []
  }
 ],
 "metadata": {
  "jupytext": {
   "cell_metadata_filter": "include,name,tags,-all",
   "main_language": "R",
   "notebook_metadata_filter": "-all"
  },
  "kernelspec": {
   "display_name": "R",
   "language": "R",
   "name": "ir"
  },
  "language_info": {
   "codemirror_mode": "r",
   "file_extension": ".r",
   "mimetype": "text/x-r-source",
   "name": "R",
   "pygments_lexer": "r",
   "version": "4.3.1"
  },
  "widgets": {
   "application/vnd.jupyter.widget-state+json": {
    "state": {},
    "version_major": 2,
    "version_minor": 0
   }
  }
 },
 "nbformat": 4,
 "nbformat_minor": 5
}
