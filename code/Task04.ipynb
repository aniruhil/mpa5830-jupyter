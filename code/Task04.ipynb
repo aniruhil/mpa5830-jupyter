{
 "cells": [
  {
   "cell_type": "markdown",
   "id": "358c174a-b0d7-45be-85c0-6a71b0434222",
   "metadata": {},
   "source": [
    "# MPA 5830 - Task 04"
   ]
  },
  {
   "cell_type": "markdown",
   "id": "9cb22326",
   "metadata": {},
   "source": [
    "# Chicago Bird Collisions\n",
    "\n",
    "[Winger et al, 2019](https://royalsocietypublishing.org/doi/10.1098/rspb.2019.0364#d3e550) examined nocturnal flight-calling behavior and vulnerability to artificial light in migratory birds. \n",
    "\n",
    "> \"Understanding interactions between biota and the built environment is increasingly important as human modification of the landscape expands in extent and intensity. For migratory birds, collisions with lighted structures are a major cause of mortality, but the mechanisms behind these collisions are poorly understood. Using 40 years of collision records of passerine birds, we investigated the importance of species' behavioral ecologies in predicting rates of building collisions during nocturnal migration through Chicago, IL and Cleveland, OH, USA. \"\n",
    "\n",
    "> \"One of the few means to examine species-specific dynamics of social biology during nocturnal bird migration is through the study of short vocalizations made in flight by migrating birds. Many species of birds, especially passerines (order Passeriformes), produce such vocal signals during their nocturnal migrations. These calls (hereafter, ‘flight calls’) are hypothesized to function as important social cues for migrating birds that may aid in orientation, navigation and other decision-making behaviors.not all nocturnally migratory species make flight calls, raising the possibility that different lineages of migratory birds vary in the degree to which social cues and collective decisions are important for accomplishing migration. \"\n",
    "\n",
    "I have only uploaded the raw and tamed Chicago data-set as it is the most complete, but you can access the full raw data [here](https://datadryad.org/resource/doi:10.5061/dryad.8rr0498). \n",
    "\n",
    "Each row in the `bird_collisions.csv` data-set accounts for a single observation of a bird collision. You can aggregate by species/genus, time, or other factors.\n",
    "\n",
    "h/t to [Data is Plural 2019/04/10](https://docs.google.com/spreadsheets/d/1wZhPLMCHKJvwOkP4juclhjFgqIY8fQFMemwKL2c64vk/edit#gid=0)\n",
    "\n",
    "### Important Notes but Spoilers\n",
    "\n",
    "An important point but somewhat spoiler from the authors\n",
    "> From 2000 to 2018, D.E.W. and M.H. recorded data on the status of night-time lighting at McCormick Place during pre-dawn walks to collect collisions by recording the proportion of the 17 window bays that were illuminated... We used this index to test whether building lighting influenced the number of collisions and whether the influence of light levels on collisions counts varied across the sets of species with different flight-calling behavior or habitat preferences.\n",
    "\n",
    "There is a factor data column (`bird_collisions$locality`) that indicates if the data was collected at McCormick Place (MP) or elsewhere in Chicago (CHI). If you `dplyr::filter` to only use `MP` you can `dplyr::left_join` the light data and the bird collision data to look at the effects of light on bird collisions from 2000 on.\n",
    "\n",
    "## Get the data!"
   ]
  },
  {
   "cell_type": "code",
   "execution_count": 1,
   "id": "cbda723e",
   "metadata": {
    "name": "datain"
   },
   "outputs": [
    {
     "name": "stderr",
     "output_type": "stream",
     "text": [
      "── \u001b[1mAttaching packages\u001b[22m ─────────────────────────────────────── tidyverse 1.3.1 ──\n",
      "\n",
      "\u001b[32m✔\u001b[39m \u001b[34mggplot2\u001b[39m 3.3.5     \u001b[32m✔\u001b[39m \u001b[34mpurrr  \u001b[39m 0.3.4\n",
      "\u001b[32m✔\u001b[39m \u001b[34mtibble \u001b[39m 3.1.6     \u001b[32m✔\u001b[39m \u001b[34mdplyr  \u001b[39m 1.0.7\n",
      "\u001b[32m✔\u001b[39m \u001b[34mtidyr  \u001b[39m 1.1.4     \u001b[32m✔\u001b[39m \u001b[34mstringr\u001b[39m 1.4.0\n",
      "\u001b[32m✔\u001b[39m \u001b[34mreadr  \u001b[39m 2.0.2     \u001b[32m✔\u001b[39m \u001b[34mforcats\u001b[39m 0.5.1\n",
      "\n",
      "── \u001b[1mConflicts\u001b[22m ────────────────────────────────────────── tidyverse_conflicts() ──\n",
      "\u001b[31m✖\u001b[39m \u001b[34mdplyr\u001b[39m::\u001b[32mfilter()\u001b[39m masks \u001b[34mstats\u001b[39m::filter()\n",
      "\u001b[31m✖\u001b[39m \u001b[34mdplyr\u001b[39m::\u001b[32mlag()\u001b[39m    masks \u001b[34mstats\u001b[39m::lag()\n",
      "\n",
      "\u001b[1mRows: \u001b[22m\u001b[34m69695\u001b[39m \u001b[1mColumns: \u001b[22m\u001b[34m8\u001b[39m\n",
      "\n",
      "\u001b[36m──\u001b[39m \u001b[1mColumn specification\u001b[22m \u001b[36m────────────────────────────────────────────────────────\u001b[39m\n",
      "\u001b[1mDelimiter:\u001b[22m \",\"\n",
      "\u001b[31mchr\u001b[39m  (7): genus, species, locality, family, flight_call, habitat, stratum\n",
      "\u001b[34mdate\u001b[39m (1): date\n",
      "\n",
      "\n",
      "\u001b[36mℹ\u001b[39m Use \u001b[30m\u001b[47m\u001b[30m\u001b[47m`spec()`\u001b[47m\u001b[30m\u001b[49m\u001b[39m to retrieve the full column specification for this data.\n",
      "\u001b[36mℹ\u001b[39m Specify the column types or set \u001b[30m\u001b[47m\u001b[30m\u001b[47m`show_col_types = FALSE`\u001b[47m\u001b[30m\u001b[49m\u001b[39m to quiet this message.\n",
      "\n",
      "\u001b[1mRows: \u001b[22m\u001b[34m3067\u001b[39m \u001b[1mColumns: \u001b[22m\u001b[34m2\u001b[39m\n",
      "\n",
      "\u001b[36m──\u001b[39m \u001b[1mColumn specification\u001b[22m \u001b[36m────────────────────────────────────────────────────────\u001b[39m\n",
      "\u001b[1mDelimiter:\u001b[22m \",\"\n",
      "\u001b[32mdbl\u001b[39m  (1): light_score\n",
      "\u001b[34mdate\u001b[39m (1): date\n",
      "\n",
      "\n",
      "\u001b[36mℹ\u001b[39m Use \u001b[30m\u001b[47m\u001b[30m\u001b[47m`spec()`\u001b[47m\u001b[30m\u001b[49m\u001b[39m to retrieve the full column specification for this data.\n",
      "\u001b[36mℹ\u001b[39m Specify the column types or set \u001b[30m\u001b[47m\u001b[30m\u001b[47m`show_col_types = FALSE`\u001b[47m\u001b[30m\u001b[49m\u001b[39m to quiet this message.\n",
      "\n"
     ]
    }
   ],
   "source": [
    "library(tidyverse)\n",
    "\n",
    "readr::read_csv(\n",
    "    \"https://raw.githubusercontent.com/rfordatascience/tidytuesday/master/data/2019/2019-04-30/bird_collisions.csv\"\n",
    "    ) -> bird_collisions \n",
    "\n",
    "readr::read_csv(\n",
    "    \"https://raw.githubusercontent.com/rfordatascience/tidytuesday/master/data/2019/2019-04-30/mp_light.csv\"\n",
    "    ) -> mp_light "
   ]
  },
  {
   "cell_type": "markdown",
   "id": "27180389",
   "metadata": {},
   "source": [
    "### Citations\n",
    "\n",
    "When using this data, please cite the original publication:\n",
    "\n",
    "> Winger BM, Weeks BC, Farnsworth A, Jones AW, Hennen M, Willard DE (2019) Nocturnal flight-calling behavior predicts vulnerability to artificial light in migratory birds. Proceedings of the Royal Society B 286(1900): 20190364. https://doi.org/10.1098/rspb.2019.0364\n",
    "\n",
    "If using the data alone, please cite the [Dryad data package](https://cran.r-project.org/web/packages/rdryad/rdryad.pdf):\n",
    "\n",
    "> Winger BM, Weeks BC, Farnsworth A, Jones AW, Hennen M, Willard DE (2019) Data from: Nocturnal flight-calling behavior predicts vulnerability to artificial light in migratory birds. Dryad Digital Repository. https://doi.org/10.5061/dryad.8rr0498\n"
   ]
  },
  {
   "cell_type": "markdown",
   "id": "f61d9f64",
   "metadata": {},
   "source": [
    "### Data Dictionary\n",
    "\n",
    "#### `bird_collisions.csv` \n",
    "|variable    |class     |description |\n",
    "|:-----------|:---------|:-----------|\n",
    "|genus       | factor | Bird Genus          |\n",
    "|species     | factor | Bird species           |\n",
    "|date        | date    | Date of collision death (ymd)           |\n",
    "|locality    | factor | MP or CHI - recording at either McCormick Place or greater Chicago area           |\n",
    "|family      | factor | Bird Family          |\n",
    "|flight_call | factor | Does the bird use a flight call - yes or no           |\n",
    "|habitat     | factor | Open, Forest, Edge - their habitat affinity          |\n",
    "|stratum     | factor  | Typical occupied stratum - ground/low or canopy/upper           |\n",
    "\n",
    "#### `mp_light.csv` \n",
    "|variable    |class  |description |\n",
    "|:-----------|:------|:-----------|\n",
    "|date        | date | Date of light recording  (ymd)        |\n",
    "|light_score | integer | Number of windows lit at the McCormick Place, Chicago - higher = more light          |"
   ]
  },
  {
   "cell_type": "markdown",
   "id": "91807fbf",
   "metadata": {},
   "source": [
    "## Now the questions ...\n",
    "\n",
    "### Question (a) \n",
    "Does the number of bird collisions vary by month? By day of the month? By day of the week? By year? \n",
    "\n",
    "Show your code and then answer, in words after your code chunk, what year, month day of the month, and day of the week had the most bird collisions. "
   ]
  },
  {
   "cell_type": "code",
   "execution_count": null,
   "id": "6c0c4025",
   "metadata": {
    "name": "chunk01"
   },
   "outputs": [],
   "source": []
  },
  {
   "cell_type": "markdown",
   "id": "33c88aa9",
   "metadata": {},
   "source": [
    "### Question (b)\n",
    "What locality has had the most hits per year -- McCormick Place or the greater Chicago area?"
   ]
  },
  {
   "cell_type": "code",
   "execution_count": null,
   "id": "9628a01b",
   "metadata": {
    "name": "chunk02"
   },
   "outputs": [],
   "source": []
  },
  {
   "cell_type": "markdown",
   "id": "ebef90dc",
   "metadata": {},
   "source": [
    "### Question (c)\n",
    "Now filter the bird collision data to keep only records from McCormick Place. Then join the resulting data frame to the mp_light data set, joining the two such that bird collision records and light-score records are matched up correctly by date. Eliminate any rows of data where light_score is missing. Save the resulting data-set in RData format as `birds.df`"
   ]
  },
  {
   "cell_type": "code",
   "execution_count": null,
   "id": "4efa2c33",
   "metadata": {
    "lines_to_next_cell": 2,
    "name": "chunk03"
   },
   "outputs": [],
   "source": []
  },
  {
   "cell_type": "markdown",
   "id": "eb38eaef",
   "metadata": {},
   "source": [
    "### Question (d) \n",
    "Now we want to know if the distribution of bird collisions differs by how brightly lit (a higher `light_score` indicates more brightness) or dimly lit (lower `light_score`) the windows of McCormick Place were. \n",
    "\n",
    "To answer this question, we want to do two things. \n",
    "\n",
    "* First, convert `light_score` into a grouped, ordinal variable with 4 groups (essentially creating quartiles). \n",
    "* Second, we now want to see the number of fatalities that fall within each of these five groups of light_scores. "
   ]
  },
  {
   "cell_type": "code",
   "execution_count": null,
   "id": "1e2fd9f5",
   "metadata": {
    "lines_to_next_cell": 2,
    "name": "chunk04"
   },
   "outputs": [],
   "source": []
  },
  {
   "cell_type": "markdown",
   "id": "12fabce5",
   "metadata": {},
   "source": [
    "# Philadelphia Parking Violations\n",
    "\n",
    "These data come from Philly's open data portal and were used in one `tidyduesday` iteration. These particular data are for 2017. Use these data to answer the questions that follow. "
   ]
  },
  {
   "cell_type": "code",
   "execution_count": null,
   "id": "0119443a",
   "metadata": {
    "name": "philly01"
   },
   "outputs": [],
   "source": [
    "readr::read_csv(\n",
    "  \"https://raw.githubusercontent.com/rfordatascience/tidytuesday/master/data/2019/2019-12-03/tickets.csv\"\n",
    "  ) -> tickets\n"
   ]
  },
  {
   "cell_type": "markdown",
   "id": "2833c9b2",
   "metadata": {},
   "source": [
    "## Problem (a) \n",
    "Make a proper date-time column called `tixdt`, and then from this extract the month, day of the month, day of the week, hour, and minute. Month and day of the week should be fully labelled. Save the resulting data-set as `tix.df`, and make sure you also save it in the RData format as `tix.df.RData` to the `data` folder. "
   ]
  },
  {
   "cell_type": "code",
   "execution_count": null,
   "id": "8f3c8d0f",
   "metadata": {},
   "outputs": [],
   "source": []
  },
  {
   "cell_type": "markdown",
   "id": "741354a2-446f-4f69-9bba-4e63f102edf1",
   "metadata": {},
   "source": [
    "## Problem (b)\n",
    "\n",
    "What months, day of the month, day of the week, hours, and minutes were most likely to see a ticket issued? You will need one calculation for each of these. "
   ]
  },
  {
   "cell_type": "markdown",
   "id": "a2e4e19f-492d-4c8a-87d4-5405a781567b",
   "metadata": {},
   "source": [
    "## Problem (c)\n",
    "\n",
    "What combination of hour and minute we most likely to see a ticket issued? What hour and minute were least likely to see a ticket issued?"
   ]
  },
  {
   "cell_type": "code",
   "execution_count": null,
   "id": "e5cd2c99",
   "metadata": {
    "lines_to_next_cell": 0
   },
   "outputs": [],
   "source": []
  }
 ],
 "metadata": {
  "jupytext": {
   "cell_metadata_filter": "name,tags,-all",
   "main_language": "R",
   "notebook_metadata_filter": "-all"
  },
  "kernelspec": {
   "display_name": "R",
   "language": "R",
   "name": "ir"
  },
  "language_info": {
   "codemirror_mode": "r",
   "file_extension": ".r",
   "mimetype": "text/x-r-source",
   "name": "R",
   "pygments_lexer": "r",
   "version": "4.3.1"
  },
  "widgets": {
   "application/vnd.jupyter.widget-state+json": {
    "state": {},
    "version_major": 2,
    "version_minor": 0
   }
  }
 },
 "nbformat": 4,
 "nbformat_minor": 5
}
