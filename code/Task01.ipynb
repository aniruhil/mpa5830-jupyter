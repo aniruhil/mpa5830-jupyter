{
 "cells": [
  {
   "cell_type": "markdown",
   "id": "8171b875-b491-4d96-b0db-6ae475f5ab75",
   "metadata": {},
   "source": [
    "# Task 01\n",
    "\n",
    "Build out this notebook by creating Code cells that include commands to complete the following tasks.\n",
    "\n",
    "(1) Read-in the data available here: https://data.boston.gov/dataset/03693648-2c62-4a2c-a4ec-48de2ee14e18/resource/4582bec6-2b4f-4f9e-bc55-cbaa73117f4c/download/tmpmose0kbb.csv \n",
    "\n",
    "(2) Run the command that would show you the names of all columns/variables in this data-set \n",
    "\n",
    "(3) Run the command that would show the descriptive statistics of each column/variable \n",
    "\n",
    "(4) Save the data-set in the RData format "
   ]
  },
  {
   "cell_type": "code",
   "execution_count": null,
   "id": "d8403243-95f4-48ec-a912-e569e7691486",
   "metadata": {},
   "outputs": [],
   "source": []
  }
 ],
 "metadata": {
  "kernelspec": {
   "display_name": "R",
   "language": "R",
   "name": "ir"
  },
  "language_info": {
   "codemirror_mode": "r",
   "file_extension": ".r",
   "mimetype": "text/x-r-source",
   "name": "R",
   "pygments_lexer": "r",
   "version": "4.1.1"
  }
 },
 "nbformat": 4,
 "nbformat_minor": 5
}
