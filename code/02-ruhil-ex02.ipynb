{
 "cells": [
  {
   "cell_type": "markdown",
   "id": "a035b47e-953d-4357-9121-d8a2ea12def2",
   "metadata": {},
   "source": [
    "# Exercises for Practice \n",
    "## Exercise 01\n",
    "Why are our best and most experienced employees leaving prematurely? \n",
    "\n",
    "The data [available here](https://aniruhil.github.io/avsr/teaching/dataviz/HR_comma_sep.csv) includes information on several current and former employees of an anonymous organization. Fields in the data-set include: \n",
    "\n",
    "| Variable | Description |\n",
    "| :---- | :---- |\n",
    "| satisfaction_level | = Level of satisfaction (numeric; 0-1) |\n",
    "| last_evaluation | = Evaluation score of the employee (numeric; 0-1) |\n",
    "| number_project | = Number of projects completed while at work (numeric) |\n",
    "| average_monthly_hours | = Average monthly hours spent at the workplace (numeric)  |\n",
    "| time_spend_company | = Number of years spent in the company (numeric) |\n",
    "| Work_accident | = Whether the employee had a workplace accident (categorical; 1 = yes or 0 = no) |\n",
    "| left | = Whether the employee left the workplace or not (categorical; 1 = left or 0 = stayed)  |\n",
    "| promotion_last_5years | = Whether the employee was promoted in the last five years (categorical; 1 = yes or 0 = no) |\n",
    "| sales | = Department in which they work (categorical) |\n",
    "| salary | = Relative level of salary (categorical; low, med, and high) |\n",
    "\n",
    "(a) Read in the csv-format data-set, naming it `hrdata` and save it in RData format as `hrdata.RData` "
   ]
  },
  {
   "cell_type": "code",
   "execution_count": 1,
   "id": "9b6716b1-847c-4079-b6f0-37a2b4150176",
   "metadata": {
    "tags": []
   },
   "outputs": [
    {
     "name": "stderr",
     "output_type": "stream",
     "text": [
      "── \u001b[1mAttaching core tidyverse packages\u001b[22m ──────────────────────── tidyverse 2.0.0 ──\n",
      "\u001b[32m✔\u001b[39m \u001b[34mdplyr    \u001b[39m 1.1.2     \u001b[32m✔\u001b[39m \u001b[34mreadr    \u001b[39m 2.1.4\n",
      "\u001b[32m✔\u001b[39m \u001b[34mforcats  \u001b[39m 1.0.0     \u001b[32m✔\u001b[39m \u001b[34mstringr  \u001b[39m 1.5.0\n",
      "\u001b[32m✔\u001b[39m \u001b[34mggplot2  \u001b[39m 3.4.2     \u001b[32m✔\u001b[39m \u001b[34mtibble   \u001b[39m 3.2.1\n",
      "\u001b[32m✔\u001b[39m \u001b[34mlubridate\u001b[39m 1.9.2     \u001b[32m✔\u001b[39m \u001b[34mtidyr    \u001b[39m 1.3.0\n",
      "\u001b[32m✔\u001b[39m \u001b[34mpurrr    \u001b[39m 1.0.1     \n",
      "── \u001b[1mConflicts\u001b[22m ────────────────────────────────────────── tidyverse_conflicts() ──\n",
      "\u001b[31m✖\u001b[39m \u001b[34mdplyr\u001b[39m::\u001b[32mfilter()\u001b[39m masks \u001b[34mstats\u001b[39m::filter()\n",
      "\u001b[31m✖\u001b[39m \u001b[34mdplyr\u001b[39m::\u001b[32mlag()\u001b[39m    masks \u001b[34mstats\u001b[39m::lag()\n",
      "\u001b[36mℹ\u001b[39m Use the conflicted package (\u001b[3m\u001b[34m<http://conflicted.r-lib.org/>\u001b[39m\u001b[23m) to force all conflicts to become errors\n"
     ]
    }
   ],
   "source": [
    "library(tidyverse)\n",
    "\n",
    "read.csv(\n",
    "    \"https://aniruhil.github.io/avsr/teaching/dataviz/HR_comma_sep.csv\"\n",
    "    ) -> hrdata\n",
    "\n",
    "save(hrdata, file = \"data/hrdata.RData\")"
   ]
  },
  {
   "cell_type": "markdown",
   "id": "1b865007",
   "metadata": {},
   "source": [
    "(b) Create new variables that add labels to Work_accident, left, promotion_last_5years, and add these three to `hrdata`.  "
   ]
  },
  {
   "cell_type": "code",
   "execution_count": 2,
   "id": "5884b08a-afaa-4f0b-b323-f90b9c3d08fd",
   "metadata": {
    "tags": []
   },
   "outputs": [
    {
     "data": {
      "text/plain": [
       " satisfaction_level last_evaluation  number_project  average_montly_hours\n",
       " Min.   :0.0900     Min.   :0.3600   Min.   :2.000   Min.   : 96.0       \n",
       " 1st Qu.:0.4400     1st Qu.:0.5600   1st Qu.:3.000   1st Qu.:156.0       \n",
       " Median :0.6400     Median :0.7200   Median :4.000   Median :200.0       \n",
       " Mean   :0.6128     Mean   :0.7161   Mean   :3.803   Mean   :201.1       \n",
       " 3rd Qu.:0.8200     3rd Qu.:0.8700   3rd Qu.:5.000   3rd Qu.:245.0       \n",
       " Max.   :1.0000     Max.   :1.0000   Max.   :7.000   Max.   :310.0       \n",
       " time_spend_company Work_accident         left        promotion_last_5years\n",
       " Min.   : 2.000     Min.   :0.0000   Min.   :0.0000   Min.   :0.00000      \n",
       " 1st Qu.: 3.000     1st Qu.:0.0000   1st Qu.:0.0000   1st Qu.:0.00000      \n",
       " Median : 3.000     Median :0.0000   Median :0.0000   Median :0.00000      \n",
       " Mean   : 3.498     Mean   :0.1446   Mean   :0.2381   Mean   :0.02127      \n",
       " 3rd Qu.: 4.000     3rd Qu.:0.0000   3rd Qu.:0.0000   3rd Qu.:0.00000      \n",
       " Max.   :10.000     Max.   :1.0000   Max.   :1.0000   Max.   :1.00000      \n",
       "    sales              salary         \n",
       " Length:14999       Length:14999      \n",
       " Class :character   Class :character  \n",
       " Mode  :character   Mode  :character  \n",
       "                                      \n",
       "                                      \n",
       "                                      "
      ]
     },
     "metadata": {},
     "output_type": "display_data"
    }
   ],
   "source": [
    "summary(hrdata)"
   ]
  },
  {
   "cell_type": "code",
   "execution_count": 3,
   "id": "5c9bd991-1b8e-422a-a4d8-738d224da3d9",
   "metadata": {
    "tags": []
   },
   "outputs": [
    {
     "data": {
      "text/html": [
       "<table class=\"dataframe\">\n",
       "<caption>A tibble: 2 × 2</caption>\n",
       "<thead>\n",
       "\t<tr><th scope=col>accident</th><th scope=col>n</th></tr>\n",
       "\t<tr><th scope=col>&lt;chr&gt;</th><th scope=col>&lt;int&gt;</th></tr>\n",
       "</thead>\n",
       "<tbody>\n",
       "\t<tr><td>No </td><td>12830</td></tr>\n",
       "\t<tr><td>Yes</td><td> 2169</td></tr>\n",
       "</tbody>\n",
       "</table>\n"
      ],
      "text/latex": [
       "A tibble: 2 × 2\n",
       "\\begin{tabular}{ll}\n",
       " accident & n\\\\\n",
       " <chr> & <int>\\\\\n",
       "\\hline\n",
       "\t No  & 12830\\\\\n",
       "\t Yes &  2169\\\\\n",
       "\\end{tabular}\n"
      ],
      "text/markdown": [
       "\n",
       "A tibble: 2 × 2\n",
       "\n",
       "| accident &lt;chr&gt; | n &lt;int&gt; |\n",
       "|---|---|\n",
       "| No  | 12830 |\n",
       "| Yes |  2169 |\n",
       "\n"
      ],
      "text/plain": [
       "  accident n    \n",
       "1 No       12830\n",
       "2 Yes       2169"
      ]
     },
     "metadata": {},
     "output_type": "display_data"
    },
    {
     "data": {
      "text/html": [
       "<table class=\"dataframe\">\n",
       "<caption>A tibble: 2 × 2</caption>\n",
       "<thead>\n",
       "\t<tr><th scope=col>departed</th><th scope=col>n</th></tr>\n",
       "\t<tr><th scope=col>&lt;chr&gt;</th><th scope=col>&lt;int&gt;</th></tr>\n",
       "</thead>\n",
       "<tbody>\n",
       "\t<tr><td>No </td><td>11428</td></tr>\n",
       "\t<tr><td>Yes</td><td> 3571</td></tr>\n",
       "</tbody>\n",
       "</table>\n"
      ],
      "text/latex": [
       "A tibble: 2 × 2\n",
       "\\begin{tabular}{ll}\n",
       " departed & n\\\\\n",
       " <chr> & <int>\\\\\n",
       "\\hline\n",
       "\t No  & 11428\\\\\n",
       "\t Yes &  3571\\\\\n",
       "\\end{tabular}\n"
      ],
      "text/markdown": [
       "\n",
       "A tibble: 2 × 2\n",
       "\n",
       "| departed &lt;chr&gt; | n &lt;int&gt; |\n",
       "|---|---|\n",
       "| No  | 11428 |\n",
       "| Yes |  3571 |\n",
       "\n"
      ],
      "text/plain": [
       "  departed n    \n",
       "1 No       11428\n",
       "2 Yes       3571"
      ]
     },
     "metadata": {},
     "output_type": "display_data"
    },
    {
     "data": {
      "text/html": [
       "<table class=\"dataframe\">\n",
       "<caption>A tibble: 2 × 2</caption>\n",
       "<thead>\n",
       "\t<tr><th scope=col>promoted</th><th scope=col>n</th></tr>\n",
       "\t<tr><th scope=col>&lt;chr&gt;</th><th scope=col>&lt;int&gt;</th></tr>\n",
       "</thead>\n",
       "<tbody>\n",
       "\t<tr><td>No </td><td>14680</td></tr>\n",
       "\t<tr><td>Yes</td><td>  319</td></tr>\n",
       "</tbody>\n",
       "</table>\n"
      ],
      "text/latex": [
       "A tibble: 2 × 2\n",
       "\\begin{tabular}{ll}\n",
       " promoted & n\\\\\n",
       " <chr> & <int>\\\\\n",
       "\\hline\n",
       "\t No  & 14680\\\\\n",
       "\t Yes &   319\\\\\n",
       "\\end{tabular}\n"
      ],
      "text/markdown": [
       "\n",
       "A tibble: 2 × 2\n",
       "\n",
       "| promoted &lt;chr&gt; | n &lt;int&gt; |\n",
       "|---|---|\n",
       "| No  | 14680 |\n",
       "| Yes |   319 |\n",
       "\n"
      ],
      "text/plain": [
       "  promoted n    \n",
       "1 No       14680\n",
       "2 Yes        319"
      ]
     },
     "metadata": {},
     "output_type": "display_data"
    }
   ],
   "source": [
    "hrdata %>%\n",
    "    mutate(\n",
    "    accident = case_when(\n",
    "        Work_accident == 1 ~ \"Yes\",\n",
    "        TRUE ~ \"No\"\n",
    "        ),\n",
    "    departed = case_when(\n",
    "        left == 1 ~ \"Yes\",\n",
    "        TRUE ~ \"No\"\n",
    "        ),\n",
    "    promoted = case_when(\n",
    "        promotion_last_5years == 1 ~ \"Yes\",\n",
    "        TRUE ~ \"No\"\n",
    "        )\n",
    "    ) -> hrdata\n",
    "\n",
    "hrdata %>%\n",
    "    group_by(accident) %>%\n",
    "    tally()\n",
    "\n",
    "hrdata %>%\n",
    "    group_by(departed) %>%\n",
    "    tally()\n",
    "\n",
    "hrdata %>%\n",
    "    group_by(promoted) %>%\n",
    "    tally()"
   ]
  },
  {
   "cell_type": "markdown",
   "id": "57369580",
   "metadata": {},
   "source": [
    "(c) Now retain only employees who left the company, and had not been promoted in the last five years. Save this result as `hr01`"
   ]
  },
  {
   "cell_type": "code",
   "execution_count": 4,
   "id": "52dda888-df42-47b7-adfe-058a97c733bd",
   "metadata": {
    "tags": []
   },
   "outputs": [
    {
     "data": {
      "text/plain": [
       " satisfaction_level last_evaluation  number_project average_montly_hours\n",
       " Min.   :0.09       Min.   :0.4500   Min.   :2.00   Min.   :126.0       \n",
       " 1st Qu.:0.12       1st Qu.:0.5200   1st Qu.:2.00   1st Qu.:146.0       \n",
       " Median :0.41       Median :0.7900   Median :4.00   Median :224.5       \n",
       " Mean   :0.44       Mean   :0.7188   Mean   :3.86   Mean   :207.6       \n",
       " 3rd Qu.:0.73       3rd Qu.:0.9000   3rd Qu.:6.00   3rd Qu.:262.0       \n",
       " Max.   :0.92       Max.   :1.0000   Max.   :7.00   Max.   :310.0       \n",
       " time_spend_company Work_accident          left   promotion_last_5years\n",
       " Min.   :2.00       Min.   :0.00000   Min.   :1   Min.   :0            \n",
       " 1st Qu.:3.00       1st Qu.:0.00000   1st Qu.:1   1st Qu.:0            \n",
       " Median :4.00       Median :0.00000   Median :1   Median :0            \n",
       " Mean   :3.88       Mean   :0.04645   Mean   :1   Mean   :0            \n",
       " 3rd Qu.:5.00       3rd Qu.:0.00000   3rd Qu.:1   3rd Qu.:0            \n",
       " Max.   :6.00       Max.   :1.00000   Max.   :1   Max.   :0            \n",
       "    sales              salary            accident           departed        \n",
       " Length:3552        Length:3552        Length:3552        Length:3552       \n",
       " Class :character   Class :character   Class :character   Class :character  \n",
       " Mode  :character   Mode  :character   Mode  :character   Mode  :character  \n",
       "                                                                            \n",
       "                                                                            \n",
       "                                                                            \n",
       "   promoted        \n",
       " Length:3552       \n",
       " Class :character  \n",
       " Mode  :character  \n",
       "                   \n",
       "                   \n",
       "                   "
      ]
     },
     "metadata": {},
     "output_type": "display_data"
    }
   ],
   "source": [
    "hrdata %>%\n",
    "    filter(departed == \"Yes\", promoted == \"No\") -> hr01\n",
    "\n",
    "summary(hr01)"
   ]
  },
  {
   "cell_type": "markdown",
   "id": "790b7a88",
   "metadata": {},
   "source": [
    "(d) In this `hr01` data-set, how many employees do you have per sales department? What sales department has the most number of employees? "
   ]
  },
  {
   "cell_type": "code",
   "execution_count": 5,
   "id": "74a0260a-39e8-447e-a1c7-5533e686d335",
   "metadata": {
    "tags": []
   },
   "outputs": [
    {
     "data": {
      "text/html": [
       "<table class=\"dataframe\">\n",
       "<caption>A tibble: 10 × 2</caption>\n",
       "<thead>\n",
       "\t<tr><th scope=col>sales</th><th scope=col>n</th></tr>\n",
       "\t<tr><th scope=col>&lt;chr&gt;</th><th scope=col>&lt;int&gt;</th></tr>\n",
       "</thead>\n",
       "<tbody>\n",
       "\t<tr><td>IT         </td><td> 270</td></tr>\n",
       "\t<tr><td>RandD      </td><td> 121</td></tr>\n",
       "\t<tr><td>accounting </td><td> 204</td></tr>\n",
       "\t<tr><td>hr         </td><td> 215</td></tr>\n",
       "\t<tr><td>management </td><td>  88</td></tr>\n",
       "\t<tr><td>marketing  </td><td> 203</td></tr>\n",
       "\t<tr><td>product_mng</td><td> 198</td></tr>\n",
       "\t<tr><td>sales      </td><td>1007</td></tr>\n",
       "\t<tr><td>support    </td><td> 552</td></tr>\n",
       "\t<tr><td>technical  </td><td> 694</td></tr>\n",
       "</tbody>\n",
       "</table>\n"
      ],
      "text/latex": [
       "A tibble: 10 × 2\n",
       "\\begin{tabular}{ll}\n",
       " sales & n\\\\\n",
       " <chr> & <int>\\\\\n",
       "\\hline\n",
       "\t IT          &  270\\\\\n",
       "\t RandD       &  121\\\\\n",
       "\t accounting  &  204\\\\\n",
       "\t hr          &  215\\\\\n",
       "\t management  &   88\\\\\n",
       "\t marketing   &  203\\\\\n",
       "\t product\\_mng &  198\\\\\n",
       "\t sales       & 1007\\\\\n",
       "\t support     &  552\\\\\n",
       "\t technical   &  694\\\\\n",
       "\\end{tabular}\n"
      ],
      "text/markdown": [
       "\n",
       "A tibble: 10 × 2\n",
       "\n",
       "| sales &lt;chr&gt; | n &lt;int&gt; |\n",
       "|---|---|\n",
       "| IT          |  270 |\n",
       "| RandD       |  121 |\n",
       "| accounting  |  204 |\n",
       "| hr          |  215 |\n",
       "| management  |   88 |\n",
       "| marketing   |  203 |\n",
       "| product_mng |  198 |\n",
       "| sales       | 1007 |\n",
       "| support     |  552 |\n",
       "| technical   |  694 |\n",
       "\n"
      ],
      "text/plain": [
       "   sales       n   \n",
       "1  IT           270\n",
       "2  RandD        121\n",
       "3  accounting   204\n",
       "4  hr           215\n",
       "5  management    88\n",
       "6  marketing    203\n",
       "7  product_mng  198\n",
       "8  sales       1007\n",
       "9  support      552\n",
       "10 technical    694"
      ]
     },
     "metadata": {},
     "output_type": "display_data"
    }
   ],
   "source": [
    "hr01 %>%\n",
    "    group_by(sales) %>%\n",
    "    tally()\n",
    "\n",
    "# sales has the most number of employees"
   ]
  },
  {
   "cell_type": "markdown",
   "id": "72bbb91a",
   "metadata": {},
   "source": [
    "(e) By sales department, calculate mean and standard deviation of (i) satisfaction_level, and (ii) last_evaluation. "
   ]
  },
  {
   "cell_type": "code",
   "execution_count": 6,
   "id": "7edcbfed-51e3-48f5-ab1e-b170036c24e0",
   "metadata": {
    "tags": []
   },
   "outputs": [
    {
     "data": {
      "text/html": [
       "<table class=\"dataframe\">\n",
       "<caption>A tibble: 10 × 5</caption>\n",
       "<thead>\n",
       "\t<tr><th scope=col>sales</th><th scope=col>mean.satisfaction</th><th scope=col>sd.satisfaction</th><th scope=col>mean.evaluation</th><th scope=col>sd.evaluation</th></tr>\n",
       "\t<tr><th scope=col>&lt;chr&gt;</th><th scope=col>&lt;dbl&gt;</th><th scope=col>&lt;dbl&gt;</th><th scope=col>&lt;dbl&gt;</th><th scope=col>&lt;dbl&gt;</th></tr>\n",
       "</thead>\n",
       "<tbody>\n",
       "\t<tr><td>IT         </td><td>0.4114074</td><td>0.2725105</td><td>0.7327778</td><td>0.1932583</td></tr>\n",
       "\t<tr><td>RandD      </td><td>0.4328099</td><td>0.2822299</td><td>0.7453719</td><td>0.1935417</td></tr>\n",
       "\t<tr><td>accounting </td><td>0.4025980</td><td>0.2569768</td><td>0.6945098</td><td>0.1988991</td></tr>\n",
       "\t<tr><td>hr         </td><td>0.4333953</td><td>0.2430897</td><td>0.6797209</td><td>0.1968749</td></tr>\n",
       "\t<tr><td>management </td><td>0.4103409</td><td>0.2659809</td><td>0.7319318</td><td>0.2035764</td></tr>\n",
       "\t<tr><td>marketing  </td><td>0.4531527</td><td>0.2491966</td><td>0.6920197</td><td>0.1995524</td></tr>\n",
       "\t<tr><td>product_mng</td><td>0.4815657</td><td>0.2640356</td><td>0.7265657</td><td>0.2033185</td></tr>\n",
       "\t<tr><td>sales      </td><td>0.4473486</td><td>0.2590022</td><td>0.7123039</td><td>0.1983968</td></tr>\n",
       "\t<tr><td>support    </td><td>0.4511232</td><td>0.2643943</td><td>0.7282246</td><td>0.1923353</td></tr>\n",
       "\t<tr><td>technical  </td><td>0.4339193</td><td>0.2756552</td><td>0.7338905</td><td>0.1978386</td></tr>\n",
       "</tbody>\n",
       "</table>\n"
      ],
      "text/latex": [
       "A tibble: 10 × 5\n",
       "\\begin{tabular}{lllll}\n",
       " sales & mean.satisfaction & sd.satisfaction & mean.evaluation & sd.evaluation\\\\\n",
       " <chr> & <dbl> & <dbl> & <dbl> & <dbl>\\\\\n",
       "\\hline\n",
       "\t IT          & 0.4114074 & 0.2725105 & 0.7327778 & 0.1932583\\\\\n",
       "\t RandD       & 0.4328099 & 0.2822299 & 0.7453719 & 0.1935417\\\\\n",
       "\t accounting  & 0.4025980 & 0.2569768 & 0.6945098 & 0.1988991\\\\\n",
       "\t hr          & 0.4333953 & 0.2430897 & 0.6797209 & 0.1968749\\\\\n",
       "\t management  & 0.4103409 & 0.2659809 & 0.7319318 & 0.2035764\\\\\n",
       "\t marketing   & 0.4531527 & 0.2491966 & 0.6920197 & 0.1995524\\\\\n",
       "\t product\\_mng & 0.4815657 & 0.2640356 & 0.7265657 & 0.2033185\\\\\n",
       "\t sales       & 0.4473486 & 0.2590022 & 0.7123039 & 0.1983968\\\\\n",
       "\t support     & 0.4511232 & 0.2643943 & 0.7282246 & 0.1923353\\\\\n",
       "\t technical   & 0.4339193 & 0.2756552 & 0.7338905 & 0.1978386\\\\\n",
       "\\end{tabular}\n"
      ],
      "text/markdown": [
       "\n",
       "A tibble: 10 × 5\n",
       "\n",
       "| sales &lt;chr&gt; | mean.satisfaction &lt;dbl&gt; | sd.satisfaction &lt;dbl&gt; | mean.evaluation &lt;dbl&gt; | sd.evaluation &lt;dbl&gt; |\n",
       "|---|---|---|---|---|\n",
       "| IT          | 0.4114074 | 0.2725105 | 0.7327778 | 0.1932583 |\n",
       "| RandD       | 0.4328099 | 0.2822299 | 0.7453719 | 0.1935417 |\n",
       "| accounting  | 0.4025980 | 0.2569768 | 0.6945098 | 0.1988991 |\n",
       "| hr          | 0.4333953 | 0.2430897 | 0.6797209 | 0.1968749 |\n",
       "| management  | 0.4103409 | 0.2659809 | 0.7319318 | 0.2035764 |\n",
       "| marketing   | 0.4531527 | 0.2491966 | 0.6920197 | 0.1995524 |\n",
       "| product_mng | 0.4815657 | 0.2640356 | 0.7265657 | 0.2033185 |\n",
       "| sales       | 0.4473486 | 0.2590022 | 0.7123039 | 0.1983968 |\n",
       "| support     | 0.4511232 | 0.2643943 | 0.7282246 | 0.1923353 |\n",
       "| technical   | 0.4339193 | 0.2756552 | 0.7338905 | 0.1978386 |\n",
       "\n"
      ],
      "text/plain": [
       "   sales       mean.satisfaction sd.satisfaction mean.evaluation sd.evaluation\n",
       "1  IT          0.4114074         0.2725105       0.7327778       0.1932583    \n",
       "2  RandD       0.4328099         0.2822299       0.7453719       0.1935417    \n",
       "3  accounting  0.4025980         0.2569768       0.6945098       0.1988991    \n",
       "4  hr          0.4333953         0.2430897       0.6797209       0.1968749    \n",
       "5  management  0.4103409         0.2659809       0.7319318       0.2035764    \n",
       "6  marketing   0.4531527         0.2491966       0.6920197       0.1995524    \n",
       "7  product_mng 0.4815657         0.2640356       0.7265657       0.2033185    \n",
       "8  sales       0.4473486         0.2590022       0.7123039       0.1983968    \n",
       "9  support     0.4511232         0.2643943       0.7282246       0.1923353    \n",
       "10 technical   0.4339193         0.2756552       0.7338905       0.1978386    "
      ]
     },
     "metadata": {},
     "output_type": "display_data"
    }
   ],
   "source": [
    "hr01 %>%\n",
    "    group_by(sales) %>%\n",
    "    summarize(\n",
    "        mean.satisfaction = mean(satisfaction_level, na.rm = TRUE),\n",
    "        sd.satisfaction = sd(satisfaction_level, na.rm = TRUE),\n",
    "        mean.evaluation = mean(last_evaluation, na.rm = TRUE),\n",
    "        sd.evaluation = sd(last_evaluation, na.rm = TRUE)\n",
    "    )"
   ]
  },
  {
   "cell_type": "markdown",
   "id": "c1355a49",
   "metadata": {},
   "source": [
    "(f) What department has the lowest mean satisfaction? Which department has the highest variation in satisfaction?  "
   ]
  },
  {
   "cell_type": "markdown",
   "id": "d5917b05",
   "metadata": {},
   "source": [
    "Accounting has the lowest mean satisfaction level. RandD has the highest variation in satisfaction. \n",
    "\n",
    "(g) Create a new variable that groups `average_montly_hours` into 4 groups. You can let the group cut-points be chosen automatically with `chop_evenly()`. Then show the frequencies of each group."
   ]
  },
  {
   "cell_type": "code",
   "execution_count": 7,
   "id": "fc4384c3-ea3d-4652-939e-3e4f78b7b8ea",
   "metadata": {
    "tags": []
   },
   "outputs": [
    {
     "name": "stderr",
     "output_type": "stream",
     "text": [
      "Installing package into ‘/Users/ruhil/Library/R/arm64/4.3/library’\n",
      "(as ‘lib’ is unspecified)\n",
      "\n"
     ]
    },
    {
     "name": "stdout",
     "output_type": "stream",
     "text": [
      "\n",
      "The downloaded binary packages are in\n",
      "\t/var/folders/qh/6q39v0755_54rxmbl8m5ttnwy0twd7/T//RtmpoVzqQv/downloaded_packages\n"
     ]
    }
   ],
   "source": [
    "install.packages('santoku')"
   ]
  },
  {
   "cell_type": "code",
   "execution_count": 8,
   "id": "350e2e05-1056-41bc-899b-0f1ff3ca1a74",
   "metadata": {
    "tags": []
   },
   "outputs": [
    {
     "name": "stderr",
     "output_type": "stream",
     "text": [
      "\n",
      "Attaching package: ‘santoku’\n",
      "\n",
      "\n",
      "The following object is masked from ‘package:tidyr’:\n",
      "\n",
      "    chop\n",
      "\n",
      "\n"
     ]
    },
    {
     "data": {
      "text/html": [
       "<table class=\"dataframe\">\n",
       "<caption>A tibble: 4 × 2</caption>\n",
       "<thead>\n",
       "\t<tr><th scope=col>hours_grouped</th><th scope=col>n</th></tr>\n",
       "\t<tr><th scope=col>&lt;fct&gt;</th><th scope=col>&lt;int&gt;</th></tr>\n",
       "</thead>\n",
       "<tbody>\n",
       "\t<tr><td>[96, 149.5) </td><td>2945</td></tr>\n",
       "\t<tr><td>[149.5, 203)</td><td>4745</td></tr>\n",
       "\t<tr><td>[203, 256.5)</td><td>4707</td></tr>\n",
       "\t<tr><td>[256.5, 310]</td><td>2602</td></tr>\n",
       "</tbody>\n",
       "</table>\n"
      ],
      "text/latex": [
       "A tibble: 4 × 2\n",
       "\\begin{tabular}{ll}\n",
       " hours\\_grouped & n\\\\\n",
       " <fct> & <int>\\\\\n",
       "\\hline\n",
       "\t {[}96, 149.5)  & 2945\\\\\n",
       "\t {[}149.5, 203) & 4745\\\\\n",
       "\t {[}203, 256.5) & 4707\\\\\n",
       "\t {[}256.5, 310{]} & 2602\\\\\n",
       "\\end{tabular}\n"
      ],
      "text/markdown": [
       "\n",
       "A tibble: 4 × 2\n",
       "\n",
       "| hours_grouped &lt;fct&gt; | n &lt;int&gt; |\n",
       "|---|---|\n",
       "| [96, 149.5)  | 2945 |\n",
       "| [149.5, 203) | 4745 |\n",
       "| [203, 256.5) | 4707 |\n",
       "| [256.5, 310] | 2602 |\n",
       "\n"
      ],
      "text/plain": [
       "  hours_grouped n   \n",
       "1 [96, 149.5)   2945\n",
       "2 [149.5, 203)  4745\n",
       "3 [203, 256.5)  4707\n",
       "4 [256.5, 310]  2602"
      ]
     },
     "metadata": {},
     "output_type": "display_data"
    }
   ],
   "source": [
    "library(santoku)\n",
    "\n",
    "hrdata %>%\n",
    "    mutate(\n",
    "    hours_grouped = chop_evenly(average_montly_hours, 4)\n",
    "    ) -> hrdata\n",
    "\n",
    "hrdata %>%\n",
    "    group_by(hours_grouped) %>%\n",
    "    tally()"
   ]
  },
  {
   "cell_type": "markdown",
   "id": "7ecc5f52",
   "metadata": {},
   "source": [
    "## Exercise 02\n",
    "Thanks to the frenetic work of many individuals, the global spread of the Novel Coronavirus (COVID-19) has been tracked and the data made available for analysis. [Yanchang Zhao](https://rdatamining.wordpress.com/2020/03/10/coronavirus-data-analysis-with-r-tidyverse-and-ggplot2/) is one such individual and for this exercise we will use a spcific version of his data that I have named `cvdata.RData` is available in the `data` folder. Read it in via the `load()` command. We can then answer a few questions. Note the contents: \n",
    "\n",
    "+ `country =` name of the country \n",
    "+ `date =` date of incidents as recorded \n",
    "+ `confirmed =` cumulative count of the number of people who tested positive  \n",
    "+ `deaths =` cumulative count of the number of people lost to Covid-19 \n",
    "+ `deaths =` cumulative count of the number of people recovered  "
   ]
  },
  {
   "cell_type": "code",
   "execution_count": 9,
   "id": "a773125d-1d16-461c-8eb6-b53fe1a26adc",
   "metadata": {
    "tags": []
   },
   "outputs": [
    {
     "data": {
      "text/html": [
       "<style>\n",
       ".list-inline {list-style: none; margin:0; padding: 0}\n",
       ".list-inline>li {display: inline-block}\n",
       ".list-inline>li:not(:last-child)::after {content: \"\\00b7\"; padding: 0 .5ex}\n",
       "</style>\n",
       "<ol class=list-inline><li>'country'</li><li>'date'</li><li>'confirmed'</li><li>'deaths'</li><li>'recovered'</li></ol>\n"
      ],
      "text/latex": [
       "\\begin{enumerate*}\n",
       "\\item 'country'\n",
       "\\item 'date'\n",
       "\\item 'confirmed'\n",
       "\\item 'deaths'\n",
       "\\item 'recovered'\n",
       "\\end{enumerate*}\n"
      ],
      "text/markdown": [
       "1. 'country'\n",
       "2. 'date'\n",
       "3. 'confirmed'\n",
       "4. 'deaths'\n",
       "5. 'recovered'\n",
       "\n",
       "\n"
      ],
      "text/plain": [
       "[1] \"country\"   \"date\"      \"confirmed\" \"deaths\"    \"recovered\""
      ]
     },
     "metadata": {},
     "output_type": "display_data"
    }
   ],
   "source": [
    "load(\"data/cvdata.RData\")\n",
    "\n",
    "names(cvdata)"
   ]
  },
  {
   "cell_type": "markdown",
   "id": "d0e73113",
   "metadata": {},
   "source": [
    "(a) Filter the data-set so that we have only one row per country, the data from March 10, 2020 and call it `cv0310`. "
   ]
  },
  {
   "cell_type": "code",
   "execution_count": 10,
   "id": "4b1c6eea-5f6e-43b8-9bbf-ea5ffc60fcf4",
   "metadata": {
    "tags": []
   },
   "outputs": [
    {
     "data": {
      "text/html": [
       "<table class=\"dataframe\">\n",
       "<caption>A data.frame: 6 × 5</caption>\n",
       "<thead>\n",
       "\t<tr><th></th><th scope=col>country</th><th scope=col>date</th><th scope=col>confirmed</th><th scope=col>deaths</th><th scope=col>recovered</th></tr>\n",
       "\t<tr><th></th><th scope=col>&lt;fct&gt;</th><th scope=col>&lt;date&gt;</th><th scope=col>&lt;int&gt;</th><th scope=col>&lt;int&gt;</th><th scope=col>&lt;int&gt;</th></tr>\n",
       "</thead>\n",
       "<tbody>\n",
       "\t<tr><th scope=row>1</th><td>Afghanistan</td><td>2020-01-22</td><td>0</td><td>0</td><td>0</td></tr>\n",
       "\t<tr><th scope=row>2</th><td>Afghanistan</td><td>2020-01-23</td><td>0</td><td>0</td><td>0</td></tr>\n",
       "\t<tr><th scope=row>3</th><td>Afghanistan</td><td>2020-01-24</td><td>0</td><td>0</td><td>0</td></tr>\n",
       "\t<tr><th scope=row>4</th><td>Afghanistan</td><td>2020-01-25</td><td>0</td><td>0</td><td>0</td></tr>\n",
       "\t<tr><th scope=row>5</th><td>Afghanistan</td><td>2020-01-26</td><td>0</td><td>0</td><td>0</td></tr>\n",
       "\t<tr><th scope=row>6</th><td>Afghanistan</td><td>2020-01-27</td><td>0</td><td>0</td><td>0</td></tr>\n",
       "</tbody>\n",
       "</table>\n"
      ],
      "text/latex": [
       "A data.frame: 6 × 5\n",
       "\\begin{tabular}{r|lllll}\n",
       "  & country & date & confirmed & deaths & recovered\\\\\n",
       "  & <fct> & <date> & <int> & <int> & <int>\\\\\n",
       "\\hline\n",
       "\t1 & Afghanistan & 2020-01-22 & 0 & 0 & 0\\\\\n",
       "\t2 & Afghanistan & 2020-01-23 & 0 & 0 & 0\\\\\n",
       "\t3 & Afghanistan & 2020-01-24 & 0 & 0 & 0\\\\\n",
       "\t4 & Afghanistan & 2020-01-25 & 0 & 0 & 0\\\\\n",
       "\t5 & Afghanistan & 2020-01-26 & 0 & 0 & 0\\\\\n",
       "\t6 & Afghanistan & 2020-01-27 & 0 & 0 & 0\\\\\n",
       "\\end{tabular}\n"
      ],
      "text/markdown": [
       "\n",
       "A data.frame: 6 × 5\n",
       "\n",
       "| <!--/--> | country &lt;fct&gt; | date &lt;date&gt; | confirmed &lt;int&gt; | deaths &lt;int&gt; | recovered &lt;int&gt; |\n",
       "|---|---|---|---|---|---|\n",
       "| 1 | Afghanistan | 2020-01-22 | 0 | 0 | 0 |\n",
       "| 2 | Afghanistan | 2020-01-23 | 0 | 0 | 0 |\n",
       "| 3 | Afghanistan | 2020-01-24 | 0 | 0 | 0 |\n",
       "| 4 | Afghanistan | 2020-01-25 | 0 | 0 | 0 |\n",
       "| 5 | Afghanistan | 2020-01-26 | 0 | 0 | 0 |\n",
       "| 6 | Afghanistan | 2020-01-27 | 0 | 0 | 0 |\n",
       "\n"
      ],
      "text/plain": [
       "  country     date       confirmed deaths recovered\n",
       "1 Afghanistan 2020-01-22 0         0      0        \n",
       "2 Afghanistan 2020-01-23 0         0      0        \n",
       "3 Afghanistan 2020-01-24 0         0      0        \n",
       "4 Afghanistan 2020-01-25 0         0      0        \n",
       "5 Afghanistan 2020-01-26 0         0      0        \n",
       "6 Afghanistan 2020-01-27 0         0      0        "
      ]
     },
     "metadata": {},
     "output_type": "display_data"
    },
    {
     "data": {
      "text/html": [
       "<table class=\"dataframe\">\n",
       "<caption>A data.frame: 6 × 5</caption>\n",
       "<thead>\n",
       "\t<tr><th></th><th scope=col>country</th><th scope=col>date</th><th scope=col>confirmed</th><th scope=col>deaths</th><th scope=col>recovered</th></tr>\n",
       "\t<tr><th></th><th scope=col>&lt;fct&gt;</th><th scope=col>&lt;date&gt;</th><th scope=col>&lt;int&gt;</th><th scope=col>&lt;int&gt;</th><th scope=col>&lt;int&gt;</th></tr>\n",
       "</thead>\n",
       "<tbody>\n",
       "\t<tr><th scope=row>1</th><td>Afghanistan</td><td>2020-03-10</td><td> 5</td><td>0</td><td>0</td></tr>\n",
       "\t<tr><th scope=row>2</th><td>Albania    </td><td>2020-03-10</td><td>10</td><td>0</td><td>0</td></tr>\n",
       "\t<tr><th scope=row>3</th><td>Algeria    </td><td>2020-03-10</td><td>20</td><td>0</td><td>0</td></tr>\n",
       "\t<tr><th scope=row>4</th><td>Andorra    </td><td>2020-03-10</td><td> 1</td><td>0</td><td>0</td></tr>\n",
       "\t<tr><th scope=row>5</th><td>Argentina  </td><td>2020-03-10</td><td>17</td><td>1</td><td>0</td></tr>\n",
       "\t<tr><th scope=row>6</th><td>Armenia    </td><td>2020-03-10</td><td> 1</td><td>0</td><td>0</td></tr>\n",
       "</tbody>\n",
       "</table>\n"
      ],
      "text/latex": [
       "A data.frame: 6 × 5\n",
       "\\begin{tabular}{r|lllll}\n",
       "  & country & date & confirmed & deaths & recovered\\\\\n",
       "  & <fct> & <date> & <int> & <int> & <int>\\\\\n",
       "\\hline\n",
       "\t1 & Afghanistan & 2020-03-10 &  5 & 0 & 0\\\\\n",
       "\t2 & Albania     & 2020-03-10 & 10 & 0 & 0\\\\\n",
       "\t3 & Algeria     & 2020-03-10 & 20 & 0 & 0\\\\\n",
       "\t4 & Andorra     & 2020-03-10 &  1 & 0 & 0\\\\\n",
       "\t5 & Argentina   & 2020-03-10 & 17 & 1 & 0\\\\\n",
       "\t6 & Armenia     & 2020-03-10 &  1 & 0 & 0\\\\\n",
       "\\end{tabular}\n"
      ],
      "text/markdown": [
       "\n",
       "A data.frame: 6 × 5\n",
       "\n",
       "| <!--/--> | country &lt;fct&gt; | date &lt;date&gt; | confirmed &lt;int&gt; | deaths &lt;int&gt; | recovered &lt;int&gt; |\n",
       "|---|---|---|---|---|---|\n",
       "| 1 | Afghanistan | 2020-03-10 |  5 | 0 | 0 |\n",
       "| 2 | Albania     | 2020-03-10 | 10 | 0 | 0 |\n",
       "| 3 | Algeria     | 2020-03-10 | 20 | 0 | 0 |\n",
       "| 4 | Andorra     | 2020-03-10 |  1 | 0 | 0 |\n",
       "| 5 | Argentina   | 2020-03-10 | 17 | 1 | 0 |\n",
       "| 6 | Armenia     | 2020-03-10 |  1 | 0 | 0 |\n",
       "\n"
      ],
      "text/plain": [
       "  country     date       confirmed deaths recovered\n",
       "1 Afghanistan 2020-03-10  5        0      0        \n",
       "2 Albania     2020-03-10 10        0      0        \n",
       "3 Algeria     2020-03-10 20        0      0        \n",
       "4 Andorra     2020-03-10  1        0      0        \n",
       "5 Argentina   2020-03-10 17        1      0        \n",
       "6 Armenia     2020-03-10  1        0      0        "
      ]
     },
     "metadata": {},
     "output_type": "display_data"
    }
   ],
   "source": [
    "head(cvdata)\n",
    "\n",
    "cvdata %>%\n",
    "    filter(date == \"2020-03-10\") -> cv0310\n",
    "\n",
    "head(cv0310)"
   ]
  },
  {
   "cell_type": "markdown",
   "id": "abf0c388",
   "metadata": {},
   "source": [
    "(b) How many countries have lost `at least one` person to this tragedy? \"Others\" should not show up as one of the countries.  "
   ]
  },
  {
   "cell_type": "code",
   "execution_count": 11,
   "id": "3c6ccec7-17b9-4abf-ab98-59e8f0554a62",
   "metadata": {
    "tags": []
   },
   "outputs": [
    {
     "data": {
      "text/html": [
       "<table class=\"dataframe\">\n",
       "<caption>A tibble: 2 × 2</caption>\n",
       "<thead>\n",
       "\t<tr><th scope=col>lostany</th><th scope=col>n</th></tr>\n",
       "\t<tr><th scope=col>&lt;chr&gt;</th><th scope=col>&lt;int&gt;</th></tr>\n",
       "</thead>\n",
       "<tbody>\n",
       "\t<tr><td>No </td><td>90</td></tr>\n",
       "\t<tr><td>Yes</td><td>24</td></tr>\n",
       "</tbody>\n",
       "</table>\n"
      ],
      "text/latex": [
       "A tibble: 2 × 2\n",
       "\\begin{tabular}{ll}\n",
       " lostany & n\\\\\n",
       " <chr> & <int>\\\\\n",
       "\\hline\n",
       "\t No  & 90\\\\\n",
       "\t Yes & 24\\\\\n",
       "\\end{tabular}\n"
      ],
      "text/markdown": [
       "\n",
       "A tibble: 2 × 2\n",
       "\n",
       "| lostany &lt;chr&gt; | n &lt;int&gt; |\n",
       "|---|---|\n",
       "| No  | 90 |\n",
       "| Yes | 24 |\n",
       "\n"
      ],
      "text/plain": [
       "  lostany n \n",
       "1 No      90\n",
       "2 Yes     24"
      ]
     },
     "metadata": {},
     "output_type": "display_data"
    }
   ],
   "source": [
    "cv0310 %>%\n",
    "    filter(country != \"Others\") %>%\n",
    "    mutate(\n",
    "        lostany = case_when(\n",
    "            deaths >= 1 ~ \"Yes\",\n",
    "            TRUE ~ \"No\"\n",
    "        )\n",
    "    ) %>%\n",
    "    group_by(lostany) %>%\n",
    "    tally()"
   ]
  },
  {
   "cell_type": "markdown",
   "id": "d180f1b2-b5c1-474b-a5c1-429a43ca56c3",
   "metadata": {},
   "source": [
    "24 countries have lost at least 1 person"
   ]
  },
  {
   "cell_type": "markdown",
   "id": "1543d439",
   "metadata": {},
   "source": [
    "(c) What 10 countries have had the most number of confirmed cases? \"Others\" should not show up as one of the countries. Also ensure the result is organized in descending order of the number of confirmed cases. "
   ]
  },
  {
   "cell_type": "code",
   "execution_count": 12,
   "id": "55853432-d43c-42f0-a674-1478d0d1c308",
   "metadata": {
    "tags": []
   },
   "outputs": [
    {
     "name": "stderr",
     "output_type": "stream",
     "text": [
      "\u001b[1m\u001b[22mSelecting by recovered\n"
     ]
    },
    {
     "data": {
      "text/html": [
       "<table class=\"dataframe\">\n",
       "<caption>A data.frame: 10 × 5</caption>\n",
       "<thead>\n",
       "\t<tr><th scope=col>country</th><th scope=col>date</th><th scope=col>confirmed</th><th scope=col>deaths</th><th scope=col>recovered</th></tr>\n",
       "\t<tr><th scope=col>&lt;fct&gt;</th><th scope=col>&lt;date&gt;</th><th scope=col>&lt;int&gt;</th><th scope=col>&lt;int&gt;</th><th scope=col>&lt;int&gt;</th></tr>\n",
       "</thead>\n",
       "<tbody>\n",
       "\t<tr><td>Mainland China            </td><td>2020-03-10</td><td>80757</td><td>3136</td><td>60106</td></tr>\n",
       "\t<tr><td>Italy                     </td><td>2020-03-10</td><td>10149</td><td> 631</td><td>  724</td></tr>\n",
       "\t<tr><td>Iran (Islamic Republic of)</td><td>2020-03-10</td><td> 8042</td><td> 291</td><td> 2731</td></tr>\n",
       "\t<tr><td>Republic of Korea         </td><td>2020-03-10</td><td> 7513</td><td>  54</td><td>  247</td></tr>\n",
       "\t<tr><td>Spain                     </td><td>2020-03-10</td><td> 1695</td><td>  35</td><td>   32</td></tr>\n",
       "\t<tr><td>Japan                     </td><td>2020-03-10</td><td>  581</td><td>  10</td><td>  101</td></tr>\n",
       "\t<tr><td>Singapore                 </td><td>2020-03-10</td><td>  160</td><td>   0</td><td>   78</td></tr>\n",
       "\t<tr><td>Malaysia                  </td><td>2020-03-10</td><td>  129</td><td>   0</td><td>   24</td></tr>\n",
       "\t<tr><td>Hong Kong SAR             </td><td>2020-03-10</td><td>  120</td><td>   3</td><td>   65</td></tr>\n",
       "\t<tr><td>Thailand                  </td><td>2020-03-10</td><td>   53</td><td>   1</td><td>   33</td></tr>\n",
       "</tbody>\n",
       "</table>\n"
      ],
      "text/latex": [
       "A data.frame: 10 × 5\n",
       "\\begin{tabular}{lllll}\n",
       " country & date & confirmed & deaths & recovered\\\\\n",
       " <fct> & <date> & <int> & <int> & <int>\\\\\n",
       "\\hline\n",
       "\t Mainland China             & 2020-03-10 & 80757 & 3136 & 60106\\\\\n",
       "\t Italy                      & 2020-03-10 & 10149 &  631 &   724\\\\\n",
       "\t Iran (Islamic Republic of) & 2020-03-10 &  8042 &  291 &  2731\\\\\n",
       "\t Republic of Korea          & 2020-03-10 &  7513 &   54 &   247\\\\\n",
       "\t Spain                      & 2020-03-10 &  1695 &   35 &    32\\\\\n",
       "\t Japan                      & 2020-03-10 &   581 &   10 &   101\\\\\n",
       "\t Singapore                  & 2020-03-10 &   160 &    0 &    78\\\\\n",
       "\t Malaysia                   & 2020-03-10 &   129 &    0 &    24\\\\\n",
       "\t Hong Kong SAR              & 2020-03-10 &   120 &    3 &    65\\\\\n",
       "\t Thailand                   & 2020-03-10 &    53 &    1 &    33\\\\\n",
       "\\end{tabular}\n"
      ],
      "text/markdown": [
       "\n",
       "A data.frame: 10 × 5\n",
       "\n",
       "| country &lt;fct&gt; | date &lt;date&gt; | confirmed &lt;int&gt; | deaths &lt;int&gt; | recovered &lt;int&gt; |\n",
       "|---|---|---|---|---|\n",
       "| Mainland China             | 2020-03-10 | 80757 | 3136 | 60106 |\n",
       "| Italy                      | 2020-03-10 | 10149 |  631 |   724 |\n",
       "| Iran (Islamic Republic of) | 2020-03-10 |  8042 |  291 |  2731 |\n",
       "| Republic of Korea          | 2020-03-10 |  7513 |   54 |   247 |\n",
       "| Spain                      | 2020-03-10 |  1695 |   35 |    32 |\n",
       "| Japan                      | 2020-03-10 |   581 |   10 |   101 |\n",
       "| Singapore                  | 2020-03-10 |   160 |    0 |    78 |\n",
       "| Malaysia                   | 2020-03-10 |   129 |    0 |    24 |\n",
       "| Hong Kong SAR              | 2020-03-10 |   120 |    3 |    65 |\n",
       "| Thailand                   | 2020-03-10 |    53 |    1 |    33 |\n",
       "\n"
      ],
      "text/plain": [
       "   country                    date       confirmed deaths recovered\n",
       "1  Mainland China             2020-03-10 80757     3136   60106    \n",
       "2  Italy                      2020-03-10 10149      631     724    \n",
       "3  Iran (Islamic Republic of) 2020-03-10  8042      291    2731    \n",
       "4  Republic of Korea          2020-03-10  7513       54     247    \n",
       "5  Spain                      2020-03-10  1695       35      32    \n",
       "6  Japan                      2020-03-10   581       10     101    \n",
       "7  Singapore                  2020-03-10   160        0      78    \n",
       "8  Malaysia                   2020-03-10   129        0      24    \n",
       "9  Hong Kong SAR              2020-03-10   120        3      65    \n",
       "10 Thailand                   2020-03-10    53        1      33    "
      ]
     },
     "metadata": {},
     "output_type": "display_data"
    }
   ],
   "source": [
    "cv0310 %>%\n",
    "    filter(country != \"Others\") %>%\n",
    "    arrange(-confirmed) %>%\n",
    "    top_n(10)"
   ]
  },
  {
   "cell_type": "markdown",
   "id": "19896677",
   "metadata": {},
   "source": [
    "(d) Calculate the `fatality_rate`, defined for our purposes as the percent of deaths. excluding \"Others\", and only keeping countries that have had `at least 10` confirmed cases, arrange the result to show the top-10 countries in descending order of `fatality_rate`.  "
   ]
  },
  {
   "cell_type": "code",
   "execution_count": 13,
   "id": "bd040af5-89f2-45d0-adea-333ac17cdb19",
   "metadata": {
    "tags": []
   },
   "outputs": [
    {
     "name": "stderr",
     "output_type": "stream",
     "text": [
      "\u001b[1m\u001b[22mSelecting by fatality_rate\n"
     ]
    },
    {
     "data": {
      "text/html": [
       "<table class=\"dataframe\">\n",
       "<caption>A data.frame: 10 × 6</caption>\n",
       "<thead>\n",
       "\t<tr><th scope=col>country</th><th scope=col>date</th><th scope=col>confirmed</th><th scope=col>deaths</th><th scope=col>recovered</th><th scope=col>fatality_rate</th></tr>\n",
       "\t<tr><th scope=col>&lt;fct&gt;</th><th scope=col>&lt;date&gt;</th><th scope=col>&lt;int&gt;</th><th scope=col>&lt;int&gt;</th><th scope=col>&lt;int&gt;</th><th scope=col>&lt;dbl&gt;</th></tr>\n",
       "</thead>\n",
       "<tbody>\n",
       "\t<tr><td>Iraq                      </td><td>2020-03-10</td><td>   71</td><td>   7</td><td>    3</td><td>9.859155</td></tr>\n",
       "\t<tr><td>Italy                     </td><td>2020-03-10</td><td>10149</td><td> 631</td><td>  724</td><td>6.217361</td></tr>\n",
       "\t<tr><td>Argentina                 </td><td>2020-03-10</td><td>   17</td><td>   1</td><td>    0</td><td>5.882353</td></tr>\n",
       "\t<tr><td>San Marino                </td><td>2020-03-10</td><td>   51</td><td>   2</td><td>    0</td><td>3.921569</td></tr>\n",
       "\t<tr><td>Mainland China            </td><td>2020-03-10</td><td>80757</td><td>3136</td><td>60106</td><td>3.883255</td></tr>\n",
       "\t<tr><td>Iran (Islamic Republic of)</td><td>2020-03-10</td><td> 8042</td><td> 291</td><td> 2731</td><td>3.618503</td></tr>\n",
       "\t<tr><td>US                        </td><td>2020-03-10</td><td> 1670</td><td>  56</td><td>   15</td><td>3.353293</td></tr>\n",
       "\t<tr><td>Philippines               </td><td>2020-03-10</td><td>   33</td><td>   1</td><td>    2</td><td>3.030303</td></tr>\n",
       "\t<tr><td>Australia                 </td><td>2020-03-10</td><td>  107</td><td>   3</td><td>   21</td><td>2.803738</td></tr>\n",
       "\t<tr><td>Hong Kong SAR             </td><td>2020-03-10</td><td>  120</td><td>   3</td><td>   65</td><td>2.500000</td></tr>\n",
       "</tbody>\n",
       "</table>\n"
      ],
      "text/latex": [
       "A data.frame: 10 × 6\n",
       "\\begin{tabular}{llllll}\n",
       " country & date & confirmed & deaths & recovered & fatality\\_rate\\\\\n",
       " <fct> & <date> & <int> & <int> & <int> & <dbl>\\\\\n",
       "\\hline\n",
       "\t Iraq                       & 2020-03-10 &    71 &    7 &     3 & 9.859155\\\\\n",
       "\t Italy                      & 2020-03-10 & 10149 &  631 &   724 & 6.217361\\\\\n",
       "\t Argentina                  & 2020-03-10 &    17 &    1 &     0 & 5.882353\\\\\n",
       "\t San Marino                 & 2020-03-10 &    51 &    2 &     0 & 3.921569\\\\\n",
       "\t Mainland China             & 2020-03-10 & 80757 & 3136 & 60106 & 3.883255\\\\\n",
       "\t Iran (Islamic Republic of) & 2020-03-10 &  8042 &  291 &  2731 & 3.618503\\\\\n",
       "\t US                         & 2020-03-10 &  1670 &   56 &    15 & 3.353293\\\\\n",
       "\t Philippines                & 2020-03-10 &    33 &    1 &     2 & 3.030303\\\\\n",
       "\t Australia                  & 2020-03-10 &   107 &    3 &    21 & 2.803738\\\\\n",
       "\t Hong Kong SAR              & 2020-03-10 &   120 &    3 &    65 & 2.500000\\\\\n",
       "\\end{tabular}\n"
      ],
      "text/markdown": [
       "\n",
       "A data.frame: 10 × 6\n",
       "\n",
       "| country &lt;fct&gt; | date &lt;date&gt; | confirmed &lt;int&gt; | deaths &lt;int&gt; | recovered &lt;int&gt; | fatality_rate &lt;dbl&gt; |\n",
       "|---|---|---|---|---|---|\n",
       "| Iraq                       | 2020-03-10 |    71 |    7 |     3 | 9.859155 |\n",
       "| Italy                      | 2020-03-10 | 10149 |  631 |   724 | 6.217361 |\n",
       "| Argentina                  | 2020-03-10 |    17 |    1 |     0 | 5.882353 |\n",
       "| San Marino                 | 2020-03-10 |    51 |    2 |     0 | 3.921569 |\n",
       "| Mainland China             | 2020-03-10 | 80757 | 3136 | 60106 | 3.883255 |\n",
       "| Iran (Islamic Republic of) | 2020-03-10 |  8042 |  291 |  2731 | 3.618503 |\n",
       "| US                         | 2020-03-10 |  1670 |   56 |    15 | 3.353293 |\n",
       "| Philippines                | 2020-03-10 |    33 |    1 |     2 | 3.030303 |\n",
       "| Australia                  | 2020-03-10 |   107 |    3 |    21 | 2.803738 |\n",
       "| Hong Kong SAR              | 2020-03-10 |   120 |    3 |    65 | 2.500000 |\n",
       "\n"
      ],
      "text/plain": [
       "   country                    date       confirmed deaths recovered\n",
       "1  Iraq                       2020-03-10    71        7       3    \n",
       "2  Italy                      2020-03-10 10149      631     724    \n",
       "3  Argentina                  2020-03-10    17        1       0    \n",
       "4  San Marino                 2020-03-10    51        2       0    \n",
       "5  Mainland China             2020-03-10 80757     3136   60106    \n",
       "6  Iran (Islamic Republic of) 2020-03-10  8042      291    2731    \n",
       "7  US                         2020-03-10  1670       56      15    \n",
       "8  Philippines                2020-03-10    33        1       2    \n",
       "9  Australia                  2020-03-10   107        3      21    \n",
       "10 Hong Kong SAR              2020-03-10   120        3      65    \n",
       "   fatality_rate\n",
       "1  9.859155     \n",
       "2  6.217361     \n",
       "3  5.882353     \n",
       "4  3.921569     \n",
       "5  3.883255     \n",
       "6  3.618503     \n",
       "7  3.353293     \n",
       "8  3.030303     \n",
       "9  2.803738     \n",
       "10 2.500000     "
      ]
     },
     "metadata": {},
     "output_type": "display_data"
    }
   ],
   "source": [
    "cv0310 %>%\n",
    "    filter(country != \"Others\", confirmed >= 10) %>%\n",
    "    mutate(\n",
    "        fatality_rate = (deaths/confirmed) * 100\n",
    "    ) %>%\n",
    "    arrange(-fatality_rate) %>%\n",
    "    top_n(10)"
   ]
  },
  {
   "cell_type": "markdown",
   "id": "4f0f5c10",
   "metadata": {},
   "source": [
    "(e) Say we only want to focus on the Baltic countries (Estonia, Latvia, and Lithuania) as a unified group and compare this group to the ASEAN nations (Brunei, Cambodia, Indonesia, Laos, Malaysia, Myanmar, Philippines, Singapore, Thailand, and Vietnam). Use `cv0310` to complete the followng tasks: \n",
    "\n",
    "(i) Create a new variable called `region` that only takes on two values -- \"Baltic\" if the country is a Baltic country and \"Asean\" if the country is an ASEAN country. \n",
    "\n",
    "(ii) Use this variable to calculate the total number of confirmed cases in each region. "
   ]
  },
  {
   "cell_type": "code",
   "execution_count": 14,
   "id": "2542e768-5dac-4e0b-b6e5-6b5fb4a0fdc1",
   "metadata": {
    "tags": []
   },
   "outputs": [],
   "source": [
    "cv0310 %>%\n",
    "    filter(\n",
    "        country %in% c(\"Estonia\", \"Latvia\", \"Lithuania\", \"Brunei\", \"Cambodia\", \n",
    "                       \"Indonesia\", \"Laos\", \"Malaysia\", \"Myanmar\", \"Philippines\",\n",
    "                       \"Singapore\", \"Thailand\", \"Vietnam\")\n",
    "        ) %>%\n",
    "    mutate(\n",
    "        region = case_when(\n",
    "            country %in% c(\"Estonia\", \"Latvia\", \"Lithuania\") ~ \"Baltic\",\n",
    "            TRUE ~ \"No\"\n",
    "        )\n",
    "    ) -> cv0310\n",
    "        "
   ]
  },
  {
   "cell_type": "code",
   "execution_count": 15,
   "id": "843d76cf-c394-494c-9245-6f296fa202d8",
   "metadata": {
    "tags": []
   },
   "outputs": [
    {
     "data": {
      "text/html": [
       "<table class=\"dataframe\">\n",
       "<caption>A tibble: 2 × 2</caption>\n",
       "<thead>\n",
       "\t<tr><th scope=col>region</th><th scope=col>sum(confirmed)</th></tr>\n",
       "\t<tr><th scope=col>&lt;chr&gt;</th><th scope=col>&lt;int&gt;</th></tr>\n",
       "</thead>\n",
       "<tbody>\n",
       "\t<tr><td>Baltic</td><td> 21</td></tr>\n",
       "\t<tr><td>No    </td><td>405</td></tr>\n",
       "</tbody>\n",
       "</table>\n"
      ],
      "text/latex": [
       "A tibble: 2 × 2\n",
       "\\begin{tabular}{ll}\n",
       " region & sum(confirmed)\\\\\n",
       " <chr> & <int>\\\\\n",
       "\\hline\n",
       "\t Baltic &  21\\\\\n",
       "\t No     & 405\\\\\n",
       "\\end{tabular}\n"
      ],
      "text/markdown": [
       "\n",
       "A tibble: 2 × 2\n",
       "\n",
       "| region &lt;chr&gt; | sum(confirmed) &lt;int&gt; |\n",
       "|---|---|\n",
       "| Baltic |  21 |\n",
       "| No     | 405 |\n",
       "\n"
      ],
      "text/plain": [
       "  region sum(confirmed)\n",
       "1 Baltic  21           \n",
       "2 No     405           "
      ]
     },
     "metadata": {},
     "output_type": "display_data"
    }
   ],
   "source": [
    "cv0310 %>%\n",
    "    group_by(region) %>%\n",
    "    summarize(sum(confirmed))"
   ]
  },
  {
   "cell_type": "code",
   "execution_count": null,
   "id": "3322e9d5-2913-485c-888d-0a68d28669b1",
   "metadata": {},
   "outputs": [],
   "source": []
  }
 ],
 "metadata": {
  "jupytext": {
   "cell_metadata_filter": "include,tags,name,-all",
   "main_language": "R",
   "notebook_metadata_filter": "-all"
  },
  "kernelspec": {
   "display_name": "R",
   "language": "R",
   "name": "ir"
  },
  "language_info": {
   "codemirror_mode": "r",
   "file_extension": ".r",
   "mimetype": "text/x-r-source",
   "name": "R",
   "pygments_lexer": "r",
   "version": "4.3.1"
  }
 },
 "nbformat": 4,
 "nbformat_minor": 5
}
