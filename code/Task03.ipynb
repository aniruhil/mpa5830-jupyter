{
 "cells": [
  {
   "cell_type": "markdown",
   "id": "be91dde0-5856-43ff-990e-2dec3c2df008",
   "metadata": {},
   "source": [
    "# Task 03"
   ]
  },
  {
   "cell_type": "markdown",
   "id": "14a86596-132a-4dcc-9453-2a469cd49a35",
   "metadata": {},
   "source": [
    "Build out this notebook by creating Code cells that include commands to complete the following tasks."
   ]
  },
  {
   "cell_type": "markdown",
   "id": "884a309b-e64a-453f-a35f-392ab5abb08b",
   "metadata": {},
   "source": [
    "## Problem 01\n",
    "\n",
    "Tidy the `gapw.df` data saved by the code chunk below. "
   ]
  },
  {
   "cell_type": "code",
   "execution_count": 4,
   "id": "9704d37d-3abc-4421-92fd-1f3fdf075edb",
   "metadata": {},
   "outputs": [
    {
     "name": "stderr",
     "output_type": "stream",
     "text": [
      "\u001b[1mRows: \u001b[22m\u001b[34m142\u001b[39m \u001b[1mColumns: \u001b[22m\u001b[34m38\u001b[39m\n",
      "\n",
      "\u001b[36m──\u001b[39m \u001b[1mColumn specification\u001b[22m \u001b[36m────────────────────────────────────────────────────────\u001b[39m\n",
      "\u001b[1mDelimiter:\u001b[22m \",\"\n",
      "\u001b[31mchr\u001b[39m  (2): continent, country\n",
      "\u001b[32mdbl\u001b[39m (36): gdpPercap_1952, gdpPercap_1957, gdpPercap_1962, gdpPercap_1967, gd...\n",
      "\n",
      "\n",
      "\u001b[36mℹ\u001b[39m Use \u001b[30m\u001b[47m\u001b[30m\u001b[47m`spec()`\u001b[47m\u001b[30m\u001b[49m\u001b[39m to retrieve the full column specification for this data.\n",
      "\u001b[36mℹ\u001b[39m Specify the column types or set \u001b[30m\u001b[47m\u001b[30m\u001b[47m`show_col_types = FALSE`\u001b[47m\u001b[30m\u001b[49m\u001b[39m to quiet this message.\n",
      "\n"
     ]
    }
   ],
   "source": [
    "library(tidyverse)\n",
    "\n",
    "read_csv(\n",
    "    'https://raw.githubusercontent.com/OHI-Science/data-science-training/master/data/gapminder_wide.csv'\n",
    "    ) -> gapw.df \n",
    "\n",
    "save(gapw.df, file = \"data/gapw.df.RData\")"
   ]
  },
  {
   "cell_type": "markdown",
   "id": "9300cc14-a31a-4dcb-880b-69b314fd6b74",
   "metadata": {},
   "source": [
    "The end result should be a tidy data-frame, called `gapw.df.tidy` that looks like this:"
   ]
  },
  {
   "cell_type": "raw",
   "id": "37ba2acb-4ed2-43a4-af57-027704338b66",
   "metadata": {},
   "source": [
    "# A tibble: 1,704 x 6\n",
    "# Groups:   continent, country [142]\n",
    "   continent country year  gdpPercap lifeExp      pop\n",
    "   <chr>     <chr>   <chr>     <dbl>   <dbl>    <dbl>\n",
    " 1 Africa    Algeria 1952      2449.    43.1  9279525\n",
    " 2 Africa    Algeria 1957      3014.    45.7 10270856\n",
    " 3 Africa    Algeria 1962      2551.    48.3 11000948\n",
    " 4 Africa    Algeria 1967      3247.    51.4 12760499\n",
    " 5 Africa    Algeria 1972      4183.    54.5 14760787\n",
    " 6 Africa    Algeria 1977      4910.    58.0 17152804\n",
    " 7 Africa    Algeria 1982      5745.    61.4 20033753\n",
    " 8 Africa    Algeria 1987      5681.    65.8 23254956\n",
    " 9 Africa    Algeria 1992      5023.    67.7 26298373\n",
    "10 Africa    Algeria 1997      4797.    69.2 29072015\n",
    "# … with 1,694 more rows"
   ]
  },
  {
   "cell_type": "markdown",
   "id": "76c14194-13d1-4efb-b01e-60297ade89ef",
   "metadata": {},
   "source": [
    "## Problem 02\n",
    "\n",
    "Download these data from the World bank’s World Development Indicators and Climate Change Knowledge Portal: http://databank.worldbank.org/data/download/catalog/climate_change_download_0.xls on climate systems, exposure to climate impacts, resilience, greenhouse gas emissions, and energy use. \n",
    "\n",
    "The data need to be tidied up such that for every country you have one row per year and then columns for each of the `58 measures` (called `Series name` in the database). You can drop the columns called `Country code`, `Series code`, `SCALE`, and `Decimals`. "
   ]
  },
  {
   "cell_type": "markdown",
   "id": "c5142a22-a3c7-42a4-8d72-ebb44a6c4efe",
   "metadata": {},
   "source": [
    "The result should look like this:"
   ]
  },
  {
   "cell_type": "raw",
   "id": "e2e24681-d490-4381-8518-cffa270330e4",
   "metadata": {},
   "source": [
    "# A tibble: 5,126 x 60\n",
    "# Groups:   Country name [233]\n",
    "   `Country name` year  `Land area belo… `Agricultural l… `Cereal yield (…\n",
    "   <chr>          <chr> <chr>            <chr>            <chr>           \n",
    " 1 Aruba          1990  29.574809999999… ..               ..              \n",
    " 2 Aruba          1991  ..               ..               ..              \n",
    " 3 Aruba          1992  ..               ..               ..              \n",
    " 4 Aruba          1993  ..               ..               ..              \n",
    " 5 Aruba          1994  ..               ..               ..              \n",
    " 6 Aruba          1995  ..               ..               ..              \n",
    " 7 Aruba          1996  ..               ..               ..              \n",
    " 8 Aruba          1997  ..               ..               ..              \n",
    " 9 Aruba          1998  ..               ..               ..              \n",
    "10 Aruba          1999  ..               ..               ..              \n",
    "# … with 5,116 more rows, and 55 more variables: `Foreign direct investment, net"
   ]
  },
  {
   "cell_type": "code",
   "execution_count": null,
   "id": "9bc0d27e-3612-421f-80ec-1b1933198792",
   "metadata": {},
   "outputs": [],
   "source": []
  }
 ],
 "metadata": {
  "kernelspec": {
   "display_name": "R",
   "language": "R",
   "name": "ir"
  },
  "language_info": {
   "codemirror_mode": "r",
   "file_extension": ".r",
   "mimetype": "text/x-r-source",
   "name": "R",
   "pygments_lexer": "r",
   "version": "4.1.1"
  }
 },
 "nbformat": 4,
 "nbformat_minor": 5
}
