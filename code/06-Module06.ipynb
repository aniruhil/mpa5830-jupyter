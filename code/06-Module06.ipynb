{
 "cells": [
  {
   "cell_type": "markdown",
   "id": "367508f3-01dc-4cd0-ad1d-998066a49fad",
   "metadata": {},
   "source": [
    "# MPA 5830 - Module 06 (Fall 2021)"
   ]
  },
  {
   "cell_type": "markdown",
   "id": "43d56408",
   "metadata": {},
   "source": [
    "In the last module we started building some visualizations in order to answer specific substantive questions. In this module we will look at generating more advanced graphics that have annotations, combine several graphics into one, build some interactive graphics, and also do some mapping. \n",
    "\n",
    "# Combining Plots with `{patchwork}`\n",
    "Often you have to combine and place multiple graphics into a single canvas. There are a few ways to do this but the easiest way is that offered by the `{patchwork}` package. Let us use the `diamonds` data for this section, a data frame with 53940 rows and 10 variables:\n",
    "\n",
    "| Variable | Description |\n",
    "| :-- | :-- |\n",
    "| price |  price in US dollars (\\$326--\\$18,823) |\n",
    "| carat | weight of the diamond (0.2--5.01) |\n",
    "| cut | quality of the cut (Fair, Good, Very Good, Premium, Ideal) |\n",
    "| color | diamond colour, from D (best) to J (worst) |\n",
    "| clarity | a measurement of how clear the diamond is (I1 (worst), SI2, SI1, VS2, VS1, VVS2, VVS1, IF (best)) |\n",
    "| x | length in mm (0--10.74) |\n",
    "| y | width in mm (0--58.9) |\n",
    "| z | depth in mm (0--31.8) |\n",
    "| depth | total depth percentage = z / mean(x, y) = 2 * z / (x + y) (43--79) |\n",
    "| table | width of top of diamond relative to widest point (43--95) |"
   ]
  },
  {
   "cell_type": "markdown",
   "id": "35e5376d",
   "metadata": {},
   "source": [
    "## The Basics \n",
    "\n",
    "To combine multiple plots, we need to save `each plot` with a unique name. I am calling them `p1`, `p2`, etc. Let us generate four plots, each different from all others. "
   ]
  },
  {
   "cell_type": "code",
   "execution_count": null,
   "id": "130c8cd7-6d3b-47c5-86a0-64bec9cc898a",
   "metadata": {
    "name": "patch01"
   },
   "outputs": [],
   "source": [
    "library(patchwork)\n",
    "library(tidyverse)\n",
    "library(tidylog)"
   ]
  },
  {
   "cell_type": "code",
   "execution_count": null,
   "id": "47453a5d-6354-4e36-a611-db72f5ca46ea",
   "metadata": {
    "name": "patch01"
   },
   "outputs": [],
   "source": [
    "options(repr.plot.width = 16, repr.plot.height = 8)\n",
    "\n",
    "ggplot() +\n",
    "  geom_bar(data = diamonds,\n",
    "           aes(x = cut, fill = cut)\n",
    "           ) +\n",
    "  labs(x = \"Cut of the Diamond\", y = \"Frequency\") +\n",
    "  theme(legend.position = \"none\") -> p1"
   ]
  },
  {
   "cell_type": "code",
   "execution_count": null,
   "id": "2e43b170-e7db-46bc-9eec-a31b8db83531",
   "metadata": {
    "name": "patch01"
   },
   "outputs": [],
   "source": [
    "ggplot() +\n",
    "  geom_bar(data = diamonds,\n",
    "           aes(x = color, fill = color)\n",
    "           ) +\n",
    "  labs(x = \"Color of the Diamond\", y = \"Frequency\") +\n",
    "  theme(legend.position = \"none\") -> p2"
   ]
  },
  {
   "cell_type": "code",
   "execution_count": null,
   "id": "b530da9d-651b-416a-8e91-089104800e32",
   "metadata": {
    "name": "patch01"
   },
   "outputs": [],
   "source": [
    "ggplot() +\n",
    "  geom_point(data = diamonds,\n",
    "           aes(x = carat, y = price, color = cut)\n",
    "           ) +\n",
    "  labs(x = \"Weight of the Diamond\", y = \"Price of the Diamond\", color = \"\") +\n",
    "  theme(legend.position = \"bottom\") -> p3"
   ]
  },
  {
   "cell_type": "code",
   "execution_count": null,
   "id": "593d2da8-5ad7-4377-a577-8218eb4777cc",
   "metadata": {
    "name": "patch01"
   },
   "outputs": [],
   "source": [
    "ggplot() +\n",
    "  geom_boxplot(data = diamonds,\n",
    "           aes(x = price, y = clarity, fill = cut)\n",
    "           ) +\n",
    "  labs(y = \"Clarity of the Diamond\", x = \"Price of the Diamond\", fill = \"\") +\n",
    "  theme(legend.position = \"bottom\") -> p4"
   ]
  },
  {
   "cell_type": "markdown",
   "id": "1014ae41-2d4d-48b0-be73-bdda38379bde",
   "metadata": {},
   "source": [
    "Let us see each plot in turn so we know what they look like."
   ]
  },
  {
   "cell_type": "code",
   "execution_count": null,
   "id": "e00f38d8-a7bf-470d-a867-d2e69fda7cef",
   "metadata": {},
   "outputs": [],
   "source": [
    "p1; p2; p3; p4"
   ]
  },
  {
   "cell_type": "markdown",
   "id": "9f0dec0e-94cf-42ad-a296-2ffb482e116d",
   "metadata": {},
   "source": [
    "Now we combine p1 through p3 on a single canvas"
   ]
  },
  {
   "cell_type": "code",
   "execution_count": null,
   "id": "9655ccc0-3236-4e90-8cb1-2645595fa36f",
   "metadata": {
    "name": "patch01"
   },
   "outputs": [],
   "source": [
    "p1 + p2 + p3 "
   ]
  },
  {
   "cell_type": "markdown",
   "id": "9e16f093",
   "metadata": {},
   "source": [
    "Notice the default layout here: `p1 + p2 + p3` gives us the plots all in a row. \n",
    "\n",
    "But you may have other plans, for example, to put the scatterplot in a row all its own. "
   ]
  },
  {
   "cell_type": "code",
   "execution_count": null,
   "id": "bbcbef2d",
   "metadata": {
    "name": "patch02"
   },
   "outputs": [],
   "source": [
    "(p1 + p2) / p3"
   ]
  },
  {
   "cell_type": "markdown",
   "id": "7dffdd0b",
   "metadata": {},
   "source": [
    "Now we have `p3` in the second row, all by itself. Note that this was achieved via the `/` operator and by coercing `p1` and `p2` into a single row via `(p1 + p2)`. \n",
    "\n",
    "What if we used `|` instead?"
   ]
  },
  {
   "cell_type": "code",
   "execution_count": null,
   "id": "e363f726",
   "metadata": {
    "name": "patch03"
   },
   "outputs": [],
   "source": [
    "p1 | (p2 + p3)"
   ]
  },
  {
   "cell_type": "markdown",
   "id": "e95951f1",
   "metadata": {},
   "source": [
    "You ended up with two columns, the first containing only `p1` and the second containing `p2` and `p3`. \n",
    "\n",
    "Note the difference between `|` and `/`. For example, note the following setup:"
   ]
  },
  {
   "cell_type": "code",
   "execution_count": null,
   "id": "8dfd3b72",
   "metadata": {
    "name": "patch04"
   },
   "outputs": [],
   "source": [
    "p1 | (p2 / p3)"
   ]
  },
  {
   "cell_type": "markdown",
   "id": "ac32c198",
   "metadata": {},
   "source": [
    "You get `p1` in one-half of the canvas, and then `p2` and `p3` are split into two rows in the remaining half of the canvas.\n",
    "\n",
    "What if we wanted to squeeze in the fourth plot?"
   ]
  },
  {
   "cell_type": "code",
   "execution_count": null,
   "id": "fc5d017c",
   "metadata": {
    "name": "patch05"
   },
   "outputs": [],
   "source": [
    "options(repr.plot.width = 16, repr.plot.height = 16)\n",
    "\n",
    "(p1 + p2) / (p3 + p4)"
   ]
  },
  {
   "cell_type": "markdown",
   "id": "df480e82-3f0b-4dd0-a9fd-826dc3df2041",
   "metadata": {},
   "source": [
    "Here you asked for `p1` and `p2` to be kept together, which led to both occupying the first row of the canvas. Then `p3` and `p4` were slotted into the second row. "
   ]
  },
  {
   "cell_type": "markdown",
   "id": "cb17ae7d",
   "metadata": {},
   "source": [
    "## Annotations \n",
    "Annotations become helpful because you can add omnibus titles and tags for individual plots. For example, you can generate a common title, subtitle, caption, etc as shown below). "
   ]
  },
  {
   "cell_type": "code",
   "execution_count": null,
   "id": "0f7f52a0",
   "metadata": {
    "name": "patch06"
   },
   "outputs": [],
   "source": [
    "(p1 + p2) / (p3 + p4) +\n",
    "  plot_annotation(\n",
    "  title = 'The surprising truth about diamonds',\n",
    "  subtitle = 'These plots will reveal untold secrets about one of our beloved data-sets',\n",
    "  caption = 'Disclaimer: None of these plots are insightful',\n",
    "  tag_levels = c('a', '1'),\n",
    "  tag_prefix = 'Fig. ',\n",
    "  tag_sep = '.',\n",
    "  tag_suffix = ':'\n",
    "  ) &\n",
    "  theme(\n",
    "    plot.tag.position = c(0, 1),\n",
    "    plot.tag = element_text(size = 9, hjust = 0, vjust = 0, color = \"steelblue\")\n",
    "    )"
   ]
  },
  {
   "cell_type": "markdown",
   "id": "f045c30c",
   "metadata": {},
   "source": [
    "## Spacing and Sizing\n",
    "We can also tweak the sizes of individual rows and columns, control the space between plots, and so on. First up, spacing the plots with `plot_spacer()` "
   ]
  },
  {
   "cell_type": "code",
   "execution_count": null,
   "id": "732c03a1",
   "metadata": {
    "lines_to_next_cell": 2,
    "name": "patch07"
   },
   "outputs": [],
   "source": [
    "options(repr.plot.width = 16, repr.plot.height = 8)\n",
    "\n",
    "(p1 + plot_spacer() + p2 + plot_spacer() + p3)"
   ]
  },
  {
   "cell_type": "markdown",
   "id": "37a62b26",
   "metadata": {},
   "source": [
    "Sizing the plots with relative sizes?"
   ]
  },
  {
   "cell_type": "code",
   "execution_count": null,
   "id": "823ab221",
   "metadata": {
    "name": "patch08"
   },
   "outputs": [],
   "source": [
    "options(repr.plot.width = 16, repr.plot.height = 16)\n",
    "\n",
    "p1 + p2 + p3 + p4 + \n",
    "  plot_layout(widths = c(2, 1))"
   ]
  },
  {
   "cell_type": "markdown",
   "id": "0ec6c53e",
   "metadata": {},
   "source": [
    "Alternatively, we could specify size with unit vectors, as shown below. "
   ]
  },
  {
   "cell_type": "code",
   "execution_count": null,
   "id": "350af367",
   "metadata": {
    "name": "patch09"
   },
   "outputs": [],
   "source": [
    "p1 + p2 + p3 + p4 + \n",
    "  plot_layout(\n",
    "    widths = c(2, 1),\n",
    "    heights = unit(c(5, 1), c('cm', 'null'))\n",
    "    )"
   ]
  },
  {
   "cell_type": "markdown",
   "id": "253008f8",
   "metadata": {},
   "source": [
    "## Moving Beyond the grid\n",
    "\n",
    "We can use a `layout` design to get a little more flexibility but still retain full control over the result. Layout designs can be done in two ways so let us see the easiest route -- as a text setup. \"When using the textual representation it is your responsibility to make sure that each area is rectangular. The only exception is # which denotes empty areas and can thus be of any shape.\""
   ]
  },
  {
   "cell_type": "code",
   "execution_count": null,
   "id": "3d3f2ed1",
   "metadata": {
    "name": "patch10"
   },
   "outputs": [],
   "source": [
    "layout <- \"\n",
    "##BBBB\n",
    "AACCDD\n",
    "##CCDD\n",
    "\"\n",
    "p2 + p3 + p4 + p1 + \n",
    "  plot_layout(design = layout)"
   ]
  },
  {
   "cell_type": "markdown",
   "id": "66da47bd",
   "metadata": {},
   "source": [
    "The other path is using `area()` inside `layout`, as shown below. "
   ]
  },
  {
   "cell_type": "code",
   "execution_count": null,
   "id": "5d258f1b",
   "metadata": {
    "name": "patch11"
   },
   "outputs": [],
   "source": [
    "layout <- c(\n",
    "  area(t = 2, l = 1, b = 5, r = 4),\n",
    "  area(t = 1, l = 3, b = 3, r = 5)\n",
    "  )\n",
    "\n",
    "p3 + p4 + \n",
    "  plot_layout(design = layout)"
   ]
  },
  {
   "cell_type": "markdown",
   "id": "35e905e1",
   "metadata": {},
   "source": [
    "Watch the specification here with `wrap_plots()`"
   ]
  },
  {
   "cell_type": "code",
   "execution_count": null,
   "id": "b4f98eff",
   "metadata": {
    "name": "patch12"
   },
   "outputs": [],
   "source": [
    "layout <- '\n",
    "A##\n",
    "#B#\n",
    "##C\n",
    "'\n",
    "wrap_plots(A = p1, B = p2, C = p3, design = layout)"
   ]
  },
  {
   "cell_type": "markdown",
   "id": "69e48b84",
   "metadata": {},
   "source": [
    "## Fixed-aspect plots \n",
    "\n",
    "There are some plots that use fixed coordinates and these should not be disturbed. Here is an example where the map has fixed coordinates specified via `coord_fixed(1.3)` "
   ]
  },
  {
   "cell_type": "code",
   "execution_count": null,
   "id": "b14a80bc",
   "metadata": {
    "name": "urbnmapr"
   },
   "outputs": [],
   "source": [
    "library(urbnmapr)\n",
    "\n",
    "ggplot() +\n",
    "  geom_polygon(\n",
    "    data = states, \n",
    "    aes(x = long, y = lat, group = group, fill = state_abbv)\n",
    "    ) +\n",
    "  coord_fixed(1.3) +\n",
    "  ggthemes::theme_map() + \n",
    "  theme(legend.position = \"none\") +\n",
    "  labs(title = \"Fixed!!\") -> mymap\n",
    "\n",
    "mymap + p1 + p2 + p3"
   ]
  },
  {
   "cell_type": "markdown",
   "id": "738b2a23",
   "metadata": {},
   "source": [
    "# Mapping \n",
    "Maps are very powerful visualizations because they allow you to highlight and reflect patterns, clusters, with relative ease. For example, is poverty really higher in Appalachian counties? What about the percent of the population without health insurance? Literacy? Opioid deaths; do they follow transportation routes? What about COVID-19 cases? Maps to the rescue!\n",
    "\n",
    "Building a map requires a few elements. First and foremost, you need some data to show on a map. Second, you need to have the geographic coordinates needed to build a map, basically the latitude and longitude of the geographies (states, cities, school districts, etc.) that you want to map. Third, you want a column that contains the names of the geographies you want to map, and these should be properly formatted (i.e., in titlecase) for displaying on the map. \n",
    "\n",
    "Let us start by building a simple state map with the `{urbnmapr}` package. It comes with the necessary data for states and counties, respectively, and works well with `{ggplot2}`. Note the reliance on `geom_polygon()` now. "
   ]
  },
  {
   "cell_type": "markdown",
   "id": "7f9bd1eb-3d1c-4aae-8944-92c77f43c6f6",
   "metadata": {},
   "source": [
    "If you get an error message about `urbnmapr` not found, go ahead and install it ONCE via `devtools::install_github(\"UrbanInstitute/urbnmapr\")`"
   ]
  },
  {
   "cell_type": "code",
   "execution_count": null,
   "id": "2dccf5b7-2e37-468f-82b3-f8c0abcb334c",
   "metadata": {
    "name": "map1"
   },
   "outputs": [],
   "source": [
    "library(urbnmapr)"
   ]
  },
  {
   "cell_type": "code",
   "execution_count": null,
   "id": "44fcddfd-25f6-4420-82e1-05df697412ee",
   "metadata": {
    "name": "map1"
   },
   "outputs": [],
   "source": [
    "head(states)"
   ]
  },
  {
   "cell_type": "code",
   "execution_count": null,
   "id": "215f05b5-8cd7-48f7-a18f-6d9b794486f6",
   "metadata": {
    "name": "map1"
   },
   "outputs": [],
   "source": [
    "head(counties)"
   ]
  },
  {
   "cell_type": "code",
   "execution_count": null,
   "id": "044c50e4-abb8-4718-bb34-0cf0beeca10a",
   "metadata": {
    "name": "map1"
   },
   "outputs": [],
   "source": [
    "ggplot() +\n",
    "  geom_polygon(\n",
    "      data = states, \n",
    "      aes(\n",
    "          x = long, \n",
    "          y = lat, \n",
    "          group = group),\n",
    "      fill = \"white\", \n",
    "      color = \"steelblue\"\n",
    "  ) +\n",
    "  coord_fixed(1.3) "
   ]
  },
  {
   "cell_type": "markdown",
   "id": "d6ff4cf3-05fb-470d-8372-e569814422a0",
   "metadata": {},
   "source": [
    "Note the use of `geom_polygon()` and that longitude goes on the x-axis and latitude on the y-axis. I also specified the fill color and the border (via `color = \"\"`)"
   ]
  },
  {
   "cell_type": "markdown",
   "id": "b9d07b3a",
   "metadata": {},
   "source": [
    "Note that this is just an empty map with the shapes of the states, and also that Alaska and Hawaii have been moved so that they can be displayed on the map. \n",
    "\n",
    "We could build a much better map by removing the x and y axis labels and tick marks, and setting a white background using `theme_map()` from the `{ggthemes}` package. We could also fill with some colors, say on the basis of the `state_name`."
   ]
  },
  {
   "cell_type": "markdown",
   "id": "c6de4237-3994-416c-bf9a-82bdf27ee4bd",
   "metadata": {},
   "source": [
    "Again, if you get an error with `ggthemes`, go ahead and install it ONCE via `install.packages(\"ggthemes\")`"
   ]
  },
  {
   "cell_type": "code",
   "execution_count": null,
   "id": "e13e8943",
   "metadata": {
    "name": "map02"
   },
   "outputs": [],
   "source": [
    "ggplot() +\n",
    "  geom_polygon(\n",
    "      data = states, \n",
    "      aes(\n",
    "          x = long, \n",
    "          y = lat, \n",
    "          group = group, \n",
    "          fill = state_name),\n",
    "      color = \"white\"\n",
    "      ) +\n",
    "  coord_fixed(1.3) +\n",
    "  ggthemes::theme_map() +\n",
    "  theme(legend.position = \"none\")"
   ]
  },
  {
   "cell_type": "markdown",
   "id": "33dcadfc-a878-4c6a-bab7-b639ea9d6a71",
   "metadata": {},
   "source": [
    "Note the legend has been hidden here since the legend with 50 states would take up all the space on the plotting canvas! "
   ]
  },
  {
   "cell_type": "markdown",
   "id": "a01c4ea8",
   "metadata": {},
   "source": [
    "More importantly, this is not a very useful map because it would be much better to color the map on the basis of some substantive variable such as population density, income, crime rates, health insurance coverage rates, vaccination rates, population size, and so on. But we need data for each state to fold this information in. \n",
    "\n",
    "Let us see what information lurks in the `statedata` file. "
   ]
  },
  {
   "cell_type": "code",
   "execution_count": null,
   "id": "55f99e5c",
   "metadata": {
    "name": "map03"
   },
   "outputs": [],
   "source": [
    "head(statedata)"
   ]
  },
  {
   "cell_type": "markdown",
   "id": "077b7c24",
   "metadata": {},
   "source": [
    "Okay, two things stand out -- `horate` (the homeownership rate), and `medhhincome` (the median household income). Let us fill with median household income but to do so, we will need to join `statedata` to our `states` file. Why? Because we need coordinates to map anything and `statedata` does not contain coordinates. "
   ]
  },
  {
   "cell_type": "code",
   "execution_count": null,
   "id": "dab9c741-554a-4dfb-9244-c6820e904bbb",
   "metadata": {
    "name": "map04"
   },
   "outputs": [],
   "source": [
    "states %>%\n",
    "  left_join(\n",
    "      statedata, \n",
    "      by = c(\"state_fips\", \"state_name\")\n",
    "  ) -> state.df"
   ]
  },
  {
   "cell_type": "code",
   "execution_count": null,
   "id": "a6528ec3-aaff-4686-a80b-f0312a9d2c39",
   "metadata": {
    "name": "map04"
   },
   "outputs": [],
   "source": [
    "head(state.df)"
   ]
  },
  {
   "cell_type": "markdown",
   "id": "0afd1f16-cbbb-4304-be22-778c123cb9c1",
   "metadata": {},
   "source": [
    "Now we can build the map with `state.df` and specify `fill = medhhincome` inside the `aes(...)` command. "
   ]
  },
  {
   "cell_type": "code",
   "execution_count": null,
   "id": "53ae1d4a",
   "metadata": {
    "name": "map05"
   },
   "outputs": [],
   "source": [
    "options(repr.plot.width = 24, repr.plot.height = 16)\n",
    "\n",
    "ggplot() +\n",
    "  geom_polygon(\n",
    "      data = state.df, \n",
    "      aes(\n",
    "          x = long, \n",
    "          y = lat, \n",
    "          group = group, \n",
    "          fill = medhhincome\n",
    "          ),\n",
    "          color = \"white\"\n",
    "  ) +\n",
    "  coord_fixed(1.3) +\n",
    "  ggthemes::theme_map() +\n",
    "  labs(\n",
    "    title = \"Median Household Income in the States (2015)\",\n",
    "    fill = \"Median Household Income\"\n",
    "        ) +\n",
    "  scale_fill_viridis_c(option = \"magma\") +\n",
    "  theme(\n",
    "      legend.position = \"bottom\",\n",
    "      legend.text = element_text(size = 14),\n",
    "      legend.key.width = unit(5, 'cm'),\n",
    "      title = element_text(size = 20, face = \"bold\")\n",
    "  ) "
   ]
  },
  {
   "cell_type": "markdown",
   "id": "01120bd6-a41c-4ac8-8ee9-7428e022c862",
   "metadata": {},
   "source": [
    "Notice the fill color and the corresponding legend rely upon values of `medhhincome`, allowing a reader to get some feel for how the low versus high median household income states cluster spatially. In this case, Maryland appears to have the highest median household income, and thn some of the New England states. West Virginia, Mississippi, and Arkansas bring up the rear. "
   ]
  },
  {
   "cell_type": "markdown",
   "id": "9156209c",
   "metadata": {},
   "source": [
    "What about working with counties instead of states? Sure, let us merge `countydata` with the `counties` file and then draw the map. "
   ]
  },
  {
   "cell_type": "code",
   "execution_count": null,
   "id": "8ae21273-f74c-4935-a988-8213357bfd4a",
   "metadata": {
    "name": "map06"
   },
   "outputs": [],
   "source": [
    "counties %>%\n",
    "  left_join(\n",
    "      countydata, \n",
    "      by = c(\"county_fips\")\n",
    "  ) -> county.df"
   ]
  },
  {
   "cell_type": "code",
   "execution_count": null,
   "id": "fa5a7243-13be-44d7-b9b4-78da71921818",
   "metadata": {
    "name": "map06"
   },
   "outputs": [],
   "source": [
    "ggplot() +\n",
    "  geom_polygon(data = county.df, \n",
    "               aes(x = long, y = lat, group = group, fill = medhhincome),\n",
    "               color = \"white\", size = 0.05) +\n",
    "  coord_fixed(1.3) +\n",
    "  ggthemes::theme_map() +\n",
    "  theme(\n",
    "      legend.position = \"bottom\",\n",
    "      legend.text = element_text(size = 14),\n",
    "      legend.key.width = unit(5, 'cm'),\n",
    "      title = element_text(size = 20, face = \"bold\")\n",
    "  ) +\n",
    "  labs(\n",
    "    title = \"Median Household Income in the Counties (2015)\",\n",
    "    fill = \"Median Household Income\"\n",
    "        ) +\n",
    "  scale_fill_viridis_c(option = \"magma\")"
   ]
  },
  {
   "cell_type": "markdown",
   "id": "6e253917",
   "metadata": {},
   "source": [
    "Maybe you are only interested in Florida?"
   ]
  },
  {
   "cell_type": "code",
   "execution_count": null,
   "id": "adb6388f",
   "metadata": {
    "name": "map07"
   },
   "outputs": [],
   "source": [
    "county.df %>%\n",
    "  filter(state_abbv == \"FL\") %>%\n",
    "  ggplot() +\n",
    "  geom_polygon(\n",
    "               aes(x = long, y = lat, group = group,\n",
    "                   fill = medhhincome),\n",
    "               color = \"white\", size = 0.05\n",
    "               ) +\n",
    "  coord_fixed(1.3) +\n",
    "  ggthemes::theme_map() +\n",
    "  theme(\n",
    "      legend.position = \"bottom\",\n",
    "      legend.text = element_text(size = 14),\n",
    "      legend.key.width = unit(5, 'cm'),\n",
    "      title = element_text(size = 20, face = \"bold\")\n",
    "  ) +\n",
    "  labs(\n",
    "    title = \"Median Household Income in Floria Counties (2015)\",\n",
    "    fill = \"Median Household Income\"\n",
    "        ) +\n",
    "  scale_fill_viridis_c(option = \"plasma\")"
   ]
  },
  {
   "cell_type": "markdown",
   "id": "34b16182",
   "metadata": {},
   "source": [
    "Hmm, so far so good but what if the data were for some geography not bundled with `{urbnmapr}`, school districts or places, for example? Not a problem, we just have to go the extra mile. First we would have to find, download, and upload the `shapefile`. Say I am looking for places (loosely described as municipalities) in New Hampshire. Well, the `{tigris}` package comes in handy because it allows you to get whatever geography's shapefiles you want. Below I am getting the shapefile for New Hampshire. "
   ]
  },
  {
   "cell_type": "markdown",
   "id": "26039d8b-c73c-47af-bf6c-4ebbf170cc91",
   "metadata": {},
   "source": [
    "Again, if you get an error with tigris, install it ONCE via `install.packages(\"tigris\")`"
   ]
  },
  {
   "cell_type": "code",
   "execution_count": null,
   "id": "33d4e1a8-05df-4e73-b94c-2ee65ec68e3a",
   "metadata": {
    "name": "places"
   },
   "outputs": [],
   "source": [
    "library(tigris)\n",
    "options(tigris_use_cache = TRUE)\n",
    "\n",
    "places(\n",
    "  state = \"NH\", cb = TRUE, year = 2018, progress_bar = FALSE\n",
    "  ) -> places.nh"
   ]
  },
  {
   "cell_type": "markdown",
   "id": "2fa8e3a8-14f8-472f-a294-152db6e76b98",
   "metadata": {},
   "source": [
    "Here, we asked for all places in New Hampsire via `places(state = \"NH\", ...)` and asked for the map boundaries to be those on file for 2018. Boundary files are updated every year or two, depending upon changes and state reporting. "
   ]
  },
  {
   "cell_type": "code",
   "execution_count": null,
   "id": "84db1fca-1224-4e84-959b-fe43d45cdacd",
   "metadata": {
    "name": "places"
   },
   "outputs": [],
   "source": [
    "places.nh %>%\n",
    "    head()"
   ]
  },
  {
   "cell_type": "markdown",
   "id": "a774e7fa-8129-4e22-ba8b-7874b8cebb7a",
   "metadata": {},
   "source": [
    "What you have is a shapefile ... a document that gives you the coordinates stored in `POLYGON(...)` and other information such as the unique FIPS codes, the placename, land area, water area, and so on. "
   ]
  },
  {
   "cell_type": "markdown",
   "id": "2f23b58b",
   "metadata": {},
   "source": [
    "Okay, so now that I have the shapefile, how can I use it? \n",
    "\n",
    "I need to `fortify` it so that it looks like a regular dataframe rather than the native SpatialPolygonsDataFrame format it comes in. When I go to make the map I am going to add the state shapefile too since otherwise the state's boundary will not show up. "
   ]
  },
  {
   "cell_type": "code",
   "execution_count": null,
   "id": "3f2ec8be-03a4-400e-8677-143ba1021bfc",
   "metadata": {
    "name": "nh01"
   },
   "outputs": [],
   "source": [
    "places.nh %>%\n",
    "  fortify(region = \"GEOID\") -> nh.df\n",
    "\n",
    "names(nh.df)"
   ]
  },
  {
   "cell_type": "code",
   "execution_count": null,
   "id": "59945e52-bc02-4a4b-b1df-ea2f3bfb2891",
   "metadata": {
    "name": "nh01"
   },
   "outputs": [],
   "source": [
    "nh.df %>%\n",
    "    head()"
   ]
  },
  {
   "cell_type": "markdown",
   "id": "f614a140-01e1-4be0-b89e-6977425bf49f",
   "metadata": {},
   "source": [
    "In the map, instead of `filter(...)` I am using another command to only keep boundaries for places in New Hampshire. This is being done via `data = subset(state.df, state_name == \"New Hampshire\")`"
   ]
  },
  {
   "cell_type": "code",
   "execution_count": null,
   "id": "3215151d-14a2-4f6a-b8dd-14a6368f1b00",
   "metadata": {
    "name": "nh01"
   },
   "outputs": [],
   "source": [
    "ggplot() +\n",
    "    geom_polygon(\n",
    "        data = subset(state.df, state_name == \"New Hampshire\"),\n",
    "        aes(x = long, y = lat, group = group),\n",
    "        fill = \"white\", color = \"black\"\n",
    "        ) + \n",
    "    geom_sf(\n",
    "        data = nh.df,\n",
    "        aes(fill = GEOID)\n",
    "        ) +\n",
    "  ggthemes::theme_map() +\n",
    "  theme(legend.position = \"none\")"
   ]
  },
  {
   "cell_type": "markdown",
   "id": "95ee7f70",
   "metadata": {},
   "source": [
    "Of course, the `fill` is superficial here. But say we had some data for places in New Hampshire, maybe the size of the population, as in `nh.data.RData`. Now we could join `nh.data` with `nh.df` to create `nh` and then map. Note the join keys ... `GEOID` in each file. "
   ]
  },
  {
   "cell_type": "code",
   "execution_count": null,
   "id": "cf431b3d-0653-48ab-902f-c09408e7cd46",
   "metadata": {
    "name": "nh02"
   },
   "outputs": [],
   "source": [
    "load(\"data/nh.data.RData\")\n",
    "\n",
    "head(nh.data)"
   ]
  },
  {
   "cell_type": "code",
   "execution_count": null,
   "id": "4d4b5776-b16a-48d3-9bbf-02bf6c22ebcc",
   "metadata": {
    "name": "nh02"
   },
   "outputs": [],
   "source": [
    "nh.df %>%\n",
    "  left_join(\n",
    "      nh.data, \n",
    "      by = c(\"GEOID\" = \"GEOID\")\n",
    "  ) -> nh"
   ]
  },
  {
   "cell_type": "code",
   "execution_count": null,
   "id": "a2e1e533-f726-4bef-aaf9-b6b1616f1606",
   "metadata": {
    "name": "nh02"
   },
   "outputs": [],
   "source": [
    "head(nh)"
   ]
  },
  {
   "cell_type": "markdown",
   "id": "70a63bad",
   "metadata": {},
   "source": [
    "Now we plot:"
   ]
  },
  {
   "cell_type": "code",
   "execution_count": null,
   "id": "0b0d6d1c",
   "metadata": {
    "name": "nh03"
   },
   "outputs": [],
   "source": [
    "ggplot() +\n",
    "  geom_polygon(\n",
    "    data = subset(\n",
    "        state.df, \n",
    "        state_name == \"New Hampshire\"\n",
    "    ),\n",
    "    aes(\n",
    "        x = long, \n",
    "        y = lat, \n",
    "        group = group\n",
    "    ),\n",
    "      fill = \"white\", \n",
    "      color = \"black\"\n",
    "    ) +\n",
    "  geom_sf(\n",
    "    data = nh,\n",
    "    aes(fill = population)\n",
    "    ) +\n",
    "  coord_sf() +\n",
    "  scale_fill_viridis_c(option = \"viridis\") + \n",
    "  ggthemes::theme_map() +\n",
    "  theme(\n",
    "      legend.position = \"bottom\",\n",
    "      legend.text = element_text(size = 14),\n",
    "      legend.key.width = unit(5, 'cm'),\n",
    "      title = element_text(size = 20, face = \"bold\")  \n",
    "  ) +\n",
    "  labs(\n",
    "    fill = \"Population Size\",\n",
    "    title = \"Population Distribution in New Hampshire's Places\",\n",
    "    subtitle = \"(American Community Survey, 2014-2018)\"\n",
    "       )"
   ]
  },
  {
   "cell_type": "markdown",
   "id": "f52df913",
   "metadata": {},
   "source": [
    "You could have also filled by creating quartiles, etc., using `{Santoku}`, so do not forget that option. \n",
    "\n",
    "Before we move on, one more map, to show you the possibilities. Here, I am \n",
    "plotting the locations of the parking tickets issued in Philadelphia, this time with the `{leaflet}` package. First the tickets data-set, reduced to a random sample of 20% of the tickets issued in the month of December in 2017 (to keep the data size manageable). I have also created a `popup` that will display specific information if someone clicks on a point in the map.   \n",
    "\n",
    "Again, install any missing packages you are alerted about but remember that you need to do this ONCE, not every time you need to use the package."
   ]
  },
  {
   "cell_type": "code",
   "execution_count": null,
   "id": "46bdd3a2-5007-4663-88a8-5b9989c5db22",
   "metadata": {
    "name": "philly"
   },
   "outputs": [],
   "source": [
    "readr::read_csv(\n",
    "    \"https://raw.githubusercontent.com/rfordatascience/tidytuesday/master/data/2019/2019-12-03/tickets.csv\"\n",
    "    ) %>%\n",
    "  mutate(\n",
    "    year = lubridate::year(issue_datetime),\n",
    "    month = lubridate::month(issue_datetime)\n",
    "         ) %>%\n",
    "  filter(month == 12, lon > -75.5) %>%\n",
    "  sample_frac(0.2) -> tickets"
   ]
  },
  {
   "cell_type": "code",
   "execution_count": null,
   "id": "1798a8a7-8a84-4202-bc12-58225988695f",
   "metadata": {
    "name": "philly"
   },
   "outputs": [],
   "source": [
    "tickets %>%\n",
    "  unite(\n",
    "      display, \n",
    "      c(issuing_agency, issue_datetime, fine),\n",
    "      sep = \"; \", \n",
    "      remove = FALSE\n",
    "  ) -> tickets"
   ]
  },
  {
   "cell_type": "code",
   "execution_count": null,
   "id": "e8c608ce-63a1-471a-a9e2-5609bdfa30cf",
   "metadata": {
    "name": "philly"
   },
   "outputs": [],
   "source": [
    "library(leaflet)\n",
    "library(htmltools)\n",
    "library(widgetframe)"
   ]
  },
  {
   "cell_type": "code",
   "execution_count": null,
   "id": "b388f623-5285-4c93-b415-131c800802ff",
   "metadata": {
    "name": "philly"
   },
   "outputs": [],
   "source": [
    "leaflet(tickets) %>%\n",
    "  addTiles() %>%\n",
    "  addCircles(\n",
    "      lng = ~ lon, \n",
    "      lat = ~ lat, \n",
    "      popup = ~htmlEscape(display),\n",
    "      color = \"steelblue\", \n",
    "      opacity = 0.10\n",
    "  ) "
   ]
  },
  {
   "cell_type": "markdown",
   "id": "6ed6ed69",
   "metadata": {},
   "source": [
    "Voila! A few lines of code and we have an interactive map that can be used to display whatever evidence we want to display. Note that you need geographic coordinates since without them the data cannot be attached to a physical location.  \n",
    "\n",
    "Let us see another twist on this. Say I am trying to map the total number of COVID-19 cases in Ohio. I know the county and I know the number of cases that occurred, as well as the latitude and longitude of each county. Well, I can build a similar plot except making the size of the circle conditional upon the number of cases. The more the cases, the larger the radius of the circle. "
   ]
  },
  {
   "cell_type": "code",
   "execution_count": null,
   "id": "86d2d598-6f95-45dd-bcfa-a4a4f9b4b433",
   "metadata": {
    "name": "cov19a"
   },
   "outputs": [],
   "source": [
    "readr::read_csv(\n",
    "    \"https://raw.githubusercontent.com/nytimes/covid-19-data/master/us-counties.csv\"\n",
    "    ) -> covid "
   ]
  },
  {
   "cell_type": "code",
   "execution_count": null,
   "id": "b237aad9-5a25-4090-a35d-cb5b0e103283",
   "metadata": {
    "name": "cov19a"
   },
   "outputs": [],
   "source": [
    "covid %>%\n",
    "  filter(\n",
    "      state == \"Ohio\", date == \"2020-04-17\"\n",
    "  ) -> cov19"
   ]
  },
  {
   "cell_type": "markdown",
   "id": "7fbd0343",
   "metadata": {},
   "source": [
    "But there are no coordinates in `cov19`. Well, I can get those from the `{housingData}` package, and then merge that with `cov19`. "
   ]
  },
  {
   "cell_type": "code",
   "execution_count": null,
   "id": "c1da37e1-1b88-4d7a-b245-fd68bd4d756d",
   "metadata": {
    "name": "cov19b"
   },
   "outputs": [],
   "source": [
    "library(housingData)\n",
    "\n",
    "geoCounty %>%\n",
    "  filter(state == \"OH\") %>%\n",
    "  separate(\n",
    "      county,\n",
    "      into = c(\"countyname\", \"extra\"),\n",
    "      sep = \" County\",\n",
    "      remove = TRUE\n",
    "  ) %>%\n",
    "  mutate(\n",
    "      countyname = stringr::str_to_sentence(countyname)\n",
    "  ) -> oh"
   ]
  },
  {
   "cell_type": "code",
   "execution_count": null,
   "id": "21a90ef7-f9db-460a-b14b-94b24bcab11a",
   "metadata": {
    "name": "cov19b"
   },
   "outputs": [],
   "source": [
    "oh %>%\n",
    "  left_join(\n",
    "      cov19, \n",
    "      by = c(\"countyname\" = \"county\")\n",
    "  ) -> ohcov19\n",
    "\n",
    "head(ohcov19)"
   ]
  },
  {
   "cell_type": "markdown",
   "id": "0f59c7d3-91fb-446d-b002-f7acf3972d9c",
   "metadata": {},
   "source": [
    "Now I want to create a new column that shows the county name and the number of cases. "
   ]
  },
  {
   "cell_type": "code",
   "execution_count": null,
   "id": "68b4534d-7dcd-4bcb-9af4-5e115713b753",
   "metadata": {
    "name": "cov19b"
   },
   "outputs": [],
   "source": [
    "ohcov19 %>%\n",
    "  unite(\n",
    "      display, \n",
    "      c(countyname, cases), \n",
    "      sep = \": \",\n",
    "      remove = FALSE\n",
    "  ) -> ohcov19\n",
    "\n",
    "head(ohcov19)"
   ]
  },
  {
   "cell_type": "markdown",
   "id": "04da06a9",
   "metadata": {},
   "source": [
    "Okay, now we have everything we need to build the map. "
   ]
  },
  {
   "cell_type": "code",
   "execution_count": null,
   "id": "c0428563",
   "metadata": {
    "lines_to_next_cell": 2,
    "name": "ohcov19c"
   },
   "outputs": [],
   "source": [
    "leaflet(ohcov19) %>%\n",
    "  addTiles() %>%\n",
    "  addCircleMarkers(\n",
    "    lng = ~ lon, \n",
    "    lat = ~ lat, \n",
    "    popup = ~htmlEscape(display),\n",
    "    color = \"salmon\", \n",
    "    opacity = 0.10, \n",
    "    radius = ~sqrt(cases)\n",
    "    ) "
   ]
  },
  {
   "cell_type": "markdown",
   "id": "145148a7-1e10-4022-9535-135d7be2ea34",
   "metadata": {},
   "source": [
    "Note that the radius of the circles is being driven by the square-root of the number of cases (a convenient transformation that makes the size managable). If we relied on the cases themselves, with no square-root, we would get this, useless map because the large number of cases would overwhelm everything else, coloring everything shades of red."
   ]
  },
  {
   "cell_type": "code",
   "execution_count": null,
   "id": "f85d7ebf-1350-40bf-a58e-505138772239",
   "metadata": {},
   "outputs": [],
   "source": [
    "leaflet(ohcov19) %>%\n",
    "  addTiles() %>%\n",
    "  addCircleMarkers(\n",
    "      lng = ~ lon, \n",
    "      lat = ~ lat, \n",
    "      popup = ~htmlEscape(display),\n",
    "      color = \"salmon\", \n",
    "      opacity = 0.10, \n",
    "      radius = ~cases\n",
    "    ) "
   ]
  },
  {
   "cell_type": "markdown",
   "id": "1ab410d1",
   "metadata": {},
   "source": [
    "# Interactive Graphics with Plotly and Highcharter\n",
    "\n",
    "Interactive graphics are useful in situations where you would like the user/viewer to see the data values or other details by hovering over or clicking on the graphic. Say, for example, I have a scatterplot and want to make it interactive. How can I do that? \n",
    "\n",
    "One crude and fast way to do that is by saving my `ggplot2` object and then using `{plotly}` to add a `ggplotly()` wrapper around the plot. \n",
    "\n",
    "In the example below I am saving the plot as `pl01`, then wrapping it in `ggplotly` with `ggplotly(pl01) -> lst`. \n",
    "\n",
    "Note too that the `lst <- list()` and `htmltools::tagList(lst)` commands will show up for the interactive plots, and they need to. Otherwise the plot may not render correctly in the notebook."
   ]
  },
  {
   "cell_type": "code",
   "execution_count": null,
   "id": "660596a0",
   "metadata": {
    "name": "plotly01"
   },
   "outputs": [],
   "source": [
    "library(plotly)\n",
    "\n",
    "ggplot() +\n",
    "  geom_point(\n",
    "    data = mpg,\n",
    "    mapping = aes(\n",
    "        x = cty, \n",
    "        y = hwy, \n",
    "        color = trans)\n",
    "    ) +\n",
    "  labs(\n",
    "      x = \"City Mileage\",\n",
    "      y = \"Highway Mileage\",\n",
    "      color = \"Transmission\"\n",
    "  ) -> pl01\n",
    "\n",
    "lst <- list()\n",
    "\n",
    "ggplotly(pl01) -> lst\n",
    "\n",
    "htmltools::tagList(lst)"
   ]
  },
  {
   "cell_type": "markdown",
   "id": "5d9f6ba8",
   "metadata": {},
   "source": [
    "These plots are useful when presenting data to a live audience (in a talk, or on the web). \n",
    "\n",
    "Rather than use `plotly`, I prefer `{highcharter}` since it does a lot of things well with minimal fuss, and yet the resulting plots are aesthetically pleasing. \n",
    "\n",
    "Let us stay with the COVID-19 example. Say I want a bar-chart of the total number of cases by state and want to do this via `highcharter`. "
   ]
  },
  {
   "cell_type": "code",
   "execution_count": null,
   "id": "c8d3e703-7cd6-45c3-96b3-bf796ca6e23a",
   "metadata": {
    "name": "high01"
   },
   "outputs": [],
   "source": [
    "library(highcharter)\n",
    "\n",
    "covid %>%\n",
    "  filter(\n",
    "      date == \"2020-04-17\"\n",
    "  ) %>%\n",
    "  rename(\n",
    "      State = state, \n",
    "      `Total Cases` = cases\n",
    "  ) -> tab1"
   ]
  },
  {
   "cell_type": "code",
   "execution_count": null,
   "id": "a38b714c-c5f4-43f2-8d88-f80935959ac1",
   "metadata": {
    "name": "high01"
   },
   "outputs": [],
   "source": [
    "lst <- list()\n",
    "\n",
    "hchart(\n",
    "    tab1, \n",
    "    \"bar\", \n",
    "    hcaes(\n",
    "        x = State, \n",
    "        y = `Total Cases`\n",
    "        )\n",
    "    ) -> lst \n",
    "\n",
    "htmltools::tagList(lst)"
   ]
  },
  {
   "cell_type": "markdown",
   "id": "89138bd5",
   "metadata": {},
   "source": [
    "Notice the key elements here: The basic function call is `hchart()` and we are specifying that we want a bar-chart, and we are also providing the quantities that should go on the x and y axis, respectively. Note that x actually ends up as the y when you specify a \"bar\" chart. \n",
    "\n",
    "What if I wanted a line-chart, maybe of the number of cases over time? And I wanted this just for a few states? We could do that too, as shown below. Note that I am creating `tab2`, a frequency table of the number of cases by state and date, and then converting total_cases into a logarithmic form (saved as `log_cases`) so that we can compare the rate of change from one date to the next on a common scale.  "
   ]
  },
  {
   "cell_type": "code",
   "execution_count": null,
   "id": "f148e439-8c85-4271-a65d-abe3967166e9",
   "metadata": {
    "name": "high02"
   },
   "outputs": [],
   "source": [
    "covid %>%\n",
    "  filter(\n",
    "      state %in% c(\"Ohio\", \"Florida\", \"California\", \"New Jersey\", \"Ohio\", \"New York\"),\n",
    "      date >= \"2020-03-01\"\n",
    "  ) %>%\n",
    "  group_by(state, date) %>%\n",
    "  mutate(\n",
    "      log_cases = log(sum(cases))\n",
    "  ) %>%\n",
    "    ungroup() -> tab2"
   ]
  },
  {
   "cell_type": "code",
   "execution_count": null,
   "id": "3fa3ac8c-51bd-4276-a8ed-65e466a836f4",
   "metadata": {},
   "outputs": [],
   "source": [
    "head(tab2)"
   ]
  },
  {
   "cell_type": "markdown",
   "id": "50db66a8-20a9-460a-be84-7c4848d8e0f2",
   "metadata": {},
   "source": [
    "There are duplicate rows per state per date because the counties remain. I will run `distinct()` to get rid of them."
   ]
  },
  {
   "cell_type": "code",
   "execution_count": null,
   "id": "b1ed2cdd-beee-44b7-889e-64657852081a",
   "metadata": {},
   "outputs": [],
   "source": [
    "tab2 %>%\n",
    "    select(state, date, log_cases) %>%\n",
    "    distinct() -> tab2_nodups"
   ]
  },
  {
   "cell_type": "code",
   "execution_count": null,
   "id": "e1a6368b-8a34-4d5c-a033-6863539aaa7f",
   "metadata": {},
   "outputs": [],
   "source": [
    "head(tab2_nodups)"
   ]
  },
  {
   "cell_type": "code",
   "execution_count": null,
   "id": "f9d211f3-36de-4894-9f94-52ebcfc54e62",
   "metadata": {
    "name": "high02"
   },
   "outputs": [],
   "source": [
    "lst <- list()\n",
    "\n",
    "hchart(\n",
    "    tab2_nodups, \n",
    "    \"line\", \n",
    "    hcaes(\n",
    "        x = date, \n",
    "        y = log_cases, \n",
    "        group = state\n",
    "        )\n",
    "    ) -> lst\n",
    "\n",
    "htmltools::tagList(lst)"
   ]
  },
  {
   "cell_type": "markdown",
   "id": "73c601ff",
   "metadata": {},
   "source": [
    "Now here is a county-level chart that shows the total number of cases as of November 15, 2021. \n",
    "\n",
    "The data are stored in `tab3` created as shown below. Pay attention to this creation because we are not just creating a frequency table but also adding in a specific key we are calling `code` because we will need to join these data to the map data."
   ]
  },
  {
   "cell_type": "code",
   "execution_count": null,
   "id": "8c7bb372-9f94-477e-9545-d55007b0bf5d",
   "metadata": {
    "name": "high03"
   },
   "outputs": [],
   "source": [
    "covid %>%\n",
    "  group_by(county, state, fips) %>%\n",
    "  filter(date == \"2021-11-15\") %>% \n",
    "  unite(\n",
    "      Location, \n",
    "      c(county, state), \n",
    "      sep = \", \", \n",
    "      remove = TRUE\n",
    "  ) -> tab3"
   ]
  },
  {
   "cell_type": "code",
   "execution_count": null,
   "id": "4ce656a5-e678-4d5f-97b6-7b3e8904db1e",
   "metadata": {},
   "outputs": [],
   "source": [
    "head(tab3)"
   ]
  },
  {
   "cell_type": "markdown",
   "id": "e927b773-5ffc-4176-ae76-943aecbe1f2e",
   "metadata": {},
   "source": [
    "The next step will be to take the `counties` data that has the longitude\\latitude, and join it to the tab3 data. But before we can do that we will need to split the `county_fips` variable into two -- `stfips` and `fips`. Why? Because we need to create a key that can be used to join these data to the `highcharter` map data. In `highcharter` there is a variable called `code` that looks like \"us-al-001\" for Autauga county in Alabama, and so on. Such a variable does not exist in the `counties` data-set. "
   ]
  },
  {
   "cell_type": "code",
   "execution_count": null,
   "id": "2a1b6b7e-5a88-49d6-b4cb-91c5bd25c9a3",
   "metadata": {
    "name": "high03"
   },
   "outputs": [],
   "source": [
    "library(urbnmapr)\n",
    "\n",
    "data(counties)\n",
    "\n",
    "head(counties)"
   ]
  },
  {
   "cell_type": "code",
   "execution_count": null,
   "id": "3f92da8c-2ffb-4b2c-8e0f-233219d73824",
   "metadata": {
    "name": "high03"
   },
   "outputs": [],
   "source": [
    "counties %>%\n",
    "  separate(\n",
    "      county_fips, \n",
    "      into = c(\"stfips\", \"fips\"), \n",
    "      sep = 2, \n",
    "      remove = FALSE\n",
    "      ) %>%\n",
    "  mutate(\n",
    "      leader = \"us\", \n",
    "      stlower = stringr::str_to_lower(state_abbv)\n",
    "      ) %>%\n",
    "  unite(\n",
    "      code, \n",
    "      c(leader, stlower, fips), \n",
    "      sep = \"-\"\n",
    "      ) -> cdf"
   ]
  },
  {
   "cell_type": "code",
   "execution_count": null,
   "id": "8365378e-30e5-4ccf-a0e4-e1ec5dfe28e9",
   "metadata": {},
   "outputs": [],
   "source": [
    "head(cdf)"
   ]
  },
  {
   "cell_type": "code",
   "execution_count": null,
   "id": "cece2ad2-bcd0-46bd-8011-e3e72ae6e43a",
   "metadata": {
    "name": "high03"
   },
   "outputs": [],
   "source": [
    "cdf %>%\n",
    "  select(code, county_fips) %>%\n",
    "  distinct() -> cdf2\n",
    "\n",
    "head(cdf2)"
   ]
  },
  {
   "cell_type": "markdown",
   "id": "d82101bb-b5ce-456f-b119-70d5c8cfd1da",
   "metadata": {},
   "source": [
    "Now we can join `cdf2` to `tab3` so that the `code` variable will become common to the resulting data-set and highcharter!"
   ]
  },
  {
   "cell_type": "code",
   "execution_count": null,
   "id": "50401fba-27fd-4ba4-a5f4-1a8cfd9adb64",
   "metadata": {
    "name": "high03"
   },
   "outputs": [],
   "source": [
    "tab3 %>%\n",
    "  left_join(\n",
    "      cdf2, \n",
    "      by = c(\"fips\" = \"county_fips\")\n",
    "  ) -> tab4"
   ]
  },
  {
   "cell_type": "code",
   "execution_count": null,
   "id": "aa74052d-93f0-478f-ba4e-3b24703cb426",
   "metadata": {},
   "outputs": [],
   "source": [
    "head(tab4)"
   ]
  },
  {
   "cell_type": "markdown",
   "id": "6f130ee1",
   "metadata": {},
   "source": [
    "Here comes the map! \n",
    "\n",
    "Note that we are asking forthe `cases` column to be used for the values that will color each county, and we are asking the map file be joined with `hc-key` in the highcharter file and `code` in `tab4`. The county birders will be in steelblue, and there will be 10 values used to create the fill color palette. The legend will be aligned right, and horizontal. "
   ]
  },
  {
   "cell_type": "code",
   "execution_count": null,
   "id": "cdc169b2",
   "metadata": {
    "name": "high04"
   },
   "outputs": [],
   "source": [
    "library(viridis)\n",
    "\n",
    "lst <- list()\n",
    "\n",
    "hcmap(\"countries/us/us-all-all\", \n",
    "      data = tab4,\n",
    "      name = \"COVID-19 Cases\", value = \"cases\",\n",
    "      joinBy = c(\"hc-key\", \"code\"),\n",
    "      borderColor = \"steelblue\") %>%\n",
    "  hc_colorAxis(stops = color_stops(10, rev(magma(10)))) %>% \n",
    "  hc_legend(layout = \"horizontal\", align = \"right\",\n",
    "            floating = TRUE, valueDecimals = 0, valueSuffix = \"\") -> lst\n",
    "\n",
    "htmltools::tagList(lst)"
   ]
  },
  {
   "cell_type": "markdown",
   "id": "0218b346",
   "metadata": {},
   "source": [
    "Note that `countries/us/us-all-all` indicates that we want counties. If we wanted the states instead it would have been `countries/us/us-all`.  "
   ]
  },
  {
   "cell_type": "markdown",
   "id": "eb3307ef",
   "metadata": {},
   "source": [
    "What if we wanted only Ohio? \n",
    "\n",
    "Well, in that case we could subset as shown below. In particular, we are asking that if R sees the string \"oh\" in a variable called `code`, it should keep only these rows, and save these filtered rows of data as `tab5`. "
   ]
  },
  {
   "cell_type": "code",
   "execution_count": null,
   "id": "6f26be23-a31b-4a25-b789-4ff15d77fb40",
   "metadata": {
    "name": "high05"
   },
   "outputs": [],
   "source": [
    "tab4 %>%\n",
    "  filter(\n",
    "      grepl(\"-oh-\", code)\n",
    "  ) -> tab5"
   ]
  },
  {
   "cell_type": "code",
   "execution_count": null,
   "id": "e3cd8562-d277-4d7a-8122-3c735806a338",
   "metadata": {},
   "outputs": [],
   "source": [
    "head(tab5)"
   ]
  },
  {
   "cell_type": "code",
   "execution_count": null,
   "id": "a903c36c-3bdd-4a6e-aaea-6e2805fdf0dd",
   "metadata": {
    "name": "high05"
   },
   "outputs": [],
   "source": [
    "lst <- list()\n",
    "\n",
    "hcmap(\"countries/us/us-oh-all\", \n",
    "      data = tab5,\n",
    "      name = \"COVID-19 Cases\", value = \"cases\",\n",
    "      joinBy = c(\"hc-key\", \"code\"),\n",
    "      borderColor = \"steelblue\") %>%\n",
    "  hc_colorAxis(stops = color_stops(10, rev(magma(10)))) %>% \n",
    "  hc_legend(layout = \"horizontal\", align = \"right\",\n",
    "            floating = TRUE, valueDecimals = 0, valueSuffix = \"\") -> lst\n",
    "\n",
    "htmltools::tagList(lst)"
   ]
  },
  {
   "cell_type": "markdown",
   "id": "a08d852c-20cb-4395-ae69-2e4003df0b97",
   "metadata": {},
   "source": [
    "There you have it! \n",
    "\n",
    "The one downside to these interactive charts is that they are best displayed in html files but in PDF and Word document they lose that interactivity. Hence you see them a lot on blogs and other web-based documents. \n",
    "\n",
    "All of these packages have been growing so it is quite likely that as software development continues even that barrier might be eliminated."
   ]
  },
  {
   "cell_type": "markdown",
   "id": "a537ef42-18dd-442a-8151-a446df5fa948",
   "metadata": {},
   "source": [
    "------------\n",
    "\n",
    "# Exercises for Practice \n",
    "\n",
    "## Exercise 01\n",
    "Create a map of all the counties in New York. Be sure to title the map and to fill in each county with the total number of COVID19 cases they have seen to date. In addition, draw county borders in white. Use `theme_map()` and make sure the legend is at the bottom. [**Hint:** You will need to calculate the total number of cases per county and then join the resulting file with the counties data file to get the latitude/longitudes for the counties.]\n",
    "\n",
    "## Exercise 02 \n",
    "Run the following code chunk to load data on the murder, assault and rape rates per 100,000 persons. `Urbanpop` is the percent of the state population that lives in an urban area. "
   ]
  },
  {
   "cell_type": "code",
   "execution_count": null,
   "id": "32bda966-e381-4e06-b4b7-bf1abdcdacf4",
   "metadata": {},
   "outputs": [],
   "source": [
    "library(tidyverse)\n",
    "\n",
    "data(USArrests)\n",
    "names(USArrests)\n",
    "USArrests$statename <- rownames(USArrests)\n",
    "\n",
    "head(USArrests)"
   ]
  },
  {
   "cell_type": "markdown",
   "id": "d3a0f053-3c81-455e-977f-cd6a4ed1b1af",
   "metadata": {},
   "source": [
    "Now create a state-level map of the 50 states making sure to use `UrbanPop` to fill each state. Title the map and place the legend at the bottom. "
   ]
  },
  {
   "cell_type": "markdown",
   "id": "f035e858-3d68-4080-986e-d5aa347e4712",
   "metadata": {},
   "source": [
    "## Exercise 03\n",
    "\n",
    "Use the `USArrests` data to draw scatterplots of (a) `Murder` versus `UrbanPop`, (b) `Assault` versus `UrbanPop`, and (c) `Rape` versus `UrbanPop`. Save each of these scatterplots by name and then use `patchwork` to create a single canvas that includes all three plots. Make sure you label the x-axis, y-axis, and title each plot. "
   ]
  },
  {
   "cell_type": "markdown",
   "id": "df8e04bb-422f-427b-967b-deeeeb21e17e",
   "metadata": {},
   "source": [
    "## Exercise 04 \n",
    "\n",
    "Now create `highcharter` versions of each of the three scatterplots you created in Exercise (3) above. You should end up with three scatterplots, each on its own canvas. "
   ]
  }
 ],
 "metadata": {
  "jupytext": {
   "cell_metadata_filter": "include,name,tags,-all",
   "main_language": "R",
   "notebook_metadata_filter": "-all"
  },
  "kernelspec": {
   "display_name": "R",
   "language": "R",
   "name": "ir"
  },
  "language_info": {
   "codemirror_mode": "r",
   "file_extension": ".r",
   "mimetype": "text/x-r-source",
   "name": "R",
   "pygments_lexer": "r",
   "version": "4.1.2"
  }
 },
 "nbformat": 4,
 "nbformat_minor": 5
}
