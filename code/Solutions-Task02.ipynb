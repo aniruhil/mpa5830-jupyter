{
 "cells": [
  {
   "cell_type": "markdown",
   "id": "27db45a9-a7f7-40f5-8c10-86215a8b7fa0",
   "metadata": {},
   "source": [
    "# MPA 5830 - Solutions for Task 02\n",
    "\n",
    "Build out this notebook by creating Code cells that include commands to complete the following tasks.\n",
    "\n",
    "(1) Read-in the data available here: https://aniruhil.github.io/avsr/teaching/dataviz/titanic3.xls and save it as `titanic`"
   ]
  },
  {
   "cell_type": "code",
   "execution_count": 1,
   "id": "81927b69-dee2-483b-a937-a7bf128f9804",
   "metadata": {},
   "outputs": [
    {
     "name": "stderr",
     "output_type": "stream",
     "text": [
      "── \u001b[1mAttaching packages\u001b[22m ─────────────────────────────────────── tidyverse 1.3.1 ──\n",
      "\n",
      "\u001b[32m✔\u001b[39m \u001b[34mggplot2\u001b[39m 3.3.5     \u001b[32m✔\u001b[39m \u001b[34mpurrr  \u001b[39m 0.3.4\n",
      "\u001b[32m✔\u001b[39m \u001b[34mtibble \u001b[39m 3.1.6     \u001b[32m✔\u001b[39m \u001b[34mdplyr  \u001b[39m 1.0.7\n",
      "\u001b[32m✔\u001b[39m \u001b[34mtidyr  \u001b[39m 1.1.4     \u001b[32m✔\u001b[39m \u001b[34mstringr\u001b[39m 1.4.0\n",
      "\u001b[32m✔\u001b[39m \u001b[34mreadr  \u001b[39m 2.0.2     \u001b[32m✔\u001b[39m \u001b[34mforcats\u001b[39m 0.5.1\n",
      "\n",
      "── \u001b[1mConflicts\u001b[22m ────────────────────────────────────────── tidyverse_conflicts() ──\n",
      "\u001b[31m✖\u001b[39m \u001b[34mdplyr\u001b[39m::\u001b[32mfilter()\u001b[39m masks \u001b[34mstats\u001b[39m::filter()\n",
      "\u001b[31m✖\u001b[39m \u001b[34mdplyr\u001b[39m::\u001b[32mlag()\u001b[39m    masks \u001b[34mstats\u001b[39m::lag()\n",
      "\n",
      "Warning message in read_fun(path = enc2native(normalizePath(path)), sheet_i = sheet, :\n",
      "“Coercing text to numeric in M1306 / R1306C13: '328'”\n"
     ]
    }
   ],
   "source": [
    "library(tidyverse)\n",
    "\n",
    "library(readxl)\n",
    "\n",
    "read_excel(\n",
    "    \"data/titanic3.xls\"\n",
    "    ) -> titanic"
   ]
  },
  {
   "cell_type": "markdown",
   "id": "4526fecf-0c66-44c4-88a9-8fbff7d31038",
   "metadata": {},
   "source": [
    "(2) Run the command that would show you the names of all columns/variables in `titanic` "
   ]
  },
  {
   "cell_type": "code",
   "execution_count": 2,
   "id": "32d0c009-7466-4a0a-b4fb-95165721c15d",
   "metadata": {},
   "outputs": [
    {
     "data": {
      "text/html": [
       "<style>\n",
       ".list-inline {list-style: none; margin:0; padding: 0}\n",
       ".list-inline>li {display: inline-block}\n",
       ".list-inline>li:not(:last-child)::after {content: \"\\00b7\"; padding: 0 .5ex}\n",
       "</style>\n",
       "<ol class=list-inline><li>'pclass'</li><li>'survived'</li><li>'name'</li><li>'sex'</li><li>'age'</li><li>'sibsp'</li><li>'parch'</li><li>'ticket'</li><li>'fare'</li><li>'cabin'</li><li>'embarked'</li><li>'boat'</li><li>'body'</li><li>'home.dest'</li></ol>\n"
      ],
      "text/latex": [
       "\\begin{enumerate*}\n",
       "\\item 'pclass'\n",
       "\\item 'survived'\n",
       "\\item 'name'\n",
       "\\item 'sex'\n",
       "\\item 'age'\n",
       "\\item 'sibsp'\n",
       "\\item 'parch'\n",
       "\\item 'ticket'\n",
       "\\item 'fare'\n",
       "\\item 'cabin'\n",
       "\\item 'embarked'\n",
       "\\item 'boat'\n",
       "\\item 'body'\n",
       "\\item 'home.dest'\n",
       "\\end{enumerate*}\n"
      ],
      "text/markdown": [
       "1. 'pclass'\n",
       "2. 'survived'\n",
       "3. 'name'\n",
       "4. 'sex'\n",
       "5. 'age'\n",
       "6. 'sibsp'\n",
       "7. 'parch'\n",
       "8. 'ticket'\n",
       "9. 'fare'\n",
       "10. 'cabin'\n",
       "11. 'embarked'\n",
       "12. 'boat'\n",
       "13. 'body'\n",
       "14. 'home.dest'\n",
       "\n",
       "\n"
      ],
      "text/plain": [
       " [1] \"pclass\"    \"survived\"  \"name\"      \"sex\"       \"age\"       \"sibsp\"    \n",
       " [7] \"parch\"     \"ticket\"    \"fare\"      \"cabin\"     \"embarked\"  \"boat\"     \n",
       "[13] \"body\"      \"home.dest\""
      ]
     },
     "metadata": {},
     "output_type": "display_data"
    }
   ],
   "source": [
    "names(titanic)"
   ]
  },
  {
   "cell_type": "markdown",
   "id": "85f379b1-fca7-413b-a492-30ad771935c7",
   "metadata": {},
   "source": [
    "(3) Run the command that would show the descriptive statistics of each column/variable in `titanic`"
   ]
  },
  {
   "cell_type": "code",
   "execution_count": 3,
   "id": "5d95a660-9e98-4170-934f-c78eca180d97",
   "metadata": {},
   "outputs": [
    {
     "data": {
      "text/plain": [
       "     pclass         survived         name               sex           \n",
       " Min.   :1.000   Min.   :0.000   Length:1309        Length:1309       \n",
       " 1st Qu.:2.000   1st Qu.:0.000   Class :character   Class :character  \n",
       " Median :3.000   Median :0.000   Mode  :character   Mode  :character  \n",
       " Mean   :2.295   Mean   :0.382                                        \n",
       " 3rd Qu.:3.000   3rd Qu.:1.000                                        \n",
       " Max.   :3.000   Max.   :1.000                                        \n",
       "                                                                      \n",
       "      age              sibsp            parch          ticket         \n",
       " Min.   : 0.1667   Min.   :0.0000   Min.   :0.000   Length:1309       \n",
       " 1st Qu.:21.0000   1st Qu.:0.0000   1st Qu.:0.000   Class :character  \n",
       " Median :28.0000   Median :0.0000   Median :0.000   Mode  :character  \n",
       " Mean   :29.8811   Mean   :0.4989   Mean   :0.385                     \n",
       " 3rd Qu.:39.0000   3rd Qu.:1.0000   3rd Qu.:0.000                     \n",
       " Max.   :80.0000   Max.   :8.0000   Max.   :9.000                     \n",
       " NA's   :263                                                          \n",
       "      fare            cabin             embarked             boat          \n",
       " Min.   :  0.000   Length:1309        Length:1309        Length:1309       \n",
       " 1st Qu.:  7.896   Class :character   Class :character   Class :character  \n",
       " Median : 14.454   Mode  :character   Mode  :character   Mode  :character  \n",
       " Mean   : 33.295                                                           \n",
       " 3rd Qu.: 31.275                                                           \n",
       " Max.   :512.329                                                           \n",
       " NA's   :1                                                                 \n",
       "      body        home.dest        \n",
       " Min.   :  1.0   Length:1309       \n",
       " 1st Qu.: 72.0   Class :character  \n",
       " Median :155.0   Mode  :character  \n",
       " Mean   :160.8                     \n",
       " 3rd Qu.:256.0                     \n",
       " Max.   :328.0                     \n",
       " NA's   :1188                      "
      ]
     },
     "metadata": {},
     "output_type": "display_data"
    }
   ],
   "source": [
    "summary(titanic)"
   ]
  },
  {
   "cell_type": "markdown",
   "id": "f6976b9f-0aaa-4b02-b1a2-8f5c3bc87bb3",
   "metadata": {},
   "source": [
    "(4) For each of the following variables, add the labels provided     \n",
    "\n",
    "    `pclass` (1 = First Class; 2 = Second Class;  3 = Third Class)\n",
    "\n",
    "    `embarked` (C = Cherbourg; S = Southampton; Q = Queenstown)\n",
    "    \n",
    "    `survived` (0 = Did not survive; 1 = Survived)"
   ]
  },
  {
   "cell_type": "code",
   "execution_count": 4,
   "id": "431ec17a-871f-49ee-86ed-c61980ac7872",
   "metadata": {},
   "outputs": [],
   "source": [
    "titanic %>%\n",
    "    mutate(\n",
    "        pclass.f = factor(\n",
    "            pclass, \n",
    "            levels = c(1, 2, 3), \n",
    "            labels = c(\"First Class\", \"Second Class\", \"Third Class\")\n",
    "        ),\n",
    "        survived.f = factor(\n",
    "            survived, \n",
    "            levels = c(0, 1), \n",
    "            labels = c(\"Did not survive\", \"Survived\")\n",
    "        ),\n",
    "        embarked.f = case_when(\n",
    "            embarked == \"C\" ~ \"Cherbourg\",\n",
    "            embarked == \"S\" ~ \"Southampton\",\n",
    "            embarked == \"Q\" ~ \"Queenstown\"\n",
    "        )\n",
    "    ) -> titanic"
   ]
  },
  {
   "cell_type": "code",
   "execution_count": 5,
   "id": "9c37bff7-eecc-49c7-b538-0cd0857065c4",
   "metadata": {},
   "outputs": [
    {
     "data": {
      "text/html": [
       "<table class=\"dataframe\">\n",
       "<caption>A tibble: 6 × 17</caption>\n",
       "<thead>\n",
       "\t<tr><th scope=col>pclass</th><th scope=col>survived</th><th scope=col>name</th><th scope=col>sex</th><th scope=col>age</th><th scope=col>sibsp</th><th scope=col>parch</th><th scope=col>ticket</th><th scope=col>fare</th><th scope=col>cabin</th><th scope=col>embarked</th><th scope=col>boat</th><th scope=col>body</th><th scope=col>home.dest</th><th scope=col>pclass.f</th><th scope=col>survived.f</th><th scope=col>embarked.f</th></tr>\n",
       "\t<tr><th scope=col>&lt;dbl&gt;</th><th scope=col>&lt;dbl&gt;</th><th scope=col>&lt;chr&gt;</th><th scope=col>&lt;chr&gt;</th><th scope=col>&lt;dbl&gt;</th><th scope=col>&lt;dbl&gt;</th><th scope=col>&lt;dbl&gt;</th><th scope=col>&lt;chr&gt;</th><th scope=col>&lt;dbl&gt;</th><th scope=col>&lt;chr&gt;</th><th scope=col>&lt;chr&gt;</th><th scope=col>&lt;chr&gt;</th><th scope=col>&lt;dbl&gt;</th><th scope=col>&lt;chr&gt;</th><th scope=col>&lt;fct&gt;</th><th scope=col>&lt;fct&gt;</th><th scope=col>&lt;chr&gt;</th></tr>\n",
       "</thead>\n",
       "<tbody>\n",
       "\t<tr><td>1</td><td>1</td><td>Allen, Miss. Elisabeth Walton                  </td><td>female</td><td>29.0000</td><td>0</td><td>0</td><td>24160 </td><td>211.3375</td><td>B5     </td><td>S</td><td>2 </td><td> NA</td><td>St Louis, MO                   </td><td>First Class</td><td>Survived       </td><td>Southampton</td></tr>\n",
       "\t<tr><td>1</td><td>1</td><td>Allison, Master. Hudson Trevor                 </td><td>male  </td><td> 0.9167</td><td>1</td><td>2</td><td>113781</td><td>151.5500</td><td>C22 C26</td><td>S</td><td>11</td><td> NA</td><td>Montreal, PQ / Chesterville, ON</td><td>First Class</td><td>Survived       </td><td>Southampton</td></tr>\n",
       "\t<tr><td>1</td><td>0</td><td>Allison, Miss. Helen Loraine                   </td><td>female</td><td> 2.0000</td><td>1</td><td>2</td><td>113781</td><td>151.5500</td><td>C22 C26</td><td>S</td><td>NA</td><td> NA</td><td>Montreal, PQ / Chesterville, ON</td><td>First Class</td><td>Did not survive</td><td>Southampton</td></tr>\n",
       "\t<tr><td>1</td><td>0</td><td>Allison, Mr. Hudson Joshua Creighton           </td><td>male  </td><td>30.0000</td><td>1</td><td>2</td><td>113781</td><td>151.5500</td><td>C22 C26</td><td>S</td><td>NA</td><td>135</td><td>Montreal, PQ / Chesterville, ON</td><td>First Class</td><td>Did not survive</td><td>Southampton</td></tr>\n",
       "\t<tr><td>1</td><td>0</td><td>Allison, Mrs. Hudson J C (Bessie Waldo Daniels)</td><td>female</td><td>25.0000</td><td>1</td><td>2</td><td>113781</td><td>151.5500</td><td>C22 C26</td><td>S</td><td>NA</td><td> NA</td><td>Montreal, PQ / Chesterville, ON</td><td>First Class</td><td>Did not survive</td><td>Southampton</td></tr>\n",
       "\t<tr><td>1</td><td>1</td><td>Anderson, Mr. Harry                            </td><td>male  </td><td>48.0000</td><td>0</td><td>0</td><td>19952 </td><td> 26.5500</td><td>E12    </td><td>S</td><td>3 </td><td> NA</td><td>New York, NY                   </td><td>First Class</td><td>Survived       </td><td>Southampton</td></tr>\n",
       "</tbody>\n",
       "</table>\n"
      ],
      "text/latex": [
       "A tibble: 6 × 17\n",
       "\\begin{tabular}{lllllllllllllllll}\n",
       " pclass & survived & name & sex & age & sibsp & parch & ticket & fare & cabin & embarked & boat & body & home.dest & pclass.f & survived.f & embarked.f\\\\\n",
       " <dbl> & <dbl> & <chr> & <chr> & <dbl> & <dbl> & <dbl> & <chr> & <dbl> & <chr> & <chr> & <chr> & <dbl> & <chr> & <fct> & <fct> & <chr>\\\\\n",
       "\\hline\n",
       "\t 1 & 1 & Allen, Miss. Elisabeth Walton                   & female & 29.0000 & 0 & 0 & 24160  & 211.3375 & B5      & S & 2  &  NA & St Louis, MO                    & First Class & Survived        & Southampton\\\\\n",
       "\t 1 & 1 & Allison, Master. Hudson Trevor                  & male   &  0.9167 & 1 & 2 & 113781 & 151.5500 & C22 C26 & S & 11 &  NA & Montreal, PQ / Chesterville, ON & First Class & Survived        & Southampton\\\\\n",
       "\t 1 & 0 & Allison, Miss. Helen Loraine                    & female &  2.0000 & 1 & 2 & 113781 & 151.5500 & C22 C26 & S & NA &  NA & Montreal, PQ / Chesterville, ON & First Class & Did not survive & Southampton\\\\\n",
       "\t 1 & 0 & Allison, Mr. Hudson Joshua Creighton            & male   & 30.0000 & 1 & 2 & 113781 & 151.5500 & C22 C26 & S & NA & 135 & Montreal, PQ / Chesterville, ON & First Class & Did not survive & Southampton\\\\\n",
       "\t 1 & 0 & Allison, Mrs. Hudson J C (Bessie Waldo Daniels) & female & 25.0000 & 1 & 2 & 113781 & 151.5500 & C22 C26 & S & NA &  NA & Montreal, PQ / Chesterville, ON & First Class & Did not survive & Southampton\\\\\n",
       "\t 1 & 1 & Anderson, Mr. Harry                             & male   & 48.0000 & 0 & 0 & 19952  &  26.5500 & E12     & S & 3  &  NA & New York, NY                    & First Class & Survived        & Southampton\\\\\n",
       "\\end{tabular}\n"
      ],
      "text/markdown": [
       "\n",
       "A tibble: 6 × 17\n",
       "\n",
       "| pclass &lt;dbl&gt; | survived &lt;dbl&gt; | name &lt;chr&gt; | sex &lt;chr&gt; | age &lt;dbl&gt; | sibsp &lt;dbl&gt; | parch &lt;dbl&gt; | ticket &lt;chr&gt; | fare &lt;dbl&gt; | cabin &lt;chr&gt; | embarked &lt;chr&gt; | boat &lt;chr&gt; | body &lt;dbl&gt; | home.dest &lt;chr&gt; | pclass.f &lt;fct&gt; | survived.f &lt;fct&gt; | embarked.f &lt;chr&gt; |\n",
       "|---|---|---|---|---|---|---|---|---|---|---|---|---|---|---|---|---|\n",
       "| 1 | 1 | Allen, Miss. Elisabeth Walton                   | female | 29.0000 | 0 | 0 | 24160  | 211.3375 | B5      | S | 2  |  NA | St Louis, MO                    | First Class | Survived        | Southampton |\n",
       "| 1 | 1 | Allison, Master. Hudson Trevor                  | male   |  0.9167 | 1 | 2 | 113781 | 151.5500 | C22 C26 | S | 11 |  NA | Montreal, PQ / Chesterville, ON | First Class | Survived        | Southampton |\n",
       "| 1 | 0 | Allison, Miss. Helen Loraine                    | female |  2.0000 | 1 | 2 | 113781 | 151.5500 | C22 C26 | S | NA |  NA | Montreal, PQ / Chesterville, ON | First Class | Did not survive | Southampton |\n",
       "| 1 | 0 | Allison, Mr. Hudson Joshua Creighton            | male   | 30.0000 | 1 | 2 | 113781 | 151.5500 | C22 C26 | S | NA | 135 | Montreal, PQ / Chesterville, ON | First Class | Did not survive | Southampton |\n",
       "| 1 | 0 | Allison, Mrs. Hudson J C (Bessie Waldo Daniels) | female | 25.0000 | 1 | 2 | 113781 | 151.5500 | C22 C26 | S | NA |  NA | Montreal, PQ / Chesterville, ON | First Class | Did not survive | Southampton |\n",
       "| 1 | 1 | Anderson, Mr. Harry                             | male   | 48.0000 | 0 | 0 | 19952  |  26.5500 | E12     | S | 3  |  NA | New York, NY                    | First Class | Survived        | Southampton |\n",
       "\n"
      ],
      "text/plain": [
       "  pclass survived name                                            sex   \n",
       "1 1      1        Allen, Miss. Elisabeth Walton                   female\n",
       "2 1      1        Allison, Master. Hudson Trevor                  male  \n",
       "3 1      0        Allison, Miss. Helen Loraine                    female\n",
       "4 1      0        Allison, Mr. Hudson Joshua Creighton            male  \n",
       "5 1      0        Allison, Mrs. Hudson J C (Bessie Waldo Daniels) female\n",
       "6 1      1        Anderson, Mr. Harry                             male  \n",
       "  age     sibsp parch ticket fare     cabin   embarked boat body\n",
       "1 29.0000 0     0     24160  211.3375 B5      S        2     NA \n",
       "2  0.9167 1     2     113781 151.5500 C22 C26 S        11    NA \n",
       "3  2.0000 1     2     113781 151.5500 C22 C26 S        NA    NA \n",
       "4 30.0000 1     2     113781 151.5500 C22 C26 S        NA   135 \n",
       "5 25.0000 1     2     113781 151.5500 C22 C26 S        NA    NA \n",
       "6 48.0000 0     0     19952   26.5500 E12     S        3     NA \n",
       "  home.dest                       pclass.f    survived.f      embarked.f \n",
       "1 St Louis, MO                    First Class Survived        Southampton\n",
       "2 Montreal, PQ / Chesterville, ON First Class Survived        Southampton\n",
       "3 Montreal, PQ / Chesterville, ON First Class Did not survive Southampton\n",
       "4 Montreal, PQ / Chesterville, ON First Class Did not survive Southampton\n",
       "5 Montreal, PQ / Chesterville, ON First Class Did not survive Southampton\n",
       "6 New York, NY                    First Class Survived        Southampton"
      ]
     },
     "metadata": {},
     "output_type": "display_data"
    }
   ],
   "source": [
    "head(titanic)"
   ]
  },
  {
   "cell_type": "markdown",
   "id": "7b8a6372-cde3-48b6-9a39-0c17b0fa85d3",
   "metadata": {},
   "source": [
    "(5) Create a grouped version of `age` such that the resulting age groups are 0-18, 18-36, 36-54, 54-72, 72-90. Call this grouped variable `age_groups` "
   ]
  },
  {
   "cell_type": "code",
   "execution_count": 6,
   "id": "36895d4d-0b4a-4e65-b7d5-466cf5b70701",
   "metadata": {},
   "outputs": [
    {
     "name": "stderr",
     "output_type": "stream",
     "text": [
      "\n",
      "Attaching package: ‘santoku’\n",
      "\n",
      "\n",
      "The following object is masked from ‘package:tidyr’:\n",
      "\n",
      "    chop\n",
      "\n",
      "\n"
     ]
    }
   ],
   "source": [
    "library(santoku)"
   ]
  },
  {
   "cell_type": "code",
   "execution_count": 7,
   "id": "9d28ca16-22a2-4e90-8bc4-18e4d8957ce9",
   "metadata": {},
   "outputs": [
    {
     "data": {
      "text/html": [
       "<table class=\"dataframe\">\n",
       "<caption>A tibble: 6 × 2</caption>\n",
       "<thead>\n",
       "\t<tr><th scope=col>age_groups</th><th scope=col>n</th></tr>\n",
       "\t<tr><th scope=col>&lt;fct&gt;</th><th scope=col>&lt;int&gt;</th></tr>\n",
       "</thead>\n",
       "<tbody>\n",
       "\t<tr><td>0 - 18 </td><td>154</td></tr>\n",
       "\t<tr><td>18 - 36</td><td>570</td></tr>\n",
       "\t<tr><td>36 - 54</td><td>245</td></tr>\n",
       "\t<tr><td>54 - 72</td><td> 74</td></tr>\n",
       "\t<tr><td>72 - 90</td><td>  3</td></tr>\n",
       "\t<tr><td>NA     </td><td>263</td></tr>\n",
       "</tbody>\n",
       "</table>\n"
      ],
      "text/latex": [
       "A tibble: 6 × 2\n",
       "\\begin{tabular}{ll}\n",
       " age\\_groups & n\\\\\n",
       " <fct> & <int>\\\\\n",
       "\\hline\n",
       "\t 0 - 18  & 154\\\\\n",
       "\t 18 - 36 & 570\\\\\n",
       "\t 36 - 54 & 245\\\\\n",
       "\t 54 - 72 &  74\\\\\n",
       "\t 72 - 90 &   3\\\\\n",
       "\t NA      & 263\\\\\n",
       "\\end{tabular}\n"
      ],
      "text/markdown": [
       "\n",
       "A tibble: 6 × 2\n",
       "\n",
       "| age_groups &lt;fct&gt; | n &lt;int&gt; |\n",
       "|---|---|\n",
       "| 0 - 18  | 154 |\n",
       "| 18 - 36 | 570 |\n",
       "| 36 - 54 | 245 |\n",
       "| 54 - 72 |  74 |\n",
       "| 72 - 90 |   3 |\n",
       "| NA      | 263 |\n",
       "\n"
      ],
      "text/plain": [
       "  age_groups n  \n",
       "1 0 - 18     154\n",
       "2 18 - 36    570\n",
       "3 36 - 54    245\n",
       "4 54 - 72     74\n",
       "5 72 - 90      3\n",
       "6 NA         263"
      ]
     },
     "metadata": {},
     "output_type": "display_data"
    }
   ],
   "source": [
    "titanic %>%\n",
    "    mutate(\n",
    "        age_groups = chop(age, c(0, 18, 36, 54, 72, 90), labels = lbl_dash())\n",
    "    ) -> titanic\n",
    "\n",
    "titanic %>%\n",
    "    group_by(age_groups) %>%\n",
    "    tally()"
   ]
  },
  {
   "cell_type": "markdown",
   "id": "01c7ff72-259f-47a0-ac4a-eb87fbb19aca",
   "metadata": {},
   "source": [
    "(6) Create a new factor that has two values -- (1) whether the passenger was traveling 1st Class or (2) the passenger was traveling by either 2nd or 3rd Class. Call this new variable `class` "
   ]
  },
  {
   "cell_type": "code",
   "execution_count": 8,
   "id": "ef85fd91-01b2-4137-9086-7fac795f710c",
   "metadata": {},
   "outputs": [
    {
     "data": {
      "text/html": [
       "<table class=\"dataframe\">\n",
       "<caption>A grouped_df: 3 × 3</caption>\n",
       "<thead>\n",
       "\t<tr><th scope=col>pclass.f</th><th scope=col>class</th><th scope=col>n</th></tr>\n",
       "\t<tr><th scope=col>&lt;fct&gt;</th><th scope=col>&lt;chr&gt;</th><th scope=col>&lt;int&gt;</th></tr>\n",
       "</thead>\n",
       "<tbody>\n",
       "\t<tr><td>First Class </td><td>First Class          </td><td>323</td></tr>\n",
       "\t<tr><td>Second Class</td><td>Second or Third Class</td><td>277</td></tr>\n",
       "\t<tr><td>Third Class </td><td>Second or Third Class</td><td>709</td></tr>\n",
       "</tbody>\n",
       "</table>\n"
      ],
      "text/latex": [
       "A grouped\\_df: 3 × 3\n",
       "\\begin{tabular}{lll}\n",
       " pclass.f & class & n\\\\\n",
       " <fct> & <chr> & <int>\\\\\n",
       "\\hline\n",
       "\t First Class  & First Class           & 323\\\\\n",
       "\t Second Class & Second or Third Class & 277\\\\\n",
       "\t Third Class  & Second or Third Class & 709\\\\\n",
       "\\end{tabular}\n"
      ],
      "text/markdown": [
       "\n",
       "A grouped_df: 3 × 3\n",
       "\n",
       "| pclass.f &lt;fct&gt; | class &lt;chr&gt; | n &lt;int&gt; |\n",
       "|---|---|---|\n",
       "| First Class  | First Class           | 323 |\n",
       "| Second Class | Second or Third Class | 277 |\n",
       "| Third Class  | Second or Third Class | 709 |\n",
       "\n"
      ],
      "text/plain": [
       "  pclass.f     class                 n  \n",
       "1 First Class  First Class           323\n",
       "2 Second Class Second or Third Class 277\n",
       "3 Third Class  Second or Third Class 709"
      ]
     },
     "metadata": {},
     "output_type": "display_data"
    }
   ],
   "source": [
    "titanic %>%\n",
    "    mutate(\n",
    "        class = case_when(\n",
    "            pclass == 1 ~ \"First Class\",\n",
    "            pclass %in% c(2, 3) ~ \"Second or Third Class\"\n",
    "        )\n",
    "    ) -> titanic\n",
    "\n",
    "titanic %>%\n",
    "    group_by(pclass.f, class) %>%\n",
    "    tally()"
   ]
  },
  {
   "cell_type": "markdown",
   "id": "49144c07-da5a-46bf-a7b3-f59913b5d8b9",
   "metadata": {},
   "source": [
    "(7) Create a tally of how many passengers embarked from each port. Which embarkation port had the most versus the least passengers? "
   ]
  },
  {
   "cell_type": "code",
   "execution_count": 9,
   "id": "9ba316a4-11d0-4951-87ef-35e416ea6225",
   "metadata": {},
   "outputs": [
    {
     "data": {
      "text/html": [
       "<table class=\"dataframe\">\n",
       "<caption>A tibble: 4 × 2</caption>\n",
       "<thead>\n",
       "\t<tr><th scope=col>embarked.f</th><th scope=col>n</th></tr>\n",
       "\t<tr><th scope=col>&lt;chr&gt;</th><th scope=col>&lt;int&gt;</th></tr>\n",
       "</thead>\n",
       "<tbody>\n",
       "\t<tr><td>Cherbourg  </td><td>270</td></tr>\n",
       "\t<tr><td>Queenstown </td><td>123</td></tr>\n",
       "\t<tr><td>Southampton</td><td>914</td></tr>\n",
       "\t<tr><td>NA         </td><td>  2</td></tr>\n",
       "</tbody>\n",
       "</table>\n"
      ],
      "text/latex": [
       "A tibble: 4 × 2\n",
       "\\begin{tabular}{ll}\n",
       " embarked.f & n\\\\\n",
       " <chr> & <int>\\\\\n",
       "\\hline\n",
       "\t Cherbourg   & 270\\\\\n",
       "\t Queenstown  & 123\\\\\n",
       "\t Southampton & 914\\\\\n",
       "\t NA          &   2\\\\\n",
       "\\end{tabular}\n"
      ],
      "text/markdown": [
       "\n",
       "A tibble: 4 × 2\n",
       "\n",
       "| embarked.f &lt;chr&gt; | n &lt;int&gt; |\n",
       "|---|---|\n",
       "| Cherbourg   | 270 |\n",
       "| Queenstown  | 123 |\n",
       "| Southampton | 914 |\n",
       "| NA          |   2 |\n",
       "\n"
      ],
      "text/plain": [
       "  embarked.f  n  \n",
       "1 Cherbourg   270\n",
       "2 Queenstown  123\n",
       "3 Southampton 914\n",
       "4 NA            2"
      ]
     },
     "metadata": {},
     "output_type": "display_data"
    }
   ],
   "source": [
    "titanic %>%\n",
    "    group_by(embarked.f) %>%\n",
    "    tally()"
   ]
  },
  {
   "cell_type": "markdown",
   "id": "acc349d5-86de-495d-8410-7114bfe54d7e",
   "metadata": {},
   "source": [
    "Looks like Southampton boarded the most passengers and Queenstown the least."
   ]
  },
  {
   "cell_type": "markdown",
   "id": "ec1a8b50-407a-4701-978b-121c9640603e",
   "metadata": {},
   "source": [
    "(8) Create a tally of how many passengers of each pclass embarked from each port. Which embarkation port had the most First Class versus Second Class versus Third Class passengers? "
   ]
  },
  {
   "cell_type": "code",
   "execution_count": 10,
   "id": "52b66ccc-1841-4cdf-a714-73cf717db58a",
   "metadata": {},
   "outputs": [
    {
     "data": {
      "text/html": [
       "<table class=\"dataframe\">\n",
       "<caption>A grouped_df: 10 × 3</caption>\n",
       "<thead>\n",
       "\t<tr><th scope=col>embarked.f</th><th scope=col>pclass.f</th><th scope=col>n</th></tr>\n",
       "\t<tr><th scope=col>&lt;chr&gt;</th><th scope=col>&lt;fct&gt;</th><th scope=col>&lt;int&gt;</th></tr>\n",
       "</thead>\n",
       "<tbody>\n",
       "\t<tr><td>Cherbourg  </td><td>First Class </td><td>141</td></tr>\n",
       "\t<tr><td>Cherbourg  </td><td>Second Class</td><td> 28</td></tr>\n",
       "\t<tr><td>Cherbourg  </td><td>Third Class </td><td>101</td></tr>\n",
       "\t<tr><td>Queenstown </td><td>First Class </td><td>  3</td></tr>\n",
       "\t<tr><td>Queenstown </td><td>Second Class</td><td>  7</td></tr>\n",
       "\t<tr><td>Queenstown </td><td>Third Class </td><td>113</td></tr>\n",
       "\t<tr><td>Southampton</td><td>First Class </td><td>177</td></tr>\n",
       "\t<tr><td>Southampton</td><td>Second Class</td><td>242</td></tr>\n",
       "\t<tr><td>Southampton</td><td>Third Class </td><td>495</td></tr>\n",
       "\t<tr><td>NA         </td><td>First Class </td><td>  2</td></tr>\n",
       "</tbody>\n",
       "</table>\n"
      ],
      "text/latex": [
       "A grouped\\_df: 10 × 3\n",
       "\\begin{tabular}{lll}\n",
       " embarked.f & pclass.f & n\\\\\n",
       " <chr> & <fct> & <int>\\\\\n",
       "\\hline\n",
       "\t Cherbourg   & First Class  & 141\\\\\n",
       "\t Cherbourg   & Second Class &  28\\\\\n",
       "\t Cherbourg   & Third Class  & 101\\\\\n",
       "\t Queenstown  & First Class  &   3\\\\\n",
       "\t Queenstown  & Second Class &   7\\\\\n",
       "\t Queenstown  & Third Class  & 113\\\\\n",
       "\t Southampton & First Class  & 177\\\\\n",
       "\t Southampton & Second Class & 242\\\\\n",
       "\t Southampton & Third Class  & 495\\\\\n",
       "\t NA          & First Class  &   2\\\\\n",
       "\\end{tabular}\n"
      ],
      "text/markdown": [
       "\n",
       "A grouped_df: 10 × 3\n",
       "\n",
       "| embarked.f &lt;chr&gt; | pclass.f &lt;fct&gt; | n &lt;int&gt; |\n",
       "|---|---|---|\n",
       "| Cherbourg   | First Class  | 141 |\n",
       "| Cherbourg   | Second Class |  28 |\n",
       "| Cherbourg   | Third Class  | 101 |\n",
       "| Queenstown  | First Class  |   3 |\n",
       "| Queenstown  | Second Class |   7 |\n",
       "| Queenstown  | Third Class  | 113 |\n",
       "| Southampton | First Class  | 177 |\n",
       "| Southampton | Second Class | 242 |\n",
       "| Southampton | Third Class  | 495 |\n",
       "| NA          | First Class  |   2 |\n",
       "\n"
      ],
      "text/plain": [
       "   embarked.f  pclass.f     n  \n",
       "1  Cherbourg   First Class  141\n",
       "2  Cherbourg   Second Class  28\n",
       "3  Cherbourg   Third Class  101\n",
       "4  Queenstown  First Class    3\n",
       "5  Queenstown  Second Class   7\n",
       "6  Queenstown  Third Class  113\n",
       "7  Southampton First Class  177\n",
       "8  Southampton Second Class 242\n",
       "9  Southampton Third Class  495\n",
       "10 NA          First Class    2"
      ]
     },
     "metadata": {},
     "output_type": "display_data"
    }
   ],
   "source": [
    "titanic %>%\n",
    "    group_by(embarked.f, pclass.f) %>%\n",
    "    tally()"
   ]
  },
  {
   "cell_type": "markdown",
   "id": "3a944bf9-889b-4cf0-8648-aea681462795",
   "metadata": {},
   "source": [
    "Southampton had the most First class, second class, and third class passengers. "
   ]
  },
  {
   "cell_type": "markdown",
   "id": "40da1d3c-3e3c-445b-93d5-90c675c81a2d",
   "metadata": {},
   "source": [
    "(9) Create a small data-set that only retains male passengers embarking from Southampton. Show the results of the `summary()` command when run on this new data-set"
   ]
  },
  {
   "cell_type": "code",
   "execution_count": 11,
   "id": "f417b89b-4a64-44f7-9a4f-768d790c7511",
   "metadata": {},
   "outputs": [],
   "source": [
    "titanic %>%\n",
    "    filter(\n",
    "        sex == \"male\", embarked.f == \"Southampton\"\n",
    "    ) -> titanic02"
   ]
  },
  {
   "cell_type": "code",
   "execution_count": 12,
   "id": "08b00b21-fbb4-4264-8234-73efc89694dd",
   "metadata": {},
   "outputs": [
    {
     "data": {
      "text/plain": [
       "     pclass         survived          name               sex           \n",
       " Min.   :1.000   Min.   :0.0000   Length:623         Length:623        \n",
       " 1st Qu.:2.000   1st Qu.:0.0000   Class :character   Class :character  \n",
       " Median :3.000   Median :0.0000   Mode  :character   Mode  :character  \n",
       " Mean   :2.414   Mean   :0.1701                                        \n",
       " 3rd Qu.:3.000   3rd Qu.:0.0000                                        \n",
       " Max.   :3.000   Max.   :1.0000                                        \n",
       "                                                                       \n",
       "      age              sibsp            parch           ticket         \n",
       " Min.   : 0.3333   Min.   :0.0000   Min.   :0.0000   Length:623        \n",
       " 1st Qu.:21.0000   1st Qu.:0.0000   1st Qu.:0.0000   Class :character  \n",
       " Median :28.0000   Median :0.0000   Median :0.0000   Mode  :character  \n",
       " Mean   :29.9424   Mean   :0.4302   Mean   :0.2584                     \n",
       " 3rd Qu.:38.0000   3rd Qu.:0.0000   3rd Qu.:0.0000                     \n",
       " Max.   :80.0000   Max.   :8.0000   Max.   :9.0000                     \n",
       " NA's   :105                                                           \n",
       "      fare            cabin             embarked             boat          \n",
       " Min.   :  0.000   Length:623         Length:623         Length:623        \n",
       " 1st Qu.:  7.896   Class :character   Class :character   Class :character  \n",
       " Median : 10.500   Mode  :character   Mode  :character   Mode  :character  \n",
       " Mean   : 21.842                                                           \n",
       " 3rd Qu.: 26.000                                                           \n",
       " Max.   :263.000                                                           \n",
       " NA's   :1                                                                 \n",
       "      body        home.dest                 pclass.f             survived.f \n",
       " Min.   :  1.0   Length:623         First Class :108   Did not survive:517  \n",
       " 1st Qu.: 89.0   Class :character   Second Class:149   Survived       :106  \n",
       " Median :155.0   Mode  :character   Third Class :366                        \n",
       " Mean   :163.1                                                              \n",
       " 3rd Qu.:259.0                                                              \n",
       " Max.   :322.0                                                              \n",
       " NA's   :538                                                                \n",
       "  embarked.f          age_groups     class          \n",
       " Length:623         0 - 18 : 66   Length:623        \n",
       " Class :character   18 - 36:296   Class :character  \n",
       " Mode  :character   36 - 54:123   Mode  :character  \n",
       "                    54 - 72: 31                     \n",
       "                    72 - 90:  2                     \n",
       "                    NA's   :105                     \n",
       "                                                    "
      ]
     },
     "metadata": {},
     "output_type": "display_data"
    }
   ],
   "source": [
    "summary(titanic02)"
   ]
  },
  {
   "cell_type": "markdown",
   "id": "d1805b77-a7f8-4eaf-bfcf-b921c110bd28",
   "metadata": {},
   "source": [
    "  \n",
    "\n",
    "(10) Save the data-set in the RData format."
   ]
  },
  {
   "cell_type": "code",
   "execution_count": 13,
   "id": "d8403243-95f4-48ec-a912-e569e7691486",
   "metadata": {},
   "outputs": [],
   "source": [
    "save(titanic, file = \"data/titanic.RData\")"
   ]
  },
  {
   "cell_type": "code",
   "execution_count": 14,
   "id": "7461b80e-522a-4607-acf4-b77d3d10ab05",
   "metadata": {},
   "outputs": [],
   "source": [
    "save(titanic02, file = \"data/titanic02.RData\")"
   ]
  },
  {
   "cell_type": "code",
   "execution_count": null,
   "id": "1b076c16-fcfe-4244-b0a4-68f80753dde4",
   "metadata": {},
   "outputs": [],
   "source": []
  }
 ],
 "metadata": {
  "kernelspec": {
   "display_name": "R",
   "language": "R",
   "name": "ir"
  },
  "language_info": {
   "codemirror_mode": "r",
   "file_extension": ".r",
   "mimetype": "text/x-r-source",
   "name": "R",
   "pygments_lexer": "r",
   "version": "4.1.2"
  }
 },
 "nbformat": 4,
 "nbformat_minor": 5
}
