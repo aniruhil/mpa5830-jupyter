{
 "cells": [
  {
   "cell_type": "markdown",
   "id": "8171b875-b491-4d96-b0db-6ae475f5ab75",
   "metadata": {},
   "source": [
    "# Solutions for Task 01\n",
    "\n",
    "Build out this notebook by creating Code cells that include commands to complete the following tasks.\n",
    "\n",
    "(1) Read-in the data available here: https://data.boston.gov/dataset/03693648-2c62-4a2c-a4ec-48de2ee14e18/resource/4582bec6-2b4f-4f9e-bc55-cbaa73117f4c/download/tmpmose0kbb.csv \n",
    "\n",
    "(2) Run the command that would show you the names of all columns/variables in this data-set \n",
    "\n",
    "(3) Run the command that would show the descriptive statistics of each column/variable \n",
    "\n",
    "(4) Save the data-set in the RData format "
   ]
  },
  {
   "cell_type": "code",
   "execution_count": 1,
   "id": "d8403243-95f4-48ec-a912-e569e7691486",
   "metadata": {
    "tags": []
   },
   "outputs": [
    {
     "name": "stderr",
     "output_type": "stream",
     "text": [
      "── \u001b[1mAttaching core tidyverse packages\u001b[22m ──────────────────────── tidyverse 2.0.0 ──\n",
      "\u001b[32m✔\u001b[39m \u001b[34mdplyr    \u001b[39m 1.1.2     \u001b[32m✔\u001b[39m \u001b[34mreadr    \u001b[39m 2.1.4\n",
      "\u001b[32m✔\u001b[39m \u001b[34mforcats  \u001b[39m 1.0.0     \u001b[32m✔\u001b[39m \u001b[34mstringr  \u001b[39m 1.5.0\n",
      "\u001b[32m✔\u001b[39m \u001b[34mggplot2  \u001b[39m 3.4.2     \u001b[32m✔\u001b[39m \u001b[34mtibble   \u001b[39m 3.2.1\n",
      "\u001b[32m✔\u001b[39m \u001b[34mlubridate\u001b[39m 1.9.2     \u001b[32m✔\u001b[39m \u001b[34mtidyr    \u001b[39m 1.3.0\n",
      "\u001b[32m✔\u001b[39m \u001b[34mpurrr    \u001b[39m 1.0.1     \n",
      "── \u001b[1mConflicts\u001b[22m ────────────────────────────────────────── tidyverse_conflicts() ──\n",
      "\u001b[31m✖\u001b[39m \u001b[34mdplyr\u001b[39m::\u001b[32mfilter()\u001b[39m masks \u001b[34mstats\u001b[39m::filter()\n",
      "\u001b[31m✖\u001b[39m \u001b[34mdplyr\u001b[39m::\u001b[32mlag()\u001b[39m    masks \u001b[34mstats\u001b[39m::lag()\n",
      "\u001b[36mℹ\u001b[39m Use the conflicted package (\u001b[3m\u001b[34m<http://conflicted.r-lib.org/>\u001b[39m\u001b[23m) to force all conflicts to become errors\n",
      "\u001b[1mRows: \u001b[22m\u001b[34m756377\u001b[39m \u001b[1mColumns: \u001b[22m\u001b[34m26\u001b[39m\n",
      "\u001b[36m──\u001b[39m \u001b[1mColumn specification\u001b[22m \u001b[36m────────────────────────────────────────────────────────\u001b[39m\n",
      "\u001b[1mDelimiter:\u001b[22m \",\"\n",
      "\u001b[31mchr\u001b[39m  (19): businessname, dbaname, legalowner, namelast, namefirst, licstatus...\n",
      "\u001b[32mdbl\u001b[39m   (2): licenseno, property_id\n",
      "\u001b[34mdttm\u001b[39m  (5): issdttm, expdttm, resultdttm, violdttm, statusdate\n",
      "\n",
      "\u001b[36mℹ\u001b[39m Use `spec()` to retrieve the full column specification for this data.\n",
      "\u001b[36mℹ\u001b[39m Specify the column types or set `show_col_types = FALSE` to quiet this message.\n"
     ]
    }
   ],
   "source": [
    "library(tidyverse)\n",
    "\n",
    "read_csv(\n",
    "    \"https://data.boston.gov/dataset/03693648-2c62-4a2c-a4ec-48de2ee14e18/resource/4582bec6-2b4f-4f9e-bc55-cbaa73117f4c/download/tmpmose0kbb.csv\"\n",
    "    ) -> boston_df "
   ]
  },
  {
   "cell_type": "code",
   "execution_count": 2,
   "id": "78f173a6-bfb2-46ee-af31-a2c01cecc979",
   "metadata": {
    "tags": []
   },
   "outputs": [
    {
     "data": {
      "text/html": [
       "<style>\n",
       ".list-inline {list-style: none; margin:0; padding: 0}\n",
       ".list-inline>li {display: inline-block}\n",
       ".list-inline>li:not(:last-child)::after {content: \"\\00b7\"; padding: 0 .5ex}\n",
       "</style>\n",
       "<ol class=list-inline><li>'businessname'</li><li>'dbaname'</li><li>'legalowner'</li><li>'namelast'</li><li>'namefirst'</li><li>'licenseno'</li><li>'issdttm'</li><li>'expdttm'</li><li>'licstatus'</li><li>'licensecat'</li><li>'descript'</li><li>'result'</li><li>'resultdttm'</li><li>'violation'</li><li>'viollevel'</li><li>'violdesc'</li><li>'violdttm'</li><li>'violstatus'</li><li>'statusdate'</li><li>'comments'</li><li>'address'</li><li>'city'</li><li>'state'</li><li>'zip'</li><li>'property_id'</li><li>'location'</li></ol>\n"
      ],
      "text/latex": [
       "\\begin{enumerate*}\n",
       "\\item 'businessname'\n",
       "\\item 'dbaname'\n",
       "\\item 'legalowner'\n",
       "\\item 'namelast'\n",
       "\\item 'namefirst'\n",
       "\\item 'licenseno'\n",
       "\\item 'issdttm'\n",
       "\\item 'expdttm'\n",
       "\\item 'licstatus'\n",
       "\\item 'licensecat'\n",
       "\\item 'descript'\n",
       "\\item 'result'\n",
       "\\item 'resultdttm'\n",
       "\\item 'violation'\n",
       "\\item 'viollevel'\n",
       "\\item 'violdesc'\n",
       "\\item 'violdttm'\n",
       "\\item 'violstatus'\n",
       "\\item 'statusdate'\n",
       "\\item 'comments'\n",
       "\\item 'address'\n",
       "\\item 'city'\n",
       "\\item 'state'\n",
       "\\item 'zip'\n",
       "\\item 'property\\_id'\n",
       "\\item 'location'\n",
       "\\end{enumerate*}\n"
      ],
      "text/markdown": [
       "1. 'businessname'\n",
       "2. 'dbaname'\n",
       "3. 'legalowner'\n",
       "4. 'namelast'\n",
       "5. 'namefirst'\n",
       "6. 'licenseno'\n",
       "7. 'issdttm'\n",
       "8. 'expdttm'\n",
       "9. 'licstatus'\n",
       "10. 'licensecat'\n",
       "11. 'descript'\n",
       "12. 'result'\n",
       "13. 'resultdttm'\n",
       "14. 'violation'\n",
       "15. 'viollevel'\n",
       "16. 'violdesc'\n",
       "17. 'violdttm'\n",
       "18. 'violstatus'\n",
       "19. 'statusdate'\n",
       "20. 'comments'\n",
       "21. 'address'\n",
       "22. 'city'\n",
       "23. 'state'\n",
       "24. 'zip'\n",
       "25. 'property_id'\n",
       "26. 'location'\n",
       "\n",
       "\n"
      ],
      "text/plain": [
       " [1] \"businessname\" \"dbaname\"      \"legalowner\"   \"namelast\"     \"namefirst\"   \n",
       " [6] \"licenseno\"    \"issdttm\"      \"expdttm\"      \"licstatus\"    \"licensecat\"  \n",
       "[11] \"descript\"     \"result\"       \"resultdttm\"   \"violation\"    \"viollevel\"   \n",
       "[16] \"violdesc\"     \"violdttm\"     \"violstatus\"   \"statusdate\"   \"comments\"    \n",
       "[21] \"address\"      \"city\"         \"state\"        \"zip\"          \"property_id\" \n",
       "[26] \"location\"    "
      ]
     },
     "metadata": {},
     "output_type": "display_data"
    }
   ],
   "source": [
    "names(boston_df)"
   ]
  },
  {
   "cell_type": "code",
   "execution_count": 3,
   "id": "d4b5de02-334c-43ed-a10c-6072eaaa90e0",
   "metadata": {
    "tags": []
   },
   "outputs": [
    {
     "data": {
      "text/plain": [
       " businessname         dbaname           legalowner          namelast        \n",
       " Length:756377      Length:756377      Length:756377      Length:756377     \n",
       " Class :character   Class :character   Class :character   Class :character  \n",
       " Mode  :character   Mode  :character   Mode  :character   Mode  :character  \n",
       "                                                                            \n",
       "                                                                            \n",
       "                                                                            \n",
       "                                                                            \n",
       "  namefirst           licenseno         issdttm                      \n",
       " Length:756377      Min.   :    54   Min.   :2007-01-01 15:15:05.00  \n",
       " Class :character   1st Qu.: 21840   1st Qu.:2011-12-30 13:15:20.00  \n",
       " Mode  :character   Median : 26361   Median :2012-02-10 14:42:57.00  \n",
       "                    Mean   : 79968   Mean   :2013-02-12 19:39:22.44  \n",
       "                    3rd Qu.: 79254   3rd Qu.:2012-09-13 09:29:17.00  \n",
       "                    Max.   :532253   Max.   :2023-07-10 14:53:04.00  \n",
       "                                     NA's   :256                     \n",
       "    expdttm                        licstatus          licensecat       \n",
       " Min.   :2007-12-31 00:00:00.00   Length:756377      Length:756377     \n",
       " 1st Qu.:2018-12-31 23:59:00.00   Class :character   Class :character  \n",
       " Median :2023-12-31 23:59:00.00   Mode  :character   Mode  :character  \n",
       " Mean   :2021-01-19 05:54:23.95                                        \n",
       " 3rd Qu.:2023-12-31 23:59:00.00                                        \n",
       " Max.   :2023-12-31 23:59:00.00                                        \n",
       " NA's   :430                                                           \n",
       "   descript            result            resultdttm                    \n",
       " Length:756377      Length:756377      Min.   :2006-04-04 08:49:18.00  \n",
       " Class :character   Class :character   1st Qu.:2011-10-05 10:59:33.00  \n",
       " Mode  :character   Mode  :character   Median :2015-07-13 11:57:50.00  \n",
       "                                       Mean   :2015-07-05 01:48:05.75  \n",
       "                                       3rd Qu.:2019-04-24 13:22:42.00  \n",
       "                                       Max.   :2023-07-10 14:36:04.00  \n",
       "                                       NA's   :6395                    \n",
       "  violation          viollevel           violdesc        \n",
       " Length:756377      Length:756377      Length:756377     \n",
       " Class :character   Class :character   Class :character  \n",
       " Mode  :character   Mode  :character   Mode  :character  \n",
       "                                                         \n",
       "                                                         \n",
       "                                                         \n",
       "                                                         \n",
       "    violdttm                       violstatus       \n",
       " Min.   :2006-11-21 00:00:00.00   Length:756377     \n",
       " 1st Qu.:2011-07-21 11:06:46.00   Class :character  \n",
       " Median :2015-06-10 14:31:42.00   Mode  :character  \n",
       " Mean   :2015-05-21 00:19:12.42                     \n",
       " 3rd Qu.:2019-02-22 08:57:42.00                     \n",
       " Max.   :2023-07-10 14:36:04.00                     \n",
       " NA's   :50485                                      \n",
       "   statusdate                       comments           address         \n",
       " Min.   :2006-12-27 00:00:00.00   Length:756377      Length:756377     \n",
       " 1st Qu.:2011-08-31 14:54:32.00   Class :character   Class :character  \n",
       " Median :2015-07-31 08:02:37.00   Mode  :character   Mode  :character  \n",
       " Mean   :2015-06-20 13:34:01.14                                        \n",
       " 3rd Qu.:2019-03-25 09:07:34.00                                        \n",
       " Max.   :2023-07-10 15:47:00.00                                        \n",
       " NA's   :443637                                                        \n",
       "     city              state               zip             property_id    \n",
       " Length:756377      Length:756377      Length:756377      Min.   :     0  \n",
       " Class :character   Class :character   Class :character   1st Qu.: 76353  \n",
       " Mode  :character   Mode  :character   Mode  :character   Median :155927  \n",
       "                                                          Mean   :143465  \n",
       "                                                          3rd Qu.:157732  \n",
       "                                                          Max.   :455744  \n",
       "                                                          NA's   :147609  \n",
       "   location        \n",
       " Length:756377     \n",
       " Class :character  \n",
       " Mode  :character  \n",
       "                   \n",
       "                   \n",
       "                   \n",
       "                   "
      ]
     },
     "metadata": {},
     "output_type": "display_data"
    }
   ],
   "source": [
    "summary(boston_df)"
   ]
  },
  {
   "cell_type": "code",
   "execution_count": 4,
   "id": "6200a55e-0201-469e-8edd-dd1aaaf33c44",
   "metadata": {
    "tags": []
   },
   "outputs": [],
   "source": [
    "save(boston_df, file = \"boston_df.RData\")"
   ]
  }
 ],
 "metadata": {
  "kernelspec": {
   "display_name": "R",
   "language": "R",
   "name": "ir"
  },
  "language_info": {
   "codemirror_mode": "r",
   "file_extension": ".r",
   "mimetype": "text/x-r-source",
   "name": "R",
   "pygments_lexer": "r",
   "version": "4.3.1"
  }
 },
 "nbformat": 4,
 "nbformat_minor": 5
}
