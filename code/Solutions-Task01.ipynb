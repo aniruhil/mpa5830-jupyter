{
 "cells": [
  {
   "cell_type": "markdown",
   "id": "8171b875-b491-4d96-b0db-6ae475f5ab75",
   "metadata": {},
   "source": [
    "# Solutions for Task 01\n",
    "\n",
    "Build out this notebook by creating Code cells that include commands to complete the following tasks.\n",
    "\n",
    "(1) Read-in the data available here: https://data.boston.gov/dataset/03693648-2c62-4a2c-a4ec-48de2ee14e18/resource/4582bec6-2b4f-4f9e-bc55-cbaa73117f4c/download/tmpmose0kbb.csv \n",
    "\n",
    "(2) Run the command that would show you the names of all columns/variables in this data-set \n",
    "\n",
    "(3) Run the command that would show the descriptive statistics of each column/variable \n",
    "\n",
    "(4) Save the data-set in the RData format "
   ]
  },
  {
   "cell_type": "code",
   "execution_count": 1,
   "id": "d8403243-95f4-48ec-a912-e569e7691486",
   "metadata": {},
   "outputs": [
    {
     "name": "stderr",
     "output_type": "stream",
     "text": [
      "── \u001b[1mAttaching packages\u001b[22m ─────────────────────────────────────── tidyverse 1.3.1 ──\n",
      "\n",
      "\u001b[32m✔\u001b[39m \u001b[34mggplot2\u001b[39m 3.3.5     \u001b[32m✔\u001b[39m \u001b[34mpurrr  \u001b[39m 0.3.4\n",
      "\u001b[32m✔\u001b[39m \u001b[34mtibble \u001b[39m 3.1.5     \u001b[32m✔\u001b[39m \u001b[34mdplyr  \u001b[39m 1.0.7\n",
      "\u001b[32m✔\u001b[39m \u001b[34mtidyr  \u001b[39m 1.1.4     \u001b[32m✔\u001b[39m \u001b[34mstringr\u001b[39m 1.4.0\n",
      "\u001b[32m✔\u001b[39m \u001b[34mreadr  \u001b[39m 2.0.2     \u001b[32m✔\u001b[39m \u001b[34mforcats\u001b[39m 0.5.1\n",
      "\n",
      "── \u001b[1mConflicts\u001b[22m ────────────────────────────────────────── tidyverse_conflicts() ──\n",
      "\u001b[31m✖\u001b[39m \u001b[34mdplyr\u001b[39m::\u001b[32mfilter()\u001b[39m masks \u001b[34mstats\u001b[39m::filter()\n",
      "\u001b[31m✖\u001b[39m \u001b[34mdplyr\u001b[39m::\u001b[32mlag()\u001b[39m    masks \u001b[34mstats\u001b[39m::lag()\n",
      "\n",
      "\u001b[1m\u001b[1mRows: \u001b[1m\u001b[22m\u001b[34m\u001b[34m665789\u001b[34m\u001b[39m \u001b[1m\u001b[1mColumns: \u001b[1m\u001b[22m\u001b[34m\u001b[34m26\u001b[34m\u001b[39m\n",
      "\n",
      "\u001b[36m──\u001b[39m \u001b[1m\u001b[1mColumn specification\u001b[1m\u001b[22m \u001b[36m────────────────────────────────────────────────────────\u001b[39m\n",
      "\u001b[1mDelimiter:\u001b[22m \",\"\n",
      "\u001b[31mchr\u001b[39m  (19): businessname, dbaname, legalowner, namelast, namefirst, licstatus...\n",
      "\u001b[32mdbl\u001b[39m   (2): licenseno, property_id\n",
      "\u001b[34mdttm\u001b[39m  (5): issdttm, expdttm, resultdttm, violdttm, statusdate\n",
      "\n",
      "\n",
      "\u001b[36mℹ\u001b[39m Use \u001b[30m\u001b[47m\u001b[30m\u001b[47m`spec()`\u001b[47m\u001b[30m\u001b[49m\u001b[39m to retrieve the full column specification for this data.\n",
      "\u001b[36mℹ\u001b[39m Specify the column types or set \u001b[30m\u001b[47m\u001b[30m\u001b[47m`show_col_types = FALSE`\u001b[47m\u001b[30m\u001b[49m\u001b[39m to quiet this message.\n",
      "\n"
     ]
    }
   ],
   "source": [
    "library(tidyverse)\n",
    "\n",
    "read_csv(\n",
    "    \"https://data.boston.gov/dataset/03693648-2c62-4a2c-a4ec-48de2ee14e18/resource/4582bec6-2b4f-4f9e-bc55-cbaa73117f4c/download/tmpmose0kbb.csv\"\n",
    "    ) -> boston_df "
   ]
  },
  {
   "cell_type": "code",
   "execution_count": 2,
   "id": "78f173a6-bfb2-46ee-af31-a2c01cecc979",
   "metadata": {},
   "outputs": [
    {
     "data": {
      "text/html": [
       "<style>\n",
       ".list-inline {list-style: none; margin:0; padding: 0}\n",
       ".list-inline>li {display: inline-block}\n",
       ".list-inline>li:not(:last-child)::after {content: \"\\00b7\"; padding: 0 .5ex}\n",
       "</style>\n",
       "<ol class=list-inline><li>'businessname'</li><li>'dbaname'</li><li>'legalowner'</li><li>'namelast'</li><li>'namefirst'</li><li>'licenseno'</li><li>'issdttm'</li><li>'expdttm'</li><li>'licstatus'</li><li>'licensecat'</li><li>'descript'</li><li>'result'</li><li>'resultdttm'</li><li>'violation'</li><li>'viollevel'</li><li>'violdesc'</li><li>'violdttm'</li><li>'violstatus'</li><li>'statusdate'</li><li>'comments'</li><li>'address'</li><li>'city'</li><li>'state'</li><li>'zip'</li><li>'property_id'</li><li>'location'</li></ol>\n"
      ],
      "text/latex": [
       "\\begin{enumerate*}\n",
       "\\item 'businessname'\n",
       "\\item 'dbaname'\n",
       "\\item 'legalowner'\n",
       "\\item 'namelast'\n",
       "\\item 'namefirst'\n",
       "\\item 'licenseno'\n",
       "\\item 'issdttm'\n",
       "\\item 'expdttm'\n",
       "\\item 'licstatus'\n",
       "\\item 'licensecat'\n",
       "\\item 'descript'\n",
       "\\item 'result'\n",
       "\\item 'resultdttm'\n",
       "\\item 'violation'\n",
       "\\item 'viollevel'\n",
       "\\item 'violdesc'\n",
       "\\item 'violdttm'\n",
       "\\item 'violstatus'\n",
       "\\item 'statusdate'\n",
       "\\item 'comments'\n",
       "\\item 'address'\n",
       "\\item 'city'\n",
       "\\item 'state'\n",
       "\\item 'zip'\n",
       "\\item 'property\\_id'\n",
       "\\item 'location'\n",
       "\\end{enumerate*}\n"
      ],
      "text/markdown": [
       "1. 'businessname'\n",
       "2. 'dbaname'\n",
       "3. 'legalowner'\n",
       "4. 'namelast'\n",
       "5. 'namefirst'\n",
       "6. 'licenseno'\n",
       "7. 'issdttm'\n",
       "8. 'expdttm'\n",
       "9. 'licstatus'\n",
       "10. 'licensecat'\n",
       "11. 'descript'\n",
       "12. 'result'\n",
       "13. 'resultdttm'\n",
       "14. 'violation'\n",
       "15. 'viollevel'\n",
       "16. 'violdesc'\n",
       "17. 'violdttm'\n",
       "18. 'violstatus'\n",
       "19. 'statusdate'\n",
       "20. 'comments'\n",
       "21. 'address'\n",
       "22. 'city'\n",
       "23. 'state'\n",
       "24. 'zip'\n",
       "25. 'property_id'\n",
       "26. 'location'\n",
       "\n",
       "\n"
      ],
      "text/plain": [
       " [1] \"businessname\" \"dbaname\"      \"legalowner\"   \"namelast\"     \"namefirst\"   \n",
       " [6] \"licenseno\"    \"issdttm\"      \"expdttm\"      \"licstatus\"    \"licensecat\"  \n",
       "[11] \"descript\"     \"result\"       \"resultdttm\"   \"violation\"    \"viollevel\"   \n",
       "[16] \"violdesc\"     \"violdttm\"     \"violstatus\"   \"statusdate\"   \"comments\"    \n",
       "[21] \"address\"      \"city\"         \"state\"        \"zip\"          \"property_id\" \n",
       "[26] \"location\"    "
      ]
     },
     "metadata": {},
     "output_type": "display_data"
    }
   ],
   "source": [
    "names(boston_df)"
   ]
  },
  {
   "cell_type": "code",
   "execution_count": 2,
   "id": "d4b5de02-334c-43ed-a10c-6072eaaa90e0",
   "metadata": {},
   "outputs": [
    {
     "data": {
      "text/plain": [
       " businessname         dbaname           legalowner          namelast        \n",
       " Length:665789      Length:665789      Length:665789      Length:665789     \n",
       " Class :character   Class :character   Class :character   Class :character  \n",
       " Mode  :character   Mode  :character   Mode  :character   Mode  :character  \n",
       "                                                                            \n",
       "                                                                            \n",
       "                                                                            \n",
       "                                                                            \n",
       "  namefirst           licenseno         issdttm                   \n",
       " Length:665789      Min.   :    54   Min.   :2007-01-01 15:15:05  \n",
       " Class :character   1st Qu.: 21577   1st Qu.:2011-12-29 14:14:49  \n",
       " Mode  :character   Median : 25694   Median :2012-02-08 16:30:50  \n",
       "                    Mean   : 63723   Mean   :2012-09-29 18:48:25  \n",
       "                    3rd Qu.: 75368   3rd Qu.:2012-05-07 14:53:07  \n",
       "                    Max.   :460918   Max.   :2021-10-19 11:10:29  \n",
       "                                     NA's   :140                  \n",
       "    expdttm                     licstatus          licensecat       \n",
       " Min.   :2007-12-31 00:00:00   Length:665789      Length:665789     \n",
       " 1st Qu.:2017-12-31 23:59:00   Class :character   Class :character  \n",
       " Median :2021-12-31 23:59:00   Mode  :character   Mode  :character  \n",
       " Mean   :2019-09-06 00:33:16                                        \n",
       " 3rd Qu.:2021-12-31 23:59:00                                        \n",
       " Max.   :2021-12-31 23:59:00                                        \n",
       " NA's   :298                                                        \n",
       "   descript            result            resultdttm                 \n",
       " Length:665789      Length:665789      Min.   :2006-04-04 08:49:18  \n",
       " Class :character   Class :character   1st Qu.:2011-03-03 12:17:05  \n",
       " Mode  :character   Mode  :character   Median :2014-08-04 11:52:36  \n",
       "                                       Mean   :2014-07-14 07:55:31  \n",
       "                                       3rd Qu.:2017-12-21 17:55:27  \n",
       "                                       Max.   :2021-10-20 21:01:25  \n",
       "                                       NA's   :6397                 \n",
       "  violation          viollevel           violdesc        \n",
       " Length:665789      Length:665789      Length:665789     \n",
       " Class :character   Class :character   Class :character  \n",
       " Mode  :character   Mode  :character   Mode  :character  \n",
       "                                                         \n",
       "                                                         \n",
       "                                                         \n",
       "                                                         \n",
       "    violdttm                    violstatus          statusdate                 \n",
       " Min.   :2006-11-21 00:00:00   Length:665789      Min.   :2006-12-27 00:00:00  \n",
       " 1st Qu.:2010-12-28 13:50:38   Class :character   1st Qu.:2011-02-11 15:28:53  \n",
       " Median :2014-08-25 10:28:16   Mode  :character   Median :2014-09-30 08:26:32  \n",
       " Mean   :2014-07-02 13:09:36                      Mean   :2014-07-23 09:02:51  \n",
       " 3rd Qu.:2018-01-02 11:25:12                      3rd Qu.:2018-01-22 15:33:18  \n",
       " Max.   :2021-10-20 21:01:25                      Max.   :2021-10-20 18:16:57  \n",
       " NA's   :36774                                    NA's   :388365               \n",
       "   comments           address              city              state          \n",
       " Length:665789      Length:665789      Length:665789      Length:665789     \n",
       " Class :character   Class :character   Class :character   Class :character  \n",
       " Mode  :character   Mode  :character   Mode  :character   Mode  :character  \n",
       "                                                                            \n",
       "                                                                            \n",
       "                                                                            \n",
       "                                                                            \n",
       "     zip             property_id       location        \n",
       " Length:665789      Min.   :     0   Length:665789     \n",
       " Class :character   1st Qu.: 75863   Class :character  \n",
       " Mode  :character   Median :155870   Mode  :character  \n",
       "                    Mean   :137857                     \n",
       "                    3rd Qu.:157544                     \n",
       "                    Max.   :440487                     \n",
       "                    NA's   :138811                     "
      ]
     },
     "metadata": {},
     "output_type": "display_data"
    }
   ],
   "source": [
    "summary(boston_df)"
   ]
  },
  {
   "cell_type": "code",
   "execution_count": 5,
   "id": "6200a55e-0201-469e-8edd-dd1aaaf33c44",
   "metadata": {},
   "outputs": [],
   "source": [
    "save(boston_df, file = \"boston_df.RData\")"
   ]
  },
  {
   "cell_type": "code",
   "execution_count": null,
   "id": "67829100-6a2b-4428-aa0e-cb0da3862144",
   "metadata": {},
   "outputs": [],
   "source": []
  }
 ],
 "metadata": {
  "kernelspec": {
   "display_name": "R",
   "language": "R",
   "name": "ir"
  },
  "language_info": {
   "codemirror_mode": "r",
   "file_extension": ".r",
   "mimetype": "text/x-r-source",
   "name": "R",
   "pygments_lexer": "r",
   "version": "4.1.1"
  }
 },
 "nbformat": 4,
 "nbformat_minor": 5
}
