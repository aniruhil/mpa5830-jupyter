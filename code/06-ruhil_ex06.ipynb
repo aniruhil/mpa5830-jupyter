{
 "cells": [
  {
   "cell_type": "markdown",
   "id": "2644387c",
   "metadata": {},
   "source": [
    "# Exercises for Practice \n",
    "\n",
    "## Exercise 01\n",
    "Create a map of all the counties in New York. Be sure to title the map and to fill in each county with the total number of COVID19 cases they have seen to date. In addition, draw county borders in white. Use `theme_map()` and make sure the legend is at the bottom. [**Hint:** You will need to calculate the total number of cases per county and then join the resulting file with the counties data file to get the latitude/longitudes for the counties.]\n",
    "\n",
    "## Exercise 02 \n",
    "Run the following code chunk to load data on the murder, assault and rape rates per 100,000 persons. `Urbanpop` is the percent of the state population that lives in an urban area. "
   ]
  },
  {
   "cell_type": "code",
   "execution_count": null,
   "id": "e4fb7c2a",
   "metadata": {
    "name": "usa-data"
   },
   "outputs": [],
   "source": [
    "library(tidyverse)\n",
    "\n",
    "data(USArrests)\n",
    "names(USArrests)\n",
    "USArrests$statename <- rownames(USArrests)\n",
    "\n",
    "head(USArrests)"
   ]
  },
  {
   "cell_type": "markdown",
   "id": "7c782257",
   "metadata": {},
   "source": [
    "Now create a state-level map of the 50 states making sure to use `UrbanPop` to fill each state. Title the map and place the legend at the bottom. "
   ]
  },
  {
   "cell_type": "code",
   "execution_count": null,
   "id": "243f6fe3-e929-43b1-8250-473efbe98dc2",
   "metadata": {},
   "outputs": [],
   "source": [
    "library(urbnmapr)\n",
    "\n",
    "data(states)\n",
    "head(states)"
   ]
  },
  {
   "cell_type": "code",
   "execution_count": null,
   "id": "a0b5cfb2-3458-40e8-9193-cd83777ad430",
   "metadata": {},
   "outputs": [],
   "source": [
    "states %>%\n",
    "    left_join(\n",
    "        USArrests,\n",
    "        by = c(\"state_name\" = \"statename\")\n",
    "    ) -> statemap\n",
    "\n",
    "head(statemap)"
   ]
  },
  {
   "cell_type": "code",
   "execution_count": null,
   "id": "ce3b2011-9974-44cc-83e3-f0d26dc40639",
   "metadata": {},
   "outputs": [],
   "source": [
    "options(repr.plot.width = 12, repr.plot.height = 12)\n",
    "\n",
    "ggplot() +\n",
    "  geom_polygon(data = statemap, \n",
    "               aes(x = long, y = lat, group = group, fill = UrbanPop),\n",
    "               color = \"white\", size = 0.05) +\n",
    "  coord_fixed(1.3) +\n",
    "  ggthemes::theme_map() +\n",
    "  theme(\n",
    "      legend.position = \"bottom\",\n",
    "      legend.text = element_text(size = 14),\n",
    "      legend.key.width = unit(5, 'cm'),\n",
    "      title = element_text(size = 20, face = \"bold\")\n",
    "  ) +\n",
    "  labs(\n",
    "    title = \"Percent of the Population Living in Urban Areas in the State\",\n",
    "    fill = \"Percent Population Urban\"\n",
    "        ) +\n",
    "  scale_fill_viridis_c(option = \"magma\")\n",
    "    "
   ]
  },
  {
   "cell_type": "markdown",
   "id": "d0c95f0c-5195-4ae7-92c7-cb0026c92e55",
   "metadata": {},
   "source": [
    "## Exercise 03\n",
    "\n",
    "Use the `USArrests` data to draw scatterplots of (a) `Murder` versus `UrbanPop`, (b) `Assault` versus `UrbanPop`, and (c) `Rape` versus `UrbanPop`. Save each of these scatterplots by name and then use `patchwork` to create a single canvas that includes all three plots. Make sure you label the x-axis, y-axis, and title each plot. "
   ]
  },
  {
   "cell_type": "code",
   "execution_count": null,
   "id": "00b0e1b5-afd3-4527-98c7-0b318cf5ad7a",
   "metadata": {},
   "outputs": [],
   "source": [
    "ggplot(\n",
    "    data = USArrests,\n",
    "    aes(\n",
    "        x = UrbanPop,\n",
    "        y = Murder\n",
    "        )\n",
    "    ) +\n",
    "    geom_point() +\n",
    "    labs(\n",
    "        x = \"Percent Population Urban\",\n",
    "        y = \"Murders per 100,000\",\n",
    "        title = \"Scatterplot of Murders per 100,000 vs. Urban Population Percent\") -> p1\n",
    "\n",
    "ggplot(\n",
    "    data = USArrests,\n",
    "    aes(\n",
    "        x = UrbanPop,\n",
    "        y = Assault\n",
    "        )\n",
    "    ) +\n",
    "    geom_point() +\n",
    "    labs(\n",
    "        x = \"Percent Population Urban\",\n",
    "        y = \"Assaults per 100,000\",\n",
    "        title = \"Scatterplot of Assaults per 100,000 vs. Urban Population Percent\") -> p2\n",
    "\n",
    "ggplot(\n",
    "    data = USArrests,\n",
    "    aes(\n",
    "        x = UrbanPop,\n",
    "        y = Rape\n",
    "        )\n",
    "    ) +\n",
    "    geom_point() +\n",
    "    labs(\n",
    "        x = \"Percent Population Urban\",\n",
    "        y = \"Rapes per 100,000\",\n",
    "        title = \"Scatterplot of Rapes per 100,000 vs. Urban Population Percent\") -> p3\n",
    "\n",
    "\n",
    "library(patchwork)\n",
    "\n",
    "options(repr.plot.width = 24, repr.plot.height = 10)\n",
    "\n",
    "p1+ p2 + p3"
   ]
  },
  {
   "cell_type": "markdown",
   "id": "375e9bf9-773b-440e-ae8f-74417449201c",
   "metadata": {},
   "source": [
    "## Exercise 04 \n",
    "\n",
    "Now create `highcharter` versions of each of the three scatterplots you created in Exercise (3) above. You should end up with three scatterplots, each on its own canvas. "
   ]
  },
  {
   "cell_type": "code",
   "execution_count": null,
   "id": "539ec557-c13d-40e9-b7c7-13e052003b9f",
   "metadata": {},
   "outputs": [],
   "source": [
    "library(highcharter)\n",
    "\n",
    "hchart(\n",
    "    USArrests, \n",
    "    \"scatter\", \n",
    "    hcaes(\n",
    "        x = UrbanPop, \n",
    "        y = Murder\n",
    "        ),\n",
    "    name = \"Murders per 100,000 vs Percent Population Urban\",\n",
    "    showInLegend = TRUE\n",
    "    ) "
   ]
  },
  {
   "cell_type": "code",
   "execution_count": null,
   "id": "d66136b3-8414-4d0a-bebb-e66ce8f9139a",
   "metadata": {},
   "outputs": [],
   "source": [
    "hchart(\n",
    "    USArrests, \n",
    "    \"scatter\", \n",
    "    hcaes(\n",
    "        x = UrbanPop, \n",
    "        y = Assault\n",
    "        ),\n",
    "    name = \"Assaults per 100,000 vs Percent Population Urban\",\n",
    "    showInLegend = TRUE\n",
    "    ) "
   ]
  },
  {
   "cell_type": "code",
   "execution_count": null,
   "id": "5872819a-8dba-46fd-b96e-39f62410e458",
   "metadata": {},
   "outputs": [],
   "source": [
    "hchart(\n",
    "    USArrests, \n",
    "    \"scatter\", \n",
    "    hcaes(\n",
    "        x = UrbanPop, \n",
    "        y = Rape\n",
    "        ),\n",
    "    name = \"Rapes per 100,000 vs Percent Population Urban\",\n",
    "    showInLegend = TRUE\n",
    "    ) "
   ]
  },
  {
   "cell_type": "markdown",
   "id": "ad24c54d-21b0-4f9e-89ee-91e866e9c00a",
   "metadata": {},
   "source": [
    "## Exercise 05 \n",
    "The `sftrees` dataset includes various pieces of data on trees in San Francisco. In turn, `sf.df` is a 10% random sample of these trees. \n",
    "\n",
    "Use `leaflet` to create a map that shows, as circles, the location of each tree, and make sure when someone clicks on the circle the popup shows the `species`. Also ensure that the circles are green in color. "
   ]
  },
  {
   "cell_type": "code",
   "execution_count": null,
   "id": "1fb71d2d-435f-4c0e-84d2-e760d4e888c8",
   "metadata": {
    "lines_to_next_cell": 0,
    "name": "sftrees"
   },
   "outputs": [],
   "source": [
    "readr::read_csv(\n",
    "    'https://raw.githubusercontent.com/rfordatascience/tidytuesday/master/data/2020/2020-01-28/sf_trees.csv'\n",
    "    ) -> sf_trees"
   ]
  },
  {
   "cell_type": "code",
   "execution_count": null,
   "id": "6cf8e939-e0c0-4b59-b42c-6d86a033bc6e",
   "metadata": {
    "lines_to_next_cell": 0,
    "name": "sftrees"
   },
   "outputs": [],
   "source": [
    "sf_trees %>%\n",
    "    filter(!is.na(longitude), !is.na(latitude)) %>%\n",
    "    sample_frac(0.10) -> sf.df"
   ]
  },
  {
   "cell_type": "code",
   "execution_count": null,
   "id": "b0933691-8498-496f-82a2-b7c20c9d40e2",
   "metadata": {},
   "outputs": [],
   "source": [
    "head(sf.df)"
   ]
  },
  {
   "cell_type": "code",
   "execution_count": null,
   "id": "a5b6a852-29c9-4cbf-8e13-b49d07f53974",
   "metadata": {},
   "outputs": [],
   "source": [
    "library(leaflet)\n",
    "library(htmltools)"
   ]
  },
  {
   "cell_type": "code",
   "execution_count": null,
   "id": "e4bd7bb7-d8fd-45cb-b17b-7b777b12c89d",
   "metadata": {},
   "outputs": [],
   "source": [
    "leaflet() %>%\n",
    "    setView(lat = 37.758029, lng = -122.442072, zoom = 12) %>%\n",
    "    addTiles() %>%\n",
    "    addCircleMarkers(\n",
    "    data = sf.df,\n",
    "    lng = ~ longitude, \n",
    "    lat = ~ latitude, \n",
    "    popup = ~htmlEscape(species),\n",
    "    color = \"green\", \n",
    "    opacity = 0.05,\n",
    "    radius = 0.01\n",
    "    ) "
   ]
  },
  {
   "cell_type": "markdown",
   "id": "b81eb292-7bd2-425d-8cc9-2c6b04017aca",
   "metadata": {},
   "source": [
    "Note that here I have used Mapview in a browser to find the midpoint of the city, and then used `setView()` to center the map, and set the zoom to 12. You can see what happens if you increase or decrease the zoom factor. \n",
    "\n",
    "For the `radius` of each dot I just set a constant value of 0.01 rather than tying the radius to the `sqrt()` of some numeric measure. "
   ]
  },
  {
   "cell_type": "code",
   "execution_count": null,
   "id": "24c6af71-7f9c-4d18-8bc9-25306779a014",
   "metadata": {},
   "outputs": [],
   "source": []
  }
 ],
 "metadata": {
  "jupytext": {
   "cell_metadata_filter": "include,name,tags,-all",
   "main_language": "R",
   "notebook_metadata_filter": "-all"
  },
  "kernelspec": {
   "display_name": "R",
   "language": "R",
   "name": "ir"
  },
  "language_info": {
   "codemirror_mode": "r",
   "file_extension": ".r",
   "mimetype": "text/x-r-source",
   "name": "R",
   "pygments_lexer": "r",
   "version": "4.1.2"
  }
 },
 "nbformat": 4,
 "nbformat_minor": 5
}
