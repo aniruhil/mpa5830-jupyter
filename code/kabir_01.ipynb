{
 "cells": [
  {
   "cell_type": "markdown",
   "metadata": {},
   "source": [
    "# Lesson 01 ... Welcome to pandas"
   ]
  },
  {
   "cell_type": "markdown",
   "metadata": {},
   "source": [
    "We will start with importing some libraries we need and then play with some data to understand basic python commands. What data shall we work with? Well, let us pull down some data on criminal incidences that were reported."
   ]
  },
  {
   "cell_type": "markdown",
   "metadata": {},
   "source": [
    "First we install a particular library called `pandas` and in the command that follows, note that `pd` is just the alias that pandas assumes so that we can type `pd` and have all the `pandas` commands at our disposal."
   ]
  },
  {
   "cell_type": "code",
   "execution_count": 1,
   "metadata": {},
   "outputs": [],
   "source": [
    "import pandas as pd \n",
    "import numpy as np"
   ]
  },
  {
   "cell_type": "markdown",
   "metadata": {},
   "source": [
    "The crime incident reports data are [available here](\"https://data.boston.gov/dataset/6220d948-eae2-4e4b-8723-2dc8e67722a3/resource/12cb3883-56f5-47de-afa5-3b1cf61b257b/download/tmpayw7hysb.csv\") and span multiple years so we may end up working only with 2019 data but for now we proceed by gathering everything.\n",
    "\n",
    "In the command below, the key part is `pd.read_csv()` and inside it is the URL for the comma-separated variable file. Once the file is downloaded by `pandas` we are saving it in python with the name `df` \n",
    "\n",
    "Note that data-sets, data-files are usually referred to as a `data-frame` in python and hence the alias of `df`.\n"
   ]
  },
  {
   "cell_type": "code",
   "execution_count": 2,
   "metadata": {},
   "outputs": [
    {
     "name": "stderr",
     "output_type": "stream",
     "text": [
      "/opt/anaconda3/lib/python3.7/site-packages/IPython/core/interactiveshell.py:3147: DtypeWarning: Columns (0,2,6,12) have mixed types.Specify dtype option on import or set low_memory=False.\n",
      "  interactivity=interactivity, compiler=compiler, result=result)\n"
     ]
    }
   ],
   "source": [
    "# df = pd.read_csv(\"https://data.boston.gov/dataset/6220d948-eae2-4e4b-8723-2dc8e67722a3/resource/12cb3883-56f5-47de-afa5-3b1cf61b257b/download/tmpayw7hysb.csv\")\n",
    "\n",
    "df = pd.read_csv(\"https://data.boston.gov/dataset/6220d948-eae2-4e4b-8723-2dc8e67722a3/resource/54e0eb09-c012-429f-90e8-8c5f2694ce27/download/crime-incident-reports-2019.csv\")"
   ]
  },
  {
   "cell_type": "markdown",
   "metadata": {},
   "source": [
    "Let us look at the first 5 rows of data to get a feel for the layout. The command is `.head(5)`"
   ]
  },
  {
   "cell_type": "code",
   "execution_count": 3,
   "metadata": {},
   "outputs": [
    {
     "data": {
      "text/html": [
       "<div>\n",
       "<style scoped>\n",
       "    .dataframe tbody tr th:only-of-type {\n",
       "        vertical-align: middle;\n",
       "    }\n",
       "\n",
       "    .dataframe tbody tr th {\n",
       "        vertical-align: top;\n",
       "    }\n",
       "\n",
       "    .dataframe thead th {\n",
       "        text-align: right;\n",
       "    }\n",
       "</style>\n",
       "<table border=\"1\" class=\"dataframe\">\n",
       "  <thead>\n",
       "    <tr style=\"text-align: right;\">\n",
       "      <th></th>\n",
       "      <th>INCIDENT_NUMBER</th>\n",
       "      <th>OFFENSE_CODE</th>\n",
       "      <th>OFFENSE_CODE_GROUP</th>\n",
       "      <th>OFFENSE_DESCRIPTION</th>\n",
       "      <th>DISTRICT</th>\n",
       "      <th>REPORTING_AREA</th>\n",
       "      <th>SHOOTING</th>\n",
       "      <th>OCCURRED_ON_DATE</th>\n",
       "      <th>YEAR</th>\n",
       "      <th>MONTH</th>\n",
       "      <th>DAY_OF_WEEK</th>\n",
       "      <th>HOUR</th>\n",
       "      <th>UCR_PART</th>\n",
       "      <th>STREET</th>\n",
       "      <th>Lat</th>\n",
       "      <th>Long</th>\n",
       "      <th>Location</th>\n",
       "    </tr>\n",
       "  </thead>\n",
       "  <tbody>\n",
       "    <tr>\n",
       "      <th>0</th>\n",
       "      <td>TESTTEST2</td>\n",
       "      <td>423</td>\n",
       "      <td>NaN</td>\n",
       "      <td>ASSAULT - AGGRAVATED</td>\n",
       "      <td>External</td>\n",
       "      <td></td>\n",
       "      <td>0</td>\n",
       "      <td>2019-10-16 00:00:00</td>\n",
       "      <td>2019</td>\n",
       "      <td>10</td>\n",
       "      <td>Wednesday</td>\n",
       "      <td>0</td>\n",
       "      <td>NaN</td>\n",
       "      <td>RIVERVIEW DR</td>\n",
       "      <td>NaN</td>\n",
       "      <td>NaN</td>\n",
       "      <td>(0.00000000, 0.00000000)</td>\n",
       "    </tr>\n",
       "    <tr>\n",
       "      <th>1</th>\n",
       "      <td>TESTTEST2</td>\n",
       "      <td>423</td>\n",
       "      <td>NaN</td>\n",
       "      <td>ASSAULT - AGGRAVATED</td>\n",
       "      <td>External</td>\n",
       "      <td></td>\n",
       "      <td>0</td>\n",
       "      <td>2019-10-16 00:00:00</td>\n",
       "      <td>2019</td>\n",
       "      <td>10</td>\n",
       "      <td>Wednesday</td>\n",
       "      <td>0</td>\n",
       "      <td>NaN</td>\n",
       "      <td>RIVERVIEW DR</td>\n",
       "      <td>NaN</td>\n",
       "      <td>NaN</td>\n",
       "      <td>(0.00000000, 0.00000000)</td>\n",
       "    </tr>\n",
       "    <tr>\n",
       "      <th>2</th>\n",
       "      <td>TESTTEST2</td>\n",
       "      <td>423</td>\n",
       "      <td>NaN</td>\n",
       "      <td>ASSAULT - AGGRAVATED</td>\n",
       "      <td>External</td>\n",
       "      <td></td>\n",
       "      <td>0</td>\n",
       "      <td>2019-10-16 00:00:00</td>\n",
       "      <td>2019</td>\n",
       "      <td>10</td>\n",
       "      <td>Wednesday</td>\n",
       "      <td>0</td>\n",
       "      <td>NaN</td>\n",
       "      <td>RIVERVIEW DR</td>\n",
       "      <td>NaN</td>\n",
       "      <td>NaN</td>\n",
       "      <td>(0.00000000, 0.00000000)</td>\n",
       "    </tr>\n",
       "    <tr>\n",
       "      <th>3</th>\n",
       "      <td>TESTTEST2</td>\n",
       "      <td>423</td>\n",
       "      <td>NaN</td>\n",
       "      <td>ASSAULT - AGGRAVATED</td>\n",
       "      <td>External</td>\n",
       "      <td></td>\n",
       "      <td>0</td>\n",
       "      <td>2019-10-16 00:00:00</td>\n",
       "      <td>2019</td>\n",
       "      <td>10</td>\n",
       "      <td>Wednesday</td>\n",
       "      <td>0</td>\n",
       "      <td>NaN</td>\n",
       "      <td>RIVERVIEW DR</td>\n",
       "      <td>NaN</td>\n",
       "      <td>NaN</td>\n",
       "      <td>(0.00000000, 0.00000000)</td>\n",
       "    </tr>\n",
       "    <tr>\n",
       "      <th>4</th>\n",
       "      <td>TESTTEST2</td>\n",
       "      <td>423</td>\n",
       "      <td>NaN</td>\n",
       "      <td>ASSAULT - AGGRAVATED</td>\n",
       "      <td>External</td>\n",
       "      <td></td>\n",
       "      <td>0</td>\n",
       "      <td>2019-10-16 00:00:00</td>\n",
       "      <td>2019</td>\n",
       "      <td>10</td>\n",
       "      <td>Wednesday</td>\n",
       "      <td>0</td>\n",
       "      <td>NaN</td>\n",
       "      <td>RIVERVIEW DR</td>\n",
       "      <td>NaN</td>\n",
       "      <td>NaN</td>\n",
       "      <td>(0.00000000, 0.00000000)</td>\n",
       "    </tr>\n",
       "  </tbody>\n",
       "</table>\n",
       "</div>"
      ],
      "text/plain": [
       "  INCIDENT_NUMBER  OFFENSE_CODE OFFENSE_CODE_GROUP   OFFENSE_DESCRIPTION  \\\n",
       "0       TESTTEST2           423                NaN  ASSAULT - AGGRAVATED   \n",
       "1       TESTTEST2           423                NaN  ASSAULT - AGGRAVATED   \n",
       "2       TESTTEST2           423                NaN  ASSAULT - AGGRAVATED   \n",
       "3       TESTTEST2           423                NaN  ASSAULT - AGGRAVATED   \n",
       "4       TESTTEST2           423                NaN  ASSAULT - AGGRAVATED   \n",
       "\n",
       "   DISTRICT REPORTING_AREA SHOOTING     OCCURRED_ON_DATE  YEAR  MONTH  \\\n",
       "0  External                       0  2019-10-16 00:00:00  2019     10   \n",
       "1  External                       0  2019-10-16 00:00:00  2019     10   \n",
       "2  External                       0  2019-10-16 00:00:00  2019     10   \n",
       "3  External                       0  2019-10-16 00:00:00  2019     10   \n",
       "4  External                       0  2019-10-16 00:00:00  2019     10   \n",
       "\n",
       "  DAY_OF_WEEK  HOUR UCR_PART        STREET  Lat  Long  \\\n",
       "0   Wednesday     0      NaN  RIVERVIEW DR  NaN   NaN   \n",
       "1   Wednesday     0      NaN  RIVERVIEW DR  NaN   NaN   \n",
       "2   Wednesday     0      NaN  RIVERVIEW DR  NaN   NaN   \n",
       "3   Wednesday     0      NaN  RIVERVIEW DR  NaN   NaN   \n",
       "4   Wednesday     0      NaN  RIVERVIEW DR  NaN   NaN   \n",
       "\n",
       "                   Location  \n",
       "0  (0.00000000, 0.00000000)  \n",
       "1  (0.00000000, 0.00000000)  \n",
       "2  (0.00000000, 0.00000000)  \n",
       "3  (0.00000000, 0.00000000)  \n",
       "4  (0.00000000, 0.00000000)  "
      ]
     },
     "execution_count": 3,
     "metadata": {},
     "output_type": "execute_result"
    }
   ],
   "source": [
    "df.head(5)"
   ]
  },
  {
   "cell_type": "markdown",
   "metadata": {},
   "source": [
    "What about the last 10 rows of the data?"
   ]
  },
  {
   "cell_type": "code",
   "execution_count": 4,
   "metadata": {},
   "outputs": [
    {
     "data": {
      "text/html": [
       "<div>\n",
       "<style scoped>\n",
       "    .dataframe tbody tr th:only-of-type {\n",
       "        vertical-align: middle;\n",
       "    }\n",
       "\n",
       "    .dataframe tbody tr th {\n",
       "        vertical-align: top;\n",
       "    }\n",
       "\n",
       "    .dataframe thead th {\n",
       "        text-align: right;\n",
       "    }\n",
       "</style>\n",
       "<table border=\"1\" class=\"dataframe\">\n",
       "  <thead>\n",
       "    <tr style=\"text-align: right;\">\n",
       "      <th></th>\n",
       "      <th>INCIDENT_NUMBER</th>\n",
       "      <th>OFFENSE_CODE</th>\n",
       "      <th>OFFENSE_CODE_GROUP</th>\n",
       "      <th>OFFENSE_DESCRIPTION</th>\n",
       "      <th>DISTRICT</th>\n",
       "      <th>REPORTING_AREA</th>\n",
       "      <th>SHOOTING</th>\n",
       "      <th>OCCURRED_ON_DATE</th>\n",
       "      <th>YEAR</th>\n",
       "      <th>MONTH</th>\n",
       "      <th>DAY_OF_WEEK</th>\n",
       "      <th>HOUR</th>\n",
       "      <th>UCR_PART</th>\n",
       "      <th>STREET</th>\n",
       "      <th>Lat</th>\n",
       "      <th>Long</th>\n",
       "      <th>Location</th>\n",
       "    </tr>\n",
       "  </thead>\n",
       "  <tbody>\n",
       "    <tr>\n",
       "      <th>784761</th>\n",
       "      <td>102091671</td>\n",
       "      <td>2647</td>\n",
       "      <td>NaN</td>\n",
       "      <td>THREATS TO DO BODILY HARM</td>\n",
       "      <td>B3</td>\n",
       "      <td>417</td>\n",
       "      <td>0</td>\n",
       "      <td>2019-11-12 12:00:00</td>\n",
       "      <td>2019</td>\n",
       "      <td>11</td>\n",
       "      <td>Tuesday</td>\n",
       "      <td>12</td>\n",
       "      <td>NaN</td>\n",
       "      <td>MORA ST</td>\n",
       "      <td>42.282081</td>\n",
       "      <td>-71.073648</td>\n",
       "      <td>(42.28208100, -71.07364800)</td>\n",
       "    </tr>\n",
       "    <tr>\n",
       "      <th>784762</th>\n",
       "      <td>102091671</td>\n",
       "      <td>2647</td>\n",
       "      <td>NaN</td>\n",
       "      <td>THREATS TO DO BODILY HARM</td>\n",
       "      <td>B3</td>\n",
       "      <td>417</td>\n",
       "      <td>0</td>\n",
       "      <td>2019-11-12 12:00:00</td>\n",
       "      <td>2019</td>\n",
       "      <td>11</td>\n",
       "      <td>Tuesday</td>\n",
       "      <td>12</td>\n",
       "      <td>NaN</td>\n",
       "      <td>MORA ST</td>\n",
       "      <td>42.282081</td>\n",
       "      <td>-71.073648</td>\n",
       "      <td>(42.28208100, -71.07364800)</td>\n",
       "    </tr>\n",
       "    <tr>\n",
       "      <th>784763</th>\n",
       "      <td>102091671</td>\n",
       "      <td>2647</td>\n",
       "      <td>NaN</td>\n",
       "      <td>THREATS TO DO BODILY HARM</td>\n",
       "      <td>B3</td>\n",
       "      <td>417</td>\n",
       "      <td>0</td>\n",
       "      <td>2019-11-12 12:00:00</td>\n",
       "      <td>2019</td>\n",
       "      <td>11</td>\n",
       "      <td>Tuesday</td>\n",
       "      <td>12</td>\n",
       "      <td>NaN</td>\n",
       "      <td>MORA ST</td>\n",
       "      <td>42.282081</td>\n",
       "      <td>-71.073648</td>\n",
       "      <td>(42.28208100, -71.07364800)</td>\n",
       "    </tr>\n",
       "    <tr>\n",
       "      <th>784764</th>\n",
       "      <td>102091671</td>\n",
       "      <td>2647</td>\n",
       "      <td>NaN</td>\n",
       "      <td>THREATS TO DO BODILY HARM</td>\n",
       "      <td>B3</td>\n",
       "      <td>417</td>\n",
       "      <td>0</td>\n",
       "      <td>2019-11-12 12:00:00</td>\n",
       "      <td>2019</td>\n",
       "      <td>11</td>\n",
       "      <td>Tuesday</td>\n",
       "      <td>12</td>\n",
       "      <td>NaN</td>\n",
       "      <td>MORA ST</td>\n",
       "      <td>42.282081</td>\n",
       "      <td>-71.073648</td>\n",
       "      <td>(42.28208100, -71.07364800)</td>\n",
       "    </tr>\n",
       "    <tr>\n",
       "      <th>784765</th>\n",
       "      <td>102091671</td>\n",
       "      <td>2647</td>\n",
       "      <td>NaN</td>\n",
       "      <td>THREATS TO DO BODILY HARM</td>\n",
       "      <td>B3</td>\n",
       "      <td>417</td>\n",
       "      <td>0</td>\n",
       "      <td>2019-11-12 12:00:00</td>\n",
       "      <td>2019</td>\n",
       "      <td>11</td>\n",
       "      <td>Tuesday</td>\n",
       "      <td>12</td>\n",
       "      <td>NaN</td>\n",
       "      <td>MORA ST</td>\n",
       "      <td>42.282081</td>\n",
       "      <td>-71.073648</td>\n",
       "      <td>(42.28208100, -71.07364800)</td>\n",
       "    </tr>\n",
       "    <tr>\n",
       "      <th>784766</th>\n",
       "      <td>102091671</td>\n",
       "      <td>2647</td>\n",
       "      <td>NaN</td>\n",
       "      <td>THREATS TO DO BODILY HARM</td>\n",
       "      <td>B3</td>\n",
       "      <td>417</td>\n",
       "      <td>0</td>\n",
       "      <td>2019-11-12 12:00:00</td>\n",
       "      <td>2019</td>\n",
       "      <td>11</td>\n",
       "      <td>Tuesday</td>\n",
       "      <td>12</td>\n",
       "      <td>NaN</td>\n",
       "      <td>MORA ST</td>\n",
       "      <td>42.282081</td>\n",
       "      <td>-71.073648</td>\n",
       "      <td>(42.28208100, -71.07364800)</td>\n",
       "    </tr>\n",
       "    <tr>\n",
       "      <th>784767</th>\n",
       "      <td>102091671</td>\n",
       "      <td>2647</td>\n",
       "      <td>NaN</td>\n",
       "      <td>THREATS TO DO BODILY HARM</td>\n",
       "      <td>B3</td>\n",
       "      <td>417</td>\n",
       "      <td>0</td>\n",
       "      <td>2019-11-12 12:00:00</td>\n",
       "      <td>2019</td>\n",
       "      <td>11</td>\n",
       "      <td>Tuesday</td>\n",
       "      <td>12</td>\n",
       "      <td>NaN</td>\n",
       "      <td>MORA ST</td>\n",
       "      <td>42.282081</td>\n",
       "      <td>-71.073648</td>\n",
       "      <td>(42.28208100, -71.07364800)</td>\n",
       "    </tr>\n",
       "    <tr>\n",
       "      <th>784768</th>\n",
       "      <td>102091671</td>\n",
       "      <td>2647</td>\n",
       "      <td>NaN</td>\n",
       "      <td>THREATS TO DO BODILY HARM</td>\n",
       "      <td>B3</td>\n",
       "      <td>417</td>\n",
       "      <td>0</td>\n",
       "      <td>2019-11-12 12:00:00</td>\n",
       "      <td>2019</td>\n",
       "      <td>11</td>\n",
       "      <td>Tuesday</td>\n",
       "      <td>12</td>\n",
       "      <td>NaN</td>\n",
       "      <td>MORA ST</td>\n",
       "      <td>42.282081</td>\n",
       "      <td>-71.073648</td>\n",
       "      <td>(42.28208100, -71.07364800)</td>\n",
       "    </tr>\n",
       "    <tr>\n",
       "      <th>784769</th>\n",
       "      <td>102091671</td>\n",
       "      <td>2647</td>\n",
       "      <td>NaN</td>\n",
       "      <td>THREATS TO DO BODILY HARM</td>\n",
       "      <td>B3</td>\n",
       "      <td>417</td>\n",
       "      <td>0</td>\n",
       "      <td>2019-11-12 12:00:00</td>\n",
       "      <td>2019</td>\n",
       "      <td>11</td>\n",
       "      <td>Tuesday</td>\n",
       "      <td>12</td>\n",
       "      <td>NaN</td>\n",
       "      <td>MORA ST</td>\n",
       "      <td>42.282081</td>\n",
       "      <td>-71.073648</td>\n",
       "      <td>(42.28208100, -71.07364800)</td>\n",
       "    </tr>\n",
       "    <tr>\n",
       "      <th>784770</th>\n",
       "      <td>102091671</td>\n",
       "      <td>2647</td>\n",
       "      <td>NaN</td>\n",
       "      <td>THREATS TO DO BODILY HARM</td>\n",
       "      <td>B3</td>\n",
       "      <td>417</td>\n",
       "      <td>0</td>\n",
       "      <td>2019-11-12 12:00:00</td>\n",
       "      <td>2019</td>\n",
       "      <td>11</td>\n",
       "      <td>Tuesday</td>\n",
       "      <td>12</td>\n",
       "      <td>NaN</td>\n",
       "      <td>MORA ST</td>\n",
       "      <td>42.282081</td>\n",
       "      <td>-71.073648</td>\n",
       "      <td>(42.28208100, -71.07364800)</td>\n",
       "    </tr>\n",
       "  </tbody>\n",
       "</table>\n",
       "</div>"
      ],
      "text/plain": [
       "       INCIDENT_NUMBER  OFFENSE_CODE OFFENSE_CODE_GROUP  \\\n",
       "784761       102091671          2647                NaN   \n",
       "784762       102091671          2647                NaN   \n",
       "784763       102091671          2647                NaN   \n",
       "784764       102091671          2647                NaN   \n",
       "784765       102091671          2647                NaN   \n",
       "784766       102091671          2647                NaN   \n",
       "784767       102091671          2647                NaN   \n",
       "784768       102091671          2647                NaN   \n",
       "784769       102091671          2647                NaN   \n",
       "784770       102091671          2647                NaN   \n",
       "\n",
       "              OFFENSE_DESCRIPTION DISTRICT REPORTING_AREA SHOOTING  \\\n",
       "784761  THREATS TO DO BODILY HARM       B3            417        0   \n",
       "784762  THREATS TO DO BODILY HARM       B3            417        0   \n",
       "784763  THREATS TO DO BODILY HARM       B3            417        0   \n",
       "784764  THREATS TO DO BODILY HARM       B3            417        0   \n",
       "784765  THREATS TO DO BODILY HARM       B3            417        0   \n",
       "784766  THREATS TO DO BODILY HARM       B3            417        0   \n",
       "784767  THREATS TO DO BODILY HARM       B3            417        0   \n",
       "784768  THREATS TO DO BODILY HARM       B3            417        0   \n",
       "784769  THREATS TO DO BODILY HARM       B3            417        0   \n",
       "784770  THREATS TO DO BODILY HARM       B3            417        0   \n",
       "\n",
       "           OCCURRED_ON_DATE  YEAR  MONTH DAY_OF_WEEK  HOUR UCR_PART   STREET  \\\n",
       "784761  2019-11-12 12:00:00  2019     11     Tuesday    12      NaN  MORA ST   \n",
       "784762  2019-11-12 12:00:00  2019     11     Tuesday    12      NaN  MORA ST   \n",
       "784763  2019-11-12 12:00:00  2019     11     Tuesday    12      NaN  MORA ST   \n",
       "784764  2019-11-12 12:00:00  2019     11     Tuesday    12      NaN  MORA ST   \n",
       "784765  2019-11-12 12:00:00  2019     11     Tuesday    12      NaN  MORA ST   \n",
       "784766  2019-11-12 12:00:00  2019     11     Tuesday    12      NaN  MORA ST   \n",
       "784767  2019-11-12 12:00:00  2019     11     Tuesday    12      NaN  MORA ST   \n",
       "784768  2019-11-12 12:00:00  2019     11     Tuesday    12      NaN  MORA ST   \n",
       "784769  2019-11-12 12:00:00  2019     11     Tuesday    12      NaN  MORA ST   \n",
       "784770  2019-11-12 12:00:00  2019     11     Tuesday    12      NaN  MORA ST   \n",
       "\n",
       "              Lat       Long                     Location  \n",
       "784761  42.282081 -71.073648  (42.28208100, -71.07364800)  \n",
       "784762  42.282081 -71.073648  (42.28208100, -71.07364800)  \n",
       "784763  42.282081 -71.073648  (42.28208100, -71.07364800)  \n",
       "784764  42.282081 -71.073648  (42.28208100, -71.07364800)  \n",
       "784765  42.282081 -71.073648  (42.28208100, -71.07364800)  \n",
       "784766  42.282081 -71.073648  (42.28208100, -71.07364800)  \n",
       "784767  42.282081 -71.073648  (42.28208100, -71.07364800)  \n",
       "784768  42.282081 -71.073648  (42.28208100, -71.07364800)  \n",
       "784769  42.282081 -71.073648  (42.28208100, -71.07364800)  \n",
       "784770  42.282081 -71.073648  (42.28208100, -71.07364800)  "
      ]
     },
     "execution_count": 4,
     "metadata": {},
     "output_type": "execute_result"
    }
   ],
   "source": [
    "df.tail(10)"
   ]
  },
  {
   "cell_type": "markdown",
   "metadata": {},
   "source": [
    "Let us look at the contents of the data-frame ... \n",
    "\n",
    "| Column Name | Description |\n",
    "| :--          | :--- |\n",
    "| [incident_num] [varchar](20) NOT NULL, | Internal BPD report number |\n",
    "| [offense_code][varchar](25) NULL,| Numerical code of offense description |\n",
    "| [Offense_Code_Group_Description][varchar](80) NULL, | Internal categorization of [offense_description] |\n",
    "| [Offense_Description][varchar](80) NULL, | Primary descriptor of incident |\n",
    "| [district] [varchar](10) NULL,| What district the crime was reported in |\n",
    "| [reporting_area] [varchar](10) NULL, | RA number associated with the where the crime was reported from. |\n",
    "| [shooting][char] (1) NULL, | Indicated a shooting took place. |\n",
    "| [occurred_on] [datetime2](7) NULL, | Earliest date and time the incident could have taken place |\n",
    "| [UCR_Part] [varchar](25) NULL,| Universal Crime Reporting Part number (1,2, 3) |\n",
    "| [street] [varchar](50) NULL,| Street name the incident took place |\n",
    "\n",
    "\n",
    "Offense Codes are [available here](https://data.boston.gov/dataset/6220d948-eae2-4e4b-8723-2dc8e67722a3/resource/3aeccf51-a231-4555-ba21-74572b4c33d6/download/rmsoffensecodes.xlsx)\n",
    "\n",
    "We could also look at the offense codes by reading them in as a data-frame. This is an Excel file so we will have to switch to `.read_excel()`\n"
   ]
  },
  {
   "cell_type": "code",
   "execution_count": 6,
   "metadata": {},
   "outputs": [],
   "source": [
    "offense_codes = pd.read_excel(\"https://data.boston.gov/dataset/6220d948-eae2-4e4b-8723-2dc8e67722a3/resource/3aeccf51-a231-4555-ba21-74572b4c33d6/download/rmsoffensecodes.xlsx\")"
   ]
  },
  {
   "cell_type": "code",
   "execution_count": 7,
   "metadata": {},
   "outputs": [
    {
     "name": "stdout",
     "output_type": "stream",
     "text": [
      "     CODE                                       NAME\n",
      "0     612           LARCENY PURSE SNATCH - NO FORCE \n",
      "1     613                        LARCENY SHOPLIFTING\n",
      "2     615    LARCENY THEFT OF MV PARTS & ACCESSORIES\n",
      "3    1731                                     INCEST\n",
      "4    3111                  LICENSE PREMISE VIOLATION\n",
      "..    ...                                        ...\n",
      "571  1806  DRUGS - CLASS B TRAFFICKING OVER 18 GRAMS\n",
      "572  1807  DRUGS - CLASS D TRAFFICKING OVER 50 GRAMS\n",
      "573  1610    HUMAN TRAFFICKING - COMMERCIAL SEX ACTS\n",
      "574  2010                              HOME INVASION\n",
      "575  1620  HUMAN TRAFFICKING - INVOLUNTARY SERVITUDE\n",
      "\n",
      "[576 rows x 2 columns]\n"
     ]
    }
   ],
   "source": [
    "print(offense_codes)"
   ]
  },
  {
   "cell_type": "markdown",
   "metadata": {},
   "source": [
    "The next step would be to see how many data points we have, and what the minimum, maximum values, what is the average, etc. This can be done with `.describe()`"
   ]
  },
  {
   "cell_type": "code",
   "execution_count": 8,
   "metadata": {},
   "outputs": [
    {
     "data": {
      "text/html": [
       "<div>\n",
       "<style scoped>\n",
       "    .dataframe tbody tr th:only-of-type {\n",
       "        vertical-align: middle;\n",
       "    }\n",
       "\n",
       "    .dataframe tbody tr th {\n",
       "        vertical-align: top;\n",
       "    }\n",
       "\n",
       "    .dataframe thead th {\n",
       "        text-align: right;\n",
       "    }\n",
       "</style>\n",
       "<table border=\"1\" class=\"dataframe\">\n",
       "  <thead>\n",
       "    <tr style=\"text-align: right;\">\n",
       "      <th></th>\n",
       "      <th>OFFENSE_CODE</th>\n",
       "      <th>YEAR</th>\n",
       "      <th>MONTH</th>\n",
       "      <th>HOUR</th>\n",
       "      <th>Lat</th>\n",
       "      <th>Long</th>\n",
       "    </tr>\n",
       "  </thead>\n",
       "  <tbody>\n",
       "    <tr>\n",
       "      <th>count</th>\n",
       "      <td>784771.000000</td>\n",
       "      <td>784771.0</td>\n",
       "      <td>784771.000000</td>\n",
       "      <td>784771.000000</td>\n",
       "      <td>767540.000000</td>\n",
       "      <td>767540.000000</td>\n",
       "    </tr>\n",
       "    <tr>\n",
       "      <th>mean</th>\n",
       "      <td>2377.351602</td>\n",
       "      <td>2019.0</td>\n",
       "      <td>10.390184</td>\n",
       "      <td>12.860722</td>\n",
       "      <td>42.314448</td>\n",
       "      <td>-71.073258</td>\n",
       "    </tr>\n",
       "    <tr>\n",
       "      <th>std</th>\n",
       "      <td>1193.299500</td>\n",
       "      <td>0.0</td>\n",
       "      <td>2.030411</td>\n",
       "      <td>6.567807</td>\n",
       "      <td>0.532789</td>\n",
       "      <td>0.868824</td>\n",
       "    </tr>\n",
       "    <tr>\n",
       "      <th>min</th>\n",
       "      <td>111.000000</td>\n",
       "      <td>2019.0</td>\n",
       "      <td>1.000000</td>\n",
       "      <td>0.000000</td>\n",
       "      <td>-1.000000</td>\n",
       "      <td>-71.177457</td>\n",
       "    </tr>\n",
       "    <tr>\n",
       "      <th>25%</th>\n",
       "      <td>802.000000</td>\n",
       "      <td>2019.0</td>\n",
       "      <td>10.000000</td>\n",
       "      <td>9.000000</td>\n",
       "      <td>42.295353</td>\n",
       "      <td>-71.098172</td>\n",
       "    </tr>\n",
       "    <tr>\n",
       "      <th>50%</th>\n",
       "      <td>3006.000000</td>\n",
       "      <td>2019.0</td>\n",
       "      <td>11.000000</td>\n",
       "      <td>14.000000</td>\n",
       "      <td>42.324694</td>\n",
       "      <td>-71.078610</td>\n",
       "    </tr>\n",
       "    <tr>\n",
       "      <th>75%</th>\n",
       "      <td>3301.000000</td>\n",
       "      <td>2019.0</td>\n",
       "      <td>12.000000</td>\n",
       "      <td>18.000000</td>\n",
       "      <td>42.348406</td>\n",
       "      <td>-71.061776</td>\n",
       "    </tr>\n",
       "    <tr>\n",
       "      <th>max</th>\n",
       "      <td>3831.000000</td>\n",
       "      <td>2019.0</td>\n",
       "      <td>12.000000</td>\n",
       "      <td>23.000000</td>\n",
       "      <td>42.395042</td>\n",
       "      <td>0.000000</td>\n",
       "    </tr>\n",
       "  </tbody>\n",
       "</table>\n",
       "</div>"
      ],
      "text/plain": [
       "        OFFENSE_CODE      YEAR          MONTH           HOUR            Lat  \\\n",
       "count  784771.000000  784771.0  784771.000000  784771.000000  767540.000000   \n",
       "mean     2377.351602    2019.0      10.390184      12.860722      42.314448   \n",
       "std      1193.299500       0.0       2.030411       6.567807       0.532789   \n",
       "min       111.000000    2019.0       1.000000       0.000000      -1.000000   \n",
       "25%       802.000000    2019.0      10.000000       9.000000      42.295353   \n",
       "50%      3006.000000    2019.0      11.000000      14.000000      42.324694   \n",
       "75%      3301.000000    2019.0      12.000000      18.000000      42.348406   \n",
       "max      3831.000000    2019.0      12.000000      23.000000      42.395042   \n",
       "\n",
       "                Long  \n",
       "count  767540.000000  \n",
       "mean      -71.073258  \n",
       "std         0.868824  \n",
       "min       -71.177457  \n",
       "25%       -71.098172  \n",
       "50%       -71.078610  \n",
       "75%       -71.061776  \n",
       "max         0.000000  "
      ]
     },
     "execution_count": 8,
     "metadata": {},
     "output_type": "execute_result"
    }
   ],
   "source": [
    "df.describe()"
   ]
  },
  {
   "cell_type": "markdown",
   "metadata": {},
   "source": [
    "By default the command will report the values with decimals but we may not want that. Decimals can be `rounded` or removed altogether as shown below."
   ]
  },
  {
   "cell_type": "code",
   "execution_count": 9,
   "metadata": {},
   "outputs": [
    {
     "data": {
      "text/html": [
       "<div>\n",
       "<style scoped>\n",
       "    .dataframe tbody tr th:only-of-type {\n",
       "        vertical-align: middle;\n",
       "    }\n",
       "\n",
       "    .dataframe tbody tr th {\n",
       "        vertical-align: top;\n",
       "    }\n",
       "\n",
       "    .dataframe thead th {\n",
       "        text-align: right;\n",
       "    }\n",
       "</style>\n",
       "<table border=\"1\" class=\"dataframe\">\n",
       "  <thead>\n",
       "    <tr style=\"text-align: right;\">\n",
       "      <th></th>\n",
       "      <th>OFFENSE_CODE</th>\n",
       "      <th>YEAR</th>\n",
       "      <th>MONTH</th>\n",
       "      <th>HOUR</th>\n",
       "      <th>Lat</th>\n",
       "      <th>Long</th>\n",
       "    </tr>\n",
       "  </thead>\n",
       "  <tbody>\n",
       "    <tr>\n",
       "      <th>count</th>\n",
       "      <td>784771.00</td>\n",
       "      <td>784771.0</td>\n",
       "      <td>784771.00</td>\n",
       "      <td>784771.00</td>\n",
       "      <td>767540.00</td>\n",
       "      <td>767540.00</td>\n",
       "    </tr>\n",
       "    <tr>\n",
       "      <th>mean</th>\n",
       "      <td>2377.35</td>\n",
       "      <td>2019.0</td>\n",
       "      <td>10.39</td>\n",
       "      <td>12.86</td>\n",
       "      <td>42.31</td>\n",
       "      <td>-71.07</td>\n",
       "    </tr>\n",
       "    <tr>\n",
       "      <th>std</th>\n",
       "      <td>1193.30</td>\n",
       "      <td>0.0</td>\n",
       "      <td>2.03</td>\n",
       "      <td>6.57</td>\n",
       "      <td>0.53</td>\n",
       "      <td>0.87</td>\n",
       "    </tr>\n",
       "    <tr>\n",
       "      <th>min</th>\n",
       "      <td>111.00</td>\n",
       "      <td>2019.0</td>\n",
       "      <td>1.00</td>\n",
       "      <td>0.00</td>\n",
       "      <td>-1.00</td>\n",
       "      <td>-71.18</td>\n",
       "    </tr>\n",
       "    <tr>\n",
       "      <th>25%</th>\n",
       "      <td>802.00</td>\n",
       "      <td>2019.0</td>\n",
       "      <td>10.00</td>\n",
       "      <td>9.00</td>\n",
       "      <td>42.30</td>\n",
       "      <td>-71.10</td>\n",
       "    </tr>\n",
       "    <tr>\n",
       "      <th>50%</th>\n",
       "      <td>3006.00</td>\n",
       "      <td>2019.0</td>\n",
       "      <td>11.00</td>\n",
       "      <td>14.00</td>\n",
       "      <td>42.32</td>\n",
       "      <td>-71.08</td>\n",
       "    </tr>\n",
       "    <tr>\n",
       "      <th>75%</th>\n",
       "      <td>3301.00</td>\n",
       "      <td>2019.0</td>\n",
       "      <td>12.00</td>\n",
       "      <td>18.00</td>\n",
       "      <td>42.35</td>\n",
       "      <td>-71.06</td>\n",
       "    </tr>\n",
       "    <tr>\n",
       "      <th>max</th>\n",
       "      <td>3831.00</td>\n",
       "      <td>2019.0</td>\n",
       "      <td>12.00</td>\n",
       "      <td>23.00</td>\n",
       "      <td>42.40</td>\n",
       "      <td>0.00</td>\n",
       "    </tr>\n",
       "  </tbody>\n",
       "</table>\n",
       "</div>"
      ],
      "text/plain": [
       "       OFFENSE_CODE      YEAR      MONTH       HOUR        Lat       Long\n",
       "count     784771.00  784771.0  784771.00  784771.00  767540.00  767540.00\n",
       "mean        2377.35    2019.0      10.39      12.86      42.31     -71.07\n",
       "std         1193.30       0.0       2.03       6.57       0.53       0.87\n",
       "min          111.00    2019.0       1.00       0.00      -1.00     -71.18\n",
       "25%          802.00    2019.0      10.00       9.00      42.30     -71.10\n",
       "50%         3006.00    2019.0      11.00      14.00      42.32     -71.08\n",
       "75%         3301.00    2019.0      12.00      18.00      42.35     -71.06\n",
       "max         3831.00    2019.0      12.00      23.00      42.40       0.00"
      ]
     },
     "execution_count": 9,
     "metadata": {},
     "output_type": "execute_result"
    }
   ],
   "source": [
    "df.describe().round(2)"
   ]
  },
  {
   "cell_type": "code",
   "execution_count": 10,
   "metadata": {},
   "outputs": [
    {
     "data": {
      "text/html": [
       "<div>\n",
       "<style scoped>\n",
       "    .dataframe tbody tr th:only-of-type {\n",
       "        vertical-align: middle;\n",
       "    }\n",
       "\n",
       "    .dataframe tbody tr th {\n",
       "        vertical-align: top;\n",
       "    }\n",
       "\n",
       "    .dataframe thead th {\n",
       "        text-align: right;\n",
       "    }\n",
       "</style>\n",
       "<table border=\"1\" class=\"dataframe\">\n",
       "  <thead>\n",
       "    <tr style=\"text-align: right;\">\n",
       "      <th></th>\n",
       "      <th>OFFENSE_CODE</th>\n",
       "      <th>YEAR</th>\n",
       "      <th>MONTH</th>\n",
       "      <th>HOUR</th>\n",
       "      <th>Lat</th>\n",
       "      <th>Long</th>\n",
       "    </tr>\n",
       "  </thead>\n",
       "  <tbody>\n",
       "    <tr>\n",
       "      <th>count</th>\n",
       "      <td>784771.0</td>\n",
       "      <td>784771.0</td>\n",
       "      <td>784771.0</td>\n",
       "      <td>784771.0</td>\n",
       "      <td>767540.0</td>\n",
       "      <td>767540.0</td>\n",
       "    </tr>\n",
       "    <tr>\n",
       "      <th>mean</th>\n",
       "      <td>2377.0</td>\n",
       "      <td>2019.0</td>\n",
       "      <td>10.0</td>\n",
       "      <td>13.0</td>\n",
       "      <td>42.0</td>\n",
       "      <td>-71.0</td>\n",
       "    </tr>\n",
       "    <tr>\n",
       "      <th>std</th>\n",
       "      <td>1193.0</td>\n",
       "      <td>0.0</td>\n",
       "      <td>2.0</td>\n",
       "      <td>7.0</td>\n",
       "      <td>1.0</td>\n",
       "      <td>1.0</td>\n",
       "    </tr>\n",
       "    <tr>\n",
       "      <th>min</th>\n",
       "      <td>111.0</td>\n",
       "      <td>2019.0</td>\n",
       "      <td>1.0</td>\n",
       "      <td>0.0</td>\n",
       "      <td>-1.0</td>\n",
       "      <td>-71.0</td>\n",
       "    </tr>\n",
       "    <tr>\n",
       "      <th>25%</th>\n",
       "      <td>802.0</td>\n",
       "      <td>2019.0</td>\n",
       "      <td>10.0</td>\n",
       "      <td>9.0</td>\n",
       "      <td>42.0</td>\n",
       "      <td>-71.0</td>\n",
       "    </tr>\n",
       "    <tr>\n",
       "      <th>50%</th>\n",
       "      <td>3006.0</td>\n",
       "      <td>2019.0</td>\n",
       "      <td>11.0</td>\n",
       "      <td>14.0</td>\n",
       "      <td>42.0</td>\n",
       "      <td>-71.0</td>\n",
       "    </tr>\n",
       "    <tr>\n",
       "      <th>75%</th>\n",
       "      <td>3301.0</td>\n",
       "      <td>2019.0</td>\n",
       "      <td>12.0</td>\n",
       "      <td>18.0</td>\n",
       "      <td>42.0</td>\n",
       "      <td>-71.0</td>\n",
       "    </tr>\n",
       "    <tr>\n",
       "      <th>max</th>\n",
       "      <td>3831.0</td>\n",
       "      <td>2019.0</td>\n",
       "      <td>12.0</td>\n",
       "      <td>23.0</td>\n",
       "      <td>42.0</td>\n",
       "      <td>0.0</td>\n",
       "    </tr>\n",
       "  </tbody>\n",
       "</table>\n",
       "</div>"
      ],
      "text/plain": [
       "       OFFENSE_CODE      YEAR     MONTH      HOUR       Lat      Long\n",
       "count      784771.0  784771.0  784771.0  784771.0  767540.0  767540.0\n",
       "mean         2377.0    2019.0      10.0      13.0      42.0     -71.0\n",
       "std          1193.0       0.0       2.0       7.0       1.0       1.0\n",
       "min           111.0    2019.0       1.0       0.0      -1.0     -71.0\n",
       "25%           802.0    2019.0      10.0       9.0      42.0     -71.0\n",
       "50%          3006.0    2019.0      11.0      14.0      42.0     -71.0\n",
       "75%          3301.0    2019.0      12.0      18.0      42.0     -71.0\n",
       "max          3831.0    2019.0      12.0      23.0      42.0       0.0"
      ]
     },
     "execution_count": 10,
     "metadata": {},
     "output_type": "execute_result"
    }
   ],
   "source": [
    "df.describe().round(0)"
   ]
  },
  {
   "cell_type": "markdown",
   "metadata": {},
   "source": [
    "Note a few things here. \n",
    "\n",
    "* We have a total of 515082 incidents logged. But the latitude and longitude are availale for no more than 485909 incidents. \n"
   ]
  },
  {
   "cell_type": "markdown",
   "metadata": {},
   "source": [
    "Say we want to restrict the dataframe just to 2020. How can we do that?"
   ]
  },
  {
   "cell_type": "markdown",
   "metadata": {},
   "source": [
    "df20 = df[ df['YEAR'] == 2020 ]"
   ]
  },
  {
   "cell_type": "markdown",
   "metadata": {},
   "source": [
    "Notice the sequence here `dataframe[ dataframe['column-name'] == somevalue ]` & pay attention to the double equal sign `==` which is a strict equality. "
   ]
  },
  {
   "cell_type": "markdown",
   "metadata": {},
   "source": [
    "At this point we might be curious to know what types of offenses are most often reported? Before we that, however, let us also see how many unique values of OFFENSE_CODE are there"
   ]
  },
  {
   "cell_type": "code",
   "execution_count": 15,
   "metadata": {},
   "outputs": [
    {
     "data": {
      "text/plain": [
       "194"
      ]
     },
     "execution_count": 15,
     "metadata": {},
     "output_type": "execute_result"
    }
   ],
   "source": [
    "df['OFFENSE_CODE'].nunique()"
   ]
  },
  {
   "cell_type": "code",
   "execution_count": 16,
   "metadata": {},
   "outputs": [
    {
     "data": {
      "text/plain": [
       "222"
      ]
     },
     "execution_count": 16,
     "metadata": {},
     "output_type": "execute_result"
    }
   ],
   "source": [
    "df['OFFENSE_DESCRIPTION'].nunique()"
   ]
  },
  {
   "cell_type": "code",
   "execution_count": 19,
   "metadata": {},
   "outputs": [],
   "source": [
    "off_des = df['OFFENSE_DESCRIPTION'] \n",
    "\n",
    "off_des.to_csv('~/Downloads/off_desc.csv', index=False)"
   ]
  },
  {
   "cell_type": "code",
   "execution_count": 14,
   "metadata": {},
   "outputs": [
    {
     "data": {
      "text/plain": [
       "3301    63919\n",
       "3115    55067\n",
       "801     47641\n",
       "3831    40144\n",
       "3005    31233\n",
       "        ...  \n",
       "121         1\n",
       "2672        1\n",
       "1502        1\n",
       "2663        1\n",
       "2636        1\n",
       "Name: OFFENSE_CODE, Length: 194, dtype: int64"
      ]
     },
     "execution_count": 14,
     "metadata": {},
     "output_type": "execute_result"
    }
   ],
   "source": [
    "df['OFFENSE_CODE'].value_counts()"
   ]
  },
  {
   "cell_type": "markdown",
   "metadata": {},
   "source": [
    "So code 3301 leads with 6234 reports in 2020, followed by code 3115, then 801, then 3005, and then 3831. Code 3005 is missing from their list so we have no idea what it is!! That is a crime in itself.   "
   ]
  },
  {
   "cell_type": "code",
   "execution_count": null,
   "metadata": {},
   "outputs": [],
   "source": [
    "# Just another way to accomplish the same thing but in a more complicated way.\n",
    "\n",
    "df.groupby('OFFENSE_CODE')['OFFENSE_CODE'].count().reset_index(name='count').sort_values(['count'], ascending = False) "
   ]
  },
  {
   "cell_type": "markdown",
   "metadata": {},
   "source": [
    "Let us focus in on these verbal disputes. We will do so by creating a new dataframe that is only for OFFENSE_CODE 3301."
   ]
  },
  {
   "cell_type": "code",
   "execution_count": null,
   "metadata": {},
   "outputs": [],
   "source": [
    "dfverbal = df20[ df20['OFFENSE_CODE'] == 3301 ]"
   ]
  },
  {
   "cell_type": "code",
   "execution_count": null,
   "metadata": {},
   "outputs": [],
   "source": [
    "# Now we see this dataframe just to check\n",
    "\n",
    "dfverbal"
   ]
  },
  {
   "cell_type": "markdown",
   "metadata": {},
   "source": [
    "Which days of the week have more verbal disputes?"
   ]
  },
  {
   "cell_type": "code",
   "execution_count": null,
   "metadata": {},
   "outputs": [],
   "source": [
    "dfverbal['DAY_OF_WEEK'].value_counts()"
   ]
  },
  {
   "cell_type": "markdown",
   "metadata": {},
   "source": [
    "Which hour, which streets have the most verbal disputes?"
   ]
  },
  {
   "cell_type": "code",
   "execution_count": null,
   "metadata": {},
   "outputs": [],
   "source": [
    "dfverbal['HOUR'].value_counts()"
   ]
  },
  {
   "cell_type": "code",
   "execution_count": null,
   "metadata": {},
   "outputs": [],
   "source": [
    "dfverbal['STREET'].value_counts()"
   ]
  },
  {
   "cell_type": "markdown",
   "metadata": {},
   "source": [
    "What districts are the worst?"
   ]
  },
  {
   "cell_type": "code",
   "execution_count": null,
   "metadata": {},
   "outputs": [],
   "source": [
    "dfverbal['DISTRICT'].value_counts()"
   ]
  },
  {
   "cell_type": "markdown",
   "metadata": {},
   "source": [
    "Lookup districts C11, B3, and B2 ... what areas are these?"
   ]
  },
  {
   "cell_type": "markdown",
   "metadata": {},
   "source": [
    "# Practice Task 01\n",
    "\n",
    "Pick another data-set from `data.boston.gov` and go through the same commands, picking some interesting element of the dataframe to explore"
   ]
  },
  {
   "cell_type": "code",
   "execution_count": null,
   "metadata": {},
   "outputs": [],
   "source": []
  },
  {
   "cell_type": "markdown",
   "metadata": {},
   "source": [
    " ## What if we have local data, sitting in a folder called, data?¶"
   ]
  },
  {
   "cell_type": "code",
   "execution_count": null,
   "metadata": {},
   "outputs": [],
   "source": [
    "bm15 = pd.read_csv(\"data/marathon_results_2015.csv\")\n",
    "bm15.head()"
   ]
  },
  {
   "cell_type": "code",
   "execution_count": null,
   "metadata": {},
   "outputs": [],
   "source": [
    "bm16 = pd.read_csv(\"data/marathon_results_2016.csv\")\n",
    "bm16.head()"
   ]
  },
  {
   "cell_type": "code",
   "execution_count": null,
   "metadata": {},
   "outputs": [],
   "source": [
    "bm17 = pd.read_csv(\"data/marathon_results_2017.csv\")\n",
    "bm17.head()"
   ]
  },
  {
   "cell_type": "markdown",
   "metadata": {},
   "source": [
    "Notice the extra first column in `bm15` and `bm17` ... these should be dropped. \n",
    "\n",
    "We can then create an indicator for which year the race data are from, and then combine all three data-frames so that we have a single file. When we do this we will write it out as a `csv` file too."
   ]
  },
  {
   "cell_type": "code",
   "execution_count": null,
   "metadata": {},
   "outputs": [],
   "source": [
    "bm15 = bm15.drop(columns = ['Unnamed: 0', 'Unnamed: 9'])\n",
    "bm15.head()"
   ]
  },
  {
   "cell_type": "code",
   "execution_count": null,
   "metadata": {},
   "outputs": [],
   "source": [
    "bm17 = bm17.drop(columns = ['Unnamed: 0', 'Unnamed: 9'])\n",
    "bm17.head()"
   ]
  },
  {
   "cell_type": "code",
   "execution_count": null,
   "metadata": {},
   "outputs": [],
   "source": [
    "bm15['Year'] = '2015'\n",
    "bm16['Year'] = '2016'\n",
    "bm17['Year'] = '2017'"
   ]
  },
  {
   "cell_type": "markdown",
   "metadata": {},
   "source": [
    "Now we bind the rows (i.e., stack one data-frame on top of the other with `concat( [dfi, dfj, dfk] ) "
   ]
  },
  {
   "cell_type": "code",
   "execution_count": null,
   "metadata": {},
   "outputs": [],
   "source": [
    "bm_df = pd.concat([bm15, bm16, bm17])"
   ]
  },
  {
   "cell_type": "code",
   "execution_count": null,
   "metadata": {},
   "outputs": [],
   "source": [
    "bm_df.shape \n",
    "\n",
    "# How many rows and how many columns do we have? \n",
    "# This is a good step to check if we stacked the data-frames correctly or not"
   ]
  },
  {
   "cell_type": "markdown",
   "metadata": {},
   "source": [
    "### How many runners per year?"
   ]
  },
  {
   "cell_type": "code",
   "execution_count": null,
   "metadata": {},
   "outputs": [],
   "source": [
    "bm_df['Year'].value_counts()"
   ]
  },
  {
   "cell_type": "markdown",
   "metadata": {},
   "source": [
    "### How many Male/Female runners per year?"
   ]
  },
  {
   "cell_type": "code",
   "execution_count": null,
   "metadata": {},
   "outputs": [],
   "source": [
    "bm_df.groupby('M/F')['Year'].value_counts()"
   ]
  },
  {
   "cell_type": "code",
   "execution_count": null,
   "metadata": {},
   "outputs": [],
   "source": [
    "# The proportion of Male/Female runners, by Year\n",
    "\n",
    "bm_df.groupby('Year')['M/F'].value_counts(normalize = True)"
   ]
  }
 ],
 "metadata": {
  "kernelspec": {
   "display_name": "Python 3",
   "language": "python",
   "name": "python3"
  },
  "language_info": {
   "codemirror_mode": {
    "name": "ipython",
    "version": 3
   },
   "file_extension": ".py",
   "mimetype": "text/x-python",
   "name": "python",
   "nbconvert_exporter": "python",
   "pygments_lexer": "ipython3",
   "version": "3.7.9"
  }
 },
 "nbformat": 4,
 "nbformat_minor": 4
}
