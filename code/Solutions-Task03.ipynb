{
 "cells": [
  {
   "cell_type": "markdown",
   "id": "be91dde0-5856-43ff-990e-2dec3c2df008",
   "metadata": {},
   "source": [
    "# Task 03"
   ]
  },
  {
   "cell_type": "markdown",
   "id": "14a86596-132a-4dcc-9453-2a469cd49a35",
   "metadata": {},
   "source": [
    "Build out this notebook by creating Code cells that include commands to complete the following tasks."
   ]
  },
  {
   "cell_type": "markdown",
   "id": "884a309b-e64a-453f-a35f-392ab5abb08b",
   "metadata": {},
   "source": [
    "## Problem 01\n",
    "\n",
    "Tidy the `gapw.df` data saved by the code chunk below. "
   ]
  },
  {
   "cell_type": "code",
   "execution_count": 1,
   "id": "9704d37d-3abc-4421-92fd-1f3fdf075edb",
   "metadata": {},
   "outputs": [
    {
     "name": "stderr",
     "output_type": "stream",
     "text": [
      "── \u001b[1mAttaching packages\u001b[22m ─────────────────────────────────────── tidyverse 1.3.1 ──\n",
      "\n",
      "\u001b[32m✔\u001b[39m \u001b[34mggplot2\u001b[39m 3.3.5     \u001b[32m✔\u001b[39m \u001b[34mpurrr  \u001b[39m 0.3.4\n",
      "\u001b[32m✔\u001b[39m \u001b[34mtibble \u001b[39m 3.1.5     \u001b[32m✔\u001b[39m \u001b[34mdplyr  \u001b[39m 1.0.7\n",
      "\u001b[32m✔\u001b[39m \u001b[34mtidyr  \u001b[39m 1.1.4     \u001b[32m✔\u001b[39m \u001b[34mstringr\u001b[39m 1.4.0\n",
      "\u001b[32m✔\u001b[39m \u001b[34mreadr  \u001b[39m 2.0.2     \u001b[32m✔\u001b[39m \u001b[34mforcats\u001b[39m 0.5.1\n",
      "\n",
      "── \u001b[1mConflicts\u001b[22m ────────────────────────────────────────── tidyverse_conflicts() ──\n",
      "\u001b[31m✖\u001b[39m \u001b[34mdplyr\u001b[39m::\u001b[32mfilter()\u001b[39m masks \u001b[34mstats\u001b[39m::filter()\n",
      "\u001b[31m✖\u001b[39m \u001b[34mdplyr\u001b[39m::\u001b[32mlag()\u001b[39m    masks \u001b[34mstats\u001b[39m::lag()\n",
      "\n",
      "\u001b[1mRows: \u001b[22m\u001b[34m142\u001b[39m \u001b[1mColumns: \u001b[22m\u001b[34m38\u001b[39m\n",
      "\n",
      "\u001b[36m──\u001b[39m \u001b[1mColumn specification\u001b[22m \u001b[36m────────────────────────────────────────────────────────\u001b[39m\n",
      "\u001b[1mDelimiter:\u001b[22m \",\"\n",
      "\u001b[31mchr\u001b[39m  (2): continent, country\n",
      "\u001b[32mdbl\u001b[39m (36): gdpPercap_1952, gdpPercap_1957, gdpPercap_1962, gdpPercap_1967, gd...\n",
      "\n",
      "\n",
      "\u001b[36mℹ\u001b[39m Use \u001b[30m\u001b[47m\u001b[30m\u001b[47m`spec()`\u001b[47m\u001b[30m\u001b[49m\u001b[39m to retrieve the full column specification for this data.\n",
      "\u001b[36mℹ\u001b[39m Specify the column types or set \u001b[30m\u001b[47m\u001b[30m\u001b[47m`show_col_types = FALSE`\u001b[47m\u001b[30m\u001b[49m\u001b[39m to quiet this message.\n",
      "\n"
     ]
    }
   ],
   "source": [
    "library(tidyverse)\n",
    "\n",
    "read_csv(\n",
    "    'https://raw.githubusercontent.com/OHI-Science/data-science-training/master/data/gapminder_wide.csv'\n",
    "    ) -> gapw.df \n",
    "\n",
    "save(gapw.df, file = \"data/gapw.df.RData\")"
   ]
  },
  {
   "cell_type": "markdown",
   "id": "9300cc14-a31a-4dcb-880b-69b314fd6b74",
   "metadata": {},
   "source": [
    "The end result should be a tidy data-frame, called `gapw.df.tidy` that looks like this:"
   ]
  },
  {
   "cell_type": "raw",
   "id": "37ba2acb-4ed2-43a4-af57-027704338b66",
   "metadata": {},
   "source": [
    "# A tibble: 1,704 x 6\n",
    "# Groups:   continent, country [142]\n",
    "   continent country year  gdpPercap lifeExp      pop\n",
    "   <chr>     <chr>   <chr>     <dbl>   <dbl>    <dbl>\n",
    " 1 Africa    Algeria 1952      2449.    43.1  9279525\n",
    " 2 Africa    Algeria 1957      3014.    45.7 10270856\n",
    " 3 Africa    Algeria 1962      2551.    48.3 11000948\n",
    " 4 Africa    Algeria 1967      3247.    51.4 12760499\n",
    " 5 Africa    Algeria 1972      4183.    54.5 14760787\n",
    " 6 Africa    Algeria 1977      4910.    58.0 17152804\n",
    " 7 Africa    Algeria 1982      5745.    61.4 20033753\n",
    " 8 Africa    Algeria 1987      5681.    65.8 23254956\n",
    " 9 Africa    Algeria 1992      5023.    67.7 26298373\n",
    "10 Africa    Algeria 1997      4797.    69.2 29072015\n",
    "# … with 1,694 more rows"
   ]
  },
  {
   "cell_type": "code",
   "execution_count": 3,
   "id": "9cb05762-d510-45bb-a971-7c64429b222d",
   "metadata": {},
   "outputs": [
    {
     "data": {
      "text/html": [
       "<style>\n",
       ".list-inline {list-style: none; margin:0; padding: 0}\n",
       ".list-inline>li {display: inline-block}\n",
       ".list-inline>li:not(:last-child)::after {content: \"\\00b7\"; padding: 0 .5ex}\n",
       "</style>\n",
       "<ol class=list-inline><li>142</li><li>38</li></ol>\n"
      ],
      "text/latex": [
       "\\begin{enumerate*}\n",
       "\\item 142\n",
       "\\item 38\n",
       "\\end{enumerate*}\n"
      ],
      "text/markdown": [
       "1. 142\n",
       "2. 38\n",
       "\n",
       "\n"
      ],
      "text/plain": [
       "[1] 142  38"
      ]
     },
     "metadata": {},
     "output_type": "display_data"
    }
   ],
   "source": [
    "dim(gapw.df)"
   ]
  },
  {
   "cell_type": "code",
   "execution_count": 6,
   "id": "4a1b1e6e-a740-4f3e-bcb6-84eb99aed64a",
   "metadata": {},
   "outputs": [],
   "source": [
    "gapw.df %>%\n",
    "  group_by(country) %>%\n",
    "  pivot_longer(\n",
    "    names_to = \"variable\",\n",
    "    values_to = \"values\",\n",
    "    cols = 3:38\n",
    "  ) -> gapw.df.long"
   ]
  },
  {
   "cell_type": "code",
   "execution_count": 5,
   "id": "4d47493f-ee34-4c35-b19d-64fd809bf91c",
   "metadata": {},
   "outputs": [
    {
     "data": {
      "text/html": [
       "<table class=\"dataframe\">\n",
       "<caption>A grouped_df: 6 × 4</caption>\n",
       "<thead>\n",
       "\t<tr><th scope=col>continent</th><th scope=col>country</th><th scope=col>year1</th><th scope=col>gdpPercap</th></tr>\n",
       "\t<tr><th scope=col>&lt;chr&gt;</th><th scope=col>&lt;chr&gt;</th><th scope=col>&lt;chr&gt;</th><th scope=col>&lt;dbl&gt;</th></tr>\n",
       "</thead>\n",
       "<tbody>\n",
       "\t<tr><td>Africa</td><td>Algeria</td><td>gdpPercap_1952</td><td>2449.008</td></tr>\n",
       "\t<tr><td>Africa</td><td>Algeria</td><td>gdpPercap_1957</td><td>3013.976</td></tr>\n",
       "\t<tr><td>Africa</td><td>Algeria</td><td>gdpPercap_1962</td><td>2550.817</td></tr>\n",
       "\t<tr><td>Africa</td><td>Algeria</td><td>gdpPercap_1967</td><td>3246.992</td></tr>\n",
       "\t<tr><td>Africa</td><td>Algeria</td><td>gdpPercap_1972</td><td>4182.664</td></tr>\n",
       "\t<tr><td>Africa</td><td>Algeria</td><td>gdpPercap_1977</td><td>4910.417</td></tr>\n",
       "</tbody>\n",
       "</table>\n"
      ],
      "text/latex": [
       "A grouped\\_df: 6 × 4\n",
       "\\begin{tabular}{llll}\n",
       " continent & country & year1 & gdpPercap\\\\\n",
       " <chr> & <chr> & <chr> & <dbl>\\\\\n",
       "\\hline\n",
       "\t Africa & Algeria & gdpPercap\\_1952 & 2449.008\\\\\n",
       "\t Africa & Algeria & gdpPercap\\_1957 & 3013.976\\\\\n",
       "\t Africa & Algeria & gdpPercap\\_1962 & 2550.817\\\\\n",
       "\t Africa & Algeria & gdpPercap\\_1967 & 3246.992\\\\\n",
       "\t Africa & Algeria & gdpPercap\\_1972 & 4182.664\\\\\n",
       "\t Africa & Algeria & gdpPercap\\_1977 & 4910.417\\\\\n",
       "\\end{tabular}\n"
      ],
      "text/markdown": [
       "\n",
       "A grouped_df: 6 × 4\n",
       "\n",
       "| continent &lt;chr&gt; | country &lt;chr&gt; | year1 &lt;chr&gt; | gdpPercap &lt;dbl&gt; |\n",
       "|---|---|---|---|\n",
       "| Africa | Algeria | gdpPercap_1952 | 2449.008 |\n",
       "| Africa | Algeria | gdpPercap_1957 | 3013.976 |\n",
       "| Africa | Algeria | gdpPercap_1962 | 2550.817 |\n",
       "| Africa | Algeria | gdpPercap_1967 | 3246.992 |\n",
       "| Africa | Algeria | gdpPercap_1972 | 4182.664 |\n",
       "| Africa | Algeria | gdpPercap_1977 | 4910.417 |\n",
       "\n"
      ],
      "text/plain": [
       "  continent country year1          gdpPercap\n",
       "1 Africa    Algeria gdpPercap_1952 2449.008 \n",
       "2 Africa    Algeria gdpPercap_1957 3013.976 \n",
       "3 Africa    Algeria gdpPercap_1962 2550.817 \n",
       "4 Africa    Algeria gdpPercap_1967 3246.992 \n",
       "5 Africa    Algeria gdpPercap_1972 4182.664 \n",
       "6 Africa    Algeria gdpPercap_1977 4910.417 "
      ]
     },
     "metadata": {},
     "output_type": "display_data"
    }
   ],
   "source": [
    "head(gapw.df.long)"
   ]
  },
  {
   "cell_type": "code",
   "execution_count": 7,
   "id": "ef231594-2b80-4980-82a8-e190c913e487",
   "metadata": {},
   "outputs": [],
   "source": [
    "gapw.df.long %>%\n",
    "    separate(\n",
    "        variable,\n",
    "        into = c(\"measure\", \"year\"),\n",
    "        sep = \"_\",\n",
    "    remove = TRUE\n",
    "    ) -> gapw.df.long.2"
   ]
  },
  {
   "cell_type": "code",
   "execution_count": 8,
   "id": "a880764f-e604-4ced-86b5-5d39dd7885f5",
   "metadata": {},
   "outputs": [
    {
     "data": {
      "text/html": [
       "<table class=\"dataframe\">\n",
       "<caption>A grouped_df: 6 × 5</caption>\n",
       "<thead>\n",
       "\t<tr><th scope=col>continent</th><th scope=col>country</th><th scope=col>measure</th><th scope=col>year</th><th scope=col>values</th></tr>\n",
       "\t<tr><th scope=col>&lt;chr&gt;</th><th scope=col>&lt;chr&gt;</th><th scope=col>&lt;chr&gt;</th><th scope=col>&lt;chr&gt;</th><th scope=col>&lt;dbl&gt;</th></tr>\n",
       "</thead>\n",
       "<tbody>\n",
       "\t<tr><td>Africa</td><td>Algeria</td><td>gdpPercap</td><td>1952</td><td>2449.008</td></tr>\n",
       "\t<tr><td>Africa</td><td>Algeria</td><td>gdpPercap</td><td>1957</td><td>3013.976</td></tr>\n",
       "\t<tr><td>Africa</td><td>Algeria</td><td>gdpPercap</td><td>1962</td><td>2550.817</td></tr>\n",
       "\t<tr><td>Africa</td><td>Algeria</td><td>gdpPercap</td><td>1967</td><td>3246.992</td></tr>\n",
       "\t<tr><td>Africa</td><td>Algeria</td><td>gdpPercap</td><td>1972</td><td>4182.664</td></tr>\n",
       "\t<tr><td>Africa</td><td>Algeria</td><td>gdpPercap</td><td>1977</td><td>4910.417</td></tr>\n",
       "</tbody>\n",
       "</table>\n"
      ],
      "text/latex": [
       "A grouped\\_df: 6 × 5\n",
       "\\begin{tabular}{lllll}\n",
       " continent & country & measure & year & values\\\\\n",
       " <chr> & <chr> & <chr> & <chr> & <dbl>\\\\\n",
       "\\hline\n",
       "\t Africa & Algeria & gdpPercap & 1952 & 2449.008\\\\\n",
       "\t Africa & Algeria & gdpPercap & 1957 & 3013.976\\\\\n",
       "\t Africa & Algeria & gdpPercap & 1962 & 2550.817\\\\\n",
       "\t Africa & Algeria & gdpPercap & 1967 & 3246.992\\\\\n",
       "\t Africa & Algeria & gdpPercap & 1972 & 4182.664\\\\\n",
       "\t Africa & Algeria & gdpPercap & 1977 & 4910.417\\\\\n",
       "\\end{tabular}\n"
      ],
      "text/markdown": [
       "\n",
       "A grouped_df: 6 × 5\n",
       "\n",
       "| continent &lt;chr&gt; | country &lt;chr&gt; | measure &lt;chr&gt; | year &lt;chr&gt; | values &lt;dbl&gt; |\n",
       "|---|---|---|---|---|\n",
       "| Africa | Algeria | gdpPercap | 1952 | 2449.008 |\n",
       "| Africa | Algeria | gdpPercap | 1957 | 3013.976 |\n",
       "| Africa | Algeria | gdpPercap | 1962 | 2550.817 |\n",
       "| Africa | Algeria | gdpPercap | 1967 | 3246.992 |\n",
       "| Africa | Algeria | gdpPercap | 1972 | 4182.664 |\n",
       "| Africa | Algeria | gdpPercap | 1977 | 4910.417 |\n",
       "\n"
      ],
      "text/plain": [
       "  continent country measure   year values  \n",
       "1 Africa    Algeria gdpPercap 1952 2449.008\n",
       "2 Africa    Algeria gdpPercap 1957 3013.976\n",
       "3 Africa    Algeria gdpPercap 1962 2550.817\n",
       "4 Africa    Algeria gdpPercap 1967 3246.992\n",
       "5 Africa    Algeria gdpPercap 1972 4182.664\n",
       "6 Africa    Algeria gdpPercap 1977 4910.417"
      ]
     },
     "metadata": {},
     "output_type": "display_data"
    }
   ],
   "source": [
    "head(gapw.df.long.2)"
   ]
  },
  {
   "cell_type": "code",
   "execution_count": 9,
   "id": "167c22a8-31e5-42da-8928-92952a4a6539",
   "metadata": {},
   "outputs": [],
   "source": [
    "gapw.df.long.2 %>%\n",
    "    group_by(continent, country, year) %>%\n",
    "    pivot_wider(\n",
    "        names_from = measure,\n",
    "        values_from = values\n",
    "    ) -> gapw.df.wide"
   ]
  },
  {
   "cell_type": "code",
   "execution_count": 10,
   "id": "806c2b49-183d-4dc0-b8f3-e8a4194b5b0a",
   "metadata": {},
   "outputs": [
    {
     "data": {
      "text/html": [
       "<table class=\"dataframe\">\n",
       "<caption>A grouped_df: 6 × 6</caption>\n",
       "<thead>\n",
       "\t<tr><th scope=col>continent</th><th scope=col>country</th><th scope=col>year</th><th scope=col>gdpPercap</th><th scope=col>lifeExp</th><th scope=col>pop</th></tr>\n",
       "\t<tr><th scope=col>&lt;chr&gt;</th><th scope=col>&lt;chr&gt;</th><th scope=col>&lt;chr&gt;</th><th scope=col>&lt;dbl&gt;</th><th scope=col>&lt;dbl&gt;</th><th scope=col>&lt;dbl&gt;</th></tr>\n",
       "</thead>\n",
       "<tbody>\n",
       "\t<tr><td>Africa</td><td>Algeria</td><td>1952</td><td>2449.008</td><td>43.077</td><td> 9279525</td></tr>\n",
       "\t<tr><td>Africa</td><td>Algeria</td><td>1957</td><td>3013.976</td><td>45.685</td><td>10270856</td></tr>\n",
       "\t<tr><td>Africa</td><td>Algeria</td><td>1962</td><td>2550.817</td><td>48.303</td><td>11000948</td></tr>\n",
       "\t<tr><td>Africa</td><td>Algeria</td><td>1967</td><td>3246.992</td><td>51.407</td><td>12760499</td></tr>\n",
       "\t<tr><td>Africa</td><td>Algeria</td><td>1972</td><td>4182.664</td><td>54.518</td><td>14760787</td></tr>\n",
       "\t<tr><td>Africa</td><td>Algeria</td><td>1977</td><td>4910.417</td><td>58.014</td><td>17152804</td></tr>\n",
       "</tbody>\n",
       "</table>\n"
      ],
      "text/latex": [
       "A grouped\\_df: 6 × 6\n",
       "\\begin{tabular}{llllll}\n",
       " continent & country & year & gdpPercap & lifeExp & pop\\\\\n",
       " <chr> & <chr> & <chr> & <dbl> & <dbl> & <dbl>\\\\\n",
       "\\hline\n",
       "\t Africa & Algeria & 1952 & 2449.008 & 43.077 &  9279525\\\\\n",
       "\t Africa & Algeria & 1957 & 3013.976 & 45.685 & 10270856\\\\\n",
       "\t Africa & Algeria & 1962 & 2550.817 & 48.303 & 11000948\\\\\n",
       "\t Africa & Algeria & 1967 & 3246.992 & 51.407 & 12760499\\\\\n",
       "\t Africa & Algeria & 1972 & 4182.664 & 54.518 & 14760787\\\\\n",
       "\t Africa & Algeria & 1977 & 4910.417 & 58.014 & 17152804\\\\\n",
       "\\end{tabular}\n"
      ],
      "text/markdown": [
       "\n",
       "A grouped_df: 6 × 6\n",
       "\n",
       "| continent &lt;chr&gt; | country &lt;chr&gt; | year &lt;chr&gt; | gdpPercap &lt;dbl&gt; | lifeExp &lt;dbl&gt; | pop &lt;dbl&gt; |\n",
       "|---|---|---|---|---|---|\n",
       "| Africa | Algeria | 1952 | 2449.008 | 43.077 |  9279525 |\n",
       "| Africa | Algeria | 1957 | 3013.976 | 45.685 | 10270856 |\n",
       "| Africa | Algeria | 1962 | 2550.817 | 48.303 | 11000948 |\n",
       "| Africa | Algeria | 1967 | 3246.992 | 51.407 | 12760499 |\n",
       "| Africa | Algeria | 1972 | 4182.664 | 54.518 | 14760787 |\n",
       "| Africa | Algeria | 1977 | 4910.417 | 58.014 | 17152804 |\n",
       "\n"
      ],
      "text/plain": [
       "  continent country year gdpPercap lifeExp pop     \n",
       "1 Africa    Algeria 1952 2449.008  43.077   9279525\n",
       "2 Africa    Algeria 1957 3013.976  45.685  10270856\n",
       "3 Africa    Algeria 1962 2550.817  48.303  11000948\n",
       "4 Africa    Algeria 1967 3246.992  51.407  12760499\n",
       "5 Africa    Algeria 1972 4182.664  54.518  14760787\n",
       "6 Africa    Algeria 1977 4910.417  58.014  17152804"
      ]
     },
     "metadata": {},
     "output_type": "display_data"
    }
   ],
   "source": [
    "head(gapw.df.wide)"
   ]
  },
  {
   "cell_type": "markdown",
   "id": "76c14194-13d1-4efb-b01e-60297ade89ef",
   "metadata": {
    "tags": []
   },
   "source": [
    "## Problem 02\n",
    "\n",
    "Download these data from the World bank’s World Development Indicators and Climate Change Knowledge Portal: http://databank.worldbank.org/data/download/catalog/climate_change_download_0.xls on climate systems, exposure to climate impacts, resilience, greenhouse gas emissions, and energy use. \n",
    "\n",
    "The data need to be tidied up such that for every country you have one row per year and then columns for each of the `58 measures` (called `Series name` in the database). You can drop the columns called `Country code`, `Series code`, `SCALE`, and `Decimals`. "
   ]
  },
  {
   "cell_type": "code",
   "execution_count": 1,
   "id": "1023dd74-11dc-4e4d-bf85-99f7858b3340",
   "metadata": {},
   "outputs": [],
   "source": [
    "load(\"data/climate_change.RData\")"
   ]
  },
  {
   "cell_type": "code",
   "execution_count": 2,
   "id": "5b94dd28-b95e-4e90-b437-d247fb0b78c4",
   "metadata": {},
   "outputs": [
    {
     "data": {
      "text/html": [
       "<table class=\"dataframe\">\n",
       "<caption>A tibble: 6 × 28</caption>\n",
       "<thead>\n",
       "\t<tr><th></th><th scope=col>Country code</th><th scope=col>Country name</th><th scope=col>Series code</th><th scope=col>Series name</th><th scope=col>SCALE</th><th scope=col>Decimals</th><th scope=col>1990</th><th scope=col>1991</th><th scope=col>1992</th><th scope=col>1993</th><th scope=col>⋯</th><th scope=col>2002</th><th scope=col>2003</th><th scope=col>2004</th><th scope=col>2005</th><th scope=col>2006</th><th scope=col>2007</th><th scope=col>2008</th><th scope=col>2009</th><th scope=col>2010</th><th scope=col>2011</th></tr>\n",
       "\t<tr><th></th><th scope=col>&lt;chr&gt;</th><th scope=col>&lt;chr&gt;</th><th scope=col>&lt;chr&gt;</th><th scope=col>&lt;chr&gt;</th><th scope=col>&lt;dbl&gt;</th><th scope=col>&lt;dbl&gt;</th><th scope=col>&lt;chr&gt;</th><th scope=col>&lt;chr&gt;</th><th scope=col>&lt;chr&gt;</th><th scope=col>&lt;chr&gt;</th><th scope=col>⋯</th><th scope=col>&lt;chr&gt;</th><th scope=col>&lt;chr&gt;</th><th scope=col>&lt;chr&gt;</th><th scope=col>&lt;chr&gt;</th><th scope=col>&lt;chr&gt;</th><th scope=col>&lt;chr&gt;</th><th scope=col>&lt;chr&gt;</th><th scope=col>&lt;chr&gt;</th><th scope=col>&lt;chr&gt;</th><th scope=col>&lt;chr&gt;</th></tr>\n",
       "</thead>\n",
       "<tbody>\n",
       "\t<tr><th scope=row>1</th><td>ABW</td><td>Aruba               </td><td>AG.LND.EL5M.ZS</td><td>Land area below 5m (% of land area)</td><td>0</td><td>1</td><td>29.574809999999999 </td><td>..</td><td>..</td><td>..</td><td>⋯</td><td>..</td><td>..</td><td>..</td><td>..</td><td>..</td><td>..</td><td>..</td><td>..</td><td>..</td><td>..</td></tr>\n",
       "\t<tr><th scope=row>2</th><td>ADO</td><td>Andorra             </td><td>AG.LND.EL5M.ZS</td><td>Land area below 5m (% of land area)</td><td>0</td><td>1</td><td>0                  </td><td>..</td><td>..</td><td>..</td><td>⋯</td><td>..</td><td>..</td><td>..</td><td>..</td><td>..</td><td>..</td><td>..</td><td>..</td><td>..</td><td>..</td></tr>\n",
       "\t<tr><th scope=row>3</th><td>AFG</td><td>Afghanistan         </td><td>AG.LND.EL5M.ZS</td><td>Land area below 5m (% of land area)</td><td>0</td><td>1</td><td>0                  </td><td>..</td><td>..</td><td>..</td><td>⋯</td><td>..</td><td>..</td><td>..</td><td>..</td><td>..</td><td>..</td><td>..</td><td>..</td><td>..</td><td>..</td></tr>\n",
       "\t<tr><th scope=row>4</th><td>AGO</td><td>Angola              </td><td>AG.LND.EL5M.ZS</td><td>Land area below 5m (% of land area)</td><td>0</td><td>1</td><td>0.20823459999999999</td><td>..</td><td>..</td><td>..</td><td>⋯</td><td>..</td><td>..</td><td>..</td><td>..</td><td>..</td><td>..</td><td>..</td><td>..</td><td>..</td><td>..</td></tr>\n",
       "\t<tr><th scope=row>5</th><td>ALB</td><td>Albania             </td><td>AG.LND.EL5M.ZS</td><td>Land area below 5m (% of land area)</td><td>0</td><td>1</td><td>4.9678750000000003 </td><td>..</td><td>..</td><td>..</td><td>⋯</td><td>..</td><td>..</td><td>..</td><td>..</td><td>..</td><td>..</td><td>..</td><td>..</td><td>..</td><td>..</td></tr>\n",
       "\t<tr><th scope=row>6</th><td>ARE</td><td>United Arab Emirates</td><td>AG.LND.EL5M.ZS</td><td>Land area below 5m (% of land area)</td><td>0</td><td>1</td><td>4.6445150000000002 </td><td>..</td><td>..</td><td>..</td><td>⋯</td><td>..</td><td>..</td><td>..</td><td>..</td><td>..</td><td>..</td><td>..</td><td>..</td><td>..</td><td>..</td></tr>\n",
       "</tbody>\n",
       "</table>\n"
      ],
      "text/latex": [
       "A tibble: 6 × 28\n",
       "\\begin{tabular}{r|lllllllllllllllllllll}\n",
       "  & Country code & Country name & Series code & Series name & SCALE & Decimals & 1990 & 1991 & 1992 & 1993 & ⋯ & 2002 & 2003 & 2004 & 2005 & 2006 & 2007 & 2008 & 2009 & 2010 & 2011\\\\\n",
       "  & <chr> & <chr> & <chr> & <chr> & <dbl> & <dbl> & <chr> & <chr> & <chr> & <chr> & ⋯ & <chr> & <chr> & <chr> & <chr> & <chr> & <chr> & <chr> & <chr> & <chr> & <chr>\\\\\n",
       "\\hline\n",
       "\t1 & ABW & Aruba                & AG.LND.EL5M.ZS & Land area below 5m (\\% of land area) & 0 & 1 & 29.574809999999999  & .. & .. & .. & ⋯ & .. & .. & .. & .. & .. & .. & .. & .. & .. & ..\\\\\n",
       "\t2 & ADO & Andorra              & AG.LND.EL5M.ZS & Land area below 5m (\\% of land area) & 0 & 1 & 0                   & .. & .. & .. & ⋯ & .. & .. & .. & .. & .. & .. & .. & .. & .. & ..\\\\\n",
       "\t3 & AFG & Afghanistan          & AG.LND.EL5M.ZS & Land area below 5m (\\% of land area) & 0 & 1 & 0                   & .. & .. & .. & ⋯ & .. & .. & .. & .. & .. & .. & .. & .. & .. & ..\\\\\n",
       "\t4 & AGO & Angola               & AG.LND.EL5M.ZS & Land area below 5m (\\% of land area) & 0 & 1 & 0.20823459999999999 & .. & .. & .. & ⋯ & .. & .. & .. & .. & .. & .. & .. & .. & .. & ..\\\\\n",
       "\t5 & ALB & Albania              & AG.LND.EL5M.ZS & Land area below 5m (\\% of land area) & 0 & 1 & 4.9678750000000003  & .. & .. & .. & ⋯ & .. & .. & .. & .. & .. & .. & .. & .. & .. & ..\\\\\n",
       "\t6 & ARE & United Arab Emirates & AG.LND.EL5M.ZS & Land area below 5m (\\% of land area) & 0 & 1 & 4.6445150000000002  & .. & .. & .. & ⋯ & .. & .. & .. & .. & .. & .. & .. & .. & .. & ..\\\\\n",
       "\\end{tabular}\n"
      ],
      "text/markdown": [
       "\n",
       "A tibble: 6 × 28\n",
       "\n",
       "| <!--/--> | Country code &lt;chr&gt; | Country name &lt;chr&gt; | Series code &lt;chr&gt; | Series name &lt;chr&gt; | SCALE &lt;dbl&gt; | Decimals &lt;dbl&gt; | 1990 &lt;chr&gt; | 1991 &lt;chr&gt; | 1992 &lt;chr&gt; | 1993 &lt;chr&gt; | ⋯ ⋯ | 2002 &lt;chr&gt; | 2003 &lt;chr&gt; | 2004 &lt;chr&gt; | 2005 &lt;chr&gt; | 2006 &lt;chr&gt; | 2007 &lt;chr&gt; | 2008 &lt;chr&gt; | 2009 &lt;chr&gt; | 2010 &lt;chr&gt; | 2011 &lt;chr&gt; |\n",
       "|---|---|---|---|---|---|---|---|---|---|---|---|---|---|---|---|---|---|---|---|---|---|\n",
       "| 1 | ABW | Aruba                | AG.LND.EL5M.ZS | Land area below 5m (% of land area) | 0 | 1 | 29.574809999999999  | .. | .. | .. | ⋯ | .. | .. | .. | .. | .. | .. | .. | .. | .. | .. |\n",
       "| 2 | ADO | Andorra              | AG.LND.EL5M.ZS | Land area below 5m (% of land area) | 0 | 1 | 0                   | .. | .. | .. | ⋯ | .. | .. | .. | .. | .. | .. | .. | .. | .. | .. |\n",
       "| 3 | AFG | Afghanistan          | AG.LND.EL5M.ZS | Land area below 5m (% of land area) | 0 | 1 | 0                   | .. | .. | .. | ⋯ | .. | .. | .. | .. | .. | .. | .. | .. | .. | .. |\n",
       "| 4 | AGO | Angola               | AG.LND.EL5M.ZS | Land area below 5m (% of land area) | 0 | 1 | 0.20823459999999999 | .. | .. | .. | ⋯ | .. | .. | .. | .. | .. | .. | .. | .. | .. | .. |\n",
       "| 5 | ALB | Albania              | AG.LND.EL5M.ZS | Land area below 5m (% of land area) | 0 | 1 | 4.9678750000000003  | .. | .. | .. | ⋯ | .. | .. | .. | .. | .. | .. | .. | .. | .. | .. |\n",
       "| 6 | ARE | United Arab Emirates | AG.LND.EL5M.ZS | Land area below 5m (% of land area) | 0 | 1 | 4.6445150000000002  | .. | .. | .. | ⋯ | .. | .. | .. | .. | .. | .. | .. | .. | .. | .. |\n",
       "\n"
      ],
      "text/plain": [
       "  Country code Country name         Series code   \n",
       "1 ABW          Aruba                AG.LND.EL5M.ZS\n",
       "2 ADO          Andorra              AG.LND.EL5M.ZS\n",
       "3 AFG          Afghanistan          AG.LND.EL5M.ZS\n",
       "4 AGO          Angola               AG.LND.EL5M.ZS\n",
       "5 ALB          Albania              AG.LND.EL5M.ZS\n",
       "6 ARE          United Arab Emirates AG.LND.EL5M.ZS\n",
       "  Series name                         SCALE Decimals 1990                1991\n",
       "1 Land area below 5m (% of land area) 0     1        29.574809999999999  ..  \n",
       "2 Land area below 5m (% of land area) 0     1        0                   ..  \n",
       "3 Land area below 5m (% of land area) 0     1        0                   ..  \n",
       "4 Land area below 5m (% of land area) 0     1        0.20823459999999999 ..  \n",
       "5 Land area below 5m (% of land area) 0     1        4.9678750000000003  ..  \n",
       "6 Land area below 5m (% of land area) 0     1        4.6445150000000002  ..  \n",
       "  1992 1993 ⋯ 2002 2003 2004 2005 2006 2007 2008 2009 2010 2011\n",
       "1 ..   ..   ⋯ ..   ..   ..   ..   ..   ..   ..   ..   ..   ..  \n",
       "2 ..   ..   ⋯ ..   ..   ..   ..   ..   ..   ..   ..   ..   ..  \n",
       "3 ..   ..   ⋯ ..   ..   ..   ..   ..   ..   ..   ..   ..   ..  \n",
       "4 ..   ..   ⋯ ..   ..   ..   ..   ..   ..   ..   ..   ..   ..  \n",
       "5 ..   ..   ⋯ ..   ..   ..   ..   ..   ..   ..   ..   ..   ..  \n",
       "6 ..   ..   ⋯ ..   ..   ..   ..   ..   ..   ..   ..   ..   ..  "
      ]
     },
     "metadata": {},
     "output_type": "display_data"
    }
   ],
   "source": [
    "head(climate_change)"
   ]
  },
  {
   "cell_type": "markdown",
   "id": "c5142a22-a3c7-42a4-8d72-ebb44a6c4efe",
   "metadata": {},
   "source": [
    "The result should look like this:"
   ]
  },
  {
   "cell_type": "raw",
   "id": "e2e24681-d490-4381-8518-cffa270330e4",
   "metadata": {},
   "source": [
    "# A tibble: 5,126 x 60\n",
    "# Groups:   Country name [233]\n",
    "   `Country name` year  `Land area belo… `Agricultural l… `Cereal yield (…\n",
    "   <chr>          <chr> <chr>            <chr>            <chr>           \n",
    " 1 Aruba          1990  29.574809999999… ..               ..              \n",
    " 2 Aruba          1991  ..               ..               ..              \n",
    " 3 Aruba          1992  ..               ..               ..              \n",
    " 4 Aruba          1993  ..               ..               ..              \n",
    " 5 Aruba          1994  ..               ..               ..              \n",
    " 6 Aruba          1995  ..               ..               ..              \n",
    " 7 Aruba          1996  ..               ..               ..              \n",
    " 8 Aruba          1997  ..               ..               ..              \n",
    " 9 Aruba          1998  ..               ..               ..              \n",
    "10 Aruba          1999  ..               ..               ..              \n",
    "# … with 5,116 more rows, and 55 more variables: `Foreign direct investment, net"
   ]
  },
  {
   "cell_type": "code",
   "execution_count": 3,
   "id": "9bc0d27e-3612-421f-80ec-1b1933198792",
   "metadata": {},
   "outputs": [
    {
     "name": "stderr",
     "output_type": "stream",
     "text": [
      "── \u001b[1mAttaching packages\u001b[22m ─────────────────────────────────────── tidyverse 1.3.1 ──\n",
      "\n",
      "\u001b[32m✔\u001b[39m \u001b[34mggplot2\u001b[39m 3.3.5     \u001b[32m✔\u001b[39m \u001b[34mpurrr  \u001b[39m 0.3.4\n",
      "\u001b[32m✔\u001b[39m \u001b[34mtibble \u001b[39m 3.1.5     \u001b[32m✔\u001b[39m \u001b[34mdplyr  \u001b[39m 1.0.7\n",
      "\u001b[32m✔\u001b[39m \u001b[34mtidyr  \u001b[39m 1.1.4     \u001b[32m✔\u001b[39m \u001b[34mstringr\u001b[39m 1.4.0\n",
      "\u001b[32m✔\u001b[39m \u001b[34mreadr  \u001b[39m 2.0.2     \u001b[32m✔\u001b[39m \u001b[34mforcats\u001b[39m 0.5.1\n",
      "\n",
      "── \u001b[1mConflicts\u001b[22m ────────────────────────────────────────── tidyverse_conflicts() ──\n",
      "\u001b[31m✖\u001b[39m \u001b[34mdplyr\u001b[39m::\u001b[32mfilter()\u001b[39m masks \u001b[34mstats\u001b[39m::filter()\n",
      "\u001b[31m✖\u001b[39m \u001b[34mdplyr\u001b[39m::\u001b[32mlag()\u001b[39m    masks \u001b[34mstats\u001b[39m::lag()\n",
      "\n"
     ]
    }
   ],
   "source": [
    "library(tidyverse)"
   ]
  },
  {
   "cell_type": "code",
   "execution_count": 4,
   "id": "0c4b2cad-36ad-4829-b22c-2298786096e4",
   "metadata": {},
   "outputs": [
    {
     "data": {
      "text/html": [
       "<style>\n",
       ".list-inline {list-style: none; margin:0; padding: 0}\n",
       ".list-inline>li {display: inline-block}\n",
       ".list-inline>li:not(:last-child)::after {content: \"\\00b7\"; padding: 0 .5ex}\n",
       "</style>\n",
       "<ol class=list-inline><li>13512</li><li>24</li></ol>\n"
      ],
      "text/latex": [
       "\\begin{enumerate*}\n",
       "\\item 13512\n",
       "\\item 24\n",
       "\\end{enumerate*}\n"
      ],
      "text/markdown": [
       "1. 13512\n",
       "2. 24\n",
       "\n",
       "\n"
      ],
      "text/plain": [
       "[1] 13512    24"
      ]
     },
     "metadata": {},
     "output_type": "display_data"
    }
   ],
   "source": [
    "climate_change %>%\n",
    "    select(2, 4, 7:28) %>%\n",
    "    dim()"
   ]
  },
  {
   "cell_type": "code",
   "execution_count": 5,
   "id": "e93976f3-245b-4097-a0a4-480e7df956ef",
   "metadata": {},
   "outputs": [],
   "source": [
    "climate_change %>%\n",
    "    select(2, 4, 7:28) %>%\n",
    "    group_by(`Country name`, `Series name`) %>%\n",
    "    pivot_longer(\n",
    "        names_to = \"year\",\n",
    "        values_to = \"values\",\n",
    "        cols = 3:24\n",
    "        ) -> climate"
   ]
  },
  {
   "cell_type": "code",
   "execution_count": 6,
   "id": "3b402239-238d-4dec-a629-d323679bf7f2",
   "metadata": {},
   "outputs": [
    {
     "data": {
      "text/html": [
       "<table class=\"dataframe\">\n",
       "<caption>A grouped_df: 6 × 4</caption>\n",
       "<thead>\n",
       "\t<tr><th scope=col>Country name</th><th scope=col>Series name</th><th scope=col>year</th><th scope=col>values</th></tr>\n",
       "\t<tr><th scope=col>&lt;chr&gt;</th><th scope=col>&lt;chr&gt;</th><th scope=col>&lt;chr&gt;</th><th scope=col>&lt;chr&gt;</th></tr>\n",
       "</thead>\n",
       "<tbody>\n",
       "\t<tr><td>Aruba</td><td>Land area below 5m (% of land area)</td><td>1990</td><td>29.574809999999999</td></tr>\n",
       "\t<tr><td>Aruba</td><td>Land area below 5m (% of land area)</td><td>1991</td><td>..                </td></tr>\n",
       "\t<tr><td>Aruba</td><td>Land area below 5m (% of land area)</td><td>1992</td><td>..                </td></tr>\n",
       "\t<tr><td>Aruba</td><td>Land area below 5m (% of land area)</td><td>1993</td><td>..                </td></tr>\n",
       "\t<tr><td>Aruba</td><td>Land area below 5m (% of land area)</td><td>1994</td><td>..                </td></tr>\n",
       "\t<tr><td>Aruba</td><td>Land area below 5m (% of land area)</td><td>1995</td><td>..                </td></tr>\n",
       "</tbody>\n",
       "</table>\n"
      ],
      "text/latex": [
       "A grouped\\_df: 6 × 4\n",
       "\\begin{tabular}{llll}\n",
       " Country name & Series name & year & values\\\\\n",
       " <chr> & <chr> & <chr> & <chr>\\\\\n",
       "\\hline\n",
       "\t Aruba & Land area below 5m (\\% of land area) & 1990 & 29.574809999999999\\\\\n",
       "\t Aruba & Land area below 5m (\\% of land area) & 1991 & ..                \\\\\n",
       "\t Aruba & Land area below 5m (\\% of land area) & 1992 & ..                \\\\\n",
       "\t Aruba & Land area below 5m (\\% of land area) & 1993 & ..                \\\\\n",
       "\t Aruba & Land area below 5m (\\% of land area) & 1994 & ..                \\\\\n",
       "\t Aruba & Land area below 5m (\\% of land area) & 1995 & ..                \\\\\n",
       "\\end{tabular}\n"
      ],
      "text/markdown": [
       "\n",
       "A grouped_df: 6 × 4\n",
       "\n",
       "| Country name &lt;chr&gt; | Series name &lt;chr&gt; | year &lt;chr&gt; | values &lt;chr&gt; |\n",
       "|---|---|---|---|\n",
       "| Aruba | Land area below 5m (% of land area) | 1990 | 29.574809999999999 |\n",
       "| Aruba | Land area below 5m (% of land area) | 1991 | ..                 |\n",
       "| Aruba | Land area below 5m (% of land area) | 1992 | ..                 |\n",
       "| Aruba | Land area below 5m (% of land area) | 1993 | ..                 |\n",
       "| Aruba | Land area below 5m (% of land area) | 1994 | ..                 |\n",
       "| Aruba | Land area below 5m (% of land area) | 1995 | ..                 |\n",
       "\n"
      ],
      "text/plain": [
       "  Country name Series name                         year values            \n",
       "1 Aruba        Land area below 5m (% of land area) 1990 29.574809999999999\n",
       "2 Aruba        Land area below 5m (% of land area) 1991 ..                \n",
       "3 Aruba        Land area below 5m (% of land area) 1992 ..                \n",
       "4 Aruba        Land area below 5m (% of land area) 1993 ..                \n",
       "5 Aruba        Land area below 5m (% of land area) 1994 ..                \n",
       "6 Aruba        Land area below 5m (% of land area) 1995 ..                "
      ]
     },
     "metadata": {},
     "output_type": "display_data"
    }
   ],
   "source": [
    "head(climate)"
   ]
  },
  {
   "cell_type": "code",
   "execution_count": 8,
   "id": "523fd682-85c1-4e26-923a-4c834202f9fb",
   "metadata": {},
   "outputs": [],
   "source": [
    "climate %>%\n",
    "    group_by(`Country name`, year) %>%\n",
    "     pivot_wider(\n",
    "        names_from = `Series name`,\n",
    "        values_from = values\n",
    "        ) -> climate.wide        "
   ]
  },
  {
   "cell_type": "code",
   "execution_count": 9,
   "id": "d49effaa-a435-4056-88c5-aab2036b0f28",
   "metadata": {},
   "outputs": [
    {
     "data": {
      "text/html": [
       "<table class=\"dataframe\">\n",
       "<caption>A grouped_df: 6 × 60</caption>\n",
       "<thead>\n",
       "\t<tr><th scope=col>Country name</th><th scope=col>year</th><th scope=col>Land area below 5m (% of land area)</th><th scope=col>Agricultural land under irrigation (% of total ag. land)</th><th scope=col>Cereal yield (kg per hectare)</th><th scope=col>Foreign direct investment, net inflows (% of GDP)</th><th scope=col>Access to electricity (% of total population)</th><th scope=col>Energy use per units of GDP (kg oil eq./$1,000 of 2005 PPP $)</th><th scope=col>Energy use per capita (kilograms of oil equivalent)</th><th scope=col>CO2 emissions, total (KtCO2)</th><th scope=col>⋯</th><th scope=col>Nurses and midwives (per 1,000 people)</th><th scope=col>Physicians (per 1,000 people)</th><th scope=col>Malaria incidence rate (per 100,000 people)</th><th scope=col>Access to improved sanitation (% of total pop.)</th><th scope=col>Child malnutrition, underweight (% of under age 5)</th><th scope=col>Population living below $1.25 a day (% of total)</th><th scope=col>Population growth (annual %)</th><th scope=col>Population</th><th scope=col>Urban population growth (annual %)</th><th scope=col>Urban population</th></tr>\n",
       "\t<tr><th scope=col>&lt;chr&gt;</th><th scope=col>&lt;chr&gt;</th><th scope=col>&lt;chr&gt;</th><th scope=col>&lt;chr&gt;</th><th scope=col>&lt;chr&gt;</th><th scope=col>&lt;chr&gt;</th><th scope=col>&lt;chr&gt;</th><th scope=col>&lt;chr&gt;</th><th scope=col>&lt;chr&gt;</th><th scope=col>&lt;chr&gt;</th><th scope=col>⋯</th><th scope=col>&lt;chr&gt;</th><th scope=col>&lt;chr&gt;</th><th scope=col>&lt;chr&gt;</th><th scope=col>&lt;chr&gt;</th><th scope=col>&lt;chr&gt;</th><th scope=col>&lt;chr&gt;</th><th scope=col>&lt;chr&gt;</th><th scope=col>&lt;chr&gt;</th><th scope=col>&lt;chr&gt;</th><th scope=col>&lt;chr&gt;</th></tr>\n",
       "</thead>\n",
       "<tbody>\n",
       "\t<tr><td>Aruba</td><td>1990</td><td>29.574809999999999</td><td>..</td><td>..</td><td>..                  </td><td>..</td><td>..</td><td>..</td><td>1840.8340000000001</td><td>⋯</td><td>..</td><td>..                </td><td>..</td><td>..</td><td>..</td><td>..</td><td>1.8202543606399799</td><td>62147</td><td>1.78050083199081  </td><td>31259.940999999999</td></tr>\n",
       "\t<tr><td>Aruba</td><td>1991</td><td>..                </td><td>..</td><td>..</td><td>21.185138149876099  </td><td>..</td><td>..</td><td>..</td><td>1928.8420000000001</td><td>⋯</td><td>..</td><td>..                </td><td>..</td><td>..</td><td>..</td><td>..</td><td>3.93618078503351  </td><td>64642</td><td>3.33797361727876  </td><td>32321             </td></tr>\n",
       "\t<tr><td>Aruba</td><td>1992</td><td>..                </td><td>..</td><td>..</td><td>-3.85780877569572   </td><td>..</td><td>..</td><td>..</td><td>1723.49           </td><td>⋯</td><td>..</td><td>..                </td><td>..</td><td>..</td><td>..</td><td>..</td><td>5.48404131995588  </td><td>68286</td><td>4.8822340873995804</td><td>33938.142         </td></tr>\n",
       "\t<tr><td>Aruba</td><td>1993</td><td>..                </td><td>..</td><td>..</td><td>-1.65549243203914   </td><td>..</td><td>..</td><td>..</td><td>1771.1610000000001</td><td>⋯</td><td>..</td><td>..                </td><td>..</td><td>..</td><td>..</td><td>..</td><td>6.0888184304233199</td><td>72573</td><td>5.4833675395526997</td><td>35851.061999999998</td></tr>\n",
       "\t<tr><td>Aruba</td><td>1994</td><td>..                </td><td>..</td><td>..</td><td>-5.8744389996589197 </td><td>..</td><td>..</td><td>..</td><td>1763.827          </td><td>⋯</td><td>..</td><td>..                </td><td>..</td><td>..</td><td>..</td><td>..</td><td>5.6116774205129101</td><td>76762</td><td>5.00253848117271  </td><td>37690.142         </td></tr>\n",
       "\t<tr><td>Aruba</td><td>1995</td><td>..                </td><td>..</td><td>..</td><td>-0.41878171697459099</td><td>..</td><td>..</td><td>..</td><td>1785.829          </td><td>⋯</td><td>..</td><td>1.1200000000000001</td><td>..</td><td>..</td><td>..</td><td>..</td><td>4.5346279806342196</td><td>80323</td><td>3.9217557864968802</td><td>39197.624000000003</td></tr>\n",
       "</tbody>\n",
       "</table>\n"
      ],
      "text/latex": [
       "A grouped\\_df: 6 × 60\n",
       "\\begin{tabular}{lllllllllllllllllllll}\n",
       " Country name & year & Land area below 5m (\\% of land area) & Agricultural land under irrigation (\\% of total ag. land) & Cereal yield (kg per hectare) & Foreign direct investment, net inflows (\\% of GDP) & Access to electricity (\\% of total population) & Energy use per units of GDP (kg oil eq./\\$1,000 of 2005 PPP \\$) & Energy use per capita (kilograms of oil equivalent) & CO2 emissions, total (KtCO2) & ⋯ & Nurses and midwives (per 1,000 people) & Physicians (per 1,000 people) & Malaria incidence rate (per 100,000 people) & Access to improved sanitation (\\% of total pop.) & Child malnutrition, underweight (\\% of under age 5) & Population living below \\$1.25 a day (\\% of total) & Population growth (annual \\%) & Population & Urban population growth (annual \\%) & Urban population\\\\\n",
       " <chr> & <chr> & <chr> & <chr> & <chr> & <chr> & <chr> & <chr> & <chr> & <chr> & ⋯ & <chr> & <chr> & <chr> & <chr> & <chr> & <chr> & <chr> & <chr> & <chr> & <chr>\\\\\n",
       "\\hline\n",
       "\t Aruba & 1990 & 29.574809999999999 & .. & .. & ..                   & .. & .. & .. & 1840.8340000000001 & ⋯ & .. & ..                 & .. & .. & .. & .. & 1.8202543606399799 & 62147 & 1.78050083199081   & 31259.940999999999\\\\\n",
       "\t Aruba & 1991 & ..                 & .. & .. & 21.185138149876099   & .. & .. & .. & 1928.8420000000001 & ⋯ & .. & ..                 & .. & .. & .. & .. & 3.93618078503351   & 64642 & 3.33797361727876   & 32321             \\\\\n",
       "\t Aruba & 1992 & ..                 & .. & .. & -3.85780877569572    & .. & .. & .. & 1723.49            & ⋯ & .. & ..                 & .. & .. & .. & .. & 5.48404131995588   & 68286 & 4.8822340873995804 & 33938.142         \\\\\n",
       "\t Aruba & 1993 & ..                 & .. & .. & -1.65549243203914    & .. & .. & .. & 1771.1610000000001 & ⋯ & .. & ..                 & .. & .. & .. & .. & 6.0888184304233199 & 72573 & 5.4833675395526997 & 35851.061999999998\\\\\n",
       "\t Aruba & 1994 & ..                 & .. & .. & -5.8744389996589197  & .. & .. & .. & 1763.827           & ⋯ & .. & ..                 & .. & .. & .. & .. & 5.6116774205129101 & 76762 & 5.00253848117271   & 37690.142         \\\\\n",
       "\t Aruba & 1995 & ..                 & .. & .. & -0.41878171697459099 & .. & .. & .. & 1785.829           & ⋯ & .. & 1.1200000000000001 & .. & .. & .. & .. & 4.5346279806342196 & 80323 & 3.9217557864968802 & 39197.624000000003\\\\\n",
       "\\end{tabular}\n"
      ],
      "text/markdown": [
       "\n",
       "A grouped_df: 6 × 60\n",
       "\n",
       "| Country name &lt;chr&gt; | year &lt;chr&gt; | Land area below 5m (% of land area) &lt;chr&gt; | Agricultural land under irrigation (% of total ag. land) &lt;chr&gt; | Cereal yield (kg per hectare) &lt;chr&gt; | Foreign direct investment, net inflows (% of GDP) &lt;chr&gt; | Access to electricity (% of total population) &lt;chr&gt; | Energy use per units of GDP (kg oil eq./$1,000 of 2005 PPP $) &lt;chr&gt; | Energy use per capita (kilograms of oil equivalent) &lt;chr&gt; | CO2 emissions, total (KtCO2) &lt;chr&gt; | ⋯ ⋯ | Nurses and midwives (per 1,000 people) &lt;chr&gt; | Physicians (per 1,000 people) &lt;chr&gt; | Malaria incidence rate (per 100,000 people) &lt;chr&gt; | Access to improved sanitation (% of total pop.) &lt;chr&gt; | Child malnutrition, underweight (% of under age 5) &lt;chr&gt; | Population living below $1.25 a day (% of total) &lt;chr&gt; | Population growth (annual %) &lt;chr&gt; | Population &lt;chr&gt; | Urban population growth (annual %) &lt;chr&gt; | Urban population &lt;chr&gt; |\n",
       "|---|---|---|---|---|---|---|---|---|---|---|---|---|---|---|---|---|---|---|---|---|\n",
       "| Aruba | 1990 | 29.574809999999999 | .. | .. | ..                   | .. | .. | .. | 1840.8340000000001 | ⋯ | .. | ..                 | .. | .. | .. | .. | 1.8202543606399799 | 62147 | 1.78050083199081   | 31259.940999999999 |\n",
       "| Aruba | 1991 | ..                 | .. | .. | 21.185138149876099   | .. | .. | .. | 1928.8420000000001 | ⋯ | .. | ..                 | .. | .. | .. | .. | 3.93618078503351   | 64642 | 3.33797361727876   | 32321              |\n",
       "| Aruba | 1992 | ..                 | .. | .. | -3.85780877569572    | .. | .. | .. | 1723.49            | ⋯ | .. | ..                 | .. | .. | .. | .. | 5.48404131995588   | 68286 | 4.8822340873995804 | 33938.142          |\n",
       "| Aruba | 1993 | ..                 | .. | .. | -1.65549243203914    | .. | .. | .. | 1771.1610000000001 | ⋯ | .. | ..                 | .. | .. | .. | .. | 6.0888184304233199 | 72573 | 5.4833675395526997 | 35851.061999999998 |\n",
       "| Aruba | 1994 | ..                 | .. | .. | -5.8744389996589197  | .. | .. | .. | 1763.827           | ⋯ | .. | ..                 | .. | .. | .. | .. | 5.6116774205129101 | 76762 | 5.00253848117271   | 37690.142          |\n",
       "| Aruba | 1995 | ..                 | .. | .. | -0.41878171697459099 | .. | .. | .. | 1785.829           | ⋯ | .. | 1.1200000000000001 | .. | .. | .. | .. | 4.5346279806342196 | 80323 | 3.9217557864968802 | 39197.624000000003 |\n",
       "\n"
      ],
      "text/plain": [
       "  Country name year Land area below 5m (% of land area)\n",
       "1 Aruba        1990 29.574809999999999                 \n",
       "2 Aruba        1991 ..                                 \n",
       "3 Aruba        1992 ..                                 \n",
       "4 Aruba        1993 ..                                 \n",
       "5 Aruba        1994 ..                                 \n",
       "6 Aruba        1995 ..                                 \n",
       "  Agricultural land under irrigation (% of total ag. land)\n",
       "1 ..                                                      \n",
       "2 ..                                                      \n",
       "3 ..                                                      \n",
       "4 ..                                                      \n",
       "5 ..                                                      \n",
       "6 ..                                                      \n",
       "  Cereal yield (kg per hectare)\n",
       "1 ..                           \n",
       "2 ..                           \n",
       "3 ..                           \n",
       "4 ..                           \n",
       "5 ..                           \n",
       "6 ..                           \n",
       "  Foreign direct investment, net inflows (% of GDP)\n",
       "1 ..                                               \n",
       "2 21.185138149876099                               \n",
       "3 -3.85780877569572                                \n",
       "4 -1.65549243203914                                \n",
       "5 -5.8744389996589197                              \n",
       "6 -0.41878171697459099                             \n",
       "  Access to electricity (% of total population)\n",
       "1 ..                                           \n",
       "2 ..                                           \n",
       "3 ..                                           \n",
       "4 ..                                           \n",
       "5 ..                                           \n",
       "6 ..                                           \n",
       "  Energy use per units of GDP (kg oil eq./$1,000 of 2005 PPP $)\n",
       "1 ..                                                           \n",
       "2 ..                                                           \n",
       "3 ..                                                           \n",
       "4 ..                                                           \n",
       "5 ..                                                           \n",
       "6 ..                                                           \n",
       "  Energy use per capita (kilograms of oil equivalent)\n",
       "1 ..                                                 \n",
       "2 ..                                                 \n",
       "3 ..                                                 \n",
       "4 ..                                                 \n",
       "5 ..                                                 \n",
       "6 ..                                                 \n",
       "  CO2 emissions, total (KtCO2) ⋯ Nurses and midwives (per 1,000 people)\n",
       "1 1840.8340000000001           ⋯ ..                                    \n",
       "2 1928.8420000000001           ⋯ ..                                    \n",
       "3 1723.49                      ⋯ ..                                    \n",
       "4 1771.1610000000001           ⋯ ..                                    \n",
       "5 1763.827                     ⋯ ..                                    \n",
       "6 1785.829                     ⋯ ..                                    \n",
       "  Physicians (per 1,000 people) Malaria incidence rate (per 100,000 people)\n",
       "1 ..                            ..                                         \n",
       "2 ..                            ..                                         \n",
       "3 ..                            ..                                         \n",
       "4 ..                            ..                                         \n",
       "5 ..                            ..                                         \n",
       "6 1.1200000000000001            ..                                         \n",
       "  Access to improved sanitation (% of total pop.)\n",
       "1 ..                                             \n",
       "2 ..                                             \n",
       "3 ..                                             \n",
       "4 ..                                             \n",
       "5 ..                                             \n",
       "6 ..                                             \n",
       "  Child malnutrition, underweight (% of under age 5)\n",
       "1 ..                                                \n",
       "2 ..                                                \n",
       "3 ..                                                \n",
       "4 ..                                                \n",
       "5 ..                                                \n",
       "6 ..                                                \n",
       "  Population living below $1.25 a day (% of total) Population growth (annual %)\n",
       "1 ..                                               1.8202543606399799          \n",
       "2 ..                                               3.93618078503351            \n",
       "3 ..                                               5.48404131995588            \n",
       "4 ..                                               6.0888184304233199          \n",
       "5 ..                                               5.6116774205129101          \n",
       "6 ..                                               4.5346279806342196          \n",
       "  Population Urban population growth (annual %) Urban population  \n",
       "1 62147      1.78050083199081                   31259.940999999999\n",
       "2 64642      3.33797361727876                   32321             \n",
       "3 68286      4.8822340873995804                 33938.142         \n",
       "4 72573      5.4833675395526997                 35851.061999999998\n",
       "5 76762      5.00253848117271                   37690.142         \n",
       "6 80323      3.9217557864968802                 39197.624000000003"
      ]
     },
     "metadata": {},
     "output_type": "display_data"
    }
   ],
   "source": [
    "head(climate.wide)"
   ]
  },
  {
   "cell_type": "code",
   "execution_count": null,
   "id": "0bf78b56-5745-4cab-ba8c-bbca967c877c",
   "metadata": {},
   "outputs": [],
   "source": []
  }
 ],
 "metadata": {
  "kernelspec": {
   "display_name": "R",
   "language": "R",
   "name": "ir"
  },
  "language_info": {
   "codemirror_mode": "r",
   "file_extension": ".r",
   "mimetype": "text/x-r-source",
   "name": "R",
   "pygments_lexer": "r",
   "version": "4.1.2"
  }
 },
 "nbformat": 4,
 "nbformat_minor": 5
}
