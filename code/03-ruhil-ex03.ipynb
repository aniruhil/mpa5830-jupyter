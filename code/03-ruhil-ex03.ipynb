{
 "cells": [
  {
   "cell_type": "markdown",
   "id": "5c8bdab7-ec71-412b-830d-1a498aa32763",
   "metadata": {},
   "source": [
    "# Exercises for Practice"
   ]
  },
  {
   "cell_type": "markdown",
   "id": "dcb094fe-b4e0-40d8-9861-c1266a55e7ed",
   "metadata": {},
   "source": [
    "## Exercise 01"
   ]
  },
  {
   "cell_type": "markdown",
   "id": "ce4ed078-6722-475a-ba00-87a5faab4b24",
   "metadata": {},
   "source": [
    "Using the `cmhflights` data from last week, create a column that unites the three columns `Year`, `Month`, and `DayofMonth` into a single column that we will name `date_of_flight`. This column should separate the three fields by \"-\", as in, for example, `2017-1-9`. "
   ]
  },
  {
   "cell_type": "code",
   "execution_count": null,
   "id": "d17f6093-5d2a-4f06-9713-8faa0f55f60a",
   "metadata": {
    "tags": []
   },
   "outputs": [],
   "source": [
    "library(tidyverse)"
   ]
  },
  {
   "cell_type": "code",
   "execution_count": null,
   "id": "ecaaef4c-a0fd-49c1-b142-cc27f96f7495",
   "metadata": {
    "tags": []
   },
   "outputs": [],
   "source": [
    "load(\"data/cmhflights_01092017.RData\")"
   ]
  },
  {
   "cell_type": "code",
   "execution_count": null,
   "id": "d0ae67f0-42e4-4ae0-9515-1f56e5f5d7f2",
   "metadata": {
    "tags": []
   },
   "outputs": [],
   "source": [
    "cmhflights %>%\n",
    "    select(\n",
    "        Year, Month, DayofMonth, OriginCityName, DestCityName\n",
    "    ) -> cmh\n",
    "\n",
    "head(cmh)"
   ]
  },
  {
   "cell_type": "code",
   "execution_count": null,
   "id": "65546d6e-65d2-429d-a7f2-33d5ed4a4a2f",
   "metadata": {
    "tags": []
   },
   "outputs": [],
   "source": [
    "cmh %>%\n",
    "    unite(\n",
    "        col = \"date_of_flight\",\n",
    "        c(\"Year\", \"Month\", \"DayofMonth\"),\n",
    "        sep = \"-\",\n",
    "        remove = FALSE\n",
    "    ) -> cmh"
   ]
  },
  {
   "cell_type": "code",
   "execution_count": null,
   "id": "b9ac8fae-4365-4d81-a6b1-43145a4b0703",
   "metadata": {
    "tags": []
   },
   "outputs": [],
   "source": [
    "cmh %>%\n",
    "    head()"
   ]
  },
  {
   "cell_type": "markdown",
   "id": "9db041a1-bc57-4518-9d09-87cc01022f82",
   "metadata": {},
   "source": [
    "## Exercise 02\n",
    "\n",
    "Sticking with `cmhflights`, separate `OriginCityName` into two new columns, `origin_city` and `origin_state`. Do the same for `DestCityName`, calling the new columns `destination_city` and `destination_state`, respectively. Both city columns should only display the name of the city, while both state columns should only display the abbreviated state name (for example, \"CA\", \"OH\", etc.)  \n"
   ]
  },
  {
   "cell_type": "code",
   "execution_count": null,
   "id": "59888685-6b9e-4c99-b0cd-33165910e7ac",
   "metadata": {
    "tags": []
   },
   "outputs": [],
   "source": [
    "cmh %>%\n",
    "    separate(\n",
    "        col = OriginCityName,\n",
    "        into = c(\"origin_city\", \"origin_state\"),\n",
    "        sep = \", \",\n",
    "        remove = FALSE\n",
    "        ) %>%\n",
    "    separate(\n",
    "        col = DestCityName,\n",
    "        into = c(\"destination_city\", \"destination_state\"),\n",
    "        sep = \", \",\n",
    "        remove = FALSE\n",
    "        ) -> cmh "
   ]
  },
  {
   "cell_type": "code",
   "execution_count": null,
   "id": "854bea97-0252-48bf-8402-8b07cb805e11",
   "metadata": {
    "tags": []
   },
   "outputs": [],
   "source": [
    "cmh %>%\n",
    "    head()"
   ]
  },
  {
   "cell_type": "markdown",
   "id": "0e2566e4-02b6-4297-aca1-d8c02f5c1459",
   "metadata": {},
   "source": [
    "## Exercise 03\n",
    "\n",
    "Tidy the `weather` data such that the resulting data-set, called `wdf`, has the `days` (the d1-d31 columns) as rows and `TMIN` and `TMAX` as columns. "
   ]
  },
  {
   "cell_type": "code",
   "execution_count": null,
   "id": "f192ced6-bea1-40db-8220-61f08aeb37c0",
   "metadata": {
    "tags": []
   },
   "outputs": [],
   "source": [
    "read.delim(\n",
    " file = \"http://stat405.had.co.nz/data/weather.txt\",\n",
    " stringsAsFactors = FALSE\n",
    " ) -> weather\n",
    "\n",
    "weather"
   ]
  },
  {
   "cell_type": "markdown",
   "id": "d5198a93-3301-462e-8d1e-78982bd49ae5",
   "metadata": {},
   "source": [
    "The end result should be as shown below:\n",
    "\n",
    "| id          | date     | TMIN | TMAX |\n",
    "| :--         | :--      | :--  | :--  |\n",
    "| MX000017004 | 2010-1-1 | NA   | NA   |\n",
    "| MX000017004 | 2010-1-2 | NA   | NA   |\n",
    "| MX000017004 | 2010-1-3 | NA   | NA   |\n",
    "| MX000017004 | 2010-1-4 | NA   | NA   |"
   ]
  },
  {
   "cell_type": "code",
   "execution_count": null,
   "id": "3c5f96ec-0b36-4f4e-8952-73ce1567ce12",
   "metadata": {
    "tags": []
   },
   "outputs": [],
   "source": [
    "weather %>%\n",
    "    group_by(id, year, month, element) %>%\n",
    "    pivot_longer(\n",
    "        names_to = \"day\",\n",
    "        values_to = \"temperature\",\n",
    "        col = 5:35\n",
    "    ) -> wdf"
   ]
  },
  {
   "cell_type": "code",
   "execution_count": null,
   "id": "0229d7f2-9a2d-4834-b3ef-7f19aa2e4135",
   "metadata": {
    "tags": []
   },
   "outputs": [],
   "source": [
    "head(wdf)"
   ]
  },
  {
   "cell_type": "code",
   "execution_count": null,
   "id": "3ce82514-1be3-47ba-95ab-5fc9a87128fd",
   "metadata": {
    "tags": []
   },
   "outputs": [],
   "source": [
    "wdf %>%\n",
    "    mutate(\n",
    "        day = stringr::str_remove_all(day, \"d\")\n",
    "        ) %>%\n",
    "    unite(\n",
    "        col = \"date\",\n",
    "        c(\"year\", \"month\", \"day\"),\n",
    "        sep = \"-\"\n",
    "        ) -> wdf"
   ]
  },
  {
   "cell_type": "code",
   "execution_count": null,
   "id": "6da253ec-fb22-44e5-bcae-cfedfdd654b9",
   "metadata": {
    "tags": []
   },
   "outputs": [],
   "source": [
    "glimpse(wdf)"
   ]
  },
  {
   "cell_type": "code",
   "execution_count": null,
   "id": "7b437d86-c87f-45f0-b233-2440dfd22055",
   "metadata": {
    "tags": []
   },
   "outputs": [],
   "source": [
    "library(stringr)"
   ]
  },
  {
   "cell_type": "code",
   "execution_count": null,
   "id": "fe924c1c-6f97-4937-a7bb-d08eb4bd105e",
   "metadata": {
    "tags": []
   },
   "outputs": [],
   "source": [
    "wdf %>%\n",
    "    mutate(\n",
    "    new_element = str_remove_all(element, \"T\")\n",
    "    ) %>%\n",
    "    ungroup() %>%\n",
    "    select(-element) -> wdf"
   ]
  },
  {
   "cell_type": "code",
   "execution_count": null,
   "id": "733f3144-8c55-44c0-8af0-deabdc74708b",
   "metadata": {
    "tags": []
   },
   "outputs": [],
   "source": [
    "head(wdf)"
   ]
  },
  {
   "cell_type": "code",
   "execution_count": null,
   "id": "521cb6e5-79dd-4d17-bc16-8909bca32362",
   "metadata": {
    "tags": []
   },
   "outputs": [],
   "source": [
    "tail(wdf)"
   ]
  },
  {
   "cell_type": "code",
   "execution_count": null,
   "id": "0bbadb3c-c107-4b7f-b845-22725adab640",
   "metadata": {
    "tags": []
   },
   "outputs": [],
   "source": [
    "wdf %>%\n",
    "    group_by(id, date) %>%\n",
    "    pivot_wider(\n",
    "        names_from = new_element,\n",
    "        values_from = temperature\n",
    "     ) -> wdf_wide"
   ]
  },
  {
   "cell_type": "code",
   "execution_count": null,
   "id": "9885ff4a-5696-41c6-9cde-bb7425359296",
   "metadata": {
    "tags": []
   },
   "outputs": [],
   "source": [
    "head(wdf_wide)"
   ]
  },
  {
   "cell_type": "code",
   "execution_count": null,
   "id": "762d5587-14d5-4203-9427-bcdf0771a8ea",
   "metadata": {
    "tags": []
   },
   "outputs": [],
   "source": [
    "tail(wdf_wide)"
   ]
  },
  {
   "cell_type": "code",
   "execution_count": null,
   "id": "bcbce648-e492-4e7f-a6d9-c45edb06ac39",
   "metadata": {
    "tags": []
   },
   "outputs": [],
   "source": [
    "wdf_wide"
   ]
  },
  {
   "cell_type": "markdown",
   "id": "4aa7cc55-7404-456a-a62c-a434aeb4ea0d",
   "metadata": {},
   "source": [
    "Just for fun, chaining it all together ..."
   ]
  },
  {
   "cell_type": "code",
   "execution_count": null,
   "id": "f53697ea-968e-4148-a0e7-1c60e979f057",
   "metadata": {
    "tags": []
   },
   "outputs": [],
   "source": [
    "read.delim(\n",
    "    file = \"http://stat405.had.co.nz/data/weather.txt\",\n",
    "    stringsAsFactors = FALSE\n",
    "    ) %>%\n",
    "    group_by(id, year, month, element) %>%\n",
    "    pivot_longer(\n",
    "        names_to = \"day\",\n",
    "        values_to = \"temperature\",\n",
    "        col = 5:35\n",
    "    ) %>%\n",
    "    mutate(\n",
    "        day = stringr::str_remove_all(day, \"d\")\n",
    "        ) %>%\n",
    "    unite(\n",
    "        col = \"date\",\n",
    "        c(\"year\", \"month\", \"day\"),\n",
    "        sep = \"-\"\n",
    "        ) %>%\n",
    "    group_by(id, date) %>%\n",
    "    pivot_wider(\n",
    "        names_from = element,\n",
    "        values_from = temperature\n",
    "     ) -> wdf_wide\n",
    "\n",
    "head(wdf_wide)"
   ]
  },
  {
   "cell_type": "markdown",
   "id": "b53f6f65-fd5a-4754-bb84-00b4a414c3a6",
   "metadata": {},
   "source": [
    "I don;t like all these missing value rows that show `NA` for `TMAX` and `TMIN` so let us `filter(...)` them out."
   ]
  },
  {
   "cell_type": "code",
   "execution_count": null,
   "id": "8790af2c-0830-419e-b31f-336b04712ac9",
   "metadata": {
    "tags": []
   },
   "outputs": [],
   "source": [
    "wdf_wide %>%\n",
    "    filter(\n",
    "        !is.na(TMAX) & !is.na(TMIN)\n",
    "        ) -> wdf_wide_clean"
   ]
  },
  {
   "cell_type": "code",
   "execution_count": null,
   "id": "8e08be42-77a4-4e69-ad29-7e9e8fafccaf",
   "metadata": {
    "tags": []
   },
   "outputs": [],
   "source": [
    "head(wdf_wide_clean)"
   ]
  },
  {
   "cell_type": "code",
   "execution_count": null,
   "id": "dc6bf4a8-e181-4ba4-9dbd-a95cf49a9eda",
   "metadata": {},
   "outputs": [],
   "source": []
  }
 ],
 "metadata": {
  "kernelspec": {
   "display_name": "R",
   "language": "R",
   "name": "ir"
  },
  "language_info": {
   "codemirror_mode": "r",
   "file_extension": ".r",
   "mimetype": "text/x-r-source",
   "name": "R",
   "pygments_lexer": "r",
   "version": "4.3.1"
  }
 },
 "nbformat": 4,
 "nbformat_minor": 5
}
