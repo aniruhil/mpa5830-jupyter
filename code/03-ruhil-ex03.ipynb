{
 "cells": [
  {
   "cell_type": "markdown",
   "id": "5c8bdab7-ec71-412b-830d-1a498aa32763",
   "metadata": {},
   "source": [
    "# Exercises for Practice"
   ]
  },
  {
   "cell_type": "markdown",
   "id": "dcb094fe-b4e0-40d8-9861-c1266a55e7ed",
   "metadata": {},
   "source": [
    "## Exercise 01"
   ]
  },
  {
   "cell_type": "markdown",
   "id": "ce4ed078-6722-475a-ba00-87a5faab4b24",
   "metadata": {},
   "source": [
    "Using the `cmhflights` data from last week, create a column that unites the three columns `Year`, `Month`, and `DayofMonth` into a single column that we will name `date_of_flight`. This column should separate the three fields by \"-\", as in, for example, `2017-1-9`. "
   ]
  },
  {
   "cell_type": "code",
   "execution_count": 3,
   "id": "d17f6093-5d2a-4f06-9713-8faa0f55f60a",
   "metadata": {},
   "outputs": [
    {
     "name": "stderr",
     "output_type": "stream",
     "text": [
      "── \u001b[1mAttaching packages\u001b[22m ─────────────────────────────────────── tidyverse 1.3.1 ──\n",
      "\n",
      "\u001b[32m✔\u001b[39m \u001b[34mggplot2\u001b[39m 3.3.5     \u001b[32m✔\u001b[39m \u001b[34mpurrr  \u001b[39m 0.3.4\n",
      "\u001b[32m✔\u001b[39m \u001b[34mtibble \u001b[39m 3.1.5     \u001b[32m✔\u001b[39m \u001b[34mdplyr  \u001b[39m 1.0.7\n",
      "\u001b[32m✔\u001b[39m \u001b[34mtidyr  \u001b[39m 1.1.4     \u001b[32m✔\u001b[39m \u001b[34mstringr\u001b[39m 1.4.0\n",
      "\u001b[32m✔\u001b[39m \u001b[34mreadr  \u001b[39m 2.0.2     \u001b[32m✔\u001b[39m \u001b[34mforcats\u001b[39m 0.5.1\n",
      "\n",
      "── \u001b[1mConflicts\u001b[22m ────────────────────────────────────────── tidyverse_conflicts() ──\n",
      "\u001b[31m✖\u001b[39m \u001b[34mdplyr\u001b[39m::\u001b[32mfilter()\u001b[39m masks \u001b[34mstats\u001b[39m::filter()\n",
      "\u001b[31m✖\u001b[39m \u001b[34mdplyr\u001b[39m::\u001b[32mlag()\u001b[39m    masks \u001b[34mstats\u001b[39m::lag()\n",
      "\n"
     ]
    }
   ],
   "source": [
    "library(tidyverse)"
   ]
  },
  {
   "cell_type": "code",
   "execution_count": 26,
   "id": "ecaaef4c-a0fd-49c1-b142-cc27f96f7495",
   "metadata": {},
   "outputs": [
    {
     "data": {
      "text/html": [
       "<style>\n",
       ".list-inline {list-style: none; margin:0; padding: 0}\n",
       ".list-inline>li {display: inline-block}\n",
       ".list-inline>li:not(:last-child)::after {content: \"\\00b7\"; padding: 0 .5ex}\n",
       "</style>\n",
       "<ol class=list-inline><li>'cmh'</li><li>'cmhflights'</li><li>'cmhflights02'</li><li>'wdf'</li><li>'wdf_wide'</li><li>'weather'</li></ol>\n"
      ],
      "text/latex": [
       "\\begin{enumerate*}\n",
       "\\item 'cmh'\n",
       "\\item 'cmhflights'\n",
       "\\item 'cmhflights02'\n",
       "\\item 'wdf'\n",
       "\\item 'wdf\\_wide'\n",
       "\\item 'weather'\n",
       "\\end{enumerate*}\n"
      ],
      "text/markdown": [
       "1. 'cmh'\n",
       "2. 'cmhflights'\n",
       "3. 'cmhflights02'\n",
       "4. 'wdf'\n",
       "5. 'wdf_wide'\n",
       "6. 'weather'\n",
       "\n",
       "\n"
      ],
      "text/plain": [
       "[1] \"cmh\"          \"cmhflights\"   \"cmhflights02\" \"wdf\"          \"wdf_wide\"    \n",
       "[6] \"weather\"     "
      ]
     },
     "metadata": {},
     "output_type": "display_data"
    }
   ],
   "source": [
    "load(\"data/cmhflights_01092017.RData\")\n",
    "ls()"
   ]
  },
  {
   "cell_type": "code",
   "execution_count": 27,
   "id": "d0ae67f0-42e4-4ae0-9515-1f56e5f5d7f2",
   "metadata": {},
   "outputs": [
    {
     "data": {
      "text/html": [
       "<table class=\"dataframe\">\n",
       "<caption>A tibble: 6 × 5</caption>\n",
       "<thead>\n",
       "\t<tr><th scope=col>Year</th><th scope=col>Month</th><th scope=col>DayofMonth</th><th scope=col>OriginCityName</th><th scope=col>DestCityName</th></tr>\n",
       "\t<tr><th scope=col>&lt;int&gt;</th><th scope=col>&lt;int&gt;</th><th scope=col>&lt;int&gt;</th><th scope=col>&lt;chr&gt;</th><th scope=col>&lt;chr&gt;</th></tr>\n",
       "</thead>\n",
       "<tbody>\n",
       "\t<tr><td>2017</td><td>1</td><td>1</td><td>Los Angeles, CA</td><td>Columbus, OH</td></tr>\n",
       "\t<tr><td>2017</td><td>1</td><td>2</td><td>Los Angeles, CA</td><td>Columbus, OH</td></tr>\n",
       "\t<tr><td>2017</td><td>1</td><td>3</td><td>Los Angeles, CA</td><td>Columbus, OH</td></tr>\n",
       "\t<tr><td>2017</td><td>1</td><td>4</td><td>Los Angeles, CA</td><td>Columbus, OH</td></tr>\n",
       "\t<tr><td>2017</td><td>1</td><td>5</td><td>Los Angeles, CA</td><td>Columbus, OH</td></tr>\n",
       "\t<tr><td>2017</td><td>1</td><td>6</td><td>Los Angeles, CA</td><td>Columbus, OH</td></tr>\n",
       "</tbody>\n",
       "</table>\n"
      ],
      "text/latex": [
       "A tibble: 6 × 5\n",
       "\\begin{tabular}{lllll}\n",
       " Year & Month & DayofMonth & OriginCityName & DestCityName\\\\\n",
       " <int> & <int> & <int> & <chr> & <chr>\\\\\n",
       "\\hline\n",
       "\t 2017 & 1 & 1 & Los Angeles, CA & Columbus, OH\\\\\n",
       "\t 2017 & 1 & 2 & Los Angeles, CA & Columbus, OH\\\\\n",
       "\t 2017 & 1 & 3 & Los Angeles, CA & Columbus, OH\\\\\n",
       "\t 2017 & 1 & 4 & Los Angeles, CA & Columbus, OH\\\\\n",
       "\t 2017 & 1 & 5 & Los Angeles, CA & Columbus, OH\\\\\n",
       "\t 2017 & 1 & 6 & Los Angeles, CA & Columbus, OH\\\\\n",
       "\\end{tabular}\n"
      ],
      "text/markdown": [
       "\n",
       "A tibble: 6 × 5\n",
       "\n",
       "| Year &lt;int&gt; | Month &lt;int&gt; | DayofMonth &lt;int&gt; | OriginCityName &lt;chr&gt; | DestCityName &lt;chr&gt; |\n",
       "|---|---|---|---|---|\n",
       "| 2017 | 1 | 1 | Los Angeles, CA | Columbus, OH |\n",
       "| 2017 | 1 | 2 | Los Angeles, CA | Columbus, OH |\n",
       "| 2017 | 1 | 3 | Los Angeles, CA | Columbus, OH |\n",
       "| 2017 | 1 | 4 | Los Angeles, CA | Columbus, OH |\n",
       "| 2017 | 1 | 5 | Los Angeles, CA | Columbus, OH |\n",
       "| 2017 | 1 | 6 | Los Angeles, CA | Columbus, OH |\n",
       "\n"
      ],
      "text/plain": [
       "  Year Month DayofMonth OriginCityName  DestCityName\n",
       "1 2017 1     1          Los Angeles, CA Columbus, OH\n",
       "2 2017 1     2          Los Angeles, CA Columbus, OH\n",
       "3 2017 1     3          Los Angeles, CA Columbus, OH\n",
       "4 2017 1     4          Los Angeles, CA Columbus, OH\n",
       "5 2017 1     5          Los Angeles, CA Columbus, OH\n",
       "6 2017 1     6          Los Angeles, CA Columbus, OH"
      ]
     },
     "metadata": {},
     "output_type": "display_data"
    }
   ],
   "source": [
    "cmhflights %>%\n",
    "    select(\n",
    "        Year, Month, DayofMonth, OriginCityName, DestCityName\n",
    "    ) -> cmh\n",
    "\n",
    "head(cmh)"
   ]
  },
  {
   "cell_type": "code",
   "execution_count": 28,
   "id": "65546d6e-65d2-429d-a7f2-33d5ed4a4a2f",
   "metadata": {},
   "outputs": [],
   "source": [
    "cmh %>%\n",
    "    unite(\n",
    "        col = \"date_of_flight\",\n",
    "        c(\"Year\", \"Month\", \"DayofMonth\"),\n",
    "        sep = \"-\",\n",
    "        remove = FALSE\n",
    "    ) -> cmh"
   ]
  },
  {
   "cell_type": "code",
   "execution_count": 29,
   "id": "b9ac8fae-4365-4d81-a6b1-43145a4b0703",
   "metadata": {},
   "outputs": [
    {
     "data": {
      "text/html": [
       "<table class=\"dataframe\">\n",
       "<caption>A tibble: 6 × 6</caption>\n",
       "<thead>\n",
       "\t<tr><th scope=col>date_of_flight</th><th scope=col>Year</th><th scope=col>Month</th><th scope=col>DayofMonth</th><th scope=col>OriginCityName</th><th scope=col>DestCityName</th></tr>\n",
       "\t<tr><th scope=col>&lt;chr&gt;</th><th scope=col>&lt;int&gt;</th><th scope=col>&lt;int&gt;</th><th scope=col>&lt;int&gt;</th><th scope=col>&lt;chr&gt;</th><th scope=col>&lt;chr&gt;</th></tr>\n",
       "</thead>\n",
       "<tbody>\n",
       "\t<tr><td>2017-1-1</td><td>2017</td><td>1</td><td>1</td><td>Los Angeles, CA</td><td>Columbus, OH</td></tr>\n",
       "\t<tr><td>2017-1-2</td><td>2017</td><td>1</td><td>2</td><td>Los Angeles, CA</td><td>Columbus, OH</td></tr>\n",
       "\t<tr><td>2017-1-3</td><td>2017</td><td>1</td><td>3</td><td>Los Angeles, CA</td><td>Columbus, OH</td></tr>\n",
       "\t<tr><td>2017-1-4</td><td>2017</td><td>1</td><td>4</td><td>Los Angeles, CA</td><td>Columbus, OH</td></tr>\n",
       "\t<tr><td>2017-1-5</td><td>2017</td><td>1</td><td>5</td><td>Los Angeles, CA</td><td>Columbus, OH</td></tr>\n",
       "\t<tr><td>2017-1-6</td><td>2017</td><td>1</td><td>6</td><td>Los Angeles, CA</td><td>Columbus, OH</td></tr>\n",
       "</tbody>\n",
       "</table>\n"
      ],
      "text/latex": [
       "A tibble: 6 × 6\n",
       "\\begin{tabular}{llllll}\n",
       " date\\_of\\_flight & Year & Month & DayofMonth & OriginCityName & DestCityName\\\\\n",
       " <chr> & <int> & <int> & <int> & <chr> & <chr>\\\\\n",
       "\\hline\n",
       "\t 2017-1-1 & 2017 & 1 & 1 & Los Angeles, CA & Columbus, OH\\\\\n",
       "\t 2017-1-2 & 2017 & 1 & 2 & Los Angeles, CA & Columbus, OH\\\\\n",
       "\t 2017-1-3 & 2017 & 1 & 3 & Los Angeles, CA & Columbus, OH\\\\\n",
       "\t 2017-1-4 & 2017 & 1 & 4 & Los Angeles, CA & Columbus, OH\\\\\n",
       "\t 2017-1-5 & 2017 & 1 & 5 & Los Angeles, CA & Columbus, OH\\\\\n",
       "\t 2017-1-6 & 2017 & 1 & 6 & Los Angeles, CA & Columbus, OH\\\\\n",
       "\\end{tabular}\n"
      ],
      "text/markdown": [
       "\n",
       "A tibble: 6 × 6\n",
       "\n",
       "| date_of_flight &lt;chr&gt; | Year &lt;int&gt; | Month &lt;int&gt; | DayofMonth &lt;int&gt; | OriginCityName &lt;chr&gt; | DestCityName &lt;chr&gt; |\n",
       "|---|---|---|---|---|---|\n",
       "| 2017-1-1 | 2017 | 1 | 1 | Los Angeles, CA | Columbus, OH |\n",
       "| 2017-1-2 | 2017 | 1 | 2 | Los Angeles, CA | Columbus, OH |\n",
       "| 2017-1-3 | 2017 | 1 | 3 | Los Angeles, CA | Columbus, OH |\n",
       "| 2017-1-4 | 2017 | 1 | 4 | Los Angeles, CA | Columbus, OH |\n",
       "| 2017-1-5 | 2017 | 1 | 5 | Los Angeles, CA | Columbus, OH |\n",
       "| 2017-1-6 | 2017 | 1 | 6 | Los Angeles, CA | Columbus, OH |\n",
       "\n"
      ],
      "text/plain": [
       "  date_of_flight Year Month DayofMonth OriginCityName  DestCityName\n",
       "1 2017-1-1       2017 1     1          Los Angeles, CA Columbus, OH\n",
       "2 2017-1-2       2017 1     2          Los Angeles, CA Columbus, OH\n",
       "3 2017-1-3       2017 1     3          Los Angeles, CA Columbus, OH\n",
       "4 2017-1-4       2017 1     4          Los Angeles, CA Columbus, OH\n",
       "5 2017-1-5       2017 1     5          Los Angeles, CA Columbus, OH\n",
       "6 2017-1-6       2017 1     6          Los Angeles, CA Columbus, OH"
      ]
     },
     "metadata": {},
     "output_type": "display_data"
    }
   ],
   "source": [
    "cmh %>%\n",
    "    head()"
   ]
  },
  {
   "cell_type": "markdown",
   "id": "9db041a1-bc57-4518-9d09-87cc01022f82",
   "metadata": {},
   "source": [
    "## Exercise 02\n",
    "\n",
    "Sticking with `cmhflights`, separate `OriginCityName` into two new columns, `origin_city` and `origin_state`. Do the same for `DestCityName`, calling the new columns `destination_city` and `destination_state`, respectively. Both city columns should only display the name of the city, while both state columns should only display the abbreviated state name (for example, \"CA\", \"OH\", etc.)  \n"
   ]
  },
  {
   "cell_type": "code",
   "execution_count": 30,
   "id": "59888685-6b9e-4c99-b0cd-33165910e7ac",
   "metadata": {},
   "outputs": [],
   "source": [
    "cmh %>%\n",
    "    separate(\n",
    "        col = OriginCityName,\n",
    "        into = c(\"origin_city\", \"origin_state\"),\n",
    "        sep = \", \",\n",
    "        remove = FALSE\n",
    "        ) %>%\n",
    "    separate(\n",
    "        col = DestCityName,\n",
    "        into = c(\"destination_city\", \"destination_state\"),\n",
    "        sep = \", \",\n",
    "        remove = FALSE\n",
    "        ) -> cmh "
   ]
  },
  {
   "cell_type": "code",
   "execution_count": 31,
   "id": "854bea97-0252-48bf-8402-8b07cb805e11",
   "metadata": {},
   "outputs": [
    {
     "data": {
      "text/html": [
       "<table class=\"dataframe\">\n",
       "<caption>A tibble: 6 × 10</caption>\n",
       "<thead>\n",
       "\t<tr><th scope=col>date_of_flight</th><th scope=col>Year</th><th scope=col>Month</th><th scope=col>DayofMonth</th><th scope=col>OriginCityName</th><th scope=col>origin_city</th><th scope=col>origin_state</th><th scope=col>DestCityName</th><th scope=col>destination_city</th><th scope=col>destination_state</th></tr>\n",
       "\t<tr><th scope=col>&lt;chr&gt;</th><th scope=col>&lt;int&gt;</th><th scope=col>&lt;int&gt;</th><th scope=col>&lt;int&gt;</th><th scope=col>&lt;chr&gt;</th><th scope=col>&lt;chr&gt;</th><th scope=col>&lt;chr&gt;</th><th scope=col>&lt;chr&gt;</th><th scope=col>&lt;chr&gt;</th><th scope=col>&lt;chr&gt;</th></tr>\n",
       "</thead>\n",
       "<tbody>\n",
       "\t<tr><td>2017-1-1</td><td>2017</td><td>1</td><td>1</td><td>Los Angeles, CA</td><td>Los Angeles</td><td>CA</td><td>Columbus, OH</td><td>Columbus</td><td>OH</td></tr>\n",
       "\t<tr><td>2017-1-2</td><td>2017</td><td>1</td><td>2</td><td>Los Angeles, CA</td><td>Los Angeles</td><td>CA</td><td>Columbus, OH</td><td>Columbus</td><td>OH</td></tr>\n",
       "\t<tr><td>2017-1-3</td><td>2017</td><td>1</td><td>3</td><td>Los Angeles, CA</td><td>Los Angeles</td><td>CA</td><td>Columbus, OH</td><td>Columbus</td><td>OH</td></tr>\n",
       "\t<tr><td>2017-1-4</td><td>2017</td><td>1</td><td>4</td><td>Los Angeles, CA</td><td>Los Angeles</td><td>CA</td><td>Columbus, OH</td><td>Columbus</td><td>OH</td></tr>\n",
       "\t<tr><td>2017-1-5</td><td>2017</td><td>1</td><td>5</td><td>Los Angeles, CA</td><td>Los Angeles</td><td>CA</td><td>Columbus, OH</td><td>Columbus</td><td>OH</td></tr>\n",
       "\t<tr><td>2017-1-6</td><td>2017</td><td>1</td><td>6</td><td>Los Angeles, CA</td><td>Los Angeles</td><td>CA</td><td>Columbus, OH</td><td>Columbus</td><td>OH</td></tr>\n",
       "</tbody>\n",
       "</table>\n"
      ],
      "text/latex": [
       "A tibble: 6 × 10\n",
       "\\begin{tabular}{llllllllll}\n",
       " date\\_of\\_flight & Year & Month & DayofMonth & OriginCityName & origin\\_city & origin\\_state & DestCityName & destination\\_city & destination\\_state\\\\\n",
       " <chr> & <int> & <int> & <int> & <chr> & <chr> & <chr> & <chr> & <chr> & <chr>\\\\\n",
       "\\hline\n",
       "\t 2017-1-1 & 2017 & 1 & 1 & Los Angeles, CA & Los Angeles & CA & Columbus, OH & Columbus & OH\\\\\n",
       "\t 2017-1-2 & 2017 & 1 & 2 & Los Angeles, CA & Los Angeles & CA & Columbus, OH & Columbus & OH\\\\\n",
       "\t 2017-1-3 & 2017 & 1 & 3 & Los Angeles, CA & Los Angeles & CA & Columbus, OH & Columbus & OH\\\\\n",
       "\t 2017-1-4 & 2017 & 1 & 4 & Los Angeles, CA & Los Angeles & CA & Columbus, OH & Columbus & OH\\\\\n",
       "\t 2017-1-5 & 2017 & 1 & 5 & Los Angeles, CA & Los Angeles & CA & Columbus, OH & Columbus & OH\\\\\n",
       "\t 2017-1-6 & 2017 & 1 & 6 & Los Angeles, CA & Los Angeles & CA & Columbus, OH & Columbus & OH\\\\\n",
       "\\end{tabular}\n"
      ],
      "text/markdown": [
       "\n",
       "A tibble: 6 × 10\n",
       "\n",
       "| date_of_flight &lt;chr&gt; | Year &lt;int&gt; | Month &lt;int&gt; | DayofMonth &lt;int&gt; | OriginCityName &lt;chr&gt; | origin_city &lt;chr&gt; | origin_state &lt;chr&gt; | DestCityName &lt;chr&gt; | destination_city &lt;chr&gt; | destination_state &lt;chr&gt; |\n",
       "|---|---|---|---|---|---|---|---|---|---|\n",
       "| 2017-1-1 | 2017 | 1 | 1 | Los Angeles, CA | Los Angeles | CA | Columbus, OH | Columbus | OH |\n",
       "| 2017-1-2 | 2017 | 1 | 2 | Los Angeles, CA | Los Angeles | CA | Columbus, OH | Columbus | OH |\n",
       "| 2017-1-3 | 2017 | 1 | 3 | Los Angeles, CA | Los Angeles | CA | Columbus, OH | Columbus | OH |\n",
       "| 2017-1-4 | 2017 | 1 | 4 | Los Angeles, CA | Los Angeles | CA | Columbus, OH | Columbus | OH |\n",
       "| 2017-1-5 | 2017 | 1 | 5 | Los Angeles, CA | Los Angeles | CA | Columbus, OH | Columbus | OH |\n",
       "| 2017-1-6 | 2017 | 1 | 6 | Los Angeles, CA | Los Angeles | CA | Columbus, OH | Columbus | OH |\n",
       "\n"
      ],
      "text/plain": [
       "  date_of_flight Year Month DayofMonth OriginCityName  origin_city origin_state\n",
       "1 2017-1-1       2017 1     1          Los Angeles, CA Los Angeles CA          \n",
       "2 2017-1-2       2017 1     2          Los Angeles, CA Los Angeles CA          \n",
       "3 2017-1-3       2017 1     3          Los Angeles, CA Los Angeles CA          \n",
       "4 2017-1-4       2017 1     4          Los Angeles, CA Los Angeles CA          \n",
       "5 2017-1-5       2017 1     5          Los Angeles, CA Los Angeles CA          \n",
       "6 2017-1-6       2017 1     6          Los Angeles, CA Los Angeles CA          \n",
       "  DestCityName destination_city destination_state\n",
       "1 Columbus, OH Columbus         OH               \n",
       "2 Columbus, OH Columbus         OH               \n",
       "3 Columbus, OH Columbus         OH               \n",
       "4 Columbus, OH Columbus         OH               \n",
       "5 Columbus, OH Columbus         OH               \n",
       "6 Columbus, OH Columbus         OH               "
      ]
     },
     "metadata": {},
     "output_type": "display_data"
    }
   ],
   "source": [
    "cmh %>%\n",
    "    head()"
   ]
  },
  {
   "cell_type": "markdown",
   "id": "0e2566e4-02b6-4297-aca1-d8c02f5c1459",
   "metadata": {},
   "source": [
    "## Exercise 03\n",
    "\n",
    "Tidy the `weather` data such that the resulting data-set, called `wdf`, has the `days` (the d1-d31 columns) as rows and `TMIN` and `TMAX` as columns. "
   ]
  },
  {
   "cell_type": "code",
   "execution_count": 16,
   "id": "f192ced6-bea1-40db-8220-61f08aeb37c0",
   "metadata": {},
   "outputs": [
    {
     "data": {
      "text/html": [
       "<table class=\"dataframe\">\n",
       "<caption>A data.frame: 22 × 35</caption>\n",
       "<thead>\n",
       "\t<tr><th scope=col>id</th><th scope=col>year</th><th scope=col>month</th><th scope=col>element</th><th scope=col>d1</th><th scope=col>d2</th><th scope=col>d3</th><th scope=col>d4</th><th scope=col>d5</th><th scope=col>d6</th><th scope=col>⋯</th><th scope=col>d22</th><th scope=col>d23</th><th scope=col>d24</th><th scope=col>d25</th><th scope=col>d26</th><th scope=col>d27</th><th scope=col>d28</th><th scope=col>d29</th><th scope=col>d30</th><th scope=col>d31</th></tr>\n",
       "\t<tr><th scope=col>&lt;chr&gt;</th><th scope=col>&lt;int&gt;</th><th scope=col>&lt;int&gt;</th><th scope=col>&lt;chr&gt;</th><th scope=col>&lt;int&gt;</th><th scope=col>&lt;int&gt;</th><th scope=col>&lt;int&gt;</th><th scope=col>&lt;int&gt;</th><th scope=col>&lt;int&gt;</th><th scope=col>&lt;int&gt;</th><th scope=col>⋯</th><th scope=col>&lt;lgl&gt;</th><th scope=col>&lt;int&gt;</th><th scope=col>&lt;lgl&gt;</th><th scope=col>&lt;int&gt;</th><th scope=col>&lt;int&gt;</th><th scope=col>&lt;int&gt;</th><th scope=col>&lt;int&gt;</th><th scope=col>&lt;int&gt;</th><th scope=col>&lt;int&gt;</th><th scope=col>&lt;int&gt;</th></tr>\n",
       "</thead>\n",
       "<tbody>\n",
       "\t<tr><td>MX000017004</td><td>2010</td><td> 1</td><td>TMAX</td><td> NA</td><td> NA</td><td> NA</td><td> NA</td><td> NA</td><td> NA</td><td>⋯</td><td>NA</td><td> NA</td><td>NA</td><td> NA</td><td> NA</td><td> NA</td><td> NA</td><td> NA</td><td>278</td><td> NA</td></tr>\n",
       "\t<tr><td>MX000017004</td><td>2010</td><td> 1</td><td>TMIN</td><td> NA</td><td> NA</td><td> NA</td><td> NA</td><td> NA</td><td> NA</td><td>⋯</td><td>NA</td><td> NA</td><td>NA</td><td> NA</td><td> NA</td><td> NA</td><td> NA</td><td> NA</td><td>145</td><td> NA</td></tr>\n",
       "\t<tr><td>MX000017004</td><td>2010</td><td> 2</td><td>TMAX</td><td> NA</td><td>273</td><td>241</td><td> NA</td><td> NA</td><td> NA</td><td>⋯</td><td>NA</td><td>299</td><td>NA</td><td> NA</td><td> NA</td><td> NA</td><td> NA</td><td> NA</td><td> NA</td><td> NA</td></tr>\n",
       "\t<tr><td>MX000017004</td><td>2010</td><td> 2</td><td>TMIN</td><td> NA</td><td>144</td><td>144</td><td> NA</td><td> NA</td><td> NA</td><td>⋯</td><td>NA</td><td>107</td><td>NA</td><td> NA</td><td> NA</td><td> NA</td><td> NA</td><td> NA</td><td> NA</td><td> NA</td></tr>\n",
       "\t<tr><td>MX000017004</td><td>2010</td><td> 3</td><td>TMAX</td><td> NA</td><td> NA</td><td> NA</td><td> NA</td><td>321</td><td> NA</td><td>⋯</td><td>NA</td><td> NA</td><td>NA</td><td> NA</td><td> NA</td><td> NA</td><td> NA</td><td> NA</td><td> NA</td><td> NA</td></tr>\n",
       "\t<tr><td>MX000017004</td><td>2010</td><td> 3</td><td>TMIN</td><td> NA</td><td> NA</td><td> NA</td><td> NA</td><td>142</td><td> NA</td><td>⋯</td><td>NA</td><td> NA</td><td>NA</td><td> NA</td><td> NA</td><td> NA</td><td> NA</td><td> NA</td><td> NA</td><td> NA</td></tr>\n",
       "\t<tr><td>MX000017004</td><td>2010</td><td> 4</td><td>TMAX</td><td> NA</td><td> NA</td><td> NA</td><td> NA</td><td> NA</td><td> NA</td><td>⋯</td><td>NA</td><td> NA</td><td>NA</td><td> NA</td><td> NA</td><td>363</td><td> NA</td><td> NA</td><td> NA</td><td> NA</td></tr>\n",
       "\t<tr><td>MX000017004</td><td>2010</td><td> 4</td><td>TMIN</td><td> NA</td><td> NA</td><td> NA</td><td> NA</td><td> NA</td><td> NA</td><td>⋯</td><td>NA</td><td> NA</td><td>NA</td><td> NA</td><td> NA</td><td>167</td><td> NA</td><td> NA</td><td> NA</td><td> NA</td></tr>\n",
       "\t<tr><td>MX000017004</td><td>2010</td><td> 5</td><td>TMAX</td><td> NA</td><td> NA</td><td> NA</td><td> NA</td><td> NA</td><td> NA</td><td>⋯</td><td>NA</td><td> NA</td><td>NA</td><td> NA</td><td> NA</td><td>332</td><td> NA</td><td> NA</td><td> NA</td><td> NA</td></tr>\n",
       "\t<tr><td>MX000017004</td><td>2010</td><td> 5</td><td>TMIN</td><td> NA</td><td> NA</td><td> NA</td><td> NA</td><td> NA</td><td> NA</td><td>⋯</td><td>NA</td><td> NA</td><td>NA</td><td> NA</td><td> NA</td><td>182</td><td> NA</td><td> NA</td><td> NA</td><td> NA</td></tr>\n",
       "\t<tr><td>MX000017004</td><td>2010</td><td> 6</td><td>TMAX</td><td> NA</td><td> NA</td><td> NA</td><td> NA</td><td> NA</td><td> NA</td><td>⋯</td><td>NA</td><td> NA</td><td>NA</td><td> NA</td><td> NA</td><td> NA</td><td> NA</td><td>301</td><td> NA</td><td> NA</td></tr>\n",
       "\t<tr><td>MX000017004</td><td>2010</td><td> 6</td><td>TMIN</td><td> NA</td><td> NA</td><td> NA</td><td> NA</td><td> NA</td><td> NA</td><td>⋯</td><td>NA</td><td> NA</td><td>NA</td><td> NA</td><td> NA</td><td> NA</td><td> NA</td><td>180</td><td> NA</td><td> NA</td></tr>\n",
       "\t<tr><td>MX000017004</td><td>2010</td><td> 7</td><td>TMAX</td><td> NA</td><td> NA</td><td>286</td><td> NA</td><td> NA</td><td> NA</td><td>⋯</td><td>NA</td><td> NA</td><td>NA</td><td> NA</td><td> NA</td><td> NA</td><td> NA</td><td> NA</td><td> NA</td><td> NA</td></tr>\n",
       "\t<tr><td>MX000017004</td><td>2010</td><td> 7</td><td>TMIN</td><td> NA</td><td> NA</td><td>175</td><td> NA</td><td> NA</td><td> NA</td><td>⋯</td><td>NA</td><td> NA</td><td>NA</td><td> NA</td><td> NA</td><td> NA</td><td> NA</td><td> NA</td><td> NA</td><td> NA</td></tr>\n",
       "\t<tr><td>MX000017004</td><td>2010</td><td> 8</td><td>TMAX</td><td> NA</td><td> NA</td><td> NA</td><td> NA</td><td>296</td><td> NA</td><td>⋯</td><td>NA</td><td>264</td><td>NA</td><td>297</td><td> NA</td><td> NA</td><td> NA</td><td>280</td><td> NA</td><td>254</td></tr>\n",
       "\t<tr><td>MX000017004</td><td>2010</td><td> 8</td><td>TMIN</td><td> NA</td><td> NA</td><td> NA</td><td> NA</td><td>158</td><td> NA</td><td>⋯</td><td>NA</td><td>150</td><td>NA</td><td>156</td><td> NA</td><td> NA</td><td> NA</td><td>153</td><td> NA</td><td>154</td></tr>\n",
       "\t<tr><td>MX000017004</td><td>2010</td><td>10</td><td>TMAX</td><td> NA</td><td> NA</td><td> NA</td><td> NA</td><td>270</td><td> NA</td><td>⋯</td><td>NA</td><td> NA</td><td>NA</td><td> NA</td><td> NA</td><td> NA</td><td>312</td><td> NA</td><td> NA</td><td> NA</td></tr>\n",
       "\t<tr><td>MX000017004</td><td>2010</td><td>10</td><td>TMIN</td><td> NA</td><td> NA</td><td> NA</td><td> NA</td><td>140</td><td> NA</td><td>⋯</td><td>NA</td><td> NA</td><td>NA</td><td> NA</td><td> NA</td><td> NA</td><td>150</td><td> NA</td><td> NA</td><td> NA</td></tr>\n",
       "\t<tr><td>MX000017004</td><td>2010</td><td>11</td><td>TMAX</td><td> NA</td><td>313</td><td> NA</td><td>272</td><td>263</td><td> NA</td><td>⋯</td><td>NA</td><td> NA</td><td>NA</td><td> NA</td><td>281</td><td>277</td><td> NA</td><td> NA</td><td> NA</td><td> NA</td></tr>\n",
       "\t<tr><td>MX000017004</td><td>2010</td><td>11</td><td>TMIN</td><td> NA</td><td>163</td><td> NA</td><td>120</td><td> 79</td><td> NA</td><td>⋯</td><td>NA</td><td> NA</td><td>NA</td><td> NA</td><td>121</td><td>142</td><td> NA</td><td> NA</td><td> NA</td><td> NA</td></tr>\n",
       "\t<tr><td>MX000017004</td><td>2010</td><td>12</td><td>TMAX</td><td>299</td><td> NA</td><td> NA</td><td> NA</td><td> NA</td><td>278</td><td>⋯</td><td>NA</td><td> NA</td><td>NA</td><td> NA</td><td> NA</td><td> NA</td><td> NA</td><td> NA</td><td> NA</td><td> NA</td></tr>\n",
       "\t<tr><td>MX000017004</td><td>2010</td><td>12</td><td>TMIN</td><td>138</td><td> NA</td><td> NA</td><td> NA</td><td> NA</td><td>105</td><td>⋯</td><td>NA</td><td> NA</td><td>NA</td><td> NA</td><td> NA</td><td> NA</td><td> NA</td><td> NA</td><td> NA</td><td> NA</td></tr>\n",
       "</tbody>\n",
       "</table>\n"
      ],
      "text/latex": [
       "A data.frame: 22 × 35\n",
       "\\begin{tabular}{lllllllllllllllllllll}\n",
       " id & year & month & element & d1 & d2 & d3 & d4 & d5 & d6 & ⋯ & d22 & d23 & d24 & d25 & d26 & d27 & d28 & d29 & d30 & d31\\\\\n",
       " <chr> & <int> & <int> & <chr> & <int> & <int> & <int> & <int> & <int> & <int> & ⋯ & <lgl> & <int> & <lgl> & <int> & <int> & <int> & <int> & <int> & <int> & <int>\\\\\n",
       "\\hline\n",
       "\t MX000017004 & 2010 &  1 & TMAX &  NA &  NA &  NA &  NA &  NA &  NA & ⋯ & NA &  NA & NA &  NA &  NA &  NA &  NA &  NA & 278 &  NA\\\\\n",
       "\t MX000017004 & 2010 &  1 & TMIN &  NA &  NA &  NA &  NA &  NA &  NA & ⋯ & NA &  NA & NA &  NA &  NA &  NA &  NA &  NA & 145 &  NA\\\\\n",
       "\t MX000017004 & 2010 &  2 & TMAX &  NA & 273 & 241 &  NA &  NA &  NA & ⋯ & NA & 299 & NA &  NA &  NA &  NA &  NA &  NA &  NA &  NA\\\\\n",
       "\t MX000017004 & 2010 &  2 & TMIN &  NA & 144 & 144 &  NA &  NA &  NA & ⋯ & NA & 107 & NA &  NA &  NA &  NA &  NA &  NA &  NA &  NA\\\\\n",
       "\t MX000017004 & 2010 &  3 & TMAX &  NA &  NA &  NA &  NA & 321 &  NA & ⋯ & NA &  NA & NA &  NA &  NA &  NA &  NA &  NA &  NA &  NA\\\\\n",
       "\t MX000017004 & 2010 &  3 & TMIN &  NA &  NA &  NA &  NA & 142 &  NA & ⋯ & NA &  NA & NA &  NA &  NA &  NA &  NA &  NA &  NA &  NA\\\\\n",
       "\t MX000017004 & 2010 &  4 & TMAX &  NA &  NA &  NA &  NA &  NA &  NA & ⋯ & NA &  NA & NA &  NA &  NA & 363 &  NA &  NA &  NA &  NA\\\\\n",
       "\t MX000017004 & 2010 &  4 & TMIN &  NA &  NA &  NA &  NA &  NA &  NA & ⋯ & NA &  NA & NA &  NA &  NA & 167 &  NA &  NA &  NA &  NA\\\\\n",
       "\t MX000017004 & 2010 &  5 & TMAX &  NA &  NA &  NA &  NA &  NA &  NA & ⋯ & NA &  NA & NA &  NA &  NA & 332 &  NA &  NA &  NA &  NA\\\\\n",
       "\t MX000017004 & 2010 &  5 & TMIN &  NA &  NA &  NA &  NA &  NA &  NA & ⋯ & NA &  NA & NA &  NA &  NA & 182 &  NA &  NA &  NA &  NA\\\\\n",
       "\t MX000017004 & 2010 &  6 & TMAX &  NA &  NA &  NA &  NA &  NA &  NA & ⋯ & NA &  NA & NA &  NA &  NA &  NA &  NA & 301 &  NA &  NA\\\\\n",
       "\t MX000017004 & 2010 &  6 & TMIN &  NA &  NA &  NA &  NA &  NA &  NA & ⋯ & NA &  NA & NA &  NA &  NA &  NA &  NA & 180 &  NA &  NA\\\\\n",
       "\t MX000017004 & 2010 &  7 & TMAX &  NA &  NA & 286 &  NA &  NA &  NA & ⋯ & NA &  NA & NA &  NA &  NA &  NA &  NA &  NA &  NA &  NA\\\\\n",
       "\t MX000017004 & 2010 &  7 & TMIN &  NA &  NA & 175 &  NA &  NA &  NA & ⋯ & NA &  NA & NA &  NA &  NA &  NA &  NA &  NA &  NA &  NA\\\\\n",
       "\t MX000017004 & 2010 &  8 & TMAX &  NA &  NA &  NA &  NA & 296 &  NA & ⋯ & NA & 264 & NA & 297 &  NA &  NA &  NA & 280 &  NA & 254\\\\\n",
       "\t MX000017004 & 2010 &  8 & TMIN &  NA &  NA &  NA &  NA & 158 &  NA & ⋯ & NA & 150 & NA & 156 &  NA &  NA &  NA & 153 &  NA & 154\\\\\n",
       "\t MX000017004 & 2010 & 10 & TMAX &  NA &  NA &  NA &  NA & 270 &  NA & ⋯ & NA &  NA & NA &  NA &  NA &  NA & 312 &  NA &  NA &  NA\\\\\n",
       "\t MX000017004 & 2010 & 10 & TMIN &  NA &  NA &  NA &  NA & 140 &  NA & ⋯ & NA &  NA & NA &  NA &  NA &  NA & 150 &  NA &  NA &  NA\\\\\n",
       "\t MX000017004 & 2010 & 11 & TMAX &  NA & 313 &  NA & 272 & 263 &  NA & ⋯ & NA &  NA & NA &  NA & 281 & 277 &  NA &  NA &  NA &  NA\\\\\n",
       "\t MX000017004 & 2010 & 11 & TMIN &  NA & 163 &  NA & 120 &  79 &  NA & ⋯ & NA &  NA & NA &  NA & 121 & 142 &  NA &  NA &  NA &  NA\\\\\n",
       "\t MX000017004 & 2010 & 12 & TMAX & 299 &  NA &  NA &  NA &  NA & 278 & ⋯ & NA &  NA & NA &  NA &  NA &  NA &  NA &  NA &  NA &  NA\\\\\n",
       "\t MX000017004 & 2010 & 12 & TMIN & 138 &  NA &  NA &  NA &  NA & 105 & ⋯ & NA &  NA & NA &  NA &  NA &  NA &  NA &  NA &  NA &  NA\\\\\n",
       "\\end{tabular}\n"
      ],
      "text/markdown": [
       "\n",
       "A data.frame: 22 × 35\n",
       "\n",
       "| id &lt;chr&gt; | year &lt;int&gt; | month &lt;int&gt; | element &lt;chr&gt; | d1 &lt;int&gt; | d2 &lt;int&gt; | d3 &lt;int&gt; | d4 &lt;int&gt; | d5 &lt;int&gt; | d6 &lt;int&gt; | ⋯ ⋯ | d22 &lt;lgl&gt; | d23 &lt;int&gt; | d24 &lt;lgl&gt; | d25 &lt;int&gt; | d26 &lt;int&gt; | d27 &lt;int&gt; | d28 &lt;int&gt; | d29 &lt;int&gt; | d30 &lt;int&gt; | d31 &lt;int&gt; |\n",
       "|---|---|---|---|---|---|---|---|---|---|---|---|---|---|---|---|---|---|---|---|---|\n",
       "| MX000017004 | 2010 |  1 | TMAX |  NA |  NA |  NA |  NA |  NA |  NA | ⋯ | NA |  NA | NA |  NA |  NA |  NA |  NA |  NA | 278 |  NA |\n",
       "| MX000017004 | 2010 |  1 | TMIN |  NA |  NA |  NA |  NA |  NA |  NA | ⋯ | NA |  NA | NA |  NA |  NA |  NA |  NA |  NA | 145 |  NA |\n",
       "| MX000017004 | 2010 |  2 | TMAX |  NA | 273 | 241 |  NA |  NA |  NA | ⋯ | NA | 299 | NA |  NA |  NA |  NA |  NA |  NA |  NA |  NA |\n",
       "| MX000017004 | 2010 |  2 | TMIN |  NA | 144 | 144 |  NA |  NA |  NA | ⋯ | NA | 107 | NA |  NA |  NA |  NA |  NA |  NA |  NA |  NA |\n",
       "| MX000017004 | 2010 |  3 | TMAX |  NA |  NA |  NA |  NA | 321 |  NA | ⋯ | NA |  NA | NA |  NA |  NA |  NA |  NA |  NA |  NA |  NA |\n",
       "| MX000017004 | 2010 |  3 | TMIN |  NA |  NA |  NA |  NA | 142 |  NA | ⋯ | NA |  NA | NA |  NA |  NA |  NA |  NA |  NA |  NA |  NA |\n",
       "| MX000017004 | 2010 |  4 | TMAX |  NA |  NA |  NA |  NA |  NA |  NA | ⋯ | NA |  NA | NA |  NA |  NA | 363 |  NA |  NA |  NA |  NA |\n",
       "| MX000017004 | 2010 |  4 | TMIN |  NA |  NA |  NA |  NA |  NA |  NA | ⋯ | NA |  NA | NA |  NA |  NA | 167 |  NA |  NA |  NA |  NA |\n",
       "| MX000017004 | 2010 |  5 | TMAX |  NA |  NA |  NA |  NA |  NA |  NA | ⋯ | NA |  NA | NA |  NA |  NA | 332 |  NA |  NA |  NA |  NA |\n",
       "| MX000017004 | 2010 |  5 | TMIN |  NA |  NA |  NA |  NA |  NA |  NA | ⋯ | NA |  NA | NA |  NA |  NA | 182 |  NA |  NA |  NA |  NA |\n",
       "| MX000017004 | 2010 |  6 | TMAX |  NA |  NA |  NA |  NA |  NA |  NA | ⋯ | NA |  NA | NA |  NA |  NA |  NA |  NA | 301 |  NA |  NA |\n",
       "| MX000017004 | 2010 |  6 | TMIN |  NA |  NA |  NA |  NA |  NA |  NA | ⋯ | NA |  NA | NA |  NA |  NA |  NA |  NA | 180 |  NA |  NA |\n",
       "| MX000017004 | 2010 |  7 | TMAX |  NA |  NA | 286 |  NA |  NA |  NA | ⋯ | NA |  NA | NA |  NA |  NA |  NA |  NA |  NA |  NA |  NA |\n",
       "| MX000017004 | 2010 |  7 | TMIN |  NA |  NA | 175 |  NA |  NA |  NA | ⋯ | NA |  NA | NA |  NA |  NA |  NA |  NA |  NA |  NA |  NA |\n",
       "| MX000017004 | 2010 |  8 | TMAX |  NA |  NA |  NA |  NA | 296 |  NA | ⋯ | NA | 264 | NA | 297 |  NA |  NA |  NA | 280 |  NA | 254 |\n",
       "| MX000017004 | 2010 |  8 | TMIN |  NA |  NA |  NA |  NA | 158 |  NA | ⋯ | NA | 150 | NA | 156 |  NA |  NA |  NA | 153 |  NA | 154 |\n",
       "| MX000017004 | 2010 | 10 | TMAX |  NA |  NA |  NA |  NA | 270 |  NA | ⋯ | NA |  NA | NA |  NA |  NA |  NA | 312 |  NA |  NA |  NA |\n",
       "| MX000017004 | 2010 | 10 | TMIN |  NA |  NA |  NA |  NA | 140 |  NA | ⋯ | NA |  NA | NA |  NA |  NA |  NA | 150 |  NA |  NA |  NA |\n",
       "| MX000017004 | 2010 | 11 | TMAX |  NA | 313 |  NA | 272 | 263 |  NA | ⋯ | NA |  NA | NA |  NA | 281 | 277 |  NA |  NA |  NA |  NA |\n",
       "| MX000017004 | 2010 | 11 | TMIN |  NA | 163 |  NA | 120 |  79 |  NA | ⋯ | NA |  NA | NA |  NA | 121 | 142 |  NA |  NA |  NA |  NA |\n",
       "| MX000017004 | 2010 | 12 | TMAX | 299 |  NA |  NA |  NA |  NA | 278 | ⋯ | NA |  NA | NA |  NA |  NA |  NA |  NA |  NA |  NA |  NA |\n",
       "| MX000017004 | 2010 | 12 | TMIN | 138 |  NA |  NA |  NA |  NA | 105 | ⋯ | NA |  NA | NA |  NA |  NA |  NA |  NA |  NA |  NA |  NA |\n",
       "\n"
      ],
      "text/plain": [
       "   id          year month element d1  d2  d3  d4  d5  d6  ⋯ d22 d23 d24 d25 d26\n",
       "1  MX000017004 2010  1    TMAX     NA  NA  NA  NA  NA  NA ⋯ NA   NA NA   NA  NA\n",
       "2  MX000017004 2010  1    TMIN     NA  NA  NA  NA  NA  NA ⋯ NA   NA NA   NA  NA\n",
       "3  MX000017004 2010  2    TMAX     NA 273 241  NA  NA  NA ⋯ NA  299 NA   NA  NA\n",
       "4  MX000017004 2010  2    TMIN     NA 144 144  NA  NA  NA ⋯ NA  107 NA   NA  NA\n",
       "5  MX000017004 2010  3    TMAX     NA  NA  NA  NA 321  NA ⋯ NA   NA NA   NA  NA\n",
       "6  MX000017004 2010  3    TMIN     NA  NA  NA  NA 142  NA ⋯ NA   NA NA   NA  NA\n",
       "7  MX000017004 2010  4    TMAX     NA  NA  NA  NA  NA  NA ⋯ NA   NA NA   NA  NA\n",
       "8  MX000017004 2010  4    TMIN     NA  NA  NA  NA  NA  NA ⋯ NA   NA NA   NA  NA\n",
       "9  MX000017004 2010  5    TMAX     NA  NA  NA  NA  NA  NA ⋯ NA   NA NA   NA  NA\n",
       "10 MX000017004 2010  5    TMIN     NA  NA  NA  NA  NA  NA ⋯ NA   NA NA   NA  NA\n",
       "11 MX000017004 2010  6    TMAX     NA  NA  NA  NA  NA  NA ⋯ NA   NA NA   NA  NA\n",
       "12 MX000017004 2010  6    TMIN     NA  NA  NA  NA  NA  NA ⋯ NA   NA NA   NA  NA\n",
       "13 MX000017004 2010  7    TMAX     NA  NA 286  NA  NA  NA ⋯ NA   NA NA   NA  NA\n",
       "14 MX000017004 2010  7    TMIN     NA  NA 175  NA  NA  NA ⋯ NA   NA NA   NA  NA\n",
       "15 MX000017004 2010  8    TMAX     NA  NA  NA  NA 296  NA ⋯ NA  264 NA  297  NA\n",
       "16 MX000017004 2010  8    TMIN     NA  NA  NA  NA 158  NA ⋯ NA  150 NA  156  NA\n",
       "17 MX000017004 2010 10    TMAX     NA  NA  NA  NA 270  NA ⋯ NA   NA NA   NA  NA\n",
       "18 MX000017004 2010 10    TMIN     NA  NA  NA  NA 140  NA ⋯ NA   NA NA   NA  NA\n",
       "19 MX000017004 2010 11    TMAX     NA 313  NA 272 263  NA ⋯ NA   NA NA   NA 281\n",
       "20 MX000017004 2010 11    TMIN     NA 163  NA 120  79  NA ⋯ NA   NA NA   NA 121\n",
       "21 MX000017004 2010 12    TMAX    299  NA  NA  NA  NA 278 ⋯ NA   NA NA   NA  NA\n",
       "22 MX000017004 2010 12    TMIN    138  NA  NA  NA  NA 105 ⋯ NA   NA NA   NA  NA\n",
       "   d27 d28 d29 d30 d31\n",
       "1   NA  NA  NA 278  NA\n",
       "2   NA  NA  NA 145  NA\n",
       "3   NA  NA  NA  NA  NA\n",
       "4   NA  NA  NA  NA  NA\n",
       "5   NA  NA  NA  NA  NA\n",
       "6   NA  NA  NA  NA  NA\n",
       "7  363  NA  NA  NA  NA\n",
       "8  167  NA  NA  NA  NA\n",
       "9  332  NA  NA  NA  NA\n",
       "10 182  NA  NA  NA  NA\n",
       "11  NA  NA 301  NA  NA\n",
       "12  NA  NA 180  NA  NA\n",
       "13  NA  NA  NA  NA  NA\n",
       "14  NA  NA  NA  NA  NA\n",
       "15  NA  NA 280  NA 254\n",
       "16  NA  NA 153  NA 154\n",
       "17  NA 312  NA  NA  NA\n",
       "18  NA 150  NA  NA  NA\n",
       "19 277  NA  NA  NA  NA\n",
       "20 142  NA  NA  NA  NA\n",
       "21  NA  NA  NA  NA  NA\n",
       "22  NA  NA  NA  NA  NA"
      ]
     },
     "metadata": {},
     "output_type": "display_data"
    }
   ],
   "source": [
    "read.delim(\n",
    " file = \"http://stat405.had.co.nz/data/weather.txt\",\n",
    " stringsAsFactors = FALSE\n",
    " ) -> weather\n",
    "\n",
    "weather"
   ]
  },
  {
   "cell_type": "markdown",
   "id": "d5198a93-3301-462e-8d1e-78982bd49ae5",
   "metadata": {},
   "source": [
    "The end result should be as shown below:\n",
    "\n",
    "| id          | date     | TMIN | TMAX |\n",
    "| :--         | :--      | :--  | :--  |\n",
    "| MX000017004 | 2010-1-1 | NA   | NA   |\n",
    "| MX000017004 | 2010-1-2 | NA   | NA   |\n",
    "| MX000017004 | 2010-1-3 | NA   | NA   |\n",
    "| MX000017004 | 2010-1-4 | NA   | NA   |"
   ]
  },
  {
   "cell_type": "code",
   "execution_count": 17,
   "id": "3c5f96ec-0b36-4f4e-8952-73ce1567ce12",
   "metadata": {},
   "outputs": [],
   "source": [
    "weather %>%\n",
    "    group_by(id, year, month, element) %>%\n",
    "    pivot_longer(\n",
    "        names_to = \"day\",\n",
    "        values_to = \"temperature\",\n",
    "        col = 5:35\n",
    "    ) -> wdf"
   ]
  },
  {
   "cell_type": "code",
   "execution_count": 18,
   "id": "0229d7f2-9a2d-4834-b3ef-7f19aa2e4135",
   "metadata": {},
   "outputs": [
    {
     "data": {
      "text/html": [
       "<table class=\"dataframe\">\n",
       "<caption>A grouped_df: 6 × 6</caption>\n",
       "<thead>\n",
       "\t<tr><th scope=col>id</th><th scope=col>year</th><th scope=col>month</th><th scope=col>element</th><th scope=col>day</th><th scope=col>temperature</th></tr>\n",
       "\t<tr><th scope=col>&lt;chr&gt;</th><th scope=col>&lt;int&gt;</th><th scope=col>&lt;int&gt;</th><th scope=col>&lt;chr&gt;</th><th scope=col>&lt;chr&gt;</th><th scope=col>&lt;int&gt;</th></tr>\n",
       "</thead>\n",
       "<tbody>\n",
       "\t<tr><td>MX000017004</td><td>2010</td><td>1</td><td>TMAX</td><td>d1</td><td>NA</td></tr>\n",
       "\t<tr><td>MX000017004</td><td>2010</td><td>1</td><td>TMAX</td><td>d2</td><td>NA</td></tr>\n",
       "\t<tr><td>MX000017004</td><td>2010</td><td>1</td><td>TMAX</td><td>d3</td><td>NA</td></tr>\n",
       "\t<tr><td>MX000017004</td><td>2010</td><td>1</td><td>TMAX</td><td>d4</td><td>NA</td></tr>\n",
       "\t<tr><td>MX000017004</td><td>2010</td><td>1</td><td>TMAX</td><td>d5</td><td>NA</td></tr>\n",
       "\t<tr><td>MX000017004</td><td>2010</td><td>1</td><td>TMAX</td><td>d6</td><td>NA</td></tr>\n",
       "</tbody>\n",
       "</table>\n"
      ],
      "text/latex": [
       "A grouped\\_df: 6 × 6\n",
       "\\begin{tabular}{llllll}\n",
       " id & year & month & element & day & temperature\\\\\n",
       " <chr> & <int> & <int> & <chr> & <chr> & <int>\\\\\n",
       "\\hline\n",
       "\t MX000017004 & 2010 & 1 & TMAX & d1 & NA\\\\\n",
       "\t MX000017004 & 2010 & 1 & TMAX & d2 & NA\\\\\n",
       "\t MX000017004 & 2010 & 1 & TMAX & d3 & NA\\\\\n",
       "\t MX000017004 & 2010 & 1 & TMAX & d4 & NA\\\\\n",
       "\t MX000017004 & 2010 & 1 & TMAX & d5 & NA\\\\\n",
       "\t MX000017004 & 2010 & 1 & TMAX & d6 & NA\\\\\n",
       "\\end{tabular}\n"
      ],
      "text/markdown": [
       "\n",
       "A grouped_df: 6 × 6\n",
       "\n",
       "| id &lt;chr&gt; | year &lt;int&gt; | month &lt;int&gt; | element &lt;chr&gt; | day &lt;chr&gt; | temperature &lt;int&gt; |\n",
       "|---|---|---|---|---|---|\n",
       "| MX000017004 | 2010 | 1 | TMAX | d1 | NA |\n",
       "| MX000017004 | 2010 | 1 | TMAX | d2 | NA |\n",
       "| MX000017004 | 2010 | 1 | TMAX | d3 | NA |\n",
       "| MX000017004 | 2010 | 1 | TMAX | d4 | NA |\n",
       "| MX000017004 | 2010 | 1 | TMAX | d5 | NA |\n",
       "| MX000017004 | 2010 | 1 | TMAX | d6 | NA |\n",
       "\n"
      ],
      "text/plain": [
       "  id          year month element day temperature\n",
       "1 MX000017004 2010 1     TMAX    d1  NA         \n",
       "2 MX000017004 2010 1     TMAX    d2  NA         \n",
       "3 MX000017004 2010 1     TMAX    d3  NA         \n",
       "4 MX000017004 2010 1     TMAX    d4  NA         \n",
       "5 MX000017004 2010 1     TMAX    d5  NA         \n",
       "6 MX000017004 2010 1     TMAX    d6  NA         "
      ]
     },
     "metadata": {},
     "output_type": "display_data"
    }
   ],
   "source": [
    "head(wdf)"
   ]
  },
  {
   "cell_type": "code",
   "execution_count": 8,
   "id": "3ce82514-1be3-47ba-95ab-5fc9a87128fd",
   "metadata": {},
   "outputs": [],
   "source": [
    "wdf %>%\n",
    "    mutate(\n",
    "        day = stringr::str_remove_all(day, \"d\")\n",
    "        ) %>%\n",
    "    unite(\n",
    "        col = \"date\",\n",
    "        c(\"year\", \"month\", \"day\"),\n",
    "        sep = \"-\"\n",
    "        ) -> wdf"
   ]
  },
  {
   "cell_type": "code",
   "execution_count": 19,
   "id": "7b437d86-c87f-45f0-b233-2440dfd22055",
   "metadata": {},
   "outputs": [],
   "source": [
    "library(stringr)"
   ]
  },
  {
   "cell_type": "code",
   "execution_count": 20,
   "id": "74ee4df1-a075-44f9-846b-3467c7dc5433",
   "metadata": {},
   "outputs": [],
   "source": [
    "wdf %>%\n",
    "    mutate(\n",
    "        day = str_remove_all(day, \"d\")\n",
    "        ) %>%\n",
    "    unite(\n",
    "        col = \"date\",\n",
    "        c(\"year\", \"month\", \"day\"),\n",
    "        sep = \"-\"\n",
    "        ) -> wdf"
   ]
  },
  {
   "cell_type": "code",
   "execution_count": 26,
   "id": "fe924c1c-6f97-4937-a7bb-d08eb4bd105e",
   "metadata": {},
   "outputs": [],
   "source": [
    "wdf %>%\n",
    "    mutate(\n",
    "    new_element = str_remove_all(element, \"T\")\n",
    "    ) %>%\n",
    "    ungroup() %>%\n",
    "    select(-element) -> wdf"
   ]
  },
  {
   "cell_type": "code",
   "execution_count": 27,
   "id": "733f3144-8c55-44c0-8af0-deabdc74708b",
   "metadata": {},
   "outputs": [
    {
     "data": {
      "text/html": [
       "<table class=\"dataframe\">\n",
       "<caption>A tibble: 6 × 4</caption>\n",
       "<thead>\n",
       "\t<tr><th scope=col>id</th><th scope=col>date</th><th scope=col>temperature</th><th scope=col>new_element</th></tr>\n",
       "\t<tr><th scope=col>&lt;chr&gt;</th><th scope=col>&lt;chr&gt;</th><th scope=col>&lt;int&gt;</th><th scope=col>&lt;chr&gt;</th></tr>\n",
       "</thead>\n",
       "<tbody>\n",
       "\t<tr><td>MX000017004</td><td>2010-1-1</td><td>NA</td><td>MAX</td></tr>\n",
       "\t<tr><td>MX000017004</td><td>2010-1-2</td><td>NA</td><td>MAX</td></tr>\n",
       "\t<tr><td>MX000017004</td><td>2010-1-3</td><td>NA</td><td>MAX</td></tr>\n",
       "\t<tr><td>MX000017004</td><td>2010-1-4</td><td>NA</td><td>MAX</td></tr>\n",
       "\t<tr><td>MX000017004</td><td>2010-1-5</td><td>NA</td><td>MAX</td></tr>\n",
       "\t<tr><td>MX000017004</td><td>2010-1-6</td><td>NA</td><td>MAX</td></tr>\n",
       "</tbody>\n",
       "</table>\n"
      ],
      "text/latex": [
       "A tibble: 6 × 4\n",
       "\\begin{tabular}{llll}\n",
       " id & date & temperature & new\\_element\\\\\n",
       " <chr> & <chr> & <int> & <chr>\\\\\n",
       "\\hline\n",
       "\t MX000017004 & 2010-1-1 & NA & MAX\\\\\n",
       "\t MX000017004 & 2010-1-2 & NA & MAX\\\\\n",
       "\t MX000017004 & 2010-1-3 & NA & MAX\\\\\n",
       "\t MX000017004 & 2010-1-4 & NA & MAX\\\\\n",
       "\t MX000017004 & 2010-1-5 & NA & MAX\\\\\n",
       "\t MX000017004 & 2010-1-6 & NA & MAX\\\\\n",
       "\\end{tabular}\n"
      ],
      "text/markdown": [
       "\n",
       "A tibble: 6 × 4\n",
       "\n",
       "| id &lt;chr&gt; | date &lt;chr&gt; | temperature &lt;int&gt; | new_element &lt;chr&gt; |\n",
       "|---|---|---|---|\n",
       "| MX000017004 | 2010-1-1 | NA | MAX |\n",
       "| MX000017004 | 2010-1-2 | NA | MAX |\n",
       "| MX000017004 | 2010-1-3 | NA | MAX |\n",
       "| MX000017004 | 2010-1-4 | NA | MAX |\n",
       "| MX000017004 | 2010-1-5 | NA | MAX |\n",
       "| MX000017004 | 2010-1-6 | NA | MAX |\n",
       "\n"
      ],
      "text/plain": [
       "  id          date     temperature new_element\n",
       "1 MX000017004 2010-1-1 NA          MAX        \n",
       "2 MX000017004 2010-1-2 NA          MAX        \n",
       "3 MX000017004 2010-1-3 NA          MAX        \n",
       "4 MX000017004 2010-1-4 NA          MAX        \n",
       "5 MX000017004 2010-1-5 NA          MAX        \n",
       "6 MX000017004 2010-1-6 NA          MAX        "
      ]
     },
     "metadata": {},
     "output_type": "display_data"
    }
   ],
   "source": [
    "head(wdf)"
   ]
  },
  {
   "cell_type": "code",
   "execution_count": 10,
   "id": "521cb6e5-79dd-4d17-bc16-8909bca32362",
   "metadata": {},
   "outputs": [
    {
     "data": {
      "text/html": [
       "<table class=\"dataframe\">\n",
       "<caption>A grouped_df: 6 × 4</caption>\n",
       "<thead>\n",
       "\t<tr><th scope=col>id</th><th scope=col>date</th><th scope=col>element</th><th scope=col>temperature</th></tr>\n",
       "\t<tr><th scope=col>&lt;chr&gt;</th><th scope=col>&lt;chr&gt;</th><th scope=col>&lt;chr&gt;</th><th scope=col>&lt;int&gt;</th></tr>\n",
       "</thead>\n",
       "<tbody>\n",
       "\t<tr><td>MX000017004</td><td>2010-12-26</td><td>TMIN</td><td>NA</td></tr>\n",
       "\t<tr><td>MX000017004</td><td>2010-12-27</td><td>TMIN</td><td>NA</td></tr>\n",
       "\t<tr><td>MX000017004</td><td>2010-12-28</td><td>TMIN</td><td>NA</td></tr>\n",
       "\t<tr><td>MX000017004</td><td>2010-12-29</td><td>TMIN</td><td>NA</td></tr>\n",
       "\t<tr><td>MX000017004</td><td>2010-12-30</td><td>TMIN</td><td>NA</td></tr>\n",
       "\t<tr><td>MX000017004</td><td>2010-12-31</td><td>TMIN</td><td>NA</td></tr>\n",
       "</tbody>\n",
       "</table>\n"
      ],
      "text/latex": [
       "A grouped\\_df: 6 × 4\n",
       "\\begin{tabular}{llll}\n",
       " id & date & element & temperature\\\\\n",
       " <chr> & <chr> & <chr> & <int>\\\\\n",
       "\\hline\n",
       "\t MX000017004 & 2010-12-26 & TMIN & NA\\\\\n",
       "\t MX000017004 & 2010-12-27 & TMIN & NA\\\\\n",
       "\t MX000017004 & 2010-12-28 & TMIN & NA\\\\\n",
       "\t MX000017004 & 2010-12-29 & TMIN & NA\\\\\n",
       "\t MX000017004 & 2010-12-30 & TMIN & NA\\\\\n",
       "\t MX000017004 & 2010-12-31 & TMIN & NA\\\\\n",
       "\\end{tabular}\n"
      ],
      "text/markdown": [
       "\n",
       "A grouped_df: 6 × 4\n",
       "\n",
       "| id &lt;chr&gt; | date &lt;chr&gt; | element &lt;chr&gt; | temperature &lt;int&gt; |\n",
       "|---|---|---|---|\n",
       "| MX000017004 | 2010-12-26 | TMIN | NA |\n",
       "| MX000017004 | 2010-12-27 | TMIN | NA |\n",
       "| MX000017004 | 2010-12-28 | TMIN | NA |\n",
       "| MX000017004 | 2010-12-29 | TMIN | NA |\n",
       "| MX000017004 | 2010-12-30 | TMIN | NA |\n",
       "| MX000017004 | 2010-12-31 | TMIN | NA |\n",
       "\n"
      ],
      "text/plain": [
       "  id          date       element temperature\n",
       "1 MX000017004 2010-12-26 TMIN    NA         \n",
       "2 MX000017004 2010-12-27 TMIN    NA         \n",
       "3 MX000017004 2010-12-28 TMIN    NA         \n",
       "4 MX000017004 2010-12-29 TMIN    NA         \n",
       "5 MX000017004 2010-12-30 TMIN    NA         \n",
       "6 MX000017004 2010-12-31 TMIN    NA         "
      ]
     },
     "metadata": {},
     "output_type": "display_data"
    }
   ],
   "source": [
    "tail(wdf)"
   ]
  },
  {
   "cell_type": "code",
   "execution_count": 11,
   "id": "0bbadb3c-c107-4b7f-b845-22725adab640",
   "metadata": {},
   "outputs": [],
   "source": [
    "wdf %>%\n",
    "    group_by(id, date) %>%\n",
    "    pivot_wider(\n",
    "        names_from = element,\n",
    "        values_from = temperature\n",
    "     ) -> wdf_wide"
   ]
  },
  {
   "cell_type": "code",
   "execution_count": 12,
   "id": "9885ff4a-5696-41c6-9cde-bb7425359296",
   "metadata": {},
   "outputs": [
    {
     "data": {
      "text/html": [
       "<table class=\"dataframe\">\n",
       "<caption>A grouped_df: 6 × 4</caption>\n",
       "<thead>\n",
       "\t<tr><th scope=col>id</th><th scope=col>date</th><th scope=col>TMAX</th><th scope=col>TMIN</th></tr>\n",
       "\t<tr><th scope=col>&lt;chr&gt;</th><th scope=col>&lt;chr&gt;</th><th scope=col>&lt;int&gt;</th><th scope=col>&lt;int&gt;</th></tr>\n",
       "</thead>\n",
       "<tbody>\n",
       "\t<tr><td>MX000017004</td><td>2010-1-1</td><td>NA</td><td>NA</td></tr>\n",
       "\t<tr><td>MX000017004</td><td>2010-1-2</td><td>NA</td><td>NA</td></tr>\n",
       "\t<tr><td>MX000017004</td><td>2010-1-3</td><td>NA</td><td>NA</td></tr>\n",
       "\t<tr><td>MX000017004</td><td>2010-1-4</td><td>NA</td><td>NA</td></tr>\n",
       "\t<tr><td>MX000017004</td><td>2010-1-5</td><td>NA</td><td>NA</td></tr>\n",
       "\t<tr><td>MX000017004</td><td>2010-1-6</td><td>NA</td><td>NA</td></tr>\n",
       "</tbody>\n",
       "</table>\n"
      ],
      "text/latex": [
       "A grouped\\_df: 6 × 4\n",
       "\\begin{tabular}{llll}\n",
       " id & date & TMAX & TMIN\\\\\n",
       " <chr> & <chr> & <int> & <int>\\\\\n",
       "\\hline\n",
       "\t MX000017004 & 2010-1-1 & NA & NA\\\\\n",
       "\t MX000017004 & 2010-1-2 & NA & NA\\\\\n",
       "\t MX000017004 & 2010-1-3 & NA & NA\\\\\n",
       "\t MX000017004 & 2010-1-4 & NA & NA\\\\\n",
       "\t MX000017004 & 2010-1-5 & NA & NA\\\\\n",
       "\t MX000017004 & 2010-1-6 & NA & NA\\\\\n",
       "\\end{tabular}\n"
      ],
      "text/markdown": [
       "\n",
       "A grouped_df: 6 × 4\n",
       "\n",
       "| id &lt;chr&gt; | date &lt;chr&gt; | TMAX &lt;int&gt; | TMIN &lt;int&gt; |\n",
       "|---|---|---|---|\n",
       "| MX000017004 | 2010-1-1 | NA | NA |\n",
       "| MX000017004 | 2010-1-2 | NA | NA |\n",
       "| MX000017004 | 2010-1-3 | NA | NA |\n",
       "| MX000017004 | 2010-1-4 | NA | NA |\n",
       "| MX000017004 | 2010-1-5 | NA | NA |\n",
       "| MX000017004 | 2010-1-6 | NA | NA |\n",
       "\n"
      ],
      "text/plain": [
       "  id          date     TMAX TMIN\n",
       "1 MX000017004 2010-1-1 NA   NA  \n",
       "2 MX000017004 2010-1-2 NA   NA  \n",
       "3 MX000017004 2010-1-3 NA   NA  \n",
       "4 MX000017004 2010-1-4 NA   NA  \n",
       "5 MX000017004 2010-1-5 NA   NA  \n",
       "6 MX000017004 2010-1-6 NA   NA  "
      ]
     },
     "metadata": {},
     "output_type": "display_data"
    }
   ],
   "source": [
    "head(wdf_wide)"
   ]
  },
  {
   "cell_type": "code",
   "execution_count": 13,
   "id": "762d5587-14d5-4203-9427-bcdf0771a8ea",
   "metadata": {},
   "outputs": [
    {
     "data": {
      "text/html": [
       "<table class=\"dataframe\">\n",
       "<caption>A grouped_df: 6 × 4</caption>\n",
       "<thead>\n",
       "\t<tr><th scope=col>id</th><th scope=col>date</th><th scope=col>TMAX</th><th scope=col>TMIN</th></tr>\n",
       "\t<tr><th scope=col>&lt;chr&gt;</th><th scope=col>&lt;chr&gt;</th><th scope=col>&lt;int&gt;</th><th scope=col>&lt;int&gt;</th></tr>\n",
       "</thead>\n",
       "<tbody>\n",
       "\t<tr><td>MX000017004</td><td>2010-12-26</td><td>NA</td><td>NA</td></tr>\n",
       "\t<tr><td>MX000017004</td><td>2010-12-27</td><td>NA</td><td>NA</td></tr>\n",
       "\t<tr><td>MX000017004</td><td>2010-12-28</td><td>NA</td><td>NA</td></tr>\n",
       "\t<tr><td>MX000017004</td><td>2010-12-29</td><td>NA</td><td>NA</td></tr>\n",
       "\t<tr><td>MX000017004</td><td>2010-12-30</td><td>NA</td><td>NA</td></tr>\n",
       "\t<tr><td>MX000017004</td><td>2010-12-31</td><td>NA</td><td>NA</td></tr>\n",
       "</tbody>\n",
       "</table>\n"
      ],
      "text/latex": [
       "A grouped\\_df: 6 × 4\n",
       "\\begin{tabular}{llll}\n",
       " id & date & TMAX & TMIN\\\\\n",
       " <chr> & <chr> & <int> & <int>\\\\\n",
       "\\hline\n",
       "\t MX000017004 & 2010-12-26 & NA & NA\\\\\n",
       "\t MX000017004 & 2010-12-27 & NA & NA\\\\\n",
       "\t MX000017004 & 2010-12-28 & NA & NA\\\\\n",
       "\t MX000017004 & 2010-12-29 & NA & NA\\\\\n",
       "\t MX000017004 & 2010-12-30 & NA & NA\\\\\n",
       "\t MX000017004 & 2010-12-31 & NA & NA\\\\\n",
       "\\end{tabular}\n"
      ],
      "text/markdown": [
       "\n",
       "A grouped_df: 6 × 4\n",
       "\n",
       "| id &lt;chr&gt; | date &lt;chr&gt; | TMAX &lt;int&gt; | TMIN &lt;int&gt; |\n",
       "|---|---|---|---|\n",
       "| MX000017004 | 2010-12-26 | NA | NA |\n",
       "| MX000017004 | 2010-12-27 | NA | NA |\n",
       "| MX000017004 | 2010-12-28 | NA | NA |\n",
       "| MX000017004 | 2010-12-29 | NA | NA |\n",
       "| MX000017004 | 2010-12-30 | NA | NA |\n",
       "| MX000017004 | 2010-12-31 | NA | NA |\n",
       "\n"
      ],
      "text/plain": [
       "  id          date       TMAX TMIN\n",
       "1 MX000017004 2010-12-26 NA   NA  \n",
       "2 MX000017004 2010-12-27 NA   NA  \n",
       "3 MX000017004 2010-12-28 NA   NA  \n",
       "4 MX000017004 2010-12-29 NA   NA  \n",
       "5 MX000017004 2010-12-30 NA   NA  \n",
       "6 MX000017004 2010-12-31 NA   NA  "
      ]
     },
     "metadata": {},
     "output_type": "display_data"
    }
   ],
   "source": [
    "tail(wdf_wide)"
   ]
  },
  {
   "cell_type": "code",
   "execution_count": 14,
   "id": "bcbce648-e492-4e7f-a6d9-c45edb06ac39",
   "metadata": {},
   "outputs": [
    {
     "data": {
      "text/html": [
       "<table class=\"dataframe\">\n",
       "<caption>A grouped_df: 341 × 4</caption>\n",
       "<thead>\n",
       "\t<tr><th scope=col>id</th><th scope=col>date</th><th scope=col>TMAX</th><th scope=col>TMIN</th></tr>\n",
       "\t<tr><th scope=col>&lt;chr&gt;</th><th scope=col>&lt;chr&gt;</th><th scope=col>&lt;int&gt;</th><th scope=col>&lt;int&gt;</th></tr>\n",
       "</thead>\n",
       "<tbody>\n",
       "\t<tr><td>MX000017004</td><td>2010-1-1 </td><td> NA</td><td> NA</td></tr>\n",
       "\t<tr><td>MX000017004</td><td>2010-1-2 </td><td> NA</td><td> NA</td></tr>\n",
       "\t<tr><td>MX000017004</td><td>2010-1-3 </td><td> NA</td><td> NA</td></tr>\n",
       "\t<tr><td>MX000017004</td><td>2010-1-4 </td><td> NA</td><td> NA</td></tr>\n",
       "\t<tr><td>MX000017004</td><td>2010-1-5 </td><td> NA</td><td> NA</td></tr>\n",
       "\t<tr><td>MX000017004</td><td>2010-1-6 </td><td> NA</td><td> NA</td></tr>\n",
       "\t<tr><td>MX000017004</td><td>2010-1-7 </td><td> NA</td><td> NA</td></tr>\n",
       "\t<tr><td>MX000017004</td><td>2010-1-8 </td><td> NA</td><td> NA</td></tr>\n",
       "\t<tr><td>MX000017004</td><td>2010-1-9 </td><td> NA</td><td> NA</td></tr>\n",
       "\t<tr><td>MX000017004</td><td>2010-1-10</td><td> NA</td><td> NA</td></tr>\n",
       "\t<tr><td>MX000017004</td><td>2010-1-11</td><td> NA</td><td> NA</td></tr>\n",
       "\t<tr><td>MX000017004</td><td>2010-1-12</td><td> NA</td><td> NA</td></tr>\n",
       "\t<tr><td>MX000017004</td><td>2010-1-13</td><td> NA</td><td> NA</td></tr>\n",
       "\t<tr><td>MX000017004</td><td>2010-1-14</td><td> NA</td><td> NA</td></tr>\n",
       "\t<tr><td>MX000017004</td><td>2010-1-15</td><td> NA</td><td> NA</td></tr>\n",
       "\t<tr><td>MX000017004</td><td>2010-1-16</td><td> NA</td><td> NA</td></tr>\n",
       "\t<tr><td>MX000017004</td><td>2010-1-17</td><td> NA</td><td> NA</td></tr>\n",
       "\t<tr><td>MX000017004</td><td>2010-1-18</td><td> NA</td><td> NA</td></tr>\n",
       "\t<tr><td>MX000017004</td><td>2010-1-19</td><td> NA</td><td> NA</td></tr>\n",
       "\t<tr><td>MX000017004</td><td>2010-1-20</td><td> NA</td><td> NA</td></tr>\n",
       "\t<tr><td>MX000017004</td><td>2010-1-21</td><td> NA</td><td> NA</td></tr>\n",
       "\t<tr><td>MX000017004</td><td>2010-1-22</td><td> NA</td><td> NA</td></tr>\n",
       "\t<tr><td>MX000017004</td><td>2010-1-23</td><td> NA</td><td> NA</td></tr>\n",
       "\t<tr><td>MX000017004</td><td>2010-1-24</td><td> NA</td><td> NA</td></tr>\n",
       "\t<tr><td>MX000017004</td><td>2010-1-25</td><td> NA</td><td> NA</td></tr>\n",
       "\t<tr><td>MX000017004</td><td>2010-1-26</td><td> NA</td><td> NA</td></tr>\n",
       "\t<tr><td>MX000017004</td><td>2010-1-27</td><td> NA</td><td> NA</td></tr>\n",
       "\t<tr><td>MX000017004</td><td>2010-1-28</td><td> NA</td><td> NA</td></tr>\n",
       "\t<tr><td>MX000017004</td><td>2010-1-29</td><td> NA</td><td> NA</td></tr>\n",
       "\t<tr><td>MX000017004</td><td>2010-1-30</td><td>278</td><td>145</td></tr>\n",
       "\t<tr><td>⋮</td><td>⋮</td><td>⋮</td><td>⋮</td></tr>\n",
       "\t<tr><td>MX000017004</td><td>2010-12-2 </td><td> NA</td><td> NA</td></tr>\n",
       "\t<tr><td>MX000017004</td><td>2010-12-3 </td><td> NA</td><td> NA</td></tr>\n",
       "\t<tr><td>MX000017004</td><td>2010-12-4 </td><td> NA</td><td> NA</td></tr>\n",
       "\t<tr><td>MX000017004</td><td>2010-12-5 </td><td> NA</td><td> NA</td></tr>\n",
       "\t<tr><td>MX000017004</td><td>2010-12-6 </td><td>278</td><td>105</td></tr>\n",
       "\t<tr><td>MX000017004</td><td>2010-12-7 </td><td> NA</td><td> NA</td></tr>\n",
       "\t<tr><td>MX000017004</td><td>2010-12-8 </td><td> NA</td><td> NA</td></tr>\n",
       "\t<tr><td>MX000017004</td><td>2010-12-9 </td><td> NA</td><td> NA</td></tr>\n",
       "\t<tr><td>MX000017004</td><td>2010-12-10</td><td> NA</td><td> NA</td></tr>\n",
       "\t<tr><td>MX000017004</td><td>2010-12-11</td><td> NA</td><td> NA</td></tr>\n",
       "\t<tr><td>MX000017004</td><td>2010-12-12</td><td> NA</td><td> NA</td></tr>\n",
       "\t<tr><td>MX000017004</td><td>2010-12-13</td><td> NA</td><td> NA</td></tr>\n",
       "\t<tr><td>MX000017004</td><td>2010-12-14</td><td> NA</td><td> NA</td></tr>\n",
       "\t<tr><td>MX000017004</td><td>2010-12-15</td><td> NA</td><td> NA</td></tr>\n",
       "\t<tr><td>MX000017004</td><td>2010-12-16</td><td> NA</td><td> NA</td></tr>\n",
       "\t<tr><td>MX000017004</td><td>2010-12-17</td><td> NA</td><td> NA</td></tr>\n",
       "\t<tr><td>MX000017004</td><td>2010-12-18</td><td> NA</td><td> NA</td></tr>\n",
       "\t<tr><td>MX000017004</td><td>2010-12-19</td><td> NA</td><td> NA</td></tr>\n",
       "\t<tr><td>MX000017004</td><td>2010-12-20</td><td> NA</td><td> NA</td></tr>\n",
       "\t<tr><td>MX000017004</td><td>2010-12-21</td><td> NA</td><td> NA</td></tr>\n",
       "\t<tr><td>MX000017004</td><td>2010-12-22</td><td> NA</td><td> NA</td></tr>\n",
       "\t<tr><td>MX000017004</td><td>2010-12-23</td><td> NA</td><td> NA</td></tr>\n",
       "\t<tr><td>MX000017004</td><td>2010-12-24</td><td> NA</td><td> NA</td></tr>\n",
       "\t<tr><td>MX000017004</td><td>2010-12-25</td><td> NA</td><td> NA</td></tr>\n",
       "\t<tr><td>MX000017004</td><td>2010-12-26</td><td> NA</td><td> NA</td></tr>\n",
       "\t<tr><td>MX000017004</td><td>2010-12-27</td><td> NA</td><td> NA</td></tr>\n",
       "\t<tr><td>MX000017004</td><td>2010-12-28</td><td> NA</td><td> NA</td></tr>\n",
       "\t<tr><td>MX000017004</td><td>2010-12-29</td><td> NA</td><td> NA</td></tr>\n",
       "\t<tr><td>MX000017004</td><td>2010-12-30</td><td> NA</td><td> NA</td></tr>\n",
       "\t<tr><td>MX000017004</td><td>2010-12-31</td><td> NA</td><td> NA</td></tr>\n",
       "</tbody>\n",
       "</table>\n"
      ],
      "text/latex": [
       "A grouped\\_df: 341 × 4\n",
       "\\begin{tabular}{llll}\n",
       " id & date & TMAX & TMIN\\\\\n",
       " <chr> & <chr> & <int> & <int>\\\\\n",
       "\\hline\n",
       "\t MX000017004 & 2010-1-1  &  NA &  NA\\\\\n",
       "\t MX000017004 & 2010-1-2  &  NA &  NA\\\\\n",
       "\t MX000017004 & 2010-1-3  &  NA &  NA\\\\\n",
       "\t MX000017004 & 2010-1-4  &  NA &  NA\\\\\n",
       "\t MX000017004 & 2010-1-5  &  NA &  NA\\\\\n",
       "\t MX000017004 & 2010-1-6  &  NA &  NA\\\\\n",
       "\t MX000017004 & 2010-1-7  &  NA &  NA\\\\\n",
       "\t MX000017004 & 2010-1-8  &  NA &  NA\\\\\n",
       "\t MX000017004 & 2010-1-9  &  NA &  NA\\\\\n",
       "\t MX000017004 & 2010-1-10 &  NA &  NA\\\\\n",
       "\t MX000017004 & 2010-1-11 &  NA &  NA\\\\\n",
       "\t MX000017004 & 2010-1-12 &  NA &  NA\\\\\n",
       "\t MX000017004 & 2010-1-13 &  NA &  NA\\\\\n",
       "\t MX000017004 & 2010-1-14 &  NA &  NA\\\\\n",
       "\t MX000017004 & 2010-1-15 &  NA &  NA\\\\\n",
       "\t MX000017004 & 2010-1-16 &  NA &  NA\\\\\n",
       "\t MX000017004 & 2010-1-17 &  NA &  NA\\\\\n",
       "\t MX000017004 & 2010-1-18 &  NA &  NA\\\\\n",
       "\t MX000017004 & 2010-1-19 &  NA &  NA\\\\\n",
       "\t MX000017004 & 2010-1-20 &  NA &  NA\\\\\n",
       "\t MX000017004 & 2010-1-21 &  NA &  NA\\\\\n",
       "\t MX000017004 & 2010-1-22 &  NA &  NA\\\\\n",
       "\t MX000017004 & 2010-1-23 &  NA &  NA\\\\\n",
       "\t MX000017004 & 2010-1-24 &  NA &  NA\\\\\n",
       "\t MX000017004 & 2010-1-25 &  NA &  NA\\\\\n",
       "\t MX000017004 & 2010-1-26 &  NA &  NA\\\\\n",
       "\t MX000017004 & 2010-1-27 &  NA &  NA\\\\\n",
       "\t MX000017004 & 2010-1-28 &  NA &  NA\\\\\n",
       "\t MX000017004 & 2010-1-29 &  NA &  NA\\\\\n",
       "\t MX000017004 & 2010-1-30 & 278 & 145\\\\\n",
       "\t ⋮ & ⋮ & ⋮ & ⋮\\\\\n",
       "\t MX000017004 & 2010-12-2  &  NA &  NA\\\\\n",
       "\t MX000017004 & 2010-12-3  &  NA &  NA\\\\\n",
       "\t MX000017004 & 2010-12-4  &  NA &  NA\\\\\n",
       "\t MX000017004 & 2010-12-5  &  NA &  NA\\\\\n",
       "\t MX000017004 & 2010-12-6  & 278 & 105\\\\\n",
       "\t MX000017004 & 2010-12-7  &  NA &  NA\\\\\n",
       "\t MX000017004 & 2010-12-8  &  NA &  NA\\\\\n",
       "\t MX000017004 & 2010-12-9  &  NA &  NA\\\\\n",
       "\t MX000017004 & 2010-12-10 &  NA &  NA\\\\\n",
       "\t MX000017004 & 2010-12-11 &  NA &  NA\\\\\n",
       "\t MX000017004 & 2010-12-12 &  NA &  NA\\\\\n",
       "\t MX000017004 & 2010-12-13 &  NA &  NA\\\\\n",
       "\t MX000017004 & 2010-12-14 &  NA &  NA\\\\\n",
       "\t MX000017004 & 2010-12-15 &  NA &  NA\\\\\n",
       "\t MX000017004 & 2010-12-16 &  NA &  NA\\\\\n",
       "\t MX000017004 & 2010-12-17 &  NA &  NA\\\\\n",
       "\t MX000017004 & 2010-12-18 &  NA &  NA\\\\\n",
       "\t MX000017004 & 2010-12-19 &  NA &  NA\\\\\n",
       "\t MX000017004 & 2010-12-20 &  NA &  NA\\\\\n",
       "\t MX000017004 & 2010-12-21 &  NA &  NA\\\\\n",
       "\t MX000017004 & 2010-12-22 &  NA &  NA\\\\\n",
       "\t MX000017004 & 2010-12-23 &  NA &  NA\\\\\n",
       "\t MX000017004 & 2010-12-24 &  NA &  NA\\\\\n",
       "\t MX000017004 & 2010-12-25 &  NA &  NA\\\\\n",
       "\t MX000017004 & 2010-12-26 &  NA &  NA\\\\\n",
       "\t MX000017004 & 2010-12-27 &  NA &  NA\\\\\n",
       "\t MX000017004 & 2010-12-28 &  NA &  NA\\\\\n",
       "\t MX000017004 & 2010-12-29 &  NA &  NA\\\\\n",
       "\t MX000017004 & 2010-12-30 &  NA &  NA\\\\\n",
       "\t MX000017004 & 2010-12-31 &  NA &  NA\\\\\n",
       "\\end{tabular}\n"
      ],
      "text/markdown": [
       "\n",
       "A grouped_df: 341 × 4\n",
       "\n",
       "| id &lt;chr&gt; | date &lt;chr&gt; | TMAX &lt;int&gt; | TMIN &lt;int&gt; |\n",
       "|---|---|---|---|\n",
       "| MX000017004 | 2010-1-1  |  NA |  NA |\n",
       "| MX000017004 | 2010-1-2  |  NA |  NA |\n",
       "| MX000017004 | 2010-1-3  |  NA |  NA |\n",
       "| MX000017004 | 2010-1-4  |  NA |  NA |\n",
       "| MX000017004 | 2010-1-5  |  NA |  NA |\n",
       "| MX000017004 | 2010-1-6  |  NA |  NA |\n",
       "| MX000017004 | 2010-1-7  |  NA |  NA |\n",
       "| MX000017004 | 2010-1-8  |  NA |  NA |\n",
       "| MX000017004 | 2010-1-9  |  NA |  NA |\n",
       "| MX000017004 | 2010-1-10 |  NA |  NA |\n",
       "| MX000017004 | 2010-1-11 |  NA |  NA |\n",
       "| MX000017004 | 2010-1-12 |  NA |  NA |\n",
       "| MX000017004 | 2010-1-13 |  NA |  NA |\n",
       "| MX000017004 | 2010-1-14 |  NA |  NA |\n",
       "| MX000017004 | 2010-1-15 |  NA |  NA |\n",
       "| MX000017004 | 2010-1-16 |  NA |  NA |\n",
       "| MX000017004 | 2010-1-17 |  NA |  NA |\n",
       "| MX000017004 | 2010-1-18 |  NA |  NA |\n",
       "| MX000017004 | 2010-1-19 |  NA |  NA |\n",
       "| MX000017004 | 2010-1-20 |  NA |  NA |\n",
       "| MX000017004 | 2010-1-21 |  NA |  NA |\n",
       "| MX000017004 | 2010-1-22 |  NA |  NA |\n",
       "| MX000017004 | 2010-1-23 |  NA |  NA |\n",
       "| MX000017004 | 2010-1-24 |  NA |  NA |\n",
       "| MX000017004 | 2010-1-25 |  NA |  NA |\n",
       "| MX000017004 | 2010-1-26 |  NA |  NA |\n",
       "| MX000017004 | 2010-1-27 |  NA |  NA |\n",
       "| MX000017004 | 2010-1-28 |  NA |  NA |\n",
       "| MX000017004 | 2010-1-29 |  NA |  NA |\n",
       "| MX000017004 | 2010-1-30 | 278 | 145 |\n",
       "| ⋮ | ⋮ | ⋮ | ⋮ |\n",
       "| MX000017004 | 2010-12-2  |  NA |  NA |\n",
       "| MX000017004 | 2010-12-3  |  NA |  NA |\n",
       "| MX000017004 | 2010-12-4  |  NA |  NA |\n",
       "| MX000017004 | 2010-12-5  |  NA |  NA |\n",
       "| MX000017004 | 2010-12-6  | 278 | 105 |\n",
       "| MX000017004 | 2010-12-7  |  NA |  NA |\n",
       "| MX000017004 | 2010-12-8  |  NA |  NA |\n",
       "| MX000017004 | 2010-12-9  |  NA |  NA |\n",
       "| MX000017004 | 2010-12-10 |  NA |  NA |\n",
       "| MX000017004 | 2010-12-11 |  NA |  NA |\n",
       "| MX000017004 | 2010-12-12 |  NA |  NA |\n",
       "| MX000017004 | 2010-12-13 |  NA |  NA |\n",
       "| MX000017004 | 2010-12-14 |  NA |  NA |\n",
       "| MX000017004 | 2010-12-15 |  NA |  NA |\n",
       "| MX000017004 | 2010-12-16 |  NA |  NA |\n",
       "| MX000017004 | 2010-12-17 |  NA |  NA |\n",
       "| MX000017004 | 2010-12-18 |  NA |  NA |\n",
       "| MX000017004 | 2010-12-19 |  NA |  NA |\n",
       "| MX000017004 | 2010-12-20 |  NA |  NA |\n",
       "| MX000017004 | 2010-12-21 |  NA |  NA |\n",
       "| MX000017004 | 2010-12-22 |  NA |  NA |\n",
       "| MX000017004 | 2010-12-23 |  NA |  NA |\n",
       "| MX000017004 | 2010-12-24 |  NA |  NA |\n",
       "| MX000017004 | 2010-12-25 |  NA |  NA |\n",
       "| MX000017004 | 2010-12-26 |  NA |  NA |\n",
       "| MX000017004 | 2010-12-27 |  NA |  NA |\n",
       "| MX000017004 | 2010-12-28 |  NA |  NA |\n",
       "| MX000017004 | 2010-12-29 |  NA |  NA |\n",
       "| MX000017004 | 2010-12-30 |  NA |  NA |\n",
       "| MX000017004 | 2010-12-31 |  NA |  NA |\n",
       "\n"
      ],
      "text/plain": [
       "    id          date       TMAX TMIN\n",
       "1   MX000017004 2010-1-1    NA   NA \n",
       "2   MX000017004 2010-1-2    NA   NA \n",
       "3   MX000017004 2010-1-3    NA   NA \n",
       "4   MX000017004 2010-1-4    NA   NA \n",
       "5   MX000017004 2010-1-5    NA   NA \n",
       "6   MX000017004 2010-1-6    NA   NA \n",
       "7   MX000017004 2010-1-7    NA   NA \n",
       "8   MX000017004 2010-1-8    NA   NA \n",
       "9   MX000017004 2010-1-9    NA   NA \n",
       "10  MX000017004 2010-1-10   NA   NA \n",
       "11  MX000017004 2010-1-11   NA   NA \n",
       "12  MX000017004 2010-1-12   NA   NA \n",
       "13  MX000017004 2010-1-13   NA   NA \n",
       "14  MX000017004 2010-1-14   NA   NA \n",
       "15  MX000017004 2010-1-15   NA   NA \n",
       "16  MX000017004 2010-1-16   NA   NA \n",
       "17  MX000017004 2010-1-17   NA   NA \n",
       "18  MX000017004 2010-1-18   NA   NA \n",
       "19  MX000017004 2010-1-19   NA   NA \n",
       "20  MX000017004 2010-1-20   NA   NA \n",
       "21  MX000017004 2010-1-21   NA   NA \n",
       "22  MX000017004 2010-1-22   NA   NA \n",
       "23  MX000017004 2010-1-23   NA   NA \n",
       "24  MX000017004 2010-1-24   NA   NA \n",
       "25  MX000017004 2010-1-25   NA   NA \n",
       "26  MX000017004 2010-1-26   NA   NA \n",
       "27  MX000017004 2010-1-27   NA   NA \n",
       "28  MX000017004 2010-1-28   NA   NA \n",
       "29  MX000017004 2010-1-29   NA   NA \n",
       "30  MX000017004 2010-1-30  278  145 \n",
       "⋮   ⋮           ⋮          ⋮    ⋮   \n",
       "312 MX000017004 2010-12-2   NA   NA \n",
       "313 MX000017004 2010-12-3   NA   NA \n",
       "314 MX000017004 2010-12-4   NA   NA \n",
       "315 MX000017004 2010-12-5   NA   NA \n",
       "316 MX000017004 2010-12-6  278  105 \n",
       "317 MX000017004 2010-12-7   NA   NA \n",
       "318 MX000017004 2010-12-8   NA   NA \n",
       "319 MX000017004 2010-12-9   NA   NA \n",
       "320 MX000017004 2010-12-10  NA   NA \n",
       "321 MX000017004 2010-12-11  NA   NA \n",
       "322 MX000017004 2010-12-12  NA   NA \n",
       "323 MX000017004 2010-12-13  NA   NA \n",
       "324 MX000017004 2010-12-14  NA   NA \n",
       "325 MX000017004 2010-12-15  NA   NA \n",
       "326 MX000017004 2010-12-16  NA   NA \n",
       "327 MX000017004 2010-12-17  NA   NA \n",
       "328 MX000017004 2010-12-18  NA   NA \n",
       "329 MX000017004 2010-12-19  NA   NA \n",
       "330 MX000017004 2010-12-20  NA   NA \n",
       "331 MX000017004 2010-12-21  NA   NA \n",
       "332 MX000017004 2010-12-22  NA   NA \n",
       "333 MX000017004 2010-12-23  NA   NA \n",
       "334 MX000017004 2010-12-24  NA   NA \n",
       "335 MX000017004 2010-12-25  NA   NA \n",
       "336 MX000017004 2010-12-26  NA   NA \n",
       "337 MX000017004 2010-12-27  NA   NA \n",
       "338 MX000017004 2010-12-28  NA   NA \n",
       "339 MX000017004 2010-12-29  NA   NA \n",
       "340 MX000017004 2010-12-30  NA   NA \n",
       "341 MX000017004 2010-12-31  NA   NA "
      ]
     },
     "metadata": {},
     "output_type": "display_data"
    }
   ],
   "source": [
    "wdf_wide"
   ]
  },
  {
   "cell_type": "markdown",
   "id": "4aa7cc55-7404-456a-a62c-a434aeb4ea0d",
   "metadata": {},
   "source": [
    "Just for fun, chaining it all together ..."
   ]
  },
  {
   "cell_type": "code",
   "execution_count": 15,
   "id": "f53697ea-968e-4148-a0e7-1c60e979f057",
   "metadata": {},
   "outputs": [
    {
     "data": {
      "text/html": [
       "<table class=\"dataframe\">\n",
       "<caption>A grouped_df: 6 × 4</caption>\n",
       "<thead>\n",
       "\t<tr><th scope=col>id</th><th scope=col>date</th><th scope=col>TMAX</th><th scope=col>TMIN</th></tr>\n",
       "\t<tr><th scope=col>&lt;chr&gt;</th><th scope=col>&lt;chr&gt;</th><th scope=col>&lt;int&gt;</th><th scope=col>&lt;int&gt;</th></tr>\n",
       "</thead>\n",
       "<tbody>\n",
       "\t<tr><td>MX000017004</td><td>2010-1-1</td><td>NA</td><td>NA</td></tr>\n",
       "\t<tr><td>MX000017004</td><td>2010-1-2</td><td>NA</td><td>NA</td></tr>\n",
       "\t<tr><td>MX000017004</td><td>2010-1-3</td><td>NA</td><td>NA</td></tr>\n",
       "\t<tr><td>MX000017004</td><td>2010-1-4</td><td>NA</td><td>NA</td></tr>\n",
       "\t<tr><td>MX000017004</td><td>2010-1-5</td><td>NA</td><td>NA</td></tr>\n",
       "\t<tr><td>MX000017004</td><td>2010-1-6</td><td>NA</td><td>NA</td></tr>\n",
       "</tbody>\n",
       "</table>\n"
      ],
      "text/latex": [
       "A grouped\\_df: 6 × 4\n",
       "\\begin{tabular}{llll}\n",
       " id & date & TMAX & TMIN\\\\\n",
       " <chr> & <chr> & <int> & <int>\\\\\n",
       "\\hline\n",
       "\t MX000017004 & 2010-1-1 & NA & NA\\\\\n",
       "\t MX000017004 & 2010-1-2 & NA & NA\\\\\n",
       "\t MX000017004 & 2010-1-3 & NA & NA\\\\\n",
       "\t MX000017004 & 2010-1-4 & NA & NA\\\\\n",
       "\t MX000017004 & 2010-1-5 & NA & NA\\\\\n",
       "\t MX000017004 & 2010-1-6 & NA & NA\\\\\n",
       "\\end{tabular}\n"
      ],
      "text/markdown": [
       "\n",
       "A grouped_df: 6 × 4\n",
       "\n",
       "| id &lt;chr&gt; | date &lt;chr&gt; | TMAX &lt;int&gt; | TMIN &lt;int&gt; |\n",
       "|---|---|---|---|\n",
       "| MX000017004 | 2010-1-1 | NA | NA |\n",
       "| MX000017004 | 2010-1-2 | NA | NA |\n",
       "| MX000017004 | 2010-1-3 | NA | NA |\n",
       "| MX000017004 | 2010-1-4 | NA | NA |\n",
       "| MX000017004 | 2010-1-5 | NA | NA |\n",
       "| MX000017004 | 2010-1-6 | NA | NA |\n",
       "\n"
      ],
      "text/plain": [
       "  id          date     TMAX TMIN\n",
       "1 MX000017004 2010-1-1 NA   NA  \n",
       "2 MX000017004 2010-1-2 NA   NA  \n",
       "3 MX000017004 2010-1-3 NA   NA  \n",
       "4 MX000017004 2010-1-4 NA   NA  \n",
       "5 MX000017004 2010-1-5 NA   NA  \n",
       "6 MX000017004 2010-1-6 NA   NA  "
      ]
     },
     "metadata": {},
     "output_type": "display_data"
    }
   ],
   "source": [
    "read.delim(\n",
    "    file = \"http://stat405.had.co.nz/data/weather.txt\",\n",
    "    stringsAsFactors = FALSE\n",
    "    ) %>%\n",
    "    group_by(id, year, month, element) %>%\n",
    "    pivot_longer(\n",
    "        names_to = \"day\",\n",
    "        values_to = \"temperature\",\n",
    "        col = 5:35\n",
    "    ) %>%\n",
    "    mutate(\n",
    "        day = stringr::str_remove_all(day, \"d\")\n",
    "        ) %>%\n",
    "    unite(\n",
    "        col = \"date\",\n",
    "        c(\"year\", \"month\", \"day\"),\n",
    "        sep = \"-\"\n",
    "        ) %>%\n",
    "    group_by(id, date) %>%\n",
    "    pivot_wider(\n",
    "        names_from = element,\n",
    "        values_from = temperature\n",
    "     ) -> wdf_wide\n",
    "\n",
    "head(wdf_wide)"
   ]
  },
  {
   "cell_type": "code",
   "execution_count": null,
   "id": "d52a54e4-d89d-42a6-9f67-347e98963735",
   "metadata": {},
   "outputs": [],
   "source": []
  }
 ],
 "metadata": {
  "kernelspec": {
   "display_name": "R",
   "language": "R",
   "name": "ir"
  },
  "language_info": {
   "codemirror_mode": "r",
   "file_extension": ".r",
   "mimetype": "text/x-r-source",
   "name": "R",
   "pygments_lexer": "r",
   "version": "4.1.2"
  }
 },
 "nbformat": 4,
 "nbformat_minor": 5
}
