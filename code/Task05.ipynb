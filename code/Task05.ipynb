{
 "cells": [
  {
   "cell_type": "markdown",
   "id": "997cce54-9756-48c9-8b35-0efb864164c1",
   "metadata": {},
   "source": [
    "# MPA 5830 - Task 05"
   ]
  },
  {
   "cell_type": "markdown",
   "id": "c094aece-6581-44d7-9ccf-4bcc7ddf1399",
   "metadata": {},
   "source": [
    "All plots must have labels for the x-axis, the y-axis, and a title. Sub-titles and captions are optional. \n",
    "\n",
    "Missing values should not be visible on the charts so please remove them carefully, on a chart by chart basis. \n",
    "\n",
    "If asked to describe patterns, look for hints ofpositive/negative/no relationships when dealing with scatterplots; look for medians/means, skewed/symmetric distributions with/without outliers when dealing with box-plots and histograms; frequencies when looking at bar-charts. If you have groups, make sure you eyeball the chart and note what patterns you see whihin and across groups.   "
   ]
  },
  {
   "cell_type": "markdown",
   "id": "a2dce54b-6ff7-46b5-872d-9bbbacf890a6",
   "metadata": {},
   "source": [
    "## Problem 1 \n",
    "\n",
    "The Tour de France is an annual men's multiple stage bicycle race primarily held in France, while also occasionally passing through nearby countries. Like the other Grand Tours (the Giro d'Italia and the Vuelta a España), it consists of 21 day-long stages over the course of 23 days. It has been described as \"the world’s most prestigious and most difficult bicycle race\".\n",
    "\n",
    "The `tdf_winners` data-set contains the following information: \n",
    "\n",
    "|variable      |class     |description |\n",
    "|:-------------|:---------|:-----------|\n",
    "|edition       |integer   | Edition of the Tour de France |\n",
    "|start_date    |double    | Start date of the Tour |\n",
    "|winner_name   |character | Winner's name|\n",
    "|winner_team   |character | Winner's team (NA if not on a team) |\n",
    "|distance      |double    | Distance traveled in KM across the entire race |\n",
    "|time_overall  |double    | Time in hours taken by the winner to complete the race|\n",
    "|time_margin   |double    | Difference in finishing time between the race winner and the runner up |\n",
    "|stage_wins    |double    | Number of stage wins (note that it is possible to win the GC without winning any stages at all) |\n",
    "|stages_led    |double    | Stages led is the number of stages spent as the race leader (wearing the yellow jersey) by the eventual winner |\n",
    "|height        |double    | Height in meters|\n",
    "|weight        |double    | Weight in kg|\n",
    "|age           |integer   | Age as winner |\n",
    "|born          |double    | year born |\n",
    "|died          |double    | Year died|\n",
    "|full_name     |character | Full name |\n",
    "|nickname      |character | Nickname |\n",
    "|birth_town    |character | Birth town|\n",
    "|birth_country |character | Birth country|\n",
    "|nationality   |character | Nationality|"
   ]
  },
  {
   "cell_type": "code",
   "execution_count": 1,
   "id": "f50dadd5",
   "metadata": {},
   "outputs": [
    {
     "name": "stderr",
     "output_type": "stream",
     "text": [
      "\u001b[1mRows: \u001b[22m\u001b[34m106\u001b[39m \u001b[1mColumns: \u001b[22m\u001b[34m19\u001b[39m\n",
      "\n",
      "\u001b[36m──\u001b[39m \u001b[1mColumn specification\u001b[22m \u001b[36m────────────────────────────────────────────────────────\u001b[39m\n",
      "\u001b[1mDelimiter:\u001b[22m \",\"\n",
      "\u001b[31mchr\u001b[39m  (7): winner_name, winner_team, full_name, nickname, birth_town, birth_c...\n",
      "\u001b[32mdbl\u001b[39m  (9): edition, distance, time_overall, time_margin, stage_wins, stages_l...\n",
      "\u001b[34mdate\u001b[39m (3): start_date, born, died\n",
      "\n",
      "\n",
      "\u001b[36mℹ\u001b[39m Use \u001b[30m\u001b[47m\u001b[30m\u001b[47m`spec()`\u001b[47m\u001b[30m\u001b[49m\u001b[39m to retrieve the full column specification for this data.\n",
      "\u001b[36mℹ\u001b[39m Specify the column types or set \u001b[30m\u001b[47m\u001b[30m\u001b[47m`show_col_types = FALSE`\u001b[47m\u001b[30m\u001b[49m\u001b[39m to quiet this message.\n",
      "\n"
     ]
    }
   ],
   "source": [
    "readr::read_csv(\n",
    "    'https://raw.githubusercontent.com/rfordatascience/tidytuesday/master/data/2020/2020-04-07/tdf_winners.csv'\n",
    "    ) -> tdf"
   ]
  },
  {
   "cell_type": "markdown",
   "id": "a7d5d2fd",
   "metadata": {},
   "source": [
    "Use this data-set to answer the following questions:\n",
    "\n",
    "### Problem 1(a) \n",
    "\n",
    "Draw a chart that shows the distribution of the `time_overall` by `start_date`. Does the chart suggest that `time_overall` has increases or decreased over the years?  "
   ]
  },
  {
   "cell_type": "code",
   "execution_count": null,
   "id": "bfeef4bd",
   "metadata": {
    "lines_to_next_cell": 2,
    "name": "prob1a"
   },
   "outputs": [],
   "source": [
    "\n"
   ]
  },
  {
   "cell_type": "markdown",
   "id": "65809f86",
   "metadata": {},
   "source": [
    "### Problem 1(b)\n",
    "\n",
    "Now draw a chart that shows how many times each `winner_team` has been in the winners' circle. Organize the chart such that the winning team's name shows up on the y-axis. In closing, be sure to write the name of the team that has the most wins. "
   ]
  },
  {
   "cell_type": "code",
   "execution_count": null,
   "id": "c7f52e6b",
   "metadata": {
    "lines_to_next_cell": 2,
    "name": "prob1b"
   },
   "outputs": [],
   "source": [
    "\n"
   ]
  },
  {
   "cell_type": "markdown",
   "id": "47a77a47",
   "metadata": {},
   "source": [
    "### Problem 1(c) \n",
    "\n",
    "The chart you drew in `1(a)` is flawed because the race has not had a fixed distance that should be covered. Create `quartiles` of distance covered in the race, and then break out the chart from `1(a)` such that `time_overall` is distinguishable for each quartile. Is any pattern evident here? "
   ]
  },
  {
   "cell_type": "code",
   "execution_count": null,
   "id": "8fdfa6c9",
   "metadata": {
    "lines_to_next_cell": 2,
    "name": "prob1c"
   },
   "outputs": [],
   "source": [
    "\n"
   ]
  },
  {
   "cell_type": "markdown",
   "id": "8bee0708",
   "metadata": {},
   "source": [
    "### Problem 1(d)\n",
    "\n",
    "Alternatively, we could calculate `speed` as `distance` divided by `time_overall` and then plot `speed` over time. Do so and show the plot. How has speed changed over time?"
   ]
  },
  {
   "cell_type": "code",
   "execution_count": null,
   "id": "61bf5c44",
   "metadata": {
    "lines_to_next_cell": 2,
    "name": "prob1d"
   },
   "outputs": [],
   "source": [
    "\n"
   ]
  },
  {
   "cell_type": "markdown",
   "id": "408cff5d",
   "metadata": {},
   "source": [
    "## Problem 2 \n",
    "\n",
    "The data this week comes from an open hotel booking demand data-set from [Antonio, Almeida and Nunes, 2019](https://www.sciencedirect.com/science/article/pii/S2352340918315191#f0010) and contain data on bookings made at two hotels --- one is a city hotel and the other is a resort hotel. Several details are available for most bookings, and are described below:  "
   ]
  },
  {
   "cell_type": "code",
   "execution_count": 2,
   "id": "a72466e3",
   "metadata": {
    "name": "hotels-data"
   },
   "outputs": [
    {
     "name": "stderr",
     "output_type": "stream",
     "text": [
      "\u001b[1mRows: \u001b[22m\u001b[34m119390\u001b[39m \u001b[1mColumns: \u001b[22m\u001b[34m32\u001b[39m\n",
      "\n",
      "\u001b[36m──\u001b[39m \u001b[1mColumn specification\u001b[22m \u001b[36m────────────────────────────────────────────────────────\u001b[39m\n",
      "\u001b[1mDelimiter:\u001b[22m \",\"\n",
      "\u001b[31mchr\u001b[39m  (13): hotel, arrival_date_month, meal, country, market_segment, distrib...\n",
      "\u001b[32mdbl\u001b[39m  (18): is_canceled, lead_time, arrival_date_year, arrival_date_week_numb...\n",
      "\u001b[34mdate\u001b[39m  (1): reservation_status_date\n",
      "\n",
      "\n",
      "\u001b[36mℹ\u001b[39m Use \u001b[30m\u001b[47m\u001b[30m\u001b[47m`spec()`\u001b[47m\u001b[30m\u001b[49m\u001b[39m to retrieve the full column specification for this data.\n",
      "\u001b[36mℹ\u001b[39m Specify the column types or set \u001b[30m\u001b[47m\u001b[30m\u001b[47m`show_col_types = FALSE`\u001b[47m\u001b[30m\u001b[49m\u001b[39m to quiet this message.\n",
      "\n"
     ]
    },
    {
     "ename": "ERROR",
     "evalue": "Error in hotels %>% filter(adr >= 0 & adr < 1000): could not find function \"%>%\"\n",
     "output_type": "error",
     "traceback": [
      "Error in hotels %>% filter(adr >= 0 & adr < 1000): could not find function \"%>%\"\nTraceback:\n"
     ]
    }
   ],
   "source": [
    "hotels <- readr::read_csv('https://raw.githubusercontent.com/rfordatascience/tidytuesday/master/data/2020/2020-02-11/hotels.csv')\n",
    "\n",
    "hotels %>%\n",
    "  filter(adr >= 0 & adr < 1000) -> hotels"
   ]
  },
  {
   "cell_type": "markdown",
   "id": "f1c9cb74",
   "metadata": {},
   "source": [
    "|variable                       |class     |description |\n",
    "|:------------------------------|:---------|:-----------|\n",
    "|hotel                          |character | Hotel (H1 = Resort Hotel or H2 = City Hotel) |\n",
    "|is_canceled                    |double    | Value indicating if the booking was canceled (1) or not (0) |\n",
    "|lead_time                      |double    | Number of days that elapsed between the entering date of the booking into the PMS and the arrival date |\n",
    "|arrival_date_year              |double    | Year of arrival date|\n",
    "|arrival_date_month             |character | Month of arrival date|\n",
    "|arrival_date_week_number       |double    | Week number of year for arrival date|\n",
    "|arrival_date_day_of_month      |double    | Day of arrival date|\n",
    "|stays_in_weekend_nights        |double    | Number of weekend nights (Saturday or Sunday) the guest stayed or booked to stay at the hotel |\n",
    "|stays_in_week_nights           |double    |  Number of week nights (Monday to Friday) the guest stayed or booked to stay at the hotel|\n",
    "|adults                         |double    | Number of adults|\n",
    "|children                       |double    | Number of children|\n",
    "|babies                         |double    |Number of babies |\n",
    "|meal                           |character | Type of meal booked. Categories are presented in standard hospitality meal packages: <br> Undefined/SC – no meal package;<br>BB – Bed & Breakfast; <br> HB – Half board (breakfast and one other meal – usually dinner); <br> FB – Full board (breakfast, lunch and dinner) |\n",
    "|country                        |character | Country of origin. Categories are represented in the ISO 3155–3:2013 format |\n",
    "|market_segment                 |character | Market segment designation. In categories, the term “TA” means “Travel Agents” and “TO” means “Tour Operators” |\n",
    "|distribution_channel           |character | Booking distribution channel. The term “TA” means “Travel Agents” and “TO” means “Tour Operators” |\n",
    "|is_repeated_guest              |double    | Value indicating if the booking name was from a repeated guest (1) or not (0) |\n",
    "|previous_cancellations         |double    | Number of previous bookings that were canceled by the customer prior to the current booking |\n",
    "|previous_bookings_not_canceled |double    | Number of previous bookings not canceled by the customer prior to the current booking |\n",
    "|reserved_room_type             |character | Code of room type reserved. Code is presented instead of designation for anonymity reasons |\n",
    "|assigned_room_type             |character | Code for the type of room assigned to the booking. Sometimes the assigned room type differs from the reserved room type due to hotel operation reasons (e.g. overbooking) or by customer request. Code is presented instead of designation for anonymity reasons |\n",
    "|booking_changes                |double    | Number of changes/amendments made to the booking from the moment the booking was entered on the PMS until the moment of check-in or cancellation|\n",
    "|deposit_type                   |character | Indication on if the customer made a deposit to guarantee the booking. This variable can assume three categories:<br>No Deposit – no deposit was made;<br>Non Refund – a deposit was made in the value of the total stay cost;<br>Refundable – a deposit was made with a value under the total cost of stay. |\n",
    "|agent                          |character | ID of the travel agency that made the booking |\n",
    "|company                        |character | ID of the company/entity that made the booking or responsible for paying the booking. ID is presented instead of designation for anonymity reasons |\n",
    "|days_in_waiting_list           |double    | Number of days the booking was in the waiting list before it was confirmed to the customer |\n",
    "|customer_type                  |character | Type of booking, assuming one of four categories:<br>Contract - when the booking has an allotment or other type of contract associated to it;<br>Group – when the booking is associated to a group;<br>Transient – when the booking is not part of a group or contract, and is not associated to other transient booking;<br>Transient-party – when the booking is transient, but is associated to at least other transient booking|\n",
    "|adr                            |double    | Average Daily Rate as defined by dividing the sum of all lodging transactions by the total number of staying nights |\n",
    "|required_car_parking_spaces    |double    | Number of car parking spaces required by the customer |\n",
    "|total_of_special_requests      |double    | Number of special requests made by the customer (e.g. twin bed or high floor)|\n",
    "|reservation_status             |character | Reservation last status, assuming one of three categories:<br>Canceled – booking was canceled by the customer;<br>Check-Out – customer has checked in but already departed;<br>No-Show – customer did not check-in and did inform the hotel of the reason why |\n",
    "|reservation_status_date        |double    | Date at which the last status was set. This variable can be used in conjunction with the ReservationStatus to understand when was the booking canceled or when did the customer checked-out of the hotel|"
   ]
  },
  {
   "cell_type": "markdown",
   "id": "8cdd8e36",
   "metadata": {},
   "source": [
    "### Problem 2(a)\n",
    "\n",
    "For each hotel, show the distribution of `lead_time` ... i.e., how much in advance of arrival do people tend to book rooms. Also be sure to answer, in words: What is the most commonly seen `lead_time`?\n"
   ]
  },
  {
   "cell_type": "code",
   "execution_count": null,
   "id": "92c2efad",
   "metadata": {
    "lines_to_next_cell": 2,
    "name": "hotel01"
   },
   "outputs": [],
   "source": [
    "\n"
   ]
  },
  {
   "cell_type": "markdown",
   "id": "05f99cf3",
   "metadata": {},
   "source": [
    "### Problem 2(b) \n",
    "\n",
    "For each hotel type, show the distribution of `market_segment` and answer the following question: Which `market_segment` dominates each hotel type, and approximately, what is this percentage for each hotel type?  "
   ]
  },
  {
   "cell_type": "code",
   "execution_count": null,
   "id": "cccaf846",
   "metadata": {
    "lines_to_next_cell": 0,
    "name": "hotel02"
   },
   "outputs": [],
   "source": [
    "\n"
   ]
  },
  {
   "cell_type": "markdown",
   "id": "3b779972",
   "metadata": {},
   "source": []
  },
  {
   "cell_type": "markdown",
   "id": "42ff3b67",
   "metadata": {},
   "source": [
    "### Problem 2(c)\n",
    "\n",
    "Now construct two plots, (1) the first showing the distribution of `adr` (the average daily rate) for each hotel type, and (2) a second plot that breaks out the distribution of `adr` by hotel type and `arrival_date_month`. Write, in one or two sentences, what patterns seem to be visible in the plot you made for (1), and for (2), which hotel has the highest median `adr` values and for which two months?  "
   ]
  },
  {
   "cell_type": "code",
   "execution_count": null,
   "id": "17a29774",
   "metadata": {
    "lines_to_next_cell": 0,
    "name": "hotel03a"
   },
   "outputs": [],
   "source": [
    "\n"
   ]
  },
  {
   "cell_type": "markdown",
   "id": "d1adfc07",
   "metadata": {},
   "source": [
    "\n"
   ]
  },
  {
   "cell_type": "markdown",
   "id": "cd5c8726",
   "metadata": {},
   "source": [
    "## Problem 3 \n",
    "\n",
    "Music, in particular Spotify! Yes, we have a curated data-set from the `{spotifyr}` package that gives us information on a number of albums by a wide array of artists.   "
   ]
  },
  {
   "cell_type": "code",
   "execution_count": null,
   "id": "67fcbb5e",
   "metadata": {},
   "outputs": [],
   "source": [
    "readr::read_csv('https://raw.githubusercontent.com/rfordatascience/tidytuesday/master/data/2020/2020-01-21/spotify_songs.csv') -> spotify\n",
    "\n",
    "spotify %>%\n",
    "    mutate(\n",
    "    trackyear = lubridate::ymd(track_album_release_date),\n",
    "    year = lubridate::year(trackyear)\n",
    "    ) %>%\n",
    "  filter(year == \"2019\") -> spotify"
   ]
  },
  {
   "cell_type": "markdown",
   "id": "6814c961",
   "metadata": {},
   "source": [
    "|variable                 |class     |description |\n",
    "|:---|:---|:-----------|\n",
    "|track_id                 |character | Song unique ID|\n",
    "|track_name               |character | Song Name|\n",
    "|track_artist             |character | Song Artist|\n",
    "|track_popularity         |double    | Song Popularity (0-100) where higher is better |\n",
    "|track_album_id           |character | Album unique ID|\n",
    "|track_album_name         |character | Song album name |\n",
    "|track_album_release_date |character | Date when album released |\n",
    "|playlist_name            |character | Name of playlist |\n",
    "|playlist_id              |character | Playlist ID|\n",
    "|playlist_genre           |character | Playlist genre |\n",
    "|playlist_subgenre        |character | Playlist subgenre|\n",
    "|danceability             |double    | Danceability describes how suitable a track is for dancing based on a combination of musical elements including tempo, rhythm stability, beat strength, and overall regularity. A value of 0.0 is least danceable and 1.0 is most danceable. |\n",
    "|energy                   |double    | Energy is a measure from 0.0 to 1.0 and represents a perceptual measure of intensity and activity. Typically, energetic tracks feel fast, loud, and noisy. For example, death metal has high energy, while a Bach prelude scores low on the scale. Perceptual features contributing to this attribute include dynamic range, perceived loudness, timbre, onset rate, and general entropy. |\n",
    "|key                      |double    | The estimated overall key of the track. Integers map to pitches using standard Pitch Class notation . E.g. 0 = C, 1 = C♯/D♭, 2 = D, and so on. If no key was detected, the value is -1. |\n",
    "|loudness                 |double    | The overall loudness of a track in decibels (dB). Loudness values are averaged across the entire track and are useful for comparing relative loudness of tracks. Loudness is the quality of a sound that is the primary psychological correlate of physical strength (amplitude). Values typical range between -60 and 0 db.|\n",
    "|mode                     |double    | Mode indicates the modality (major or minor) of a track, the type of scale from which its melodic content is derived. Major is represented by 1 and minor is 0.|\n",
    "|speechiness              |double    | Speechiness detects the presence of spoken words in a track. The more exclusively speech-like the recording (e.g. talk show, audio book, poetry), the closer to 1.0 the attribute value. Values above 0.66 describe tracks that are probably made entirely of spoken words. Values between 0.33 and 0.66 describe tracks that may contain both music and speech, either in sections or layered, including such cases as rap music. Values below 0.33 most likely represent music and other non-speech-like tracks. |\n",
    "|acousticness             |double    | A confidence measure from 0.0 to 1.0 of whether the track is acoustic. 1.0 represents high confidence the track is acoustic.|\n",
    "|instrumentalness         |double    | Predicts whether a track contains no vocals. “Ooh” and “aah” sounds are treated as instrumental in this context. Rap or spoken word tracks are clearly “vocal”. The closer the instrumentalness value is to 1.0, the greater likelihood the track contains no vocal content. Values above 0.5 are intended to represent instrumental tracks, but confidence is higher as the value approaches 1.0. |\n",
    "|liveness                 |double    | Detects the presence of an audience in the recording. Higher liveness values represent an increased probability that the track was performed live. A value above 0.8 provides strong likelihood that the track is live. |\n",
    "|valence                  |double    | A measure from 0.0 to 1.0 describing the musical positiveness conveyed by a track. Tracks with high valence sound more positive (e.g. happy, cheerful, euphoric), while tracks with low valence sound more negative (e.g. sad, depressed, angry). |\n",
    "|tempo                    |double    | The overall estimated tempo of a track in beats per minute (BPM). In musical terminology, tempo is the speed or pace of a given piece and derives directly from the average beat duration. |\n",
    "|duration_ms              |double    | Duration of song in milliseconds |"
   ]
  },
  {
   "cell_type": "markdown",
   "id": "16309cf2",
   "metadata": {},
   "source": [
    "Use these data to answer the questions that follow:"
   ]
  },
  {
   "cell_type": "markdown",
   "id": "1275c209",
   "metadata": {},
   "source": [
    "### Problem 3(a) \n",
    "\n",
    "Use an appropriate chart to explore if `energy` and `loudness` are related. Make sure to build this chart for each `playlist_genre` so that one can distinguish the pattern between genres. What patterns do you see? Describe in one or two sentences. "
   ]
  },
  {
   "cell_type": "code",
   "execution_count": null,
   "id": "5fe2595f",
   "metadata": {
    "lines_to_next_cell": 0,
    "name": "spot01"
   },
   "outputs": [],
   "source": [
    "\n"
   ]
  },
  {
   "cell_type": "markdown",
   "id": "6622291e",
   "metadata": {},
   "source": []
  },
  {
   "cell_type": "markdown",
   "id": "58f45213",
   "metadata": {},
   "source": [
    "### Problem 3(b)  \n",
    "\n",
    "Use an appropriate chart to explore how `loudness` is distributed for each `playlist_genre` and report which genre appears to have the lowest median loudness and which genre appears to have the highest median loudness.  "
   ]
  },
  {
   "cell_type": "code",
   "execution_count": null,
   "id": "b2fc10ea",
   "metadata": {
    "lines_to_next_cell": 2,
    "name": "spot02"
   },
   "outputs": [],
   "source": [
    "\n"
   ]
  },
  {
   "cell_type": "markdown",
   "id": "466e0ca1",
   "metadata": {},
   "source": [
    "### Problem 3(c) \n",
    "\n",
    "Explore the distribution of `track_popularity` by `playlist_subgenre` and report, in one or two sentences, the patterns you see. Also address what subgenre seems to be the most/least popular. "
   ]
  },
  {
   "cell_type": "code",
   "execution_count": null,
   "id": "c30f4a34",
   "metadata": {
    "lines_to_next_cell": 0,
    "name": "spot03"
   },
   "outputs": [],
   "source": [
    "\n"
   ]
  },
  {
   "cell_type": "markdown",
   "id": "04871022",
   "metadata": {},
   "source": [
    "\n"
   ]
  }
 ],
 "metadata": {
  "jupytext": {
   "cell_metadata_filter": "name,tags,-all",
   "main_language": "R",
   "notebook_metadata_filter": "-all"
  },
  "kernelspec": {
   "display_name": "R",
   "language": "R",
   "name": "ir"
  },
  "language_info": {
   "codemirror_mode": "r",
   "file_extension": ".r",
   "mimetype": "text/x-r-source",
   "name": "R",
   "pygments_lexer": "r",
   "version": "4.1.2"
  }
 },
 "nbformat": 4,
 "nbformat_minor": 5
}
