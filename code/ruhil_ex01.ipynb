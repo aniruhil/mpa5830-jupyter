{
 "cells": [
  {
   "cell_type": "code",
   "execution_count": 2,
   "id": "5fd09cd2-c786-44b5-90c8-61f2b593de3c",
   "metadata": {},
   "outputs": [],
   "source": [
    "library(haven)\n",
    "\n",
    "read_dta(\"http://www.stata.com/data/jwooldridge/eacsap/mroz.dta\") -> mroz"
   ]
  },
  {
   "cell_type": "code",
   "execution_count": 3,
   "id": "eea8aa2c-a9b0-4e36-b6b5-963aee72a4c0",
   "metadata": {},
   "outputs": [
    {
     "data": {
      "text/plain": [
       "      inlf            hours           kidslt6          kidsge6     \n",
       " Min.   :0.0000   Min.   :   0.0   Min.   :0.0000   Min.   :0.000  \n",
       " 1st Qu.:0.0000   1st Qu.:   0.0   1st Qu.:0.0000   1st Qu.:0.000  \n",
       " Median :1.0000   Median : 288.0   Median :0.0000   Median :1.000  \n",
       " Mean   :0.5684   Mean   : 740.6   Mean   :0.2377   Mean   :1.353  \n",
       " 3rd Qu.:1.0000   3rd Qu.:1516.0   3rd Qu.:0.0000   3rd Qu.:2.000  \n",
       " Max.   :1.0000   Max.   :4950.0   Max.   :3.0000   Max.   :8.000  \n",
       "                                                                   \n",
       "      age             educ            wage           repwage         hushrs    \n",
       " Min.   :30.00   Min.   : 5.00   Min.   : 0.000   Min.   :0.00   Min.   : 175  \n",
       " 1st Qu.:36.00   1st Qu.:12.00   1st Qu.: 0.000   1st Qu.:0.00   1st Qu.:1928  \n",
       " Median :43.00   Median :12.00   Median : 1.625   Median :0.00   Median :2164  \n",
       " Mean   :42.54   Mean   :12.29   Mean   : 2.375   Mean   :1.85   Mean   :2267  \n",
       " 3rd Qu.:49.00   3rd Qu.:13.00   3rd Qu.: 3.788   3rd Qu.:3.58   3rd Qu.:2553  \n",
       " Max.   :60.00   Max.   :17.00   Max.   :25.000   Max.   :9.98   Max.   :5010  \n",
       "                                                                               \n",
       "     husage         huseduc         huswage            faminc     \n",
       " Min.   :30.00   Min.   : 3.00   Min.   : 0.4121   Min.   : 1500  \n",
       " 1st Qu.:38.00   1st Qu.:11.00   1st Qu.: 4.7883   1st Qu.:15428  \n",
       " Median :46.00   Median :12.00   Median : 6.9758   Median :20880  \n",
       " Mean   :45.12   Mean   :12.49   Mean   : 7.4822   Mean   :23081  \n",
       " 3rd Qu.:52.00   3rd Qu.:15.00   3rd Qu.: 9.1667   3rd Qu.:28200  \n",
       " Max.   :60.00   Max.   :17.00   Max.   :40.5090   Max.   :96000  \n",
       "                                                                  \n",
       "      mtr            motheduc         fatheduc           unem       \n",
       " Min.   :0.4415   Min.   : 0.000   Min.   : 0.000   Min.   : 3.000  \n",
       " 1st Qu.:0.6215   1st Qu.: 7.000   1st Qu.: 7.000   1st Qu.: 7.500  \n",
       " Median :0.6915   Median :10.000   Median : 7.000   Median : 7.500  \n",
       " Mean   :0.6789   Mean   : 9.251   Mean   : 8.809   Mean   : 8.624  \n",
       " 3rd Qu.:0.7215   3rd Qu.:12.000   3rd Qu.:12.000   3rd Qu.:11.000  \n",
       " Max.   :0.9415   Max.   :17.000   Max.   :17.000   Max.   :14.000  \n",
       "                                                                    \n",
       "      city            exper          nwifeinc            lwage        \n",
       " Min.   :0.0000   Min.   : 0.00   Min.   :-0.02906   Min.   :-2.0542  \n",
       " 1st Qu.:0.0000   1st Qu.: 4.00   1st Qu.:13.02504   1st Qu.: 0.8165  \n",
       " Median :1.0000   Median : 9.00   Median :17.70000   Median : 1.2476  \n",
       " Mean   :0.6428   Mean   :10.63   Mean   :20.12896   Mean   : 1.1902  \n",
       " 3rd Qu.:1.0000   3rd Qu.:15.00   3rd Qu.:24.46600   3rd Qu.: 1.6036  \n",
       " Max.   :1.0000   Max.   :45.00   Max.   :96.00000   Max.   : 3.2189  \n",
       "                                                     NA's   :325      \n",
       "    expersq    \n",
       " Min.   :   0  \n",
       " 1st Qu.:  16  \n",
       " Median :  81  \n",
       " Mean   : 178  \n",
       " 3rd Qu.: 225  \n",
       " Max.   :2025  \n",
       "               "
      ]
     },
     "metadata": {},
     "output_type": "display_data"
    }
   ],
   "source": [
    "summary(mroz)"
   ]
  },
  {
   "cell_type": "code",
   "execution_count": 4,
   "id": "828dc90d-a551-40ab-8790-e425fe66a16c",
   "metadata": {},
   "outputs": [
    {
     "data": {
      "text/html": [
       "<table class=\"dataframe\">\n",
       "<caption>A tibble: 6 × 22</caption>\n",
       "<thead>\n",
       "\t<tr><th scope=col>inlf</th><th scope=col>hours</th><th scope=col>kidslt6</th><th scope=col>kidsge6</th><th scope=col>age</th><th scope=col>educ</th><th scope=col>wage</th><th scope=col>repwage</th><th scope=col>hushrs</th><th scope=col>husage</th><th scope=col>⋯</th><th scope=col>faminc</th><th scope=col>mtr</th><th scope=col>motheduc</th><th scope=col>fatheduc</th><th scope=col>unem</th><th scope=col>city</th><th scope=col>exper</th><th scope=col>nwifeinc</th><th scope=col>lwage</th><th scope=col>expersq</th></tr>\n",
       "\t<tr><th scope=col>&lt;dbl&gt;</th><th scope=col>&lt;dbl&gt;</th><th scope=col>&lt;dbl&gt;</th><th scope=col>&lt;dbl&gt;</th><th scope=col>&lt;dbl&gt;</th><th scope=col>&lt;dbl&gt;</th><th scope=col>&lt;dbl&gt;</th><th scope=col>&lt;dbl&gt;</th><th scope=col>&lt;dbl&gt;</th><th scope=col>&lt;dbl&gt;</th><th scope=col>⋯</th><th scope=col>&lt;dbl&gt;</th><th scope=col>&lt;dbl&gt;</th><th scope=col>&lt;dbl&gt;</th><th scope=col>&lt;dbl&gt;</th><th scope=col>&lt;dbl&gt;</th><th scope=col>&lt;dbl&gt;</th><th scope=col>&lt;dbl&gt;</th><th scope=col>&lt;dbl&gt;</th><th scope=col>&lt;dbl&gt;</th><th scope=col>&lt;dbl&gt;</th></tr>\n",
       "</thead>\n",
       "<tbody>\n",
       "\t<tr><td>1</td><td>1610</td><td>1</td><td>0</td><td>32</td><td>12</td><td>3.3540</td><td>2.65</td><td>2708</td><td>34</td><td>⋯</td><td>16310</td><td>0.7215</td><td>12</td><td> 7</td><td> 5.0</td><td>0</td><td>14</td><td>10.910060</td><td>1.21015370</td><td> 196</td></tr>\n",
       "\t<tr><td>1</td><td>1656</td><td>0</td><td>2</td><td>30</td><td>12</td><td>1.3889</td><td>2.65</td><td>2310</td><td>30</td><td>⋯</td><td>21800</td><td>0.6615</td><td> 7</td><td> 7</td><td>11.0</td><td>1</td><td> 5</td><td>19.499981</td><td>0.32851210</td><td>  25</td></tr>\n",
       "\t<tr><td>1</td><td>1980</td><td>1</td><td>3</td><td>35</td><td>12</td><td>4.5455</td><td>4.04</td><td>3072</td><td>40</td><td>⋯</td><td>21040</td><td>0.6915</td><td>12</td><td> 7</td><td> 5.0</td><td>0</td><td>15</td><td>12.039910</td><td>1.51413774</td><td> 225</td></tr>\n",
       "\t<tr><td>1</td><td> 456</td><td>0</td><td>3</td><td>34</td><td>12</td><td>1.0965</td><td>3.25</td><td>1920</td><td>53</td><td>⋯</td><td> 7300</td><td>0.7815</td><td> 7</td><td> 7</td><td> 5.0</td><td>0</td><td> 6</td><td> 6.799996</td><td>0.09212332</td><td>  36</td></tr>\n",
       "\t<tr><td>1</td><td>1568</td><td>1</td><td>2</td><td>31</td><td>14</td><td>4.5918</td><td>3.60</td><td>2000</td><td>32</td><td>⋯</td><td>27300</td><td>0.6215</td><td>12</td><td>14</td><td> 9.5</td><td>1</td><td> 7</td><td>20.100058</td><td>1.52427220</td><td>  49</td></tr>\n",
       "\t<tr><td>1</td><td>2032</td><td>0</td><td>0</td><td>54</td><td>12</td><td>4.7421</td><td>4.70</td><td>1040</td><td>57</td><td>⋯</td><td>19495</td><td>0.6915</td><td>14</td><td> 7</td><td> 7.5</td><td>1</td><td>33</td><td> 9.859054</td><td>1.55648005</td><td>1089</td></tr>\n",
       "</tbody>\n",
       "</table>\n"
      ],
      "text/latex": [
       "A tibble: 6 × 22\n",
       "\\begin{tabular}{lllllllllllllllllllll}\n",
       " inlf & hours & kidslt6 & kidsge6 & age & educ & wage & repwage & hushrs & husage & ⋯ & faminc & mtr & motheduc & fatheduc & unem & city & exper & nwifeinc & lwage & expersq\\\\\n",
       " <dbl> & <dbl> & <dbl> & <dbl> & <dbl> & <dbl> & <dbl> & <dbl> & <dbl> & <dbl> & ⋯ & <dbl> & <dbl> & <dbl> & <dbl> & <dbl> & <dbl> & <dbl> & <dbl> & <dbl> & <dbl>\\\\\n",
       "\\hline\n",
       "\t 1 & 1610 & 1 & 0 & 32 & 12 & 3.3540 & 2.65 & 2708 & 34 & ⋯ & 16310 & 0.7215 & 12 &  7 &  5.0 & 0 & 14 & 10.910060 & 1.21015370 &  196\\\\\n",
       "\t 1 & 1656 & 0 & 2 & 30 & 12 & 1.3889 & 2.65 & 2310 & 30 & ⋯ & 21800 & 0.6615 &  7 &  7 & 11.0 & 1 &  5 & 19.499981 & 0.32851210 &   25\\\\\n",
       "\t 1 & 1980 & 1 & 3 & 35 & 12 & 4.5455 & 4.04 & 3072 & 40 & ⋯ & 21040 & 0.6915 & 12 &  7 &  5.0 & 0 & 15 & 12.039910 & 1.51413774 &  225\\\\\n",
       "\t 1 &  456 & 0 & 3 & 34 & 12 & 1.0965 & 3.25 & 1920 & 53 & ⋯ &  7300 & 0.7815 &  7 &  7 &  5.0 & 0 &  6 &  6.799996 & 0.09212332 &   36\\\\\n",
       "\t 1 & 1568 & 1 & 2 & 31 & 14 & 4.5918 & 3.60 & 2000 & 32 & ⋯ & 27300 & 0.6215 & 12 & 14 &  9.5 & 1 &  7 & 20.100058 & 1.52427220 &   49\\\\\n",
       "\t 1 & 2032 & 0 & 0 & 54 & 12 & 4.7421 & 4.70 & 1040 & 57 & ⋯ & 19495 & 0.6915 & 14 &  7 &  7.5 & 1 & 33 &  9.859054 & 1.55648005 & 1089\\\\\n",
       "\\end{tabular}\n"
      ],
      "text/markdown": [
       "\n",
       "A tibble: 6 × 22\n",
       "\n",
       "| inlf &lt;dbl&gt; | hours &lt;dbl&gt; | kidslt6 &lt;dbl&gt; | kidsge6 &lt;dbl&gt; | age &lt;dbl&gt; | educ &lt;dbl&gt; | wage &lt;dbl&gt; | repwage &lt;dbl&gt; | hushrs &lt;dbl&gt; | husage &lt;dbl&gt; | ⋯ ⋯ | faminc &lt;dbl&gt; | mtr &lt;dbl&gt; | motheduc &lt;dbl&gt; | fatheduc &lt;dbl&gt; | unem &lt;dbl&gt; | city &lt;dbl&gt; | exper &lt;dbl&gt; | nwifeinc &lt;dbl&gt; | lwage &lt;dbl&gt; | expersq &lt;dbl&gt; |\n",
       "|---|---|---|---|---|---|---|---|---|---|---|---|---|---|---|---|---|---|---|---|---|\n",
       "| 1 | 1610 | 1 | 0 | 32 | 12 | 3.3540 | 2.65 | 2708 | 34 | ⋯ | 16310 | 0.7215 | 12 |  7 |  5.0 | 0 | 14 | 10.910060 | 1.21015370 |  196 |\n",
       "| 1 | 1656 | 0 | 2 | 30 | 12 | 1.3889 | 2.65 | 2310 | 30 | ⋯ | 21800 | 0.6615 |  7 |  7 | 11.0 | 1 |  5 | 19.499981 | 0.32851210 |   25 |\n",
       "| 1 | 1980 | 1 | 3 | 35 | 12 | 4.5455 | 4.04 | 3072 | 40 | ⋯ | 21040 | 0.6915 | 12 |  7 |  5.0 | 0 | 15 | 12.039910 | 1.51413774 |  225 |\n",
       "| 1 |  456 | 0 | 3 | 34 | 12 | 1.0965 | 3.25 | 1920 | 53 | ⋯ |  7300 | 0.7815 |  7 |  7 |  5.0 | 0 |  6 |  6.799996 | 0.09212332 |   36 |\n",
       "| 1 | 1568 | 1 | 2 | 31 | 14 | 4.5918 | 3.60 | 2000 | 32 | ⋯ | 27300 | 0.6215 | 12 | 14 |  9.5 | 1 |  7 | 20.100058 | 1.52427220 |   49 |\n",
       "| 1 | 2032 | 0 | 0 | 54 | 12 | 4.7421 | 4.70 | 1040 | 57 | ⋯ | 19495 | 0.6915 | 14 |  7 |  7.5 | 1 | 33 |  9.859054 | 1.55648005 | 1089 |\n",
       "\n"
      ],
      "text/plain": [
       "  inlf hours kidslt6 kidsge6 age educ wage   repwage hushrs husage ⋯ faminc\n",
       "1 1    1610  1       0       32  12   3.3540 2.65    2708   34     ⋯ 16310 \n",
       "2 1    1656  0       2       30  12   1.3889 2.65    2310   30     ⋯ 21800 \n",
       "3 1    1980  1       3       35  12   4.5455 4.04    3072   40     ⋯ 21040 \n",
       "4 1     456  0       3       34  12   1.0965 3.25    1920   53     ⋯  7300 \n",
       "5 1    1568  1       2       31  14   4.5918 3.60    2000   32     ⋯ 27300 \n",
       "6 1    2032  0       0       54  12   4.7421 4.70    1040   57     ⋯ 19495 \n",
       "  mtr    motheduc fatheduc unem city exper nwifeinc  lwage      expersq\n",
       "1 0.7215 12        7        5.0 0    14    10.910060 1.21015370  196   \n",
       "2 0.6615  7        7       11.0 1     5    19.499981 0.32851210   25   \n",
       "3 0.6915 12        7        5.0 0    15    12.039910 1.51413774  225   \n",
       "4 0.7815  7        7        5.0 0     6     6.799996 0.09212332   36   \n",
       "5 0.6215 12       14        9.5 1     7    20.100058 1.52427220   49   \n",
       "6 0.6915 14        7        7.5 1    33     9.859054 1.55648005 1089   "
      ]
     },
     "metadata": {},
     "output_type": "display_data"
    }
   ],
   "source": [
    "head(mroz)"
   ]
  },
  {
   "cell_type": "code",
   "execution_count": 5,
   "id": "81800236-db25-488b-9bcd-bba96bdf6d21",
   "metadata": {},
   "outputs": [],
   "source": [
    "read_sav(\"http://calcnet.mth.cmich.edu/org/spss/V16_materials/DataSets_v16/airline_passengers.sav\") -> airline_passengers"
   ]
  },
  {
   "cell_type": "code",
   "execution_count": 6,
   "id": "870e34be-3008-448e-9a1c-004639a364aa",
   "metadata": {},
   "outputs": [
    {
     "data": {
      "text/plain": [
       "     number     \n",
       " Min.   :104.0  \n",
       " 1st Qu.:180.0  \n",
       " Median :265.5  \n",
       " Mean   :280.3  \n",
       " 3rd Qu.:360.5  \n",
       " Max.   :622.0  "
      ]
     },
     "metadata": {},
     "output_type": "display_data"
    }
   ],
   "source": [
    "summary(airline_passengers)"
   ]
  },
  {
   "cell_type": "code",
   "execution_count": 7,
   "id": "facdc594-5312-4508-8a63-8a98b67a3353",
   "metadata": {},
   "outputs": [
    {
     "data": {
      "text/html": [
       "<table class=\"dataframe\">\n",
       "<caption>A tibble: 6 × 1</caption>\n",
       "<thead>\n",
       "\t<tr><th scope=col>number</th></tr>\n",
       "\t<tr><th scope=col>&lt;dbl&gt;</th></tr>\n",
       "</thead>\n",
       "<tbody>\n",
       "\t<tr><td>112</td></tr>\n",
       "\t<tr><td>118</td></tr>\n",
       "\t<tr><td>132</td></tr>\n",
       "\t<tr><td>129</td></tr>\n",
       "\t<tr><td>121</td></tr>\n",
       "\t<tr><td>135</td></tr>\n",
       "</tbody>\n",
       "</table>\n"
      ],
      "text/latex": [
       "A tibble: 6 × 1\n",
       "\\begin{tabular}{l}\n",
       " number\\\\\n",
       " <dbl>\\\\\n",
       "\\hline\n",
       "\t 112\\\\\n",
       "\t 118\\\\\n",
       "\t 132\\\\\n",
       "\t 129\\\\\n",
       "\t 121\\\\\n",
       "\t 135\\\\\n",
       "\\end{tabular}\n"
      ],
      "text/markdown": [
       "\n",
       "A tibble: 6 × 1\n",
       "\n",
       "| number &lt;dbl&gt; |\n",
       "|---|\n",
       "| 112 |\n",
       "| 118 |\n",
       "| 132 |\n",
       "| 129 |\n",
       "| 121 |\n",
       "| 135 |\n",
       "\n"
      ],
      "text/plain": [
       "  number\n",
       "1 112   \n",
       "2 118   \n",
       "3 132   \n",
       "4 129   \n",
       "5 121   \n",
       "6 135   "
      ]
     },
     "metadata": {},
     "output_type": "display_data"
    }
   ],
   "source": [
    "head(airline_passengers)"
   ]
  },
  {
   "cell_type": "code",
   "execution_count": null,
   "id": "54eea4ab-102e-49d8-a77c-c9ad02d5dc2c",
   "metadata": {},
   "outputs": [],
   "source": []
  }
 ],
 "metadata": {
  "kernelspec": {
   "display_name": "R",
   "language": "R",
   "name": "ir"
  },
  "language_info": {
   "codemirror_mode": "r",
   "file_extension": ".r",
   "mimetype": "text/x-r-source",
   "name": "R",
   "pygments_lexer": "r",
   "version": "4.1.1"
  }
 },
 "nbformat": 4,
 "nbformat_minor": 5
}
