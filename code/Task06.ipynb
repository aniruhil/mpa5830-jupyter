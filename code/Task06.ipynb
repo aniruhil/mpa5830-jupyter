{
 "cells": [
  {
   "cell_type": "markdown",
   "id": "71b55fce-f978-4144-90da-260e4ff200b9",
   "metadata": {},
   "source": [
    "# MPA 5830 - Task 06"
   ]
  },
  {
   "cell_type": "markdown",
   "id": "616a1fc6-fce8-45a2-b97f-f8be394b7721",
   "metadata": {},
   "source": [
    "All plots (other than maps) must have labels for the x-axis, the y-axis, and a title. Sub-titles and captions are optional. Maps must include a legend, if applicable. \n",
    "\n",
    "Missing values should not be visible on the charts so please remove them carefully, on a chart by chart basis. \n",
    "\n",
    "If asked to describe patterns, look for hints ofpositive/negative/no relationships when dealing with scatterplots; look for medians/means, skewed/symmetric distributions with/without outliers when dealing with box-plots and histograms; frequencies when looking at bar-charts. If you have groups, make sure you eyeball the chart and note what patterns you see whihin and across groups.   "
   ]
  },
  {
   "cell_type": "markdown",
   "id": "6083350b-a78a-457e-b793-e7b40864bdb2",
   "metadata": {},
   "source": [
    "## Problem 1\n",
    "\n",
    "There are two county-level data files to be read, one on the prison population (1970 - 2016) and the other on the pretrial population (1970 - 2016). Read them in and then keep only the data from `2015` for each file. The contents are self-explanatory, except perhaps `urbanicity = County-type (urban, suburban, small/mid, rural)`.  "
   ]
  },
  {
   "cell_type": "code",
   "execution_count": 1,
   "id": "63882487",
   "metadata": {},
   "outputs": [
    {
     "name": "stderr",
     "output_type": "stream",
     "text": [
      "── \u001b[1mAttaching packages\u001b[22m ─────────────────────────────────────── tidyverse 1.3.1 ──\n",
      "\n",
      "\u001b[32m✔\u001b[39m \u001b[34mggplot2\u001b[39m 3.3.5     \u001b[32m✔\u001b[39m \u001b[34mpurrr  \u001b[39m 0.3.4\n",
      "\u001b[32m✔\u001b[39m \u001b[34mtibble \u001b[39m 3.1.6     \u001b[32m✔\u001b[39m \u001b[34mdplyr  \u001b[39m 1.0.7\n",
      "\u001b[32m✔\u001b[39m \u001b[34mtidyr  \u001b[39m 1.1.4     \u001b[32m✔\u001b[39m \u001b[34mstringr\u001b[39m 1.4.0\n",
      "\u001b[32m✔\u001b[39m \u001b[34mreadr  \u001b[39m 2.1.0     \u001b[32m✔\u001b[39m \u001b[34mforcats\u001b[39m 0.5.1\n",
      "\n",
      "── \u001b[1mConflicts\u001b[22m ────────────────────────────────────────── tidyverse_conflicts() ──\n",
      "\u001b[31m✖\u001b[39m \u001b[34mdplyr\u001b[39m::\u001b[32mfilter()\u001b[39m masks \u001b[34mstats\u001b[39m::filter()\n",
      "\u001b[31m✖\u001b[39m \u001b[34mdplyr\u001b[39m::\u001b[32mlag()\u001b[39m    masks \u001b[34mstats\u001b[39m::lag()\n",
      "\n",
      "\u001b[1mRows: \u001b[22m\u001b[34m1327797\u001b[39m \u001b[1mColumns: \u001b[22m\u001b[34m9\u001b[39m\n",
      "\n",
      "\u001b[36m──\u001b[39m \u001b[1mColumn specification\u001b[22m \u001b[36m────────────────────────────────────────────────────────\u001b[39m\n",
      "\u001b[1mDelimiter:\u001b[22m \",\"\n",
      "\u001b[31mchr\u001b[39m (6): state, county_name, urbanicity, region, division, pop_category\n",
      "\u001b[32mdbl\u001b[39m (3): year, population, prison_population\n",
      "\n",
      "\n",
      "\u001b[36mℹ\u001b[39m Use \u001b[30m\u001b[47m\u001b[30m\u001b[47m`spec()`\u001b[47m\u001b[30m\u001b[49m\u001b[39m to retrieve the full column specification for this data.\n",
      "\u001b[36mℹ\u001b[39m Specify the column types or set \u001b[30m\u001b[47m\u001b[30m\u001b[47m`show_col_types = FALSE`\u001b[47m\u001b[30m\u001b[49m\u001b[39m to quiet this message.\n",
      "\n",
      "\u001b[1mRows: \u001b[22m\u001b[34m1327797\u001b[39m \u001b[1mColumns: \u001b[22m\u001b[34m9\u001b[39m\n",
      "\n",
      "\u001b[36m──\u001b[39m \u001b[1mColumn specification\u001b[22m \u001b[36m────────────────────────────────────────────────────────\u001b[39m\n",
      "\u001b[1mDelimiter:\u001b[22m \",\"\n",
      "\u001b[31mchr\u001b[39m (6): state, county_name, urbanicity, region, division, pop_category\n",
      "\u001b[32mdbl\u001b[39m (3): year, population, pretrial_population\n",
      "\n",
      "\n",
      "\u001b[36mℹ\u001b[39m Use \u001b[30m\u001b[47m\u001b[30m\u001b[47m`spec()`\u001b[47m\u001b[30m\u001b[49m\u001b[39m to retrieve the full column specification for this data.\n",
      "\u001b[36mℹ\u001b[39m Specify the column types or set \u001b[30m\u001b[47m\u001b[30m\u001b[47m`show_col_types = FALSE`\u001b[47m\u001b[30m\u001b[49m\u001b[39m to quiet this message.\n",
      "\n"
     ]
    }
   ],
   "source": [
    "library(tidyverse)\n",
    "\n",
    "readr::read_csv(\n",
    "    \"https://raw.githubusercontent.com/rfordatascience/tidytuesday/master/data/2019/2019-01-22/prison_population.csv\"\n",
    "    ) %>%\n",
    "  select(year, state, county_name, population, prison_population, pop_category) %>% \n",
    "  filter(state %in% c(\"TX\", \"GA\", \"VA\", \"AZ\", \"CA\", \"FL\", \"NJ\", \"MO\", \"KY\", \"KS\")) %>%\n",
    "  filter(pop_category == \"Total\") -> prison \n",
    "\n",
    "readr::read_csv(\n",
    "    \"https://raw.githubusercontent.com/rfordatascience/tidytuesday/master/data/2019/2019-01-22/pretrial_population.csv\"\n",
    "    )  %>%\n",
    "  select(year, state, county_name, population, pretrial_population, pop_category) %>% \n",
    "  filter(state %in% c(\"TX\", \"GA\", \"VA\", \"AZ\", \"CA\", \"FL\", \"NJ\", \"MO\", \"KY\", \"KS\")) %>%\n",
    "  filter(pop_category == \"Total\") -> pretrial"
   ]
  },
  {
   "cell_type": "markdown",
   "id": "c778bf16",
   "metadata": {},
   "source": [
    "Use the two data-sets for 2015 to complete the following tasks:\n",
    "\n",
    "### Problem 1(a)\n",
    "\n",
    "Create two `state-level` maps, one for the prison population and the other for the pretrial population. \n",
    "\n",
    "To do this you will have to create a state-level dataset that sums up the number in each county (`Hint: use summarise(...) and save the result with a filename`). Make sure you do this for both data-sets, and that you not only calculate state totals for the population but also the number in prisons and in pretrial, respectively. Now create a new variable called `rate` with the following command -- `mutate(rate = (state_prison_total / state_population_total) * 100000)` ... this is the incarceration rate per 100,000 persons. \n",
    "\n",
    "The `fill` should be based on the prison rate. Repeat this for the pretrial rate. What state(s) seem to have the lowers/highest incarceration rates for each group? Do you see any regional trends?  "
   ]
  },
  {
   "cell_type": "markdown",
   "id": "d7695e1c",
   "metadata": {},
   "source": [
    "### Problem 1(b)\n",
    "\n",
    "Now create two similar maps, but for the counties in Texas. To do this you will have to use `filter()` to restrict the dataset to Texas, for the 2015 year. \n",
    "\n",
    "In the two county maps, what patterns do you see? Are counties in a certain part of the state more likely to have higher/lower rates of incarceration for the prison and/or the pretrial subpopulations? "
   ]
  },
  {
   "cell_type": "markdown",
   "id": "238466a6",
   "metadata": {},
   "source": [
    "### Problem 1(c)\n",
    "\n",
    "Now go back to the prison and pretrial data-sets. Using filter to restrict the datasets to data for the years before 2016, calculate the total imprisoned by state by year. You can do this with `group_by(state, year)`. Also calculate the total population per state per year, and then create the `rate` variable as asked to previously. Now build two line-charts with `highcharter` so that you can see the state-level prison rate and pretrial rate, over the years. What patterns are evident in each of these plots? Do some states exhibit higher/lower rates than others? "
   ]
  },
  {
   "cell_type": "markdown",
   "id": "aba48011",
   "metadata": {},
   "source": [
    "### Problem 1(d)\n",
    "\n",
    "Now filter `prison` and `pretrial` to the year 2015 and create the `rate` variable for each data-set. Now build two `highcharter` county-level maps that show the prison rate in each county and the pretrial rate in each county, respectively. What patterns, if any, do you see when you look at incarceration nationwide?  "
   ]
  },
  {
   "cell_type": "markdown",
   "id": "c167a80a",
   "metadata": {},
   "source": [
    "## Problem 2 \n",
    "\n",
    "There is a file called `directory.csv` in the data folder. Load it up and save it as `directory.RData`. \n",
    "\n",
    "Filter this data-set to `GB` (Great Britain), and build a `leaflet` map that shows the location of each starbuck as a circle, and when the circles are clicked the popup displays the name of the store and the city. \n",
    "\n",
    "Hint: You will have to create a column that combines these two things and use this for the popup."
   ]
  },
  {
   "cell_type": "code",
   "execution_count": null,
   "id": "19ca89f3-169f-44fa-bfcd-f7d418e06237",
   "metadata": {},
   "outputs": [],
   "source": []
  }
 ],
 "metadata": {
  "jupytext": {
   "cell_metadata_filter": "name,tags,-all",
   "main_language": "R",
   "notebook_metadata_filter": "-all"
  },
  "kernelspec": {
   "display_name": "R",
   "language": "R",
   "name": "ir"
  },
  "language_info": {
   "codemirror_mode": "r",
   "file_extension": ".r",
   "mimetype": "text/x-r-source",
   "name": "R",
   "pygments_lexer": "r",
   "version": "4.1.2"
  }
 },
 "nbformat": 4,
 "nbformat_minor": 5
}
