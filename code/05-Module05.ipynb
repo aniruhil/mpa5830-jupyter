{
 "cells": [
  {
   "cell_type": "markdown",
   "id": "30eb7916-3642-4331-ab34-f57731cdbff6",
   "metadata": {},
   "source": [
    "# MPA 5830 - Module 05 (Fall 2021)"
   ]
  },
  {
   "cell_type": "markdown",
   "id": "565e0814",
   "metadata": {},
   "source": [
    "Our goal in this module is to understand some basic ways of visualizing data with graphics -- bar-charts, histograms, box-plots, and so on. We will skip `base R` commands and instead just work with `ggplot2`, the most popular visualization package in the `{tidyverse}` universe as of now. \n",
    "\n",
    "If you remember MPA 6010, recall the usual options... \n",
    "\n",
    "- one qualitative/categorical variables: `bar-chart` \n",
    "- one quantitative/continuous variables: `histogram/box-plot/area-chart`  \n",
    "- two quantitative/continuous variables: `scatter-plot/hex-bin` \n",
    "\n",
    "We can then ratchet up as we need to. \n",
    "\n",
    "I will use two data-sets to walk through the initial examples in this module, the first being this [IMDB data-set](http://imdb.com/)\n",
    "\n",
    "> The internet movie database, http://imdb.com/, is a website devoted to collecting movie data supplied by studios and fans. It claims to be the biggest movie database on the web and is run by amazon. More about information imdb.com can be found online, http://imdb.com/help/show_ leaf?about, including information about the data collection process, http://imdb.com/help/show_leaf?infosource."
   ]
  },
  {
   "cell_type": "code",
   "execution_count": null,
   "id": "1285b751",
   "metadata": {
    "name": "movies"
   },
   "outputs": [],
   "source": [
    "library(ggplot2movies)\n",
    "data(movies)\n",
    "names(movies)"
   ]
  },
  {
   "cell_type": "markdown",
   "id": "65f39f6e",
   "metadata": {},
   "source": [
    "A data frame with 28819 rows and 24 variables \n",
    "\n",
    "| Variable | Description |\n",
    "| :-- | :-- |\n",
    "| title | Title of the movie |\n",
    "| year | Year of release |\n",
    "| budget | Total budget (if known) in US dollars |\n",
    "| length | Length in minutes |\n",
    "| rating | Average IMDB user rating |\n",
    "| votes | Number of IMDB users who rated this movie |\n",
    "| r1-10 | Multiplying by ten gives percentile (to nearest 10%) of users who rated this movie a 1 |\n",
    "| mpaa | MPAA rating (missing for a lot of movies) |\n",
    "| action, animation, comedy, drama, documentary, romance, short | Binary variables representing if movie was classified as belonging to that genre |"
   ]
  },
  {
   "cell_type": "markdown",
   "id": "101588c7",
   "metadata": {},
   "source": [
    "The second data-set is the [Star Wars dataset](https://swapi.co), a `tibble` with 87 rows and 13 variables:"
   ]
  },
  {
   "cell_type": "code",
   "execution_count": null,
   "id": "40b9cfe9",
   "metadata": {
    "name": "starwars"
   },
   "outputs": [],
   "source": [
    "library(tidyverse)\n",
    "data(starwars)\n",
    "names(starwars)\n",
    "# str(starwars)"
   ]
  },
  {
   "cell_type": "markdown",
   "id": "fe0e471e",
   "metadata": {},
   "source": [
    "| Variable | Description |\n",
    "| :-- | :-- |\n",
    "| name | Name of the character |\n",
    "| height | Height (cm) |\n",
    "| mass | Weight (kg) |\n",
    "| hair_color, skin_color, eye_color | Hair, skin, and eye colors |\n",
    "| birth_year | Year born (BBY = Before Battle of Yavin) |\n",
    "| gender | male, female, hermaphrodite, or none |\n",
    "| homeworld | Name of homeworld |\n",
    "| species | Name of species |\n",
    "| films | List of films the character appeared in |\n",
    "| vehicles | List of vehicles the character has piloted |\n",
    "| starships | List of starships the character has piloted |"
   ]
  },
  {
   "cell_type": "markdown",
   "id": "8590e2b2",
   "metadata": {},
   "source": [
    "# `ggplot2` and the [grammar of graphics](http://vita.had.co.nz/papers/layered-grammar.html)\n",
    "\n",
    "The `{ggplot2}` package has a special syntax and I will point out things you should note as we move through this module. First up, the library is called `ggplot2` but the command starts with `ggplot` so don't let that throw you off-track. \n",
    "\n",
    "Second, you need to have a data-set to work with. In the code below I start by loading the library and then specifying the data-set to be used. "
   ]
  },
  {
   "cell_type": "code",
   "execution_count": null,
   "id": "dbf92fc3",
   "metadata": {
    "name": "gg000"
   },
   "outputs": [],
   "source": [
    "library(ggplot2)\n",
    "\n",
    "options(repr.plot.width = 16, repr.plot.height = 8) \n",
    "\n",
    "ggplot(\n",
    "  data = starwars\n",
    "  )"
   ]
  },
  {
   "cell_type": "markdown",
   "id": "cb7020e1",
   "metadata": {},
   "source": [
    "Nothing results from these commands because we have not yet specified anything about what should go on the x-axis, what should go on the y-axis. Well, let us do that then by asking for the column `eye_color` to be put on the x-axis. "
   ]
  },
  {
   "cell_type": "code",
   "execution_count": null,
   "id": "ab406ded",
   "metadata": {
    "name": "gg001"
   },
   "outputs": [],
   "source": [
    "ggplot(\n",
    "  data = starwars,\n",
    "  mapping = aes(\n",
    "    x = eye_color\n",
    "    )\n",
    "  ) "
   ]
  },
  {
   "cell_type": "markdown",
   "id": "8c188c8a",
   "metadata": {},
   "source": [
    "## `geom_bar()` ... the bar-chart \n",
    "This results in a gray canvas with the eye colors on the x-axis but nothing else has been drawn since we have not specified the `geometry` ... do you want a bar-chart? histogram? dot-plot? line-chart? This is a categorical variable and hence a bar-chart would be appropriate. We call for a bar-chart with the `geom_bar()` command. "
   ]
  },
  {
   "cell_type": "code",
   "execution_count": null,
   "id": "f25b76db",
   "metadata": {
    "name": "gg002a"
   },
   "outputs": [],
   "source": [
    "ggplot(\n",
    "  data = starwars,\n",
    "  mapping = aes(\n",
    "    x = eye_color\n",
    "    )\n",
    "  ) +\n",
    "  geom_bar()"
   ]
  },
  {
   "cell_type": "markdown",
   "id": "b3bd94ae",
   "metadata": {},
   "source": [
    "## `color` versus `fill` \n",
    "The `aes()` refers to the **aesthetics** of the chart, and many other `aesthetics` can be added, such as `group`, `color`, `fill`, `size`, `alpha`, etc. We will see some of these in due course but for now I want to focus on two of these, both involving coloring of the `geom_`. Specifically, there are two commands for adding colors -- (1) `color` or `colour`, and (2) `fill` -- to a chart. "
   ]
  },
  {
   "cell_type": "code",
   "execution_count": null,
   "id": "76458fb6",
   "metadata": {
    "name": "col1a"
   },
   "outputs": [],
   "source": [
    "ggplot(\n",
    "  data = starwars,\n",
    "  mapping = aes(\n",
    "    x = eye_color,\n",
    "    color = eye_color\n",
    "    )\n",
    "  ) +\n",
    "  geom_bar()"
   ]
  },
  {
   "cell_type": "markdown",
   "id": "91a9c993",
   "metadata": {},
   "source": [
    "Note what the `color = eye_color` command did ... it drew a colored border for the bars, and an accompanying legend. What if we had used `fill = eye_color` instead?  "
   ]
  },
  {
   "cell_type": "code",
   "execution_count": null,
   "id": "e9b4acea",
   "metadata": {
    "name": "col1b"
   },
   "outputs": [],
   "source": [
    "ggplot(\n",
    "  data = starwars,\n",
    "  mapping = aes(\n",
    "    x = eye_color,\n",
    "    fill = eye_color\n",
    "    )\n",
    "  ) +\n",
    "  geom_bar()"
   ]
  },
  {
   "cell_type": "markdown",
   "id": "9dec6767",
   "metadata": {},
   "source": [
    "Aha! Now the bars are filled with colors and an accompanying legend is drawn as well. So `fill =` and `color =` behave very differently, bear this in mind. \n",
    "\n",
    "## Adding labels with `labs` \n",
    "One of the nice things about this software environment is that there are plenty of coloring schemes available to us and we will play with some of these shortly, but before we do that, let us look at one more improvement -- adding titles, subtitles, captions, and axis labels to our chart. This is done with the `labs = ()` command."
   ]
  },
  {
   "cell_type": "code",
   "execution_count": null,
   "id": "b58629b9",
   "metadata": {
    "name": "col1b2"
   },
   "outputs": [],
   "source": [
    "ggplot(\n",
    "  data = starwars,\n",
    "  mapping = aes(\n",
    "    x = eye_color,\n",
    "    fill = eye_color\n",
    "    )\n",
    "  ) +\n",
    "  geom_bar() +\n",
    "  labs(\n",
    "    x = \"Eye Color\",\n",
    "    y = \"Frequency (n)\",\n",
    "    title = \"Bar-chart of Eye Colors\",\n",
    "    subtitle = \"(of Star Wars characters)\",\n",
    "    caption = \"My little work of art!!\"\n",
    "    )"
   ]
  },
  {
   "cell_type": "markdown",
   "id": "b0a7544b",
   "metadata": {},
   "source": [
    "Notice the text that now appears as a result of what has been specified in the `labs()` command. \n",
    "\n",
    "## Controlling the chart legend with `theme()`\n",
    "In this bar-chart, do we really need the legend? No, because the colors and color names show up in the chart itself. How can we hide the legend? Turns out there is a neat command that will allow you to move the legend around and even to hide it. "
   ]
  },
  {
   "cell_type": "code",
   "execution_count": null,
   "id": "4232ad01",
   "metadata": {
    "name": "col1c"
   },
   "outputs": [],
   "source": [
    "ggplot(\n",
    "  data = starwars,\n",
    "  mapping = aes(\n",
    "    x = eye_color,\n",
    "    fill = eye_color\n",
    "    )\n",
    "  ) +\n",
    "  geom_bar() +\n",
    "  labs(\n",
    "    x = \"Eye Color\",\n",
    "    y = \"Frequency (n)\",\n",
    "    title = \"Bar-chart of Eye Colors\",\n",
    "    subtitle = \"(of Star Wars characters)\",\n",
    "    caption = \"My little work of art!!\"\n",
    "    ) +\n",
    "  theme(legend.position = \"none\")"
   ]
  },
  {
   "cell_type": "markdown",
   "id": "5059af40",
   "metadata": {},
   "source": [
    "Voila! The legend is gone. Instead of \"none\" you could have specified \"bottom\", \"left\", \"top\", \"right\" to place the legend in a particular direction.\n",
    "\n",
    "## Customizing colors \n",
    "Of course, it would be good to have the colors match the eye-color so let us do that next. The way we can do this is by calling specific colors by name. I have tried to order the lineup of the colors to match, as closely as I can, the eye colors. "
   ]
  },
  {
   "cell_type": "code",
   "execution_count": null,
   "id": "9ec904c0",
   "metadata": {
    "name": "col3"
   },
   "outputs": [],
   "source": [
    "c(\n",
    "  \"black\", \"blue\", \"slategray\", \"brown\", \"gray34\", \"gold\",\n",
    "  \"greenyellow\", \"navajowhite1\", \"orange\", \"pink\", \"red\",\n",
    "  \"magenta\", \"thistle3\", \"white\", \"yellow\"\n",
    "  ) -> mycolors\n",
    "\n",
    "ggplot(\n",
    "  data = starwars,\n",
    "  mapping = aes(\n",
    "    x = eye_color\n",
    "    )\n",
    "  ) + \n",
    "  geom_bar(\n",
    "    fill = mycolors\n",
    "    ) + \n",
    "  labs(\n",
    "    x = \"Eye Color\",\n",
    "    y = \"Frequency (n)\",\n",
    "    title = \"Bar-chart of Eye Colors\",\n",
    "    subtitle = \"(of Star Wars characters)\",\n",
    "    caption = \"My little work of art!!\"\n",
    "    ) +\n",
    "  theme(legend.position = \"none\")"
   ]
  },
  {
   "cell_type": "markdown",
   "id": "2a6b5445",
   "metadata": {},
   "source": [
    "These colors are from [this source](http://www.stat.columbia.edu/~tzheng/files/Rcolor.pdf) but see also [this source](https://www.nceas.ucsb.edu/~frazier/RSpatialGuides/colorPaletteCheatsheet.pdf). Colors can be customized by generating your own palettes via the [Color Brewer here](http://colorbrewer2.org/#type=sequential&scheme=YlGnBu&n=3). But don't get carried away: Remember to read the materials on choosing colors wisely, particularly the point about qualitative palettes, divergent palettes, and then palettes that work well even with colorblind audiences.\n",
    "\n",
    "## Selected color palettes\n",
    "I had mentioned the existence of a number of color palettes so let us look at a few, but we will do this with a different variable. First up, the `Pastel1` palette. "
   ]
  },
  {
   "cell_type": "code",
   "execution_count": null,
   "id": "33ad25e8",
   "metadata": {
    "name": "colfillb1"
   },
   "outputs": [],
   "source": [
    "ggplot(\n",
    "  data = starwars,\n",
    "  mapping = aes(\n",
    "    x = gender\n",
    "    )\n",
    "  ) + \n",
    "  geom_bar(\n",
    "    aes(fill = gender)\n",
    "    ) + \n",
    "  labs(\n",
    "    x = \"Gender\",\n",
    "    y = \"Frequency\",\n",
    "    title = \"Bar-chart of Gender\",\n",
    "    subttitle = \"(of Star Wars characters)\",\n",
    "    caption = \"(Source: The dplyr package)\") +\n",
    "  scale_fill_brewer(\n",
    "    palette = \"Pastel1\"\n",
    "    )"
   ]
  },
  {
   "cell_type": "markdown",
   "id": "b5164038",
   "metadata": {},
   "source": [
    "Not bad but doesn't work too well here. How about trying another palette, `Set`?"
   ]
  },
  {
   "cell_type": "code",
   "execution_count": null,
   "id": "f64a2a50",
   "metadata": {
    "name": "colfillb2"
   },
   "outputs": [],
   "source": [
    "ggplot(\n",
    "  data = starwars,\n",
    "  mapping = aes(\n",
    "    x = gender\n",
    "    )\n",
    "  ) + \n",
    "  geom_bar(\n",
    "    aes(fill = gender)\n",
    "    ) + \n",
    "  labs(\n",
    "    x = \"Gender\",\n",
    "    y = \"Frequency\",\n",
    "    title = \"Bar-chart of Gender\",\n",
    "    subttitle = \"(of Star Wars characters)\",\n",
    "    caption = \"(Source: The dplyr package)\") +\n",
    "  scale_fill_brewer(\n",
    "    palette = \"Set1\"\n",
    "    )"
   ]
  },
  {
   "cell_type": "markdown",
   "id": "5cf49694",
   "metadata": {},
   "source": [
    "Nice! But what is also noticeable here is that there are some characters in the data-set whose gender data is missing. These are the `NA` values. By default, you will see `NA` values showing up in some types of charts and so it is always good to exclude them from the chart. Here is one way of doing that. "
   ]
  },
  {
   "cell_type": "code",
   "execution_count": null,
   "id": "03ebb403",
   "metadata": {
    "name": "colfillb3"
   },
   "outputs": [],
   "source": [
    "ggplot(\n",
    "  data = subset(starwars, !is.na(gender)),\n",
    "  mapping = aes(\n",
    "    x = gender\n",
    "    )\n",
    "  ) + \n",
    "  geom_bar(\n",
    "    aes(fill = gender)\n",
    "    ) + \n",
    "  labs(\n",
    "    x = \"Gender\",\n",
    "    y = \"Frequency\",\n",
    "    title = \"Bar-chart of Gender\",\n",
    "    subttitle = \"(of Star Wars characters)\",\n",
    "    caption = \"(Source: The dplyr package)\") +\n",
    "  scale_fill_brewer(\n",
    "    palette = \"Set1\"\n",
    "    )"
   ]
  },
  {
   "cell_type": "markdown",
   "id": "0a0db061",
   "metadata": {},
   "source": [
    "Notice what is different here: `data = subset(starwars, !is.na(gender))` and that this command is effectively saying subset the starwars data to only include those cases where gender is not missing (this is the `!is.na()` portion of the command). \n",
    "\n",
    "Another way to do the same thing would have been to use `filter()` and create a cleaned up copy of the data. If you take this route, be careful not to overwrite the original data-set; note how I am giving a new name `(my.data)` after `filter()` to save the results in. Then we lean on this data-set via `data = my.data`."
   ]
  },
  {
   "cell_type": "code",
   "execution_count": null,
   "id": "b1c1c82f",
   "metadata": {
    "name": "colfillb4"
   },
   "outputs": [],
   "source": [
    "starwars %>%\n",
    "  filter(!is.na(gender)) -> my.data\n",
    "\n",
    "ggplot(\n",
    "  data = my.data,\n",
    "  mapping = aes(\n",
    "    x = gender\n",
    "    )\n",
    "  ) + \n",
    "  geom_bar(\n",
    "    aes(fill = gender)\n",
    "    ) + \n",
    "  labs(\n",
    "    x = \"Gender\",\n",
    "    y = \"Frequency\",\n",
    "    title = \"Bar-chart of Gender\",\n",
    "    subttitle = \"(of Star Wars characters)\",\n",
    "    caption = \"(Source: The dplyr package)\") +\n",
    "  scale_fill_brewer(\n",
    "    palette = \"Set1\"\n",
    "    )"
   ]
  },
  {
   "cell_type": "markdown",
   "id": "e132da7c",
   "metadata": {},
   "source": [
    "There is one color palette you should remember, and this is the `{viridis}` color scheme that works around varying types of color blindness in the population. Here come the palettes:"
   ]
  },
  {
   "cell_type": "code",
   "execution_count": null,
   "id": "00bc7a08",
   "metadata": {
    "name": "colfillv1"
   },
   "outputs": [],
   "source": [
    "ggplot(\n",
    "  data = my.data,\n",
    "  mapping = aes(\n",
    "    x = gender\n",
    "    )\n",
    "  ) + \n",
    "  geom_bar(\n",
    "    aes(fill = gender)\n",
    "    ) + \n",
    "  labs(\n",
    "    x = \"Gender\",\n",
    "    y = \"Frequency\",\n",
    "    title = \"Bar-chart of Gender\",\n",
    "    subttitle = \"(of Star Wars characters)\",\n",
    "    caption = \"(Source: The dplyr package)\") +\n",
    "  scale_fill_viridis_d(\n",
    "    option = \"viridis\"\n",
    "    )"
   ]
  },
  {
   "cell_type": "code",
   "execution_count": null,
   "id": "bdab152a",
   "metadata": {
    "name": "colfillv2"
   },
   "outputs": [],
   "source": [
    "ggplot(\n",
    "  data = my.data,\n",
    "  mapping = aes(\n",
    "    x = gender\n",
    "    )\n",
    "  ) + \n",
    "  geom_bar(\n",
    "    aes(fill = gender)\n",
    "    ) + \n",
    "  labs(\n",
    "    x = \"Gender\",\n",
    "    y = \"Frequency\",\n",
    "    title = \"Bar-chart of Gender\",\n",
    "    subttitle = \"(of Star Wars characters)\",\n",
    "    caption = \"(Source: The dplyr package)\") +\n",
    "  scale_fill_viridis_d(\n",
    "    option = \"magma\"\n",
    "    )"
   ]
  },
  {
   "cell_type": "code",
   "execution_count": null,
   "id": "0be9e4f0",
   "metadata": {
    "name": "colfillv3"
   },
   "outputs": [],
   "source": [
    "ggplot(\n",
    "  data = my.data,\n",
    "  mapping = aes(\n",
    "    x = gender\n",
    "    )\n",
    "  ) + \n",
    "  geom_bar(\n",
    "    aes(fill = gender)\n",
    "    ) + \n",
    "  labs(\n",
    "    x = \"Gender\",\n",
    "    y = \"Frequency\",\n",
    "    title = \"Bar-chart of Gender\",\n",
    "    subttitle = \"(of Star Wars characters)\",\n",
    "    caption = \"(Source: The dplyr package)\") +\n",
    "  scale_fill_viridis_d(\n",
    "    option = \"plasma\"\n",
    "    )"
   ]
  },
  {
   "cell_type": "code",
   "execution_count": null,
   "id": "400e5a57",
   "metadata": {
    "name": "colfillv4"
   },
   "outputs": [],
   "source": [
    "ggplot(\n",
    "  data = my.data,\n",
    "  mapping = aes(\n",
    "    x = gender\n",
    "    )\n",
    "  ) + \n",
    "  geom_bar(\n",
    "    aes(fill = gender)\n",
    "    ) + \n",
    "  labs(\n",
    "    x = \"Gender\",\n",
    "    y = \"Frequency\",\n",
    "    title = \"Bar-chart of Gender\",\n",
    "    subttitle = \"(of Star Wars characters)\",\n",
    "    caption = \"(Source: The dplyr package)\") +\n",
    "  scale_fill_viridis_d(\n",
    "    option = \"cividis\"\n",
    "    )"
   ]
  },
  {
   "cell_type": "markdown",
   "id": "9d6398e6",
   "metadata": {},
   "source": [
    "## Themes with `{ggthemes}`\n",
    "One can also lean on various plotting themes as shown below. These themes mimic the style of graphics popularized by some data visualization experts (for e.g., Stephen Few, Edward Tufte), news-media houses (Fivethirtyeight, The Economist, The Wall Street Journal), some software packages (Excel, Stata, Google docs), and a few others. Below I show you just a handful.  "
   ]
  },
  {
   "cell_type": "code",
   "execution_count": null,
   "id": "c7fcd402",
   "metadata": {
    "name": "ggt1"
   },
   "outputs": [],
   "source": [
    "library(ggthemes)\n",
    "\n",
    "ggplot(\n",
    "  data = starwars,\n",
    "  mapping = aes(\n",
    "    x = eye_color\n",
    "    )\n",
    "  ) +\n",
    "  geom_bar() +\n",
    "  theme_tufte() "
   ]
  },
  {
   "cell_type": "code",
   "execution_count": null,
   "id": "84051411",
   "metadata": {
    "name": "ggt2"
   },
   "outputs": [],
   "source": [
    "ggplot(\n",
    "  data = starwars,\n",
    "  mapping = aes(\n",
    "    x = eye_color\n",
    "    )\n",
    "  ) +\n",
    "  geom_bar() +\n",
    "  theme_economist() "
   ]
  },
  {
   "cell_type": "code",
   "execution_count": null,
   "id": "6d3a0f12",
   "metadata": {
    "name": "ggt3"
   },
   "outputs": [],
   "source": [
    "ggplot(\n",
    "  data = starwars,\n",
    "  mapping = aes(\n",
    "    x = eye_color\n",
    "    )\n",
    "  ) +\n",
    "  geom_bar() +\n",
    "  theme_fivethirtyeight() "
   ]
  },
  {
   "cell_type": "markdown",
   "id": "98bb51fc",
   "metadata": {},
   "source": [
    "Later on you will learn these & other ways to build advanced visualizations. For now we get to work more with `ggplot2`. \n",
    "\n",
    "## More with bar-charts\n",
    "\n",
    "I want to show a few things with bar-charts now. First, we can specify things a bit differently without altering the result. For example, compare the following two pieces of code. "
   ]
  },
  {
   "cell_type": "code",
   "execution_count": null,
   "id": "450174da",
   "metadata": {
    "name": "bar01"
   },
   "outputs": [],
   "source": [
    "ggplot(\n",
    "  data = movies,\n",
    "  mapping = aes(\n",
    "    x = mpaa\n",
    "    )\n",
    "  ) + \n",
    "  geom_bar()"
   ]
  },
  {
   "cell_type": "code",
   "execution_count": null,
   "id": "9e59dd82",
   "metadata": {
    "name": "bar02"
   },
   "outputs": [],
   "source": [
    "ggplot() + \n",
    "  geom_bar(\n",
    "    data = movies,\n",
    "    mapping = aes(x = mpaa)\n",
    "    )"
   ]
  },
  {
   "cell_type": "markdown",
   "id": "0d2e17d5",
   "metadata": {},
   "source": [
    "Notice that we switched the `data =` and the `aes()` pieces of the code but that made no difference; this is important to bear in mind because it will come in handy down the road when we need to build some advanced visualizations. \n",
    "\n",
    "The plot is sub-optimal since MPAA ratings are missing for a lot of movies and should be  eliminated from the plot via `subset(mpa != \"\")`  or by running dplyr's `filter()`  to create another data-set. I will lean on `filter()`. "
   ]
  },
  {
   "cell_type": "code",
   "execution_count": null,
   "id": "533c426d",
   "metadata": {
    "name": "bar2"
   },
   "outputs": [],
   "source": [
    "movies %>% \n",
    "  filter(mpaa != \"\") -> movies2 \n",
    "\n",
    "ggplot() + \n",
    "  geom_bar(\n",
    "    data = movies2,\n",
    "    mapping = aes(x = mpaa)\n",
    "    )"
   ]
  },
  {
   "cell_type": "markdown",
   "id": "916a29f5",
   "metadata": {},
   "source": [
    "The order of the bars here is fortuitous in that it goes from the smallest frequency to the highest frequency, drawing the reader's eye. I said fortuitous because `{ggplot2}` defaults to drawing the bars in an ascending alphabetic/alphanumeric order if the variable is a **character**. See below for an example. "
   ]
  },
  {
   "cell_type": "code",
   "execution_count": null,
   "id": "1ed437a4",
   "metadata": {
    "name": "bar3"
   },
   "outputs": [],
   "source": [
    "df = tibble(x = c(rep(\"A\", 2), rep(\"B\", 4), rep(\"C\", 1)))\n",
    "\n",
    "ggplot() + \n",
    "  geom_bar(\n",
    "    data = df, \n",
    "    mapping = aes(x = x)\n",
    "  )"
   ]
  },
  {
   "cell_type": "markdown",
   "id": "a8b5e19d",
   "metadata": {},
   "source": [
    "Notice the bars here do not follow in ascending/descending order of frequencies. Later on we'll learn how to order the bars with ascending/descending frequencies or by some other logic. \n",
    "\n",
    "What about plotting `relative frequencies` on the y-axis rather than the frequencies? "
   ]
  },
  {
   "cell_type": "code",
   "execution_count": null,
   "id": "fd384ff0",
   "metadata": {
    "name": "bar4"
   },
   "outputs": [],
   "source": [
    "library(scales)\n",
    "\n",
    "ggplot() + \n",
    "  geom_bar(\n",
    "    data = movies2,\n",
    "    mapping = aes(\n",
    "      x = mpaa,\n",
    "      y = (..count..)/sum(..count..)\n",
    "      )\n",
    "    ) + \n",
    "  scale_y_continuous(labels = percent) + \n",
    "  labs(\n",
    "    x = \"MPAA Rating\",\n",
    "    y  = \"Relative Frequency (%)\"\n",
    "    ) "
   ]
  },
  {
   "cell_type": "markdown",
   "id": "5ef2aa12",
   "metadata": {},
   "source": [
    "Note the addition of \n",
    "\n",
    "+ `y = (..count..)/sum(..count..)` to change the y-axis to reflect the relative frequency as a proportion, and  \n",
    "+ `scale_y_continuous(labels = percent)` to then multiply these proportions by 100 to get percentages as the labels rather than 0.2, 0.4, 0.6, etc. \n",
    "\n",
    "## Disaggregating bar-charts for groups \n",
    "Let us build a simple bar-chart with the `hsb2` data we saw in Module 01. Here we first download it, label the values, save it, and then start charting it.  "
   ]
  },
  {
   "cell_type": "code",
   "execution_count": null,
   "id": "9a233f90",
   "metadata": {
    "name": "hsb2-datain"
   },
   "outputs": [],
   "source": [
    "read.table(\n",
    "  'https://stats.idre.ucla.edu/stat/data/hsb2.csv',\n",
    "  header = TRUE,\n",
    "  sep = \",\"\n",
    "  ) -> hsb2\n",
    "\n",
    "factor(hsb2$female,\n",
    "       levels = c(0, 1),\n",
    "       labels = c(\"Male\", \"Female\")\n",
    "       ) -> hsb2$female \n",
    "\n",
    "factor(hsb2$race,\n",
    "       levels = c(1:4),\n",
    "       labels = c(\"Hispanic\", \"Asian\", \"African American\", \"White\")\n",
    "       ) -> hsb2$race\n",
    "\n",
    "factor(hsb2$ses,\n",
    "       levels = c(1:3),\n",
    "       labels = c(\"Low\", \"Middle\", \"High\")\n",
    "       ) -> hsb2$ses\n",
    "\n",
    "factor(hsb2$schtyp,\n",
    "       levels = c(1:2),\n",
    "       labels = c(\"Public\", \"Private\")\n",
    "       ) -> hsb2$schtyp\n",
    "\n",
    "factor(hsb2$prog,\n",
    "       levels = c(1:3),\n",
    "       labels = c(\"General\", \"Academic\", \"Vocational\")\n",
    "       ) -> hsb2$prog\n",
    "\n",
    "save(\n",
    "  hsb2, file = here::here(\"data\", \"hsb2.RData\")\n",
    "  )"
   ]
  },
  {
   "cell_type": "code",
   "execution_count": null,
   "id": "33889897",
   "metadata": {
    "name": "bar5-base"
   },
   "outputs": [],
   "source": [
    "ggplot() + \n",
    "  geom_bar(\n",
    "    data = hsb2,\n",
    "    mapping = aes(x = ses)) +\n",
    "  labs(x = \"Socioeconomic Status\")"
   ]
  },
  {
   "cell_type": "markdown",
   "id": "7d1b6b64",
   "metadata": {},
   "source": [
    "Okay, fair enough. But what if I wanted to see how socioeconomic status varies across male and female students?  "
   ]
  },
  {
   "cell_type": "code",
   "execution_count": null,
   "id": "b704601e",
   "metadata": {
    "name": "bar5"
   },
   "outputs": [],
   "source": [
    "ggplot() + \n",
    "  geom_bar(\n",
    "    data = hsb2,\n",
    "    mapping = aes(\n",
    "      x = ses,\n",
    "      group = female, \n",
    "      fill = female\n",
    "      )\n",
    "    ) +\n",
    "  labs(\n",
    "    x = \"Socioeconomic Status\",\n",
    "    y = \"Frequency\"\n",
    "  )"
   ]
  },
  {
   "cell_type": "markdown",
   "id": "35bebbed",
   "metadata": {},
   "source": [
    "This is not very useful since the viewer has to estimate the relative sizes of the two colors within any given bar. That can be fixed with `position = \"dodge\"`, juxtaposing the bars for the groups as a result, and the end product is much better. But note: `position = \"dodge\"` has to be put outside the `aes()` but still inside `geom_bar()` so be careful. "
   ]
  },
  {
   "cell_type": "code",
   "execution_count": null,
   "id": "97480652",
   "metadata": {
    "name": "bar6"
   },
   "outputs": [],
   "source": [
    "ggplot() + \n",
    "  geom_bar(\n",
    "    data = hsb2,\n",
    "    mapping = aes(\n",
    "      x = ses,\n",
    "      group = female, \n",
    "      fill = female\n",
    "      ),\n",
    "    position = \"dodge\"\n",
    "    ) +\n",
    "  labs(\n",
    "    x = \"Socioeconomic Status\",\n",
    "    y = \"Frequency\"\n",
    "  )"
   ]
  },
  {
   "cell_type": "markdown",
   "id": "73996a35",
   "metadata": {},
   "source": [
    "What if you wanted to calculate percentages within each sex? That is, what percent of male students fall within a particular ses category, and the same thing for female students? "
   ]
  },
  {
   "cell_type": "code",
   "execution_count": null,
   "id": "8b449087",
   "metadata": {
    "name": "bar7"
   },
   "outputs": [],
   "source": [
    "ggplot() + \n",
    "  geom_bar(\n",
    "    data = hsb2, \n",
    "    aes(\n",
    "      x = ses, \n",
    "      group = female,\n",
    "      fill = female, \n",
    "      y = ..prop..\n",
    "      ),\n",
    "    position = \"dodge\") +\n",
    "  scale_y_continuous(labels = scales::percent) + \n",
    "  labs(\n",
    "    x = \"Socioeconomic Status\",\n",
    "    y = \"Relative Frequency (%)\"\n",
    "    )"
   ]
  },
  {
   "cell_type": "markdown",
   "id": "f2c26fb3",
   "metadata": {},
   "source": [
    "What about within each ses instead of within gender? That is, what if we wanted percent of Low ses that is Male versus Female, and so on?"
   ]
  },
  {
   "cell_type": "code",
   "execution_count": null,
   "id": "7b893e4e",
   "metadata": {
    "name": "bar8"
   },
   "outputs": [],
   "source": [
    "ggplot() + \n",
    "  geom_bar(\n",
    "    data = hsb2, \n",
    "    aes(\n",
    "      x = female, \n",
    "      group = ses,\n",
    "      fill = ses, \n",
    "      y = ..prop..\n",
    "      ),\n",
    "    position = \"dodge\") +\n",
    "  scale_y_continuous(labels = scales::percent) + \n",
    "  labs(\n",
    "    x = \"Socioeconomic Status\",\n",
    "    y = \"Relative Frequency (%)\"\n",
    "    )"
   ]
  },
  {
   "cell_type": "code",
   "execution_count": null,
   "id": "867edd53",
   "metadata": {
    "name": "bar9"
   },
   "outputs": [],
   "source": [
    "ggplot() + \n",
    "  geom_bar(\n",
    "    data = hsb2, \n",
    "    aes(\n",
    "      x = female, \n",
    "      group = ses,\n",
    "      fill = ses, \n",
    "      y = ..prop..\n",
    "      ),\n",
    "    position = \"dodge\") +\n",
    "  scale_y_continuous(labels = scales::percent) + \n",
    "  labs(\n",
    "    x = \"Socioeconomic Status\",\n",
    "    y = \"Relative Frequency (%)\"\n",
    "    ) "
   ]
  },
  {
   "cell_type": "markdown",
   "id": "de21f517",
   "metadata": {},
   "source": [
    "There is some more we will do with bar-charts but for now let us set them aside and instead look at a few other charts -- histograms, box-plots, and line-charts. \n",
    "\n",
    "## Histograms \n",
    "If you've forgotten what these are, see [histogram](http://tinlizzie.org/histograms/), or then [Yau's piece here](https://flowingdata.com/2014/02/27/how-to-read-histograms-and-use-them-in-r/) and [here](https://flowingdata.com/2017/06/07/how-histograms-work/). [There is a short video available as well](https://vimeo.com/221607341). \n",
    "\n",
    "For histograms in ggplot2, `geom_histogram()` is the geometry needed but note that the default number of bins is not very useful and can be tweaked, along with other embellishments that are possible as well. "
   ]
  },
  {
   "cell_type": "code",
   "execution_count": null,
   "id": "5ddaf158",
   "metadata": {
    "name": "gg2a"
   },
   "outputs": [],
   "source": [
    "ggplot() + \n",
    "  geom_histogram(\n",
    "    data = hsb2,\n",
    "    aes(x = read), \n",
    "    fill = \"cornflowerblue\",\n",
    "    color = \"white\"\n",
    "    ) + \n",
    "  labs(\n",
    "    title = \"Histogram of Reading Scores\",\n",
    "    x = \"Reading Score\",\n",
    "    y = \"Frequency\"\n",
    "    )"
   ]
  },
  {
   "cell_type": "markdown",
   "id": "06400c7b",
   "metadata": {},
   "source": [
    "Note the warning `stat_bin()` using `bins = 30`. Pick better value with `binwidth`. This is because numerical variables need to be grouped in order to have meaningful histograms we can make sense of. How do you define the bins (aka the groups)? We could set `bins = 5` and we could also experiment with `binwidth =`. Let us do `bins = 5` which will say give us 5 groups, and go ahead and calculate them yourself. "
   ]
  },
  {
   "cell_type": "code",
   "execution_count": null,
   "id": "4f645d12",
   "metadata": {
    "name": "gg2b"
   },
   "outputs": [],
   "source": [
    "ggplot() + \n",
    "  geom_histogram(\n",
    "    data = hsb2,\n",
    "    aes(x = read), \n",
    "    fill = \"cornflowerblue\",\n",
    "    color = \"white\",\n",
    "    bins = 5\n",
    "    ) + \n",
    "  labs(\n",
    "    title = \"Histogram of Reading Scores\",\n",
    "    subtitle = \"(with bins = )\",\n",
    "    x = \"Reading Score\",\n",
    "    y = \"Frequency\"\n",
    "    )"
   ]
  },
  {
   "cell_type": "markdown",
   "id": "1b03c42b",
   "metadata": {},
   "source": [
    "If we wanted more/fewer bins we could tweak it up or down as needed. \n",
    "What about binwidth? This will specify how wide each group must be. "
   ]
  },
  {
   "cell_type": "code",
   "execution_count": null,
   "id": "ec59b992",
   "metadata": {
    "name": "gg2c"
   },
   "outputs": [],
   "source": [
    "ggplot() + \n",
    "  geom_histogram(\n",
    "    data = hsb2,\n",
    "    aes(x = read), \n",
    "    fill = \"cornflowerblue\",\n",
    "    color = \"white\",\n",
    "    binwidth = 5\n",
    "    ) + \n",
    "  labs(\n",
    "    title = \"Histogram of Reading Scores\",\n",
    "    subtitle = \"(with binwidth = )\",\n",
    "    x = \"Reading Score\",\n",
    "    y = \"Frequency\"\n",
    "    )"
   ]
  },
  {
   "cell_type": "markdown",
   "id": "b99709ba",
   "metadata": {},
   "source": [
    "If we wanted to disaggregate the histogram by one or more categorical variables, we could do so quite easily: "
   ]
  },
  {
   "cell_type": "code",
   "execution_count": null,
   "id": "4ac5ef2e",
   "metadata": {
    "name": "gg3"
   },
   "outputs": [],
   "source": [
    "ggplot() + \n",
    "  geom_histogram(\n",
    "    data = hsb2,\n",
    "    aes(x = read), \n",
    "    fill = \"cornflowerblue\",\n",
    "    color = \"white\",\n",
    "    bins = 5\n",
    "    ) + \n",
    "  labs(\n",
    "    title = \"Histogram of Reading Scores\",\n",
    "    subtitle = \"(broken out for Male vs. Female students)\",\n",
    "    x = \"Reading Score\",\n",
    "    y = \"Frequency\"\n",
    "    ) +\n",
    "  facet_wrap(~ female)"
   ]
  },
  {
   "cell_type": "markdown",
   "id": "ee2d2e59",
   "metadata": {},
   "source": [
    "When we do this, it is often useful to organize them so that only one histogram shows up in a row. This is done with the `ncol = 1` command. "
   ]
  },
  {
   "cell_type": "code",
   "execution_count": null,
   "id": "b5bfb9e1",
   "metadata": {
    "name": "gg4a"
   },
   "outputs": [],
   "source": [
    "ggplot() + \n",
    "  geom_histogram(\n",
    "    data = hsb2,\n",
    "    aes(x = read), \n",
    "    fill = \"cornflowerblue\",\n",
    "    color = \"white\",\n",
    "    bins = 5\n",
    "    ) + \n",
    "  labs(\n",
    "    title = \"Histogram of Reading Scores\",\n",
    "    subtitle = \"(broken out for Male vs. Female students)\",\n",
    "    x = \"Reading Score\",\n",
    "    y = \"Frequency\"\n",
    "    ) +\n",
    "  facet_wrap(~ female, ncol = 1)"
   ]
  },
  {
   "cell_type": "code",
   "execution_count": null,
   "id": "e995777c",
   "metadata": {
    "name": "gg4b"
   },
   "outputs": [],
   "source": [
    "ggplot() + \n",
    "  geom_histogram(\n",
    "    data = hsb2,\n",
    "    aes(x = read), \n",
    "    fill = \"cornflowerblue\",\n",
    "    color = \"white\",\n",
    "    bins = 5\n",
    "    ) + \n",
    "  labs(\n",
    "    title = \"Histogram of Reading Scores\",\n",
    "    subtitle = \"(broken out by Socioeconomic Status)\",\n",
    "    x = \"Reading Score\",\n",
    "    y = \"Frequency\"\n",
    "    ) +\n",
    "  facet_wrap(~ ses, ncol = 1)"
   ]
  },
  {
   "cell_type": "markdown",
   "id": "0538f06e",
   "metadata": {},
   "source": [
    "Now the distributions are stacked above each, easing comparisons; do they have the same average? Do they vary the same? Are they similarly skewed/symmetric?. \n",
    "\n",
    "For breakouts with two categorical variables we could do "
   ]
  },
  {
   "cell_type": "code",
   "execution_count": null,
   "id": "29acaa07",
   "metadata": {
    "name": "gg5a"
   },
   "outputs": [],
   "source": [
    "ggplot() + \n",
    "  geom_histogram(\n",
    "    data = hsb2,\n",
    "    aes(x = read), \n",
    "    fill = \"cornflowerblue\",\n",
    "    color = \"white\",\n",
    "    bins = 5\n",
    "    ) + \n",
    "  labs(\n",
    "    title = \"Histogram of Reading Scores\",\n",
    "    subtitle = \"(broken out by Socioeconomic Status and School Type)\",\n",
    "    x = \"Reading Score\",\n",
    "    y = \"Frequency\"\n",
    "    ) +\n",
    "  facet_wrap(ses ~ schtyp, ncol = 2)"
   ]
  },
  {
   "cell_type": "markdown",
   "id": "6a44d74b",
   "metadata": {},
   "source": [
    "Note that `ses ~ schtyp` renders the panels for the first category of `ses` by all categories of schtyp and then repeats for the other categories in rows 2 and 3. If we did `facet_wrap(schtype ~ ses, ncol = 3)` we would have a different result:"
   ]
  },
  {
   "cell_type": "code",
   "execution_count": null,
   "id": "022bacf9",
   "metadata": {
    "name": "gg5b"
   },
   "outputs": [],
   "source": [
    "ggplot() + \n",
    "  geom_histogram(\n",
    "    data = hsb2,\n",
    "    aes(x = read), \n",
    "    fill = \"cornflowerblue\",\n",
    "    color = \"white\",\n",
    "    bins = 5\n",
    "    ) + \n",
    "  labs(\n",
    "    title = \"Histogram of Reading Scores\",\n",
    "    subtitle = \"(broken out by Socioeconomic Status and School Type)\",\n",
    "    x = \"Reading Score\",\n",
    "    y = \"Frequency\"\n",
    "    ) +\n",
    "  facet_wrap(schtyp ~ ses, ncol = 3) +\n",
    "  ylim(c(0, 23))"
   ]
  },
  {
   "cell_type": "markdown",
   "id": "cf635850",
   "metadata": {},
   "source": [
    "Notice that here I also add a `ylim(c(...))` command to set the minimum and maximum values of the y-axis. This is useful, and I suggest you do not forget to set the y limit to start at 0 or then make a note in the plot for readers so they don't assume it is at 0 when in fact it has been truncated for ease of data presentation. This misstates the pattern in the data, do not do it or then, again, annotate the plot to that effect so nobody is misled. Bar-charts and histograms will have 0 as the minimum y-limit but this is not true for some other plots. "
   ]
  },
  {
   "cell_type": "markdown",
   "id": "8e94015c",
   "metadata": {},
   "source": [
    "## Box-plots \n",
    "Remember these, our friends from MPA 6010? These can be useful for studying the distribution of a continuous variable. [See this video](https://vimeo.com/222358034). Let us see these in action with the `cmhflights` data. "
   ]
  },
  {
   "cell_type": "code",
   "execution_count": null,
   "id": "d4b28845",
   "metadata": {
    "name": "box1a"
   },
   "outputs": [],
   "source": [
    "load(\n",
    "  here::here(\"data\", \"cmhflights_01092017.RData\")\n",
    "  )\n",
    "\n",
    "ggplot() + \n",
    "  geom_boxplot(\n",
    "    data = cmhflights,\n",
    "    mapping = aes(\n",
    "      y = ArrDelay,\n",
    "      x = \"\"\n",
    "      ),\n",
    "    fill = \"cornflowerblue\"\n",
    "    ) "
   ]
  },
  {
   "cell_type": "markdown",
   "id": "deb0aa42",
   "metadata": {},
   "source": [
    "Note: \n",
    "\n",
    "+ the `x = \"\"` is in `aes()` because otherwise with a single group the box-plot will not build up nicely\n",
    "\n",
    "But, I prefer to see them running horizontally, so how can I do that? With `coord_flip()` since this just flips the columns. "
   ]
  },
  {
   "cell_type": "code",
   "execution_count": null,
   "id": "af39c8f8",
   "metadata": {
    "name": "box1b"
   },
   "outputs": [],
   "source": [
    "ggplot() + \n",
    "  geom_boxplot(\n",
    "    data = cmhflights,\n",
    "    mapping = aes(\n",
    "      y = ArrDelay,\n",
    "      x = \"\"\n",
    "      ),\n",
    "    fill = \"cornflowerblue\"\n",
    "    ) +\n",
    "  coord_flip()"
   ]
  },
  {
   "cell_type": "markdown",
   "id": "aa0dea26",
   "metadata": {},
   "source": [
    "And now for a slightly different data-set, one that measures male adults' hemoglobin concentration for a few populations. "
   ]
  },
  {
   "cell_type": "code",
   "execution_count": null,
   "id": "87cdf9d1",
   "metadata": {
    "name": "box2"
   },
   "outputs": [],
   "source": [
    "read_csv(\n",
    "  \"http://whitlockschluter.zoology.ubc.ca/wp-content/data/chapter02/chap02e3cHumanHemoglobinElevation.csv\"\n",
    "  ) -> hemoglobin\n",
    "\n",
    "ggplot() +\n",
    "  geom_boxplot(\n",
    "    data = hemoglobin,\n",
    "    mapping = aes(\n",
    "      x = population,\n",
    "      y = hemoglobin,\n",
    "      fill = population\n",
    "      )\n",
    "    ) +\n",
    "  coord_flip() +\n",
    "  labs(\n",
    "    x = \"Population\",\n",
    "    y = \"Hemoglobin Concentration\",\n",
    "    title = \"Hemoglobin Concentration in Adult Males\",\n",
    "    subtitle = \"(Andes, Ethiopia, Tibet, USA)\"\n",
    "    ) +\n",
    "  theme(legend.position = \"none\")"
   ]
  },
  {
   "cell_type": "markdown",
   "id": "6598ca11",
   "metadata": {},
   "source": [
    "Notice the need for no legend with `fill = population` Notice also how `fill = ` is inside `aes(...)` here because we are asking that each unique value seen in a variable called `population` be mapped to a unique color. \n",
    "\n",
    "Could we use our `facet_wrap(...)` here too? Of course. "
   ]
  },
  {
   "cell_type": "code",
   "execution_count": null,
   "id": "ad7dc472",
   "metadata": {
    "lines_to_next_cell": 2,
    "name": "box1c"
   },
   "outputs": [],
   "source": [
    "ggplot() + \n",
    "  geom_boxplot(\n",
    "    data = cmhflights,\n",
    "    mapping = aes(\n",
    "      y = ArrDelay,\n",
    "      x = Carrier\n",
    "      ),\n",
    "    fill = \"cornflowerblue\"\n",
    "    ) +\n",
    "  coord_flip() +\n",
    "  facet_wrap(~ Month)"
   ]
  },
  {
   "cell_type": "markdown",
   "id": "b3c0f6b9",
   "metadata": {},
   "source": [
    "## Line-charts \n",
    "If we have data over time for one or more units, then line-charts work really well to exhibit trends. A classic, current example would be the number of confirmed COVID-19 cases per country per date. For example, say we have data on the unemployment rate for the country. These data are coming from the `{plotly}` library so we have to make sure it is installed and load it."
   ]
  },
  {
   "cell_type": "code",
   "execution_count": null,
   "id": "96ab44b5",
   "metadata": {
    "name": "line1"
   },
   "outputs": [],
   "source": [
    "library(plotly)\n",
    "data(economics)\n",
    "names(economics)\n",
    "ggplot() +\n",
    "  geom_line(\n",
    "    data = economics, \n",
    "    mapping = aes(\n",
    "      x = date,\n",
    "      y = uempmed\n",
    "      )\n",
    "    ) + \n",
    "  labs(\n",
    "    x = \"Date\",\n",
    "    y = \"Unemployment Rate\"\n",
    "  )"
   ]
  },
  {
   "cell_type": "markdown",
   "id": "65f499fd",
   "metadata": {},
   "source": [
    "They can look very plain and aesthetically unappealing unless you dress them up. See the one below and then the one that follows. "
   ]
  },
  {
   "cell_type": "code",
   "execution_count": null,
   "id": "7b7e88b6",
   "metadata": {
    "name": "line2"
   },
   "outputs": [],
   "source": [
    "load(\n",
    "  here::here(\"data\", \"gap.df.RData\")\n",
    "  )\n",
    "\n",
    "gap.df %>%\n",
    "    ungroup() %>%\n",
    "    ggplot() +\n",
    "    geom_line(\n",
    "    mapping = aes(\n",
    "      x = year,\n",
    "      y = LifeExp,\n",
    "      group = continent,\n",
    "      color = continent\n",
    "      )\n",
    "    ) + \n",
    "  geom_point(\n",
    "    mapping = aes(\n",
    "      x = year,\n",
    "      y = LifeExp,\n",
    "      group = continent,\n",
    "      color = continent\n",
    "      )\n",
    "    ) + \n",
    "  labs(\n",
    "    x = \"Year\",\n",
    "    y = \"Median Life Expectancy (in years)\",\n",
    "    color = \"\"\n",
    "  ) + \n",
    "  theme(legend.position = \"bottom\") "
   ]
  },
  {
   "cell_type": "markdown",
   "id": "20275ee7",
   "metadata": {},
   "source": [
    "## Scatter-plots \n",
    "These work well if we have two or more continuous variables, and work well to highlight the nature and strength of a relationship between the two variables .... what happens to `y` as `x` increases? s"
   ]
  },
  {
   "cell_type": "code",
   "execution_count": null,
   "id": "60a9aafc",
   "metadata": {
    "name": "sc1"
   },
   "outputs": [],
   "source": [
    "ggplot() + \n",
    "  geom_point(\n",
    "    data = hsb2, \n",
    "    mapping = aes(\n",
    "      x = write,\n",
    "      y = science\n",
    "      )\n",
    "    ) +\n",
    "  labs(\n",
    "    x = \"Writing Scores\", \n",
    "    y = \"Science Scores\"\n",
    "    ) "
   ]
  },
  {
   "cell_type": "markdown",
   "id": "a2102135",
   "metadata": {},
   "source": [
    "We could highlight the different `ses` groups, to see if there is any difference in the relationship between writing scores and science scores by the different ses levels. "
   ]
  },
  {
   "cell_type": "code",
   "execution_count": null,
   "id": "db2c908b",
   "metadata": {
    "name": "sc2"
   },
   "outputs": [],
   "source": [
    "ggplot() +\n",
    "  geom_point(\n",
    "    data = hsb2,\n",
    "    mapping = aes(\n",
    "      x = write,\n",
    "      y = science,\n",
    "      color = ses\n",
    "      )\n",
    "    ) + \n",
    "  labs(\n",
    "    x = \"Writing Scores\", \n",
    "    y = \"Science Scores\",\n",
    "    color = \"\"\n",
    "    ) + \n",
    "  theme(legend.position = \"bottom\") "
   ]
  },
  {
   "cell_type": "markdown",
   "id": "142e529f",
   "metadata": {},
   "source": [
    "This is not very helpful so why not breakout ses for ease of interpretation? "
   ]
  },
  {
   "cell_type": "code",
   "execution_count": null,
   "id": "ca6f94ad",
   "metadata": {
    "name": "sc3"
   },
   "outputs": [],
   "source": [
    "ggplot() +\n",
    "  geom_point(\n",
    "    data = hsb2,\n",
    "    mapping = aes(\n",
    "      x = write,\n",
    "      y = science\n",
    "      )\n",
    "    ) + \n",
    "  labs(\n",
    "    x = \"Writing Scores\", \n",
    "    y = \"Science Scores\"\n",
    "    ) + \n",
    "  facet_wrap(~ ses) "
   ]
  },
  {
   "cell_type": "markdown",
   "id": "9229608d",
   "metadata": {},
   "source": [
    "Could we add another layer, perhaps `female`? "
   ]
  },
  {
   "cell_type": "code",
   "execution_count": null,
   "id": "bf68f94b",
   "metadata": {
    "name": "sc4"
   },
   "outputs": [],
   "source": [
    "ggplot() +\n",
    "  geom_point(\n",
    "    data = hsb2,\n",
    "    mapping = aes(\n",
    "      x = write,\n",
    "      y = science\n",
    "      )\n",
    "    ) + \n",
    "  labs(\n",
    "    x = \"Writing Scores\", \n",
    "    y = \"Science Scores\"\n",
    "    ) + \n",
    "  facet_wrap(ses ~ female, ncol = 2) "
   ]
  },
  {
   "cell_type": "markdown",
   "id": "59e36d4d",
   "metadata": {},
   "source": [
    "And finally, a few suggestion about how to build up your visualizations: \n",
    "\n",
    "- start with pencil and paper, sketch prototypes of desired visualization(s)\n",
    "- graphics are relatively easy to generate with base R & with `ggplot2` \n",
    "- common-sense: `number` & `type` of variable(s) guide plotting \n",
    "- stay `color conscious`: sensible colors & sensitive to color blindness\n",
    "- experiment, experiment, experiment until you are happy \n",
    "- learning resources available online \n",
    "- if you learn something new in R, write it down \n",
    "\n",
    "----------\n",
    "\n",
    "# Exercises for Practice\n",
    "\n",
    "## Exercise 01 -- Nobel Prize Winners \n",
    "Georgios Karamanis gathered and shared data on Nobel prize winners over the years, with a fair amount of detail, and used in the `tidytuesday` series a while back. These data are to be used for the questions that follow. "
   ]
  },
  {
   "cell_type": "code",
   "execution_count": null,
   "id": "f86afb90",
   "metadata": {
    "name": "nobel-winners"
   },
   "outputs": [],
   "source": [
    "readr::read_csv(\n",
    "    \"https://raw.githubusercontent.com/rfordatascience/tidytuesday/master/data/2019/2019-05-14/nobel_winners.csv\"\n",
    "    ) -> nobel_winners "
   ]
  },
  {
   "cell_type": "markdown",
   "id": "fbf8634a",
   "metadata": {},
   "source": [
    "|variable             |class     |description |\n",
    "|:---|:---|:-----------|\n",
    "|prize_year           |double    | Year that Nobel Prize was awarded|\n",
    "|category             |character | Field of study/category|\n",
    "|prize                |character | Prize Name |\n",
    "|motivation           |character | Motivation of the award |\n",
    "|prize_share          |character | Share eg 1 of 1, 1 of 2, 1 of 4, etc |\n",
    "|laureate_id          |double    | ID assigned to each winner |\n",
    "|laureate_type        |character | Individual or organization  |\n",
    "|full_name            |character | name of the winner|\n",
    "|birth_date           |double    | birth date of winner |\n",
    "|birth_city           |character | birth city/state of winner |\n",
    "|birth_country        |character | birth country of winner |\n",
    "|gender               |character | binary gender of the winner |\n",
    "|organization_name    |character | organization name |\n",
    "|organization_city    |character | organization city |\n",
    "|organization_country |character | organization country |\n",
    "|death_date           |double    | death date of the winner (if dead) |\n",
    "|death_city           |character | death city (if dead) |\n",
    "|death_country        |character | death country (if dead) |"
   ]
  },
  {
   "cell_type": "markdown",
   "id": "ce1af9da",
   "metadata": {},
   "source": [
    "(a) First create `nobel.df` that keeps only records starting in the year 1960, and only for the \"Physics\" category. Now generate an appropriate chart that shows the distribution of winners by `birth_country` \n",
    "\n",
    "(b) Now break this distribution out by `gender` to see how winners by country differs across gender \n",
    "\n",
    "(c) Now go back to `noble_winners`, the full data-set, and create a simple plot that shows the distribution of prize winners by `death_country`, `gender`, and `category`  "
   ]
  },
  {
   "cell_type": "markdown",
   "id": "c79f5ef8",
   "metadata": {},
   "source": [
    "## Exercise 02 -- Water levels in the Great Lakes\n",
    "\n",
    "Download the monthly Great Lakes water level data-set [SPSS format from here](https://aniruhil.github.io/avsr/teaching/dataviz/greatlakes.sav) and [Excel format from here](https://aniruhil.github.io/avsr/teaching/dataviz/greatlakes.xlsx). *Note that water level is in meters.* \n",
    "\n",
    "You may use the following command to read in the excel file: "
   ]
  },
  {
   "cell_type": "code",
   "execution_count": null,
   "id": "37142d36",
   "metadata": {
    "eval": false
   },
   "outputs": [],
   "source": [
    "library(readxl)\n",
    "url <- \"https://aniruhil.github.io/avsr/teaching/dataviz/greatlakes.xlsx\"\n",
    "destfile <- \"greatlakes.xlsx\"\n",
    "curl::curl_download(url, destfile)\n",
    "read_excel(destfile, col_types = c(\"date\", \n",
    "     \"numeric\", \"numeric\", \"numeric\", \"numeric\", \n",
    "     \"numeric\")) -> greatlakes \n",
    "\n",
    "greatlakes %>%\n",
    "    head()"
   ]
  },
  {
   "cell_type": "markdown",
   "id": "52e55fe1",
   "metadata": {},
   "source": [
    "Now use an appropriate chart to show the water level for Lake Superior. \n",
    "\n",
    "## Exercise 03 -- County Health Rankings\n",
    "Download the 2017 County Health Rankings data [SPSS format from here](https://aniruhil.github.io/avsr/teaching/dataviz/CountyHealthRankings2017.sav), [Excel format from here](https://aniruhil.github.io/avsr/teaching/dataviz/CountyHealthRankings2017.xlsx) and the [accompanying codebook](http://www.countyhealthrankings.org/sites/default/files/2017TrendsDocumentation.pdf). \n",
    "\n",
    "These data can also be downloaded with the code provided below: "
   ]
  },
  {
   "cell_type": "code",
   "execution_count": null,
   "id": "9dd39a85",
   "metadata": {
    "name": "great-lakes"
   },
   "outputs": [],
   "source": [
    "library(readxl)\n",
    "url <- \"https://aniruhil.github.io/avsr/teaching/dataviz/CountyHealthRankings2017.xlsx\"\n",
    "destfile <- \"CountyHealthRankings2017.xlsx\"\n",
    "curl::curl_download(url, destfile)\n",
    "read_excel(destfile) -> chr.df \n",
    "\n",
    "chr.df %>%\n",
    "    head()"
   ]
  },
  {
   "cell_type": "markdown",
   "id": "e5e1379b",
   "metadata": {},
   "source": [
    "Construct appropriate plots that shows the relationship between the following pairs of variables \n",
    "\n",
    "(a) Adult obesity and High school graduation \n",
    "\n",
    "(b) Children in poverty and High school graduation \n",
    "\n",
    "(c) Preventable hospital stays and Unemployment rate "
   ]
  },
  {
   "cell_type": "markdown",
   "id": "2fa4d128",
   "metadata": {},
   "source": [
    "## Exercise 04 -- Unemployment Rates\n",
    "Use the unemployment data given to you `(unemprate.RData)` and construct appropriate plots that show the distribution of unemployment rates across years for each of the four educational attainment groups. "
   ]
  },
  {
   "cell_type": "code",
   "execution_count": null,
   "id": "5d7c2ab2",
   "metadata": {},
   "outputs": [],
   "source": [
    "load(\"data/unemprate.RData\")\n",
    "\n",
    "urate %>%\n",
    "    head()"
   ]
  },
  {
   "cell_type": "markdown",
   "id": "eceacd3b",
   "metadata": {},
   "source": [
    "Be sure to use a unique color for each educational attainment group\n"
   ]
  }
 ],
 "metadata": {
  "jupytext": {
   "cell_metadata_filter": "name,tags,eval,include,-all",
   "main_language": "R",
   "notebook_metadata_filter": "-all"
  },
  "kernelspec": {
   "display_name": "R",
   "language": "R",
   "name": "ir"
  },
  "language_info": {
   "codemirror_mode": "r",
   "file_extension": ".r",
   "mimetype": "text/x-r-source",
   "name": "R",
   "pygments_lexer": "r",
   "version": "4.1.2"
  }
 },
 "nbformat": 4,
 "nbformat_minor": 5
}
