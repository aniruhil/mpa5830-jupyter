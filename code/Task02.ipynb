{
 "cells": [
  {
   "cell_type": "markdown",
   "id": "8171b875-b491-4d96-b0db-6ae475f5ab75",
   "metadata": {},
   "source": [
    "# Task 02\n",
    "\n",
    "Build out this notebook by creating Code cells that include commands to complete the following tasks.\n",
    "\n",
    "(1) Download the data available here: https://aniruhil.github.io/avsr/teaching/dataviz/titanic3.xls, upload it to the data sub-folder, read it in and save it as `titanic`\n",
    "\n",
    "(2) Run the command that would show you the names of all columns/variables in `titanic` \n",
    "\n",
    "(3) Run the command that would show the descriptive statistics of each column/variable in `titanic`\n",
    "\n",
    "(4) For each of the following variables, add the labels provided     \n",
    "\n",
    "    `pclass` (1 = First Class; 2 = Second Class;  3 = Third Class)\n",
    "\n",
    "    `embarked` (C = Cherbourg; S = Southampton; Q = Queenstown)\n",
    "    \n",
    "    `survived` (0 = Did not survive; 1 = Survived)\n",
    "\n",
    "(5) Create a grouped version of `age` such that the resulting age groups are 0-18, 18-36, 36-54, 54-72, 72-90. Call this grouped variable `age_groups` \n",
    "\n",
    "(6) Create a new factor that has two values -- (1) whether the passenger was traveling 1st Class or (2) the passenger was traveling by either 2nd or 3rd Class. Call this new variable `class`  \n",
    "\n",
    "(7) Create a tally of how many passengers embarked from each port. Which embarkation port had the most versus the least passengers? \n",
    "\n",
    "(8) Create a tally of how many passengers of each pclass embarked from each port. Which embarkation port had the most First Class versus Second Class versus Third Class passengers? \n",
    "\n",
    "(9) Create a small data-set that only retains male passengers embarking from Southampton. Show the results of the `summary()` command when run on this new data-set  \n",
    "\n",
    "(10) Save the data-set in the RData format."
   ]
  },
  {
   "cell_type": "code",
   "execution_count": null,
   "id": "d8403243-95f4-48ec-a912-e569e7691486",
   "metadata": {},
   "outputs": [],
   "source": []
  }
 ],
 "metadata": {
  "kernelspec": {
   "display_name": "R",
   "language": "R",
   "name": "ir"
  },
  "language_info": {
   "codemirror_mode": "r",
   "file_extension": ".r",
   "mimetype": "text/x-r-source",
   "name": "R",
   "pygments_lexer": "r",
   "version": "4.3.1"
  }
 },
 "nbformat": 4,
 "nbformat_minor": 5
}
